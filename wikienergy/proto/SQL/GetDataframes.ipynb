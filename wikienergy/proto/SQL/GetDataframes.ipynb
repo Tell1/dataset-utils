{
 "metadata": {
  "name": "",
  "signature": "sha256:aadd83711f7bb727a3d56f1cdb92e15f6284312bd3faeddd8809ca8af5057a20"
 },
 "nbformat": 3,
 "nbformat_minor": 0,
 "worksheets": [
  {
   "cells": [
    {
     "cell_type": "code",
     "collapsed": false,
     "input": [
      "\n",
      "import datetime\n",
      "import pandas as pd\n",
      "import sqlalchemy as sa\n",
      "from sqlalchemy import *"
     ],
     "language": "python",
     "metadata": {},
     "outputs": [
      {
       "output_type": "stream",
       "stream": "stderr",
       "text": [
        "/Users/sabina/anaconda/lib/python2.7/site-packages/pandas/io/excel.py:626: UserWarning: Installed openpyxl is not supported at this time. Use >=1.6.1 and <2.0.0.\n",
        "  .format(openpyxl_compat.start_ver, openpyxl_compat.stop_ver))\n"
       ]
      }
     ],
     "prompt_number": 1
    },
    {
     "cell_type": "code",
     "collapsed": false,
     "input": [
      "##engine information\n",
      "user_name = 'USERNAME'\n",
      "pw='PASSWORD'\n",
      "host = \"db.wiki-energy.org\"\n",
      "port = \"5432\"\n",
      "db = \"postgres\""
     ],
     "language": "python",
     "metadata": {},
     "outputs": [],
     "prompt_number": 2
    },
    {
     "cell_type": "code",
     "collapsed": false,
     "input": [
      "print datetime.datetime.now()"
     ],
     "language": "python",
     "metadata": {},
     "outputs": [
      {
       "output_type": "stream",
       "stream": "stdout",
       "text": [
        "2014-06-10 12:35:23.460816\n"
       ]
      }
     ],
     "prompt_number": 3
    },
    {
     "cell_type": "code",
     "collapsed": false,
     "input": [],
     "language": "python",
     "metadata": {},
     "outputs": [],
     "prompt_number": 3
    },
    {
     "cell_type": "code",
     "collapsed": false,
     "input": [
      "##query\n",
      "query = \"\"\"select * from \"PecanStreet_CuratedSets\".group1_disaggregated_2013_01\"\"\""
     ],
     "language": "python",
     "metadata": {},
     "outputs": [],
     "prompt_number": 4
    },
    {
     "cell_type": "code",
     "collapsed": false,
     "input": [
      "url = \"postgresql\"+\"://\"+user_name+\":\"+pw+\"@\"+host+\":\"+port+\"/\"+db"
     ],
     "language": "python",
     "metadata": {},
     "outputs": [],
     "prompt_number": 7
    },
    {
     "cell_type": "code",
     "collapsed": false,
     "input": [
      "dataids={}\n",
      "with open('dataid_dict.txt') as fp:\n",
      "    for line in fp:\n",
      "        did=line.split(':')[0]\n",
      "        if line[-3]=='1':\n",
      "            dataids[did]=''\n",
      "    "
     ],
     "language": "python",
     "metadata": {},
     "outputs": [],
     "prompt_number": 8
    },
    {
     "cell_type": "code",
     "collapsed": false,
     "input": [
      "time1 = datetime.datetime.now()\n",
      "eng = create_engine(url)\n",
      "eng.echo=True\n",
      "eng_object=eng.execute(query)\n",
      "time2=datetime.datetime.now()\n",
      "print time2-time1"
     ],
     "language": "python",
     "metadata": {},
     "outputs": [
      {
       "output_type": "stream",
       "stream": "stdout",
       "text": [
        "2014-06-10 12:39:23,868 INFO sqlalchemy.engine.base.Engine select version()\n"
       ]
      },
      {
       "output_type": "stream",
       "stream": "stderr",
       "text": [
        "INFO:sqlalchemy.engine.base.Engine:select version()\n"
       ]
      },
      {
       "output_type": "stream",
       "stream": "stdout",
       "text": [
        "2014-06-10 12:39:23,869 INFO sqlalchemy.engine.base.Engine {}\n"
       ]
      },
      {
       "output_type": "stream",
       "stream": "stderr",
       "text": [
        "INFO:sqlalchemy.engine.base.Engine:{}\n"
       ]
      },
      {
       "output_type": "stream",
       "stream": "stdout",
       "text": [
        "2014-06-10 12:39:23,962 INFO sqlalchemy.engine.base.Engine select current_schema()\n"
       ]
      },
      {
       "output_type": "stream",
       "stream": "stderr",
       "text": [
        "INFO:sqlalchemy.engine.base.Engine:select current_schema()\n"
       ]
      },
      {
       "output_type": "stream",
       "stream": "stdout",
       "text": [
        "2014-06-10 12:39:23,963 INFO sqlalchemy.engine.base.Engine {}\n"
       ]
      },
      {
       "output_type": "stream",
       "stream": "stderr",
       "text": [
        "INFO:sqlalchemy.engine.base.Engine:{}\n"
       ]
      },
      {
       "output_type": "stream",
       "stream": "stdout",
       "text": [
        "2014-06-10 12:39:24,058 INFO sqlalchemy.engine.base.Engine SELECT CAST('test plain returns' AS VARCHAR(60)) AS anon_1\n"
       ]
      },
      {
       "output_type": "stream",
       "stream": "stderr",
       "text": [
        "INFO:sqlalchemy.engine.base.Engine:SELECT CAST('test plain returns' AS VARCHAR(60)) AS anon_1\n"
       ]
      },
      {
       "output_type": "stream",
       "stream": "stdout",
       "text": [
        "2014-06-10 12:39:24,060 INFO sqlalchemy.engine.base.Engine {}\n"
       ]
      },
      {
       "output_type": "stream",
       "stream": "stderr",
       "text": [
        "INFO:sqlalchemy.engine.base.Engine:{}\n"
       ]
      },
      {
       "output_type": "stream",
       "stream": "stdout",
       "text": [
        "2014-06-10 12:39:24,108 INFO sqlalchemy.engine.base.Engine SELECT CAST('test unicode returns' AS VARCHAR(60)) AS anon_1\n"
       ]
      },
      {
       "output_type": "stream",
       "stream": "stderr",
       "text": [
        "INFO:sqlalchemy.engine.base.Engine:SELECT CAST('test unicode returns' AS VARCHAR(60)) AS anon_1\n"
       ]
      },
      {
       "output_type": "stream",
       "stream": "stdout",
       "text": [
        "2014-06-10 12:39:24,110 INFO sqlalchemy.engine.base.Engine {}\n"
       ]
      },
      {
       "output_type": "stream",
       "stream": "stderr",
       "text": [
        "INFO:sqlalchemy.engine.base.Engine:{}\n"
       ]
      },
      {
       "output_type": "stream",
       "stream": "stdout",
       "text": [
        "2014-06-10 12:39:24,277 INFO sqlalchemy.engine.base.Engine show standard_conforming_strings\n"
       ]
      },
      {
       "output_type": "stream",
       "stream": "stderr",
       "text": [
        "INFO:sqlalchemy.engine.base.Engine:show standard_conforming_strings\n"
       ]
      },
      {
       "output_type": "stream",
       "stream": "stdout",
       "text": [
        "2014-06-10 12:39:24,278 INFO sqlalchemy.engine.base.Engine {}\n"
       ]
      },
      {
       "output_type": "stream",
       "stream": "stderr",
       "text": [
        "INFO:sqlalchemy.engine.base.Engine:{}\n"
       ]
      },
      {
       "output_type": "stream",
       "stream": "stdout",
       "text": [
        "2014-06-10 12:39:24,369 INFO sqlalchemy.engine.base.Engine select * from \"PecanStreet_CuratedSets\".group1_disaggregated_2013_01\n"
       ]
      },
      {
       "output_type": "stream",
       "stream": "stderr",
       "text": [
        "INFO:sqlalchemy.engine.base.Engine:select * from \"PecanStreet_CuratedSets\".group1_disaggregated_2013_01\n"
       ]
      },
      {
       "output_type": "stream",
       "stream": "stdout",
       "text": [
        "2014-06-10 12:39:24,370 INFO sqlalchemy.engine.base.Engine {}\n"
       ]
      },
      {
       "output_type": "stream",
       "stream": "stderr",
       "text": [
        "INFO:sqlalchemy.engine.base.Engine:{}\n"
       ]
      },
      {
       "output_type": "stream",
       "stream": "stdout",
       "text": [
        "0:01:13.823426\n"
       ]
      }
     ],
     "prompt_number": 10
    },
    {
     "cell_type": "code",
     "collapsed": false,
     "input": [
      "time1 = datetime.datetime.now()\n",
      "df = pd.DataFrame.from_records(eng_object.fetchall())\n",
      "df.columns = eng_object.keys()\n",
      "time2=datetime.datetime.now()\n",
      "print time2-time1\n",
      "    #url = \"postgresql\"+\"://\"+user_name+\":\"+pw+\"@\"+host+\":\"+port+\"/\"+db"
     ],
     "language": "python",
     "metadata": {},
     "outputs": [
      {
       "output_type": "stream",
       "stream": "stdout",
       "text": [
        "0:00:30.664888\n"
       ]
      }
     ],
     "prompt_number": 11
    },
    {
     "cell_type": "code",
     "collapsed": false,
     "input": [
      "time1=datetime.datetime.now()\n",
      "dfs_dict = {}\n",
      "dfs=df.groupby('dataid')\n",
      "for df in dfs:\n",
      "    df[1].drop('dataid',1)\n",
      "            #df[1].drop('id',1)\n",
      "    dfs_dict[df[0]]=df[1]\n",
      "\n",
      "time2=datetime.datetime.now()\n",
      "print time2-time1"
     ],
     "language": "python",
     "metadata": {},
     "outputs": [
      {
       "output_type": "stream",
       "stream": "stdout",
       "text": [
        "0:00:00.461206\n"
       ]
      }
     ],
     "prompt_number": 12
    },
    {
     "cell_type": "code",
     "collapsed": false,
     "input": [],
     "language": "python",
     "metadata": {},
     "outputs": []
    }
   ],
   "metadata": {}
  }
 ]
}