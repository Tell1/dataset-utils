{
 "metadata": {
  "name": "",
  "signature": "sha256:8309eda12e2815a81ec96b60dcb03cbcd529150f5652e8216153e05322dc3a45"
 },
 "nbformat": 3,
 "nbformat_minor": 0,
 "worksheets": [
  {
   "cells": [
    {
     "cell_type": "code",
     "collapsed": false,
     "input": [
      "%matplotlib inline\n",
      "from scipy.stats import gamma\n",
      "import numpy as np\n",
      "import matplotlib.pyplot as plt\n",
      "import pickle"
     ],
     "language": "python",
     "metadata": {},
     "outputs": [],
     "prompt_number": 19
    },
    {
     "cell_type": "code",
     "collapsed": false,
     "input": [
      "with open(\"/Users/philngo/Downloads/may_air.pkl\") as f:\n",
      "    models = pickle.load(f)[\"air1\"]"
     ],
     "language": "python",
     "metadata": {},
     "outputs": [],
     "prompt_number": 25
    },
    {
     "cell_type": "code",
     "collapsed": false,
     "input": [
      "means = []\n",
      "covars = []\n",
      "transmats = []\n",
      "for model in models:\n",
      "    means.append(models[model]._means_)\n",
      "    covars.append([covar[0] for covar in models[model]._covars_])\n",
      "    transmats.append(models[model].transmat_)\n",
      "means = np.array(means)\n",
      "covars = np.array(covars)\n",
      "transmats = np.array(transmats)\n",
      "print means[0]\n",
      "print covars[0]\n",
      "print transmats[0]"
     ],
     "language": "python",
     "metadata": {},
     "outputs": [
      {
       "output_type": "stream",
       "stream": "stdout",
       "text": [
        "[[  7.93843724e-08]\n",
        " [  2.02002087e+00]\n",
        " [  2.37664225e+00]]\n",
        "[[  2.64914591e-07]\n",
        " [  1.22243029e-01]\n",
        " [  5.19399436e-03]]\n",
        "[[  9.95738711e-01   3.83217220e-03   4.29116343e-04]\n",
        " [  3.74575688e-02   9.52497364e-01   1.00450677e-02]\n",
        " [  1.38188267e-03   2.27407863e-02   9.75877331e-01]]\n"
       ]
      }
     ],
     "prompt_number": 51
    },
    {
     "cell_type": "code",
     "collapsed": false,
     "input": [
      "means = np.array([1,2,3,4,5,5,4,3,3,4,3,4,1,2,3,6,7,9,8,5,4,6,5,10,5])\n",
      "alpha,loc,beta = gamma.fit(means)\n",
      "\n",
      "print alpha, loc, beta\n",
      "\n",
      "n = 300\n",
      "generated_data = gamma.rvs(alpha,loc=loc,scale=beta,size=n)\n",
      "print generated_data[0]"
     ],
     "language": "python",
     "metadata": {},
     "outputs": [
      {
       "output_type": "stream",
       "stream": "stdout",
       "text": [
        "5.10671791388 -0.624047478884 0.999476690546\n",
        "6.91942393258\n"
       ]
      }
     ],
     "prompt_number": 75
    },
    {
     "cell_type": "code",
     "collapsed": false,
     "input": [
      "fig, ax = plt.subplots(1, 1)\n",
      "\n",
      "x = np.linspace(gamma.ppf(0.01,alpha,loc=loc,scale=beta),\n",
      "                gamma.ppf(0.99,alpha,loc=loc,scale=beta), 100)\n",
      "\n",
      "ax.plot(x, gamma.pdf(x, alpha,loc=loc,scale=beta),'r-', lw=5, alpha=0.6, label='gamma pdf')\n",
      "\n",
      "ax.hist(means, normed=True, histtype='stepfilled', alpha=0.2)\n",
      "ax.hist(generated_data, normed=True, histtype='stepfilled', alpha=0.2)\n",
      "\n",
      "ax.legend(loc='best', frameon=False)\n",
      "plt.show()"
     ],
     "language": "python",
     "metadata": {},
     "outputs": [
      {
       "metadata": {},
       "output_type": "display_data",
       "png": "[encoded data removed]",
       "text": [
        "<matplotlib.figure.Figure at 0x110123850>"
       ]
      }
     ],
     "prompt_number": 78
    },
    {
     "cell_type": "markdown",
     "metadata": {},
     "source": [
      "Make a real model. - see mcmc version which uses PyMC"
     ]
    },
    {
     "cell_type": "code",
     "collapsed": false,
     "input": [],
     "language": "python",
     "metadata": {},
     "outputs": []
    }
   ],
   "metadata": {}
  }
 ]
}