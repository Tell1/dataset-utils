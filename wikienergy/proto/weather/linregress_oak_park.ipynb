{
 "metadata": {
  "name": "",
  "signature": "sha256:db9ef5dc2a49183976f49e11f15c0001467c9a61262804882ab64baade6638d2"
 },
 "nbformat": 3,
 "nbformat_minor": 0,
 "worksheets": [
  {
   "cells": [
    {
     "cell_type": "code",
     "collapsed": false,
     "input": [
      "import pandas as pd\n",
      "import urllib2,urllib\n",
      "import json\n",
      "import numpy as np\n",
      "\n",
      "import matplotlib.pyplot as plt\n",
      "%matplotlib inline\n",
      "import collections \n",
      "import json\n",
      "import urllib2\n",
      "import numpy as np\n",
      "import pandas as pd\n",
      "import collections \n",
      "\n",
      "\n",
      "from scipy import stats\n",
      "import os\n",
      "from disaggregator import weather\n",
      "from disaggregator import utils\n",
      "from disaggregator import appliance as app\n",
      "from disaggregator import OakParkDatasetAdapter as opda\n",
      "from disaggregator import GreenButtonDatasetAdapter as gbda\n",
      "from disaggregator import linregress as lng\n",
      "import xml.etree.ElementTree as ET\n",
      "import random\n",
      "from datetime import datetime, timedelta, date\n",
      "\n",
      "import pylab\n",
      "import pickle\n",
      "pylab.rcParams['figure.figsize'] = 12,9"
     ],
     "language": "python",
     "metadata": {},
     "outputs": [
      {
       "output_type": "stream",
       "stream": "stderr",
       "text": [
        "/usr/local/lib/python2.7/dist-packages/pandas/io/excel.py:626: UserWarning: Installed openpyxl is not supported at this time. Use >=1.6.1 and <2.0.0.\n",
        "  .format(openpyxl_compat.start_ver, openpyxl_compat.stop_ver))\n"
       ]
      }
     ],
     "prompt_number": 1
    },
    {
     "cell_type": "code",
     "collapsed": false,
     "input": [
      "#oak_park_temps = weather.get_weather_data_as_df('API_KEY','60302','IL', '20140301', '20140730')\n",
      "\n",
      "#with open('temp_oakpark_20140301_20140801.pkl','w') as f:\n",
      "#    pickle.dump(oak_park_temps,f)\n",
      "#import pickle\n",
      "#with open('temp_oakpark_20120101_20140730.pkl','rb') as f:\n",
      "#    oak_park_temps_df=pickle.load(f)"
     ],
     "language": "python",
     "metadata": {},
     "outputs": [],
     "prompt_number": 2
    },
    {
     "cell_type": "code",
     "collapsed": false,
     "input": [
      "import pickle\n",
      "with open('../../docs/tutorials/temp_oakpark_20120101_20140730.pkl','rb') as f:\n",
      "    temps_df=pickle.load(f)\n",
      "temps_series_orig = pd.Series(temps_df['temp'],index=temps_df.index)\n",
      "df = pd.DataFrame(temps_series_orig).resample('H',how='mean')\n",
      "temps_series=weather._remove_low_outliers_df(df,'temp')['temp']"
     ],
     "language": "python",
     "metadata": {},
     "outputs": [],
     "prompt_number": 4
    },
    {
     "cell_type": "code",
     "collapsed": false,
     "input": [
      "oak_park_list=[]\n",
      "for file in os.listdir(\"../../data/non-duplicates/xml/\"):\n",
      "    if('.xml' in file):\n",
      "        oak_park_list.append(\"../../data/non-duplicates/xml/\"+file)\n",
      "print oak_park_list[0]"
     ],
     "language": "python",
     "metadata": {},
     "outputs": [
      {
       "output_type": "stream",
       "stream": "stdout",
       "text": [
        "../../data/non-duplicates/xml/cec-electric-interval-data-service-1-20120717-to-20140717.xml\n"
       ]
      }
     ],
     "prompt_number": 5
    },
    {
     "cell_type": "code",
     "collapsed": false,
     "input": [
      "results_list=[]\n",
      "for i,filepath in enumerate(oak_park_list[:1]):\n",
      "    #plt.subplot(8,4,i)\n",
      "    with open(filepath,'rb') as f:\n",
      "        xml_house = f.read()\n",
      "    trace = gbda.get_trace(xml_house)\n",
      "    trace = trace.resample('D',method='sum')\n",
      "    results_dict = lng.run_regressions(trace.series,temps_series,plot=True)\n",
      "    print filepath\n",
      "    results_list.append(results_dict)"
     ],
     "language": "python",
     "metadata": {},
     "outputs": [
      {
       "output_type": "stream",
       "stream": "stdout",
       "text": [
        "../../data/non-duplicates/xml/cec-electric-interval-data-service-1-20120717-to-20140717.xml\n"
       ]
      },
      {
       "metadata": {},
       "output_type": "display_data",
       "png": "[encoded data removed]",
       "text": [
        "<matplotlib.figure.Figure at 0x7fe500152610>"
       ]
      }
     ],
     "prompt_number": 7
    },
    {
     "cell_type": "code",
     "collapsed": false,
     "input": [
      "best_stuff={}\n",
      "best_cdd_temps=[]\n",
      "best_hdd_temps=[]\n",
      "r2_adj_cdd=[]\n",
      "r2_adj_hdd=[]\n",
      "slope_hdd=[]\n",
      "slope_cdd=[]\n",
      "print results_list[0].keys()\n",
      "for result_dict in results_list:\n",
      "    for key,val in result_dict.iteritems():\n",
      "        if key is 'best_cdd_temp':\n",
      "            best_cdd_temps.append(val)\n",
      "        if key is 'best_hdd_temp':\n",
      "            best_hdd_temps.append(val)\n",
      "        if key is 'best_r2_adj_cdd' and val > float(\"-inf\"):\n",
      "            r2_adj_cdd.append(val)\n",
      "        if key is 'best_r2_adj_hdd' and val > float(\"-inf\"):\n",
      "            r2_adj_hdd.append(val)\n",
      "        if key is 'slope_hdd' and val is not None:\n",
      "            slope_hdd.append(val)\n",
      "        if key is 'slope_cdd' and val is not None:\n",
      "            slope_cdd.append(val)\n",
      "\n",
      "bins=10       \n",
      "plt.hist(slope_hdd,bins,range=[min(slope_hdd),max(slope_hdd)])\n",
      "bins=10\n",
      "plt.hist(slope_cdd,bins,range=[min(slope_cdd),max(slope_cdd)])\n",
      "plt.xlim([min(slope_hdd),max(slope_cdd)])\n",
      "\n",
      "plt.figure()\n",
      "bins=20\n",
      "plt.hist(r2_adj_hdd,bins,range=[0,1],alpha=0.5)\n",
      "plt.hist(r2_adj_cdd,bins,range=[0,1],alpha=0.5)\n",
      "plt.xlim([0,1])\n",
      "print np.mean(r2_adj_cdd)"
     ],
     "language": "python",
     "metadata": {},
     "outputs": [
      {
       "output_type": "stream",
       "stream": "stdout",
       "text": [
        "['results_hdd', 'results_cdd', 'best_r2_adj_cdd', 'slope_hdd', 'best_hdd_temp', 'best_cdd_temp', 'intercept_cdd', 'intercept_hdd', 'slope_cdd', 'best_r2_adj_hdd']\n",
        "0.335398592479"
       ]
      },
      {
       "output_type": "stream",
       "stream": "stdout",
       "text": [
        "\n"
       ]
      },
      {
       "metadata": {},
       "output_type": "display_data",
       "png": "[encoded data removed]",
       "text": [
        "<matplotlib.figure.Figure at 0x7f51dcc99fd0>"
       ]
      },
      {
       "metadata": {},
       "output_type": "display_data",
       "png": "[encoded data removed]",
       "text": [
        "<matplotlib.figure.Figure at 0x7f51cacf1350>"
       ]
      }
     ],
     "prompt_number": 241
    },
    {
     "cell_type": "code",
     "collapsed": false,
     "input": [
      "diff_list=[]\n",
      "for i,filepath in enumerate(oak_park_list):\n",
      "    with open(filepath,'rb') as f:\n",
      "        xml_house = f.read()\n",
      "    trace = gbda.get_trace(xml_house)\n",
      "    trace = trace.resample('D',method='sum')\n",
      "    [total_series,air_series,diff_series] = lng.run_regressions_and_predict(trace.series,temps_series)\n",
      "    diff_list.append(diff_series)"
     ],
     "language": "python",
     "metadata": {},
     "outputs": [
      {
       "output_type": "stream",
       "stream": "stdout",
       "text": [
        "../../data/non-duplicates/xml/cec-electric-interval-data-service-1-20120717-to-201407171.xml\n",
        "\n",
        "../../data/non-duplicates/xml/cec-electric-interval-data-service-1-20120717-to-20140717.xml"
       ]
      },
      {
       "output_type": "stream",
       "stream": "stdout",
       "text": [
        "\n",
        "\n",
        "../../data/non-duplicates/xml/cec-electric-interval-data-Service-1-2012-07-17-to-2014-07-17.xml"
       ]
      },
      {
       "output_type": "stream",
       "stream": "stdout",
       "text": [
        "\n",
        "\n",
        "../../data/non-duplicates/xml/cec-electric-interval-data-Service-1-2012-07-18-to-2014-07-18-2.xml"
       ]
      },
      {
       "output_type": "stream",
       "stream": "stdout",
       "text": [
        "\n",
        "\n",
        "../../data/non-duplicates/xml/cec-electric-interval-data-Service-1-2014-01-01-to-2014-07-27.xml"
       ]
      },
      {
       "output_type": "stream",
       "stream": "stdout",
       "text": [
        "\n",
        "\n",
        "../../data/non-duplicates/xml/cec-electric-interval-data-Service-1-2012-07-16-to-2014-07-16-7.xml"
       ]
      },
      {
       "output_type": "stream",
       "stream": "stdout",
       "text": [
        "\n",
        "\n",
        "../../data/non-duplicates/xml/cec-electric-interval-data-Service-1-2012-07-18-to-2014-07-18.xml"
       ]
      },
      {
       "output_type": "stream",
       "stream": "stdout",
       "text": [
        "\n",
        "\n",
        "../../data/non-duplicates/xml/cec-electric-interval-data-service-1-20120716-to-201407165.xml"
       ]
      },
      {
       "output_type": "stream",
       "stream": "stdout",
       "text": [
        "\n",
        "\n",
        "../../data/non-duplicates/xml/cec-electric-interval-data-service-1-20130616-to-20140716.xml"
       ]
      },
      {
       "output_type": "stream",
       "stream": "stdout",
       "text": [
        "\n",
        "\n",
        "../../data/non-duplicates/xml/cec-electric-interval-data-Service-1-2012-07-21-to-2014-07-21.xml"
       ]
      },
      {
       "output_type": "stream",
       "stream": "stdout",
       "text": [
        "\n",
        "\n",
        "../../data/non-duplicates/xml/cec-electric-interval-data-Service-1-2012-07-16-to-2014-07-16-5.xml"
       ]
      },
      {
       "output_type": "stream",
       "stream": "stdout",
       "text": [
        "\n",
        "\n",
        "../../data/non-duplicates/xml/cec-electric-interval-data-Service-1-2012-07-17-to-2014-07-17-2.xml"
       ]
      },
      {
       "output_type": "stream",
       "stream": "stdout",
       "text": [
        "\n",
        "\n",
        "../../data/non-duplicates/xml/cec-electric-interval-data-service-1-20120716-to-201407163.xml"
       ]
      },
      {
       "output_type": "stream",
       "stream": "stdout",
       "text": [
        "\n",
        "\n",
        "../../data/non-duplicates/xml/cec-electric-interval-data-Service-1-2012-07-16-to-2014-07-16.xml"
       ]
      },
      {
       "output_type": "stream",
       "stream": "stdout",
       "text": [
        "\n",
        "\n",
        "../../data/non-duplicates/xml/cec-electric-interval-data-Service-1-2013-06-20-to-2014-07-18-2.xml"
       ]
      },
      {
       "output_type": "stream",
       "stream": "stdout",
       "text": [
        "\n",
        "\n",
        "../../data/non-duplicates/xml/cec-electric-interval-data-Service-1-2014-06-17-to-2014-07-17.xml"
       ]
      },
      {
       "output_type": "stream",
       "stream": "stdout",
       "text": [
        "\n",
        "\n",
        "../../data/non-duplicates/xml/cec-electric-interval-data-service-1-20140617-to-20140717.xml"
       ]
      },
      {
       "output_type": "stream",
       "stream": "stdout",
       "text": [
        "\n",
        "\n",
        "../../data/non-duplicates/xml/cec-electric-interval-data-service-1-20120716-to-201407166.xml"
       ]
      },
      {
       "output_type": "stream",
       "stream": "stdout",
       "text": [
        "\n",
        "\n",
        "../../data/non-duplicates/xml/cec-electric-interval-data-Service-1-2012-07-16-to-2014-07-16-4.xml"
       ]
      },
      {
       "output_type": "stream",
       "stream": "stdout",
       "text": [
        "\n",
        "\n",
        "../../data/non-duplicates/xml/cec-electric-interval-data-service-1-20140624-to-20140724.xml"
       ]
      },
      {
       "output_type": "stream",
       "stream": "stdout",
       "text": [
        "\n",
        "\n",
        "../../data/non-duplicates/xml/cec-electric-interval-data-service-1-20120716-to-201407161.xml"
       ]
      },
      {
       "output_type": "stream",
       "stream": "stdout",
       "text": [
        "\n",
        "\n",
        "../../data/non-duplicates/xml/cec-electric-interval-data-service-1-20140619-to-20140719.xml"
       ]
      },
      {
       "output_type": "stream",
       "stream": "stdout",
       "text": [
        "\n",
        "\n",
        "../../data/non-duplicates/xml/cec-electric-interval-data-Service-1-2012-07-16-to-2014-07-16-3.xml"
       ]
      },
      {
       "output_type": "stream",
       "stream": "stdout",
       "text": [
        "\n",
        "\n",
        "../../data/non-duplicates/xml/cec-electric-interval-data-service-1-20120716-to-20140716.xml"
       ]
      },
      {
       "output_type": "stream",
       "stream": "stdout",
       "text": [
        "\n",
        "\n",
        "../../data/non-duplicates/xml/cec-electric-interval-data-Service-1-2012-07-25-to-2014-07-16.xml"
       ]
      },
      {
       "output_type": "stream",
       "stream": "stdout",
       "text": [
        "\n",
        "\n",
        "../../data/non-duplicates/xml/cec-electric-interval-data-service-1-20120726-to-20140726.xml"
       ]
      },
      {
       "output_type": "stream",
       "stream": "stdout",
       "text": [
        "\n",
        "\n",
        "../../data/non-duplicates/xml/cec-electric-interval-data-service-1-20120724-to-20140724.xml"
       ]
      },
      {
       "output_type": "stream",
       "stream": "stdout",
       "text": [
        "\n",
        "\n",
        "../../data/non-duplicates/xml/cec-electric-interval-data-Service-1-2012-07-14-to-2014-07-14.xml"
       ]
      },
      {
       "output_type": "stream",
       "stream": "stdout",
       "text": [
        "\n",
        "\n",
        "../../data/non-duplicates/xml/cec-electric-interval-data-Service-1-2012-07-22-to-2014-07-22.xml"
       ]
      },
      {
       "output_type": "stream",
       "stream": "stdout",
       "text": [
        "\n",
        "\n",
        "../../data/non-duplicates/xml/cec-electric-interval-data-Service-1-2014-06-16-to-2014-07-16.xml"
       ]
      },
      {
       "output_type": "stream",
       "stream": "stdout",
       "text": [
        "\n",
        "\n",
        "../../data/non-duplicates/xml/cec-electric-interval-data-service-1-20120716-to-201407164.xml"
       ]
      },
      {
       "output_type": "stream",
       "stream": "stdout",
       "text": [
        "\n",
        "\n"
       ]
      }
     ],
     "prompt_number": 232
    },
    {
     "cell_type": "code",
     "collapsed": false,
     "input": [
      "a=0\n",
      "count=0\n",
      "diffs_perc=[]\n",
      "for diff_series in diff_list:\n",
      "    a=0\n",
      "    count=0\n",
      "    for val in diff_series:\n",
      "        if abs(val) < 5000:\n",
      "            count=count+1\n",
      "        a=a+1\n",
      "    temp=count/float(a)\n",
      "    diffs_perc.append(count/float(a))\n",
      "    if(temp<.33):\n",
      "        sureness= 'not sure'\n",
      "    elif(temp<.66):\n",
      "        sureness= 'somewhat sure'\n",
      "    else:\n",
      "        sureness='fairly sure'"
     ],
     "language": "python",
     "metadata": {},
     "outputs": [],
     "prompt_number": 277
    },
    {
     "cell_type": "code",
     "collapsed": false,
     "input": [
      "count/float(a)"
     ],
     "language": "python",
     "metadata": {},
     "outputs": [
      {
       "metadata": {},
       "output_type": "pyout",
       "prompt_number": 287,
       "text": [
        "0.33287671232876714"
       ]
      }
     ],
     "prompt_number": 287
    },
    {
     "cell_type": "code",
     "collapsed": false,
     "input": [
      "len([val for val in diff_series if abs(val) < 5000])/float(len(diff_series))*100"
     ],
     "language": "python",
     "metadata": {},
     "outputs": [
      {
       "metadata": {},
       "output_type": "pyout",
       "prompt_number": 288,
       "text": [
        "33.28767123287671"
       ]
      }
     ],
     "prompt_number": 288
    },
    {
     "cell_type": "code",
     "collapsed": false,
     "input": [
      "max(diff_series)"
     ],
     "language": "python",
     "metadata": {},
     "outputs": [
      {
       "metadata": {},
       "output_type": "pyout",
       "prompt_number": 290,
       "text": [
        "46172.880102339179"
       ]
      }
     ],
     "prompt_number": 290
    },
    {
     "cell_type": "code",
     "collapsed": false,
     "input": [
      "count=0\n",
      "    for val in diff_series:\n",
      "        if abs(val) < 5000:\n",
      "            count=count+1\n",
      "     "
     ],
     "language": "python",
     "metadata": {},
     "outputs": []
    },
    {
     "cell_type": "code",
     "collapsed": false,
     "input": [
      "plt.figure()\n",
      "bins=20\n",
      "plt.hist(diffs_perc,bins,range=[0,1],alpha=0.5)\n",
      "plt.xlim([0,1])"
     ],
     "language": "python",
     "metadata": {},
     "outputs": [
      {
       "metadata": {},
       "output_type": "pyout",
       "prompt_number": 272,
       "text": [
        "(0, 1)"
       ]
      },
      {
       "metadata": {},
       "output_type": "display_data",
       "png": "[encoded data removed]",
       "text": [
        "<matplotlib.figure.Figure at 0x7f51d0503b10>"
       ]
      }
     ],
     "prompt_number": 272
    },
    {
     "cell_type": "code",
     "collapsed": false,
     "input": [
      "plt.plot(diffs_perc,slope_cdd,'.')"
     ],
     "language": "python",
     "metadata": {},
     "outputs": [
      {
       "metadata": {},
       "output_type": "pyout",
       "prompt_number": 275,
       "text": [
        "[<matplotlib.lines.Line2D at 0x7f51dfc60f10>]"
       ]
      },
      {
       "metadata": {},
       "output_type": "display_data",
       "png": "[encoded data removed]",
       "text": [
        "<matplotlib.figure.Figure at 0x7f51d56597d0>"
       ]
      }
     ],
     "prompt_number": 275
    },
    {
     "cell_type": "code",
     "collapsed": false,
     "input": [],
     "language": "python",
     "metadata": {},
     "outputs": []
    }
   ],
   "metadata": {}
  }
 ]
}