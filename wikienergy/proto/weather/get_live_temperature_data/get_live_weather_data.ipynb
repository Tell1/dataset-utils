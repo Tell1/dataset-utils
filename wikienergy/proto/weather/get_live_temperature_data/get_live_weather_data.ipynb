{
 "metadata": {
  "name": "",
  "signature": "sha256:2e1f2c89f6e25f27b58f1171fd323bbb64cd9c7b641db9d1ac0df25b2d6c402f"
 },
 "nbformat": 3,
 "nbformat_minor": 0,
 "worksheets": [
  {
   "cells": [
    {
     "cell_type": "markdown",
     "metadata": {},
     "source": [
      "##Get live temperature data\n",
      "This function fetches for live temperature data"
     ]
    },
    {
     "cell_type": "code",
     "collapsed": false,
     "input": [
      "import pywapi\n",
      "import urllib2\n",
      "import json\n",
      "import pandas as pd"
     ],
     "language": "python",
     "metadata": {},
     "outputs": [],
     "prompt_number": 1
    },
    {
     "cell_type": "code",
     "collapsed": false,
     "input": [
      "#if you leave the zipcode blank, it will grab the first zipcode of the city.\n",
      "def get_current_temp(city = None,state = None, zipcode = None):\n",
      "    if(zipcode == None):\n",
      "        query = 'http://api.zippopotam.us/us/'+state+'/'+city+''\n",
      "        f = urllib2.urlopen(query)\n",
      "        json_string = f.read()\n",
      "        parsed_json = json.loads(json_string)\n",
      "        #grab the zipcode of the first json object\n",
      "        z = parsed_json['places'][0]['post code']\n",
      "        #query the returned zip code from the city\n",
      "        weather_com_result = pywapi.get_weather_from_weather_com(z)\n",
      "        temp_c = weather_com_result['current_conditions']['temperature']\n",
      "        temp_f = int(temp_c) * (1.8) + 32        \n",
      "        return temp_f\n",
      "    if(zipcode != None):\n",
      "        weather_com_result = pywapi.get_weather_from_weather_com(zipcode)\n",
      "        temp_c = weather_com_result['current_conditions']['temperature']\n",
      "        temp_f = int(temp_c) * (1.8) + 32\n",
      "        return temp_f"
     ],
     "language": "python",
     "metadata": {},
     "outputs": [],
     "prompt_number": 2
    },
    {
     "cell_type": "code",
     "collapsed": false,
     "input": [
      "j = get_current_temp('oak park','IL')\n",
      "print j"
     ],
     "language": "python",
     "metadata": {},
     "outputs": [
      {
       "output_type": "stream",
       "stream": "stdout",
       "text": [
        "82.4\n"
       ]
      }
     ],
     "prompt_number": 3
    },
    {
     "cell_type": "code",
     "collapsed": false,
     "input": [],
     "language": "python",
     "metadata": {},
     "outputs": []
    }
   ],
   "metadata": {}
  }
 ]
}