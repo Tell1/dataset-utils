{
 "metadata": {
  "name": "",
  "signature": "sha256:7e639a68d5949a55a01c4bcffd0b4cd392302473e3e20832a48e4f607e2404b1"
 },
 "nbformat": 3,
 "nbformat_minor": 0,
 "worksheets": [
  {
   "cells": [
    {
     "cell_type": "code",
     "collapsed": false,
     "input": [
      "import sys\n",
      "sys.path.append('../../') # or non-Unix equivalent (add wikienergy/ to path)\n",
      "from disaggregator import solar\n",
      "import datetime\n",
      "reload(solar)"
     ],
     "language": "python",
     "metadata": {},
     "outputs": [
      {
       "metadata": {},
       "output_type": "pyout",
       "prompt_number": 13,
       "text": [
        "<module 'disaggregator.solar' from '../../disaggregator/solar.pyc'>"
       ]
      }
     ],
     "prompt_number": 13
    },
    {
     "cell_type": "code",
     "collapsed": false,
     "input": [
      "start_dt=datetime.datetime(2014,8,1)\n",
      "end_dt=datetime.datetime(2014,9,30)\n",
      "pv_size=1.6\n",
      "eff_factor=0.8\n",
      "zip_code='60305'\n",
      "api='API_KEY'\n",
      "print solar.calculate_solar_generated(start_dt,end_dt,api,zip_code)"
     ],
     "language": "python",
     "metadata": {},
     "outputs": [
      {
       "output_type": "stream",
       "stream": "stdout",
       "text": [
        "[{'date': 'Aug 2014', 'value': 137.21599999999995}]\n"
       ]
      }
     ],
     "prompt_number": 14
    },
    {
     "cell_type": "code",
     "collapsed": false,
     "input": [
      "month_data=solar.get_solar_data_from_nrel(api,zip_code)"
     ],
     "language": "python",
     "metadata": {},
     "outputs": [],
     "prompt_number": 10
    },
    {
     "cell_type": "code",
     "collapsed": false,
     "input": [
      "month_data"
     ],
     "language": "python",
     "metadata": {},
     "outputs": [
      {
       "metadata": {},
       "output_type": "pyout",
       "prompt_number": 11,
       "text": [
        "{u'apr': 5.09,\n",
        " u'aug': 5.36,\n",
        " u'dec': 2.88,\n",
        " u'feb': 3.92,\n",
        " u'jan': 3.15,\n",
        " u'jul': 5.74,\n",
        " u'jun': 5.55,\n",
        " u'mar': 4.58,\n",
        " u'may': 5.18,\n",
        " u'nov': 3.07,\n",
        " u'oct': 4.08,\n",
        " u'sep': 5.34}"
       ]
      }
     ],
     "prompt_number": 11
    },
    {
     "cell_type": "code",
     "collapsed": false,
     "input": [
      "137*1.6*."
     ],
     "language": "python",
     "metadata": {},
     "outputs": []
    }
   ],
   "metadata": {}
  }
 ]
}