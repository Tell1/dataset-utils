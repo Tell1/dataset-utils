{
 "metadata": {
  "name": "",
  "signature": "sha256:9afb92a17f57b8cb46e35888ae276c0af7d4ab3b841a9ee239b8a3ce8abfd80a"
 },
 "nbformat": 3,
 "nbformat_minor": 0,
 "worksheets": [
  {
   "cells": [
    {
     "cell_type": "markdown",
     "metadata": {},
     "source": [
      "#Energy Data to Realized Savings\n",
      "- Make sure to run all the functions at the bottom of this notebook before running any other cells."
     ]
    },
    {
     "cell_type": "code",
     "collapsed": false,
     "input": [
      "import pandas as pd\n",
      "import urllib2,urllib\n",
      "import json\n",
      "import datetime\n",
      "import numpy as np\n",
      "from copy import deepcopy\n",
      "import pylab\n",
      "import matplotlib.pyplot as plt\n",
      "%matplotlib inline"
     ],
     "language": "python",
     "metadata": {},
     "outputs": [],
     "prompt_number": 17
    },
    {
     "cell_type": "markdown",
     "metadata": {},
     "source": [
      "##Load Data from CSV Files\n",
      "This is used for testing. When fully functional, the temperature data will come from an api and the gas/electric data as well as zip code will come from the user"
     ]
    },
    {
     "cell_type": "code",
     "collapsed": false,
     "input": [
      "cal_temps_text = pd.read_csv('../../data/cal_complete_temps.csv')\n",
      "cal_temps_text.columns\n",
      "index_df_by_date(cal_temps_text)\n",
      "cal_temps_text.sort_index()\n",
      "print"
     ],
     "language": "python",
     "metadata": {},
     "outputs": [
      {
       "output_type": "stream",
       "stream": "stdout",
       "text": [
        "\n"
       ]
      }
     ],
     "prompt_number": 18
    },
    {
     "cell_type": "code",
     "collapsed": false,
     "input": [
      "cal_gas_text = pd.read_csv('../../data/calt_gas_data.csv')\n",
      "cal_gas_text.columns\n",
      "index_df_by_date(cal_gas_text)\n",
      "cal_gas_text.sort_index()\n",
      "print"
     ],
     "language": "python",
     "metadata": {},
     "outputs": [
      {
       "output_type": "stream",
       "stream": "stdout",
       "text": [
        "\n"
       ]
      }
     ],
     "prompt_number": 19
    },
    {
     "cell_type": "code",
     "collapsed": false,
     "input": [
      "cal_elec_text = pd.read_csv('../../data/cal_elec_data.csv')\n",
      "cal_elec_text.columns\n",
      "index_df_by_date(cal_elec_text)\n",
      "cal_elec_text.sort_index()\n",
      "print"
     ],
     "language": "python",
     "metadata": {},
     "outputs": [
      {
       "output_type": "stream",
       "stream": "stdout",
       "text": [
        "\n"
       ]
      }
     ],
     "prompt_number": 20
    },
    {
     "cell_type": "code",
     "collapsed": false,
     "input": [
      "cal_prism_text = pd.read_csv('../../data/caltest_prism_run_elec.csv')\n",
      "print cal_prism_text.columns\n",
      "index_df_by_date(cal_prism_text)\n",
      "cal_prism_text.sort_index()\n",
      "print"
     ],
     "language": "python",
     "metadata": {},
     "outputs": [
      {
       "output_type": "stream",
       "stream": "stdout",
       "text": [
        "Index([u'account_id', u'kwh', u'iou', u'date_num', u'bill_start_date', u'bill_end_date', u'bill_length', u'iou_id', u'site_number', u'ca_climate_zone', u'zipcode', u'wthrfile', u'weather_station', u'retrofit_end_date', u'complete_date', u'station_id', u'station_number', u'isvalid', u'station_name', u'station', u'stationnum', u'clizn', u'elevation', u'hdd_start', u'cdd_start', u'date_merge', u'hdd_end', u'cdd_end', u'hdd', u'cdd', u'hdd60pd', u'cdd65pd', u'retrofit_end_date_new', u'pre', u'date', u'upd', u'days'], dtype='object')\n",
        "\n"
       ]
      }
     ],
     "prompt_number": 21
    },
    {
     "cell_type": "code",
     "collapsed": false,
     "input": [
      "#This allows us to see all of the available account numbers we can test with.\n",
      "cal_elec_text['account_number'].unique()"
     ],
     "language": "python",
     "metadata": {},
     "outputs": [
      {
       "metadata": {},
       "output_type": "pyout",
       "prompt_number": 22,
       "text": [
        "array(['4GY9LD', '6033367454', '6383593286', '8WZD1Z', '9264652903',\n",
        "       '9608731398', '9IC5HT', 'E3RCZ8', 'FBDDJ3', 'GRUZBH', 'NKP4ZU',\n",
        "       'NP7PRY', 'OVYM2X', 'S812VL', 'SEHDPS1526388512', 'SEHDPS1526388932'], dtype=object)"
       ]
      }
     ],
     "prompt_number": 22
    },
    {
     "cell_type": "code",
     "collapsed": false,
     "input": [
      "#Currently, we are taking an account number, looking up that account numbers electricity usage\n",
      "#in the cal_elec and cal_prism dataframes. Using the cal_prism dataframe, we find that account\n",
      "#numbers corresponding zip code. We then take the zip code and use google's API to find the \n",
      "#corresponding lat/lng. We take the lat/lng and use NREL's API to find the correspodning weather\n",
      "#station. We take that station_id to find the corresponding temperature at that place.\n",
      "\n",
      "#account number -> zip code using cal_prism -> lat/lng using google -> station_id using NREL ->\n",
      "#tempreature using cal_temps\n",
      "\n",
      "\n",
      "account_number= 'OVYM2X'\n",
      "cal_elec=deepcopy(cal_elec_text.loc[cal_elec_text['account_number'] == account_number])\n",
      "cal_gas=deepcopy(cal_gas_text.loc[cal_gas_text['account_number'] == account_number])\n",
      "cal_prism=deepcopy(cal_prism_text.loc[cal_prism_text['account_id'] == account_number])\n",
      "\n",
      "#Input Parameters (eventually will come from front-end website)\n",
      "zip_code=str(cal_prism['zipcode'][0])\n",
      "pre_date=pd.to_datetime('1/10/2010')\n",
      "post_date=pd.to_datetime('1/10/2010')\n",
      "cal_hdd_temp_range=range(50,65)\n",
      "cal_cdd_temp_range=range(50,65)\n",
      "model_type=['both']"
     ],
     "language": "python",
     "metadata": {},
     "outputs": [],
     "prompt_number": 30
    },
    {
     "cell_type": "code",
     "collapsed": false,
     "input": [
      "station_id=get_station_id_from_zip_code(zip_code)\n",
      "cal_temps=deepcopy(cal_temps_text.loc[cal_temps_text['usaf'] == station_id])"
     ],
     "language": "python",
     "metadata": {},
     "outputs": [],
     "prompt_number": 31
    },
    {
     "cell_type": "markdown",
     "metadata": {},
     "source": [
      "##Code For for loop\n",
      "-Currently only doing it for electricity usage, but replacing cal_elec with cal_gas would do it for gas"
     ]
    },
    {
     "cell_type": "code",
     "collapsed": false,
     "input": [
      "#BOTH\n",
      "a=[]\n",
      "c=[]\n",
      "for type_of_dd in model_type:\n",
      "    best_r2_adj=0\n",
      "    for cdd_temp in cal_cdd_temp_range:\n",
      "        cal_temps=get_cdd(cdd_temp,cal_temps)\n",
      "        for hdd_temp in cal_hdd_temp_range:\n",
      "            cal_temps=get_hdd(hdd_temp,cal_temps)\n",
      "            cal_elec['use_per_day']=cal_elec['kwh']/cal_elec['datenum'].diff()\n",
      "            cal_elec['num_days']=cal_elec['datenum'].diff()\n",
      "            cal_all=pd.merge(cal_elec,cal_temps,left_index=True,right_index=True)\n",
      "            if(type_of_dd is 'hdd' or 'both'):\n",
      "                cal_all['hdd_per_day']=cal_all['hdd_cum'].diff()/cal_all['datenum'].diff()\n",
      "            if(type_of_dd is 'cdd' or 'both'):\n",
      "                cal_all['cdd_per_day']=cal_all['cdd_cum'].diff()/cal_all['datenum'].diff()\n",
      "            cal_all_pre=cal_all.sort_index()[:pre_date]\n",
      "            cal_all_post=cal_all.sort_index()[post_date:]\n",
      "            results=degree_day_regression(cal_all_pre,type_of_dd)\n",
      "            r2_adj=np.array(results['R2_adj'])[0]\n",
      "            \n",
      "            if(r2_adj>best_r2_adj):\n",
      "                best_cdd_temp=cdd_temp\n",
      "                best_hdd_temp=hdd_temp\n",
      "                best_r2_adj=r2_adj\n",
      "                slope_hdd=np.array(results['HDD'])[0]\n",
      "                slope_cdd=np.array(results['CDD'])[0]\n",
      "                intercept=np.array(results['intercept'])[0]\n",
      "            a.append(r2_adj)\n",
      "        c.append(a)\n",
      "        a=[]\n",
      "            #print str(cdd_temp)+\",\" +str(hdd_temp)+\" \"+ str(r2_adj)\n",
      "print \"Best CDD set point:\" + str(best_cdd_temp)\n",
      "print \"BEST HDD set point:\" + str(best_hdd_temp)\n",
      "print \"BEST r2_adj:\" + str(best_r2_adj)\n",
      "print \"Best HDD slope:\"+str(slope_hdd)\n",
      "print \"Best CDD slope:\"+str(slope_cdd)\n",
      "print \"Best intercept:\"+str(intercept)"
     ],
     "language": "python",
     "metadata": {},
     "outputs": [
      {
       "output_type": "stream",
       "stream": "stdout",
       "text": [
        "Best CDD set point:64\n",
        "BEST HDD set point:52\n",
        "BEST r2_adj:0.746580860892\n",
        "Best HDD slope:0.363093394954\n",
        "Best CDD slope:-0.408097252833\n",
        "Best intercept:15.6376619454\n"
       ]
      }
     ],
     "prompt_number": 32
    },
    {
     "cell_type": "code",
     "collapsed": false,
     "input": [
      "plt.plot(cal_all['temps'],cal_all['use_per_day'],'.')\n",
      "x1=np.arange(60,100,(36)/float(len(cal_temps['temps'])))\n",
      "x2=np.arange(30,60,(22)/float(len(cal_temps['temps'])))\n",
      "y=(x1-best_cdd_temp)*slope_cdd+intercept\n",
      "y2=(x2-best_hdd_temp)*slope_hdd+intercept\n",
      "plt.plot(x1,y,'k')\n",
      "plt.plot(x2,y2,'b')"
     ],
     "language": "python",
     "metadata": {},
     "outputs": [
      {
       "metadata": {},
       "output_type": "pyout",
       "prompt_number": 45,
       "text": [
        "[<matplotlib.lines.Line2D at 0x7f4750eecc50>]"
       ]
      },
      {
       "metadata": {},
       "output_type": "display_data",
       "png": "[encoded data removed]",
       "text": [
        "<matplotlib.figure.Figure at 0x7f4750e0db10>"
       ]
      }
     ],
     "prompt_number": 45
    },
    {
     "cell_type": "code",
     "collapsed": false,
     "input": [
      "daily_savings=[]\n",
      "num_post_days_sum=0\n",
      "for i,val in enumerate(cal_all_post['cdd_per_day']):\n",
      "    cdd_post_day=cal_all_post['cdd_per_day'][i]\n",
      "    hdd_post_day=cal_all_post['hdd_per_day'][i]\n",
      "    use_post_day=cal_all_post['use_per_day'][i]\n",
      "    num_post_days=cal_all_post['num_days'][i]\n",
      "    num_post_days_sum=num_post_days_sum+num_post_days\n",
      "    kwh_per_day=(hdd_post_day*slope_hdd+cdd_post_day*slope_cdd+intercept)\n",
      "    daily_savings.append((kwh_per_day-use_post_day)*0.15*num_post_days)\n",
      "print 'You have an estimated savings of $'+str(sum(daily_savings)/num_post_days_sum*365)+\" per year!\""
     ],
     "language": "python",
     "metadata": {},
     "outputs": []
    },
    {
     "cell_type": "code",
     "collapsed": false,
     "input": [
      "daily_savings=[]\n",
      "num_pre_days_sum=0\n",
      "for i,val in enumerate(cal_all_pre['cdd_per_day']):\n",
      "    cdd_pre_day=cal_all_pre['cdd_per_day'][i]\n",
      "    hdd_pre_day=cal_all_pre['hdd_per_day'][i]\n",
      "    use_pre_day=cal_all_pre['use_per_day'][i]\n",
      "    num_pre_days=cal_all_pre['num_days'][i]\n",
      "    if(num_pre_days != num_pre_days):\n",
      "        num_pre_days=0\n",
      "    if(use_pre_day != use_pre_day):\n",
      "        use_pre_day=0\n",
      "    num_pre_days_sum=num_pre_days_sum+num_pre_days\n",
      "    kwh_per_day=(hdd_pre_day*slope_hdd+cdd_pre_day*slope_cdd+intercept)\n",
      "    if(kwh_per_day != kwh_per_day):\n",
      "        kwh_per_day=0\n",
      "    daily_savings.append((kwh_per_day-use_pre_day)*0.15*num_pre_days)\n",
      "print 'You have an estimated savings of $'+str(sum(daily_savings)/num_pre_days_sum*365)+\" per year!\""
     ],
     "language": "python",
     "metadata": {},
     "outputs": []
    },
    {
     "cell_type": "code",
     "collapsed": false,
     "input": [
      "#This plots the CDD and HDD so we can better visualize where the best set point temperatures are.\n",
      "plt.clf()\n",
      "pylab.rcParams['figure.figsize'] = 12, 9\n",
      "cal_hdd_min=cal_hdd_temp_range[0]\n",
      "cal_hdd_max=cal_hdd_temp_range[len(cal_hdd_temp_range)-1]\n",
      "cal_cdd_min=cal_cdd_temp_range[0]\n",
      "cal_cdd_max=cal_cdd_temp_range[len(cal_cdd_temp_range)-1]\n",
      "extent = [cal_hdd_min,cal_hdd_max,cal_cdd_min,cal_cdd_max]\n",
      "plt.imshow(c,extent=extent,cmap='Blues',interpolation='none')\n",
      "plt.xlabel('CDD Set Point Temperature')\n",
      "plt.ylabel('HDD Set Point Temperature')\n",
      "plt.show()"
     ],
     "language": "python",
     "metadata": {},
     "outputs": [
      {
       "metadata": {},
       "output_type": "display_data",
       "png": "[encoded data removed]",
       "text": [
        "<matplotlib.figure.Figure at 0x7f1de366a190>"
       ]
      }
     ],
     "prompt_number": 20
    },
    {
     "cell_type": "markdown",
     "metadata": {},
     "source": [
      "##Functions"
     ]
    },
    {
     "cell_type": "code",
     "collapsed": false,
     "input": [
      "def index_df_by_date(df):\n",
      "    df['date'] = pd.to_datetime(df['date'])\n",
      "    df.set_index('date', inplace=True)\n",
      "    df.index.snap() # snap to nearest frequency\n"
     ],
     "language": "python",
     "metadata": {},
     "outputs": [],
     "prompt_number": 3
    },
    {
     "cell_type": "code",
     "collapsed": false,
     "input": [
      "def get_station_id_from_zip_code(zip_code):\n",
      "    [lat,lng]=get_lat_lng_from_zip_code(zip_code)\n",
      "    station_id=get_station_id_from_lat_lng(lat,lng)\n",
      "    return station_id"
     ],
     "language": "python",
     "metadata": {},
     "outputs": [],
     "prompt_number": 4
    },
    {
     "cell_type": "code",
     "collapsed": false,
     "input": [
      "def get_station_id_from_lat_lng(lat,lng):\n",
      "    f = urllib2.urlopen('http://developer.nrel.gov/api/solar/data_query/v1.json?api_key=API_KEY&lat='+str(lat)+'&lon='+str(lng))\n",
      "    json_string = f.read()\n",
      "    parsed_json = json.loads(json_string)\n",
      "    station_id_unicode=parsed_json['outputs']['tmy3']['id']\n",
      "    station_id=int(str.split(str(station_id_unicode),'-')[1])\n",
      "    return station_id"
     ],
     "language": "python",
     "metadata": {},
     "outputs": [],
     "prompt_number": 5
    },
    {
     "cell_type": "code",
     "collapsed": false,
     "input": [
      "def get_lat_lng_from_zip_code(zip_code):\n",
      "    zip_code=zip_code.replace(' ','+')\n",
      "    zip_code=zip_code.replace(',','%2C')\n",
      "    f = urllib2.urlopen('https://maps.googleapis.com/maps/api/geocode/json?address='+zip_code+'&key=API_KEY')\n",
      "    json_string = f.read()\n",
      "    parsed_json_lat_lng = json.loads(json_string)\n",
      "    lat=parsed_json_lat_lng['results'][0]['geometry']['location']['lat']\n",
      "    lng=parsed_json_lat_lng['results'][0]['geometry']['location']['lng']\n",
      "    return [lat,lng]"
     ],
     "language": "python",
     "metadata": {},
     "outputs": [],
     "prompt_number": 6
    },
    {
     "cell_type": "code",
     "collapsed": false,
     "input": [
      "def get_hdd(ref_temp,df):\n",
      "    df['hdd']=ref_temp-df.temps\n",
      "    df['hdd'].loc[df.hdd<0]=0\n",
      "    df['hdd_cum']=df.hdd.cumsum()\n",
      "    return df\n",
      "\n",
      "def get_cdd(ref_temp,df):\n",
      "    df['cdd']=df.temps-ref_temp\n",
      "    df['cdd'].loc[df.cdd<0]=0\n",
      "    df['cdd_cum']=df.cdd.cumsum()\n",
      "    return df\n",
      "    "
     ],
     "language": "python",
     "metadata": {},
     "outputs": [],
     "prompt_number": 7
    },
    {
     "cell_type": "code",
     "collapsed": false,
     "input": [
      "def degree_day_regression(df, x_opt='both'):\n",
      "    \n",
      "    '''Function that runs the weather normalization regression on energy use data\n",
      "        --------------\n",
      "        df: dataframe that includes \n",
      "            use per day (upd)\n",
      "            heating degree days per day (hddpd)\n",
      "            cooling degree days per day (cddpd)\n",
      "        ---------------\n",
      "        x_opt: options for the regression function\n",
      "            'hdd': run regression with just heating degree days\n",
      "            'cdd': run regression with just cooling degree days\n",
      "            'both' (default): \n",
      "    '''\n",
      "    \n",
      "    #select model based on options\n",
      "    if x_opt == 'hdd':\n",
      "        covar = {'HDD': df.hdd_per_day}\n",
      "        results = pd.ols(y=df.use_per_day, x = covar)\n",
      "        return pd.DataFrame([[results.beta[1], results.std_err[1], results.beta[0], results.std_err[0], results.r2, results.r2_adj, results.nobs ]], \n",
      "             columns = ['intercept', 'intercept_std_err', 'HDD', 'HDD_std_err',' R2', 'R2_adj','N_reads'])\n",
      "    \n",
      "    elif x_opt == 'cdd':\n",
      "        covar = {'CDD': df.cdd_per_day}\n",
      "        results = pd.ols(y=df.use_per_day, x = covar)\n",
      "        return pd.DataFrame([[results.beta[1], results.std_err[1], results.beta[0], results.std_err[0], results.r2, results.r2_adj, results.nobs]], \n",
      "             columns = ['intercept', 'intercept_std_err', 'CDD', 'CDD_std_err', 'R2', 'R2_adj','N_reads'])\n",
      "\n",
      "    \n",
      "    elif x_opt == 'both':\n",
      "        covar = {'CDD': df.cdd_per_day, 'HDD': df.hdd_per_day}\n",
      "        results = pd.ols(y=df.use_per_day, x = covar)\n",
      "        return pd.DataFrame([[results.beta[2], results.std_err[2], results.beta[0], results.std_err[0], results.beta[1], results.std_err[1], results.r2, results.r2_adj, results.nobs]], \n",
      "             columns = ['intercept', 'intercept_std_err', 'CDD', 'CDD_std_err', 'HDD','HDD_std_err', 'R2', 'R2_adj','N_reads'])\n"
     ],
     "language": "python",
     "metadata": {},
     "outputs": [],
     "prompt_number": 8
    },
    {
     "cell_type": "code",
     "collapsed": false,
     "input": [],
     "language": "python",
     "metadata": {},
     "outputs": []
    }
   ],
   "metadata": {}
  }
 ]
}