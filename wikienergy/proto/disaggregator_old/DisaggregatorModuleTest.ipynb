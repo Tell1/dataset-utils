{
 "metadata": {
  "name": "",
  "signature": "sha256:449958b2bfea3c6b480133a4f47ccf8caa4c12aca6a4c441696c988effe96a34"
 },
 "nbformat": 3,
 "nbformat_minor": 0,
 "worksheets": [
  {
   "cells": [
    {
     "cell_type": "code",
     "collapsed": false,
     "input": [
      "import imp\n",
      "from datetime import datetime, timedelta\n",
      "import pandas as pd\n",
      "\n",
      "# loads module from temp directory\n",
      "dag = imp.load_source(\"disaggregator\",\"../disaggregator/disaggregator.py\")"
     ],
     "language": "python",
     "metadata": {},
     "outputs": [
      {
       "output_type": "stream",
       "stream": "stderr",
       "text": [
        "/usr/local/lib/python2.7/dist-packages/pandas/io/excel.py:626: UserWarning: Installed openpyxl is not supported at this time. Use >=1.6.1 and <2.0.0.\n",
        "  .format(openpyxl_compat.start_ver, openpyxl_compat.stop_ver))\n"
       ]
      }
     ],
     "prompt_number": 1
    },
    {
     "cell_type": "markdown",
     "metadata": {},
     "source": [
      "# This notebook outlines a sample usage of the disaggregator module\n",
      "\n",
      "For clarity describing the process in a general way, the data is not real."
     ]
    },
    {
     "cell_type": "code",
     "collapsed": false,
     "input": [
      "# dataframe with power and time\n",
      "length = 10\n",
      "now = datetime.utcnow()\n",
      "times = [now + timedelta(seconds=15*60*x) for x in range(0, length)]\n",
      "powers = [1. + (.1*x) for x in range(length)]\n",
      "df1 = pd.DataFrame({'time': times,'power':powers})\n",
      "df2 = pd.DataFrame({'time': times,'power':powers})\n",
      "print df1"
     ],
     "language": "python",
     "metadata": {},
     "outputs": [
      {
       "output_type": "stream",
       "stream": "stdout",
       "text": [
        "   power                       time\n",
        "0    1.0 2014-06-18 20:25:45.559091\n",
        "1    1.1 2014-06-18 20:40:45.559091\n",
        "2    1.2 2014-06-18 20:55:45.559091\n",
        "3    1.3 2014-06-18 21:10:45.559091\n",
        "4    1.4 2014-06-18 21:25:45.559091\n",
        "5    1.5 2014-06-18 21:40:45.559091\n",
        "6    1.6 2014-06-18 21:55:45.559091\n",
        "7    1.7 2014-06-18 22:10:45.559091\n",
        "8    1.8 2014-06-18 22:25:45.559091\n",
        "9    1.9 2014-06-18 22:40:45.559091\n"
       ]
      }
     ],
     "prompt_number": 2
    },
    {
     "cell_type": "code",
     "collapsed": false,
     "input": [
      "# single devices with independently sampled data\n",
      "fridge_example_1 = dag.DeviceInstance(df1)\n",
      "fridge_example_2 = dag.DeviceInstance(df2)\n"
     ],
     "language": "python",
     "metadata": {},
     "outputs": [
      {
       "ename": "TypeError",
       "evalue": "Can't instantiate abstract class DeviceInstance with abstract methods learn_parameters",
       "output_type": "pyerr",
       "traceback": [
        "\u001b[1;31m---------------------------------------------------------------------------\u001b[0m\n\u001b[1;31mTypeError\u001b[0m                                 Traceback (most recent call last)",
        "\u001b[1;32m<ipython-input-3-ea4728d2f7e6>\u001b[0m in \u001b[0;36m<module>\u001b[1;34m()\u001b[0m\n\u001b[0;32m      1\u001b[0m \u001b[1;31m# single devices with independently sampled data\u001b[0m\u001b[1;33m\u001b[0m\u001b[1;33m\u001b[0m\u001b[0m\n\u001b[1;32m----> 2\u001b[1;33m \u001b[0mfridge_example_1\u001b[0m \u001b[1;33m=\u001b[0m \u001b[0mdag\u001b[0m\u001b[1;33m.\u001b[0m\u001b[0mDeviceInstance\u001b[0m\u001b[1;33m(\u001b[0m\u001b[0mdf1\u001b[0m\u001b[1;33m)\u001b[0m\u001b[1;33m\u001b[0m\u001b[0m\n\u001b[0m\u001b[0;32m      3\u001b[0m \u001b[0mfridge_example_2\u001b[0m \u001b[1;33m=\u001b[0m \u001b[0mdag\u001b[0m\u001b[1;33m.\u001b[0m\u001b[0mDeviceInstance\u001b[0m\u001b[1;33m(\u001b[0m\u001b[0mdf2\u001b[0m\u001b[1;33m)\u001b[0m\u001b[1;33m\u001b[0m\u001b[0m\n",
        "\u001b[1;31mTypeError\u001b[0m: Can't instantiate abstract class DeviceInstance with abstract methods learn_parameters"
       ]
      }
     ],
     "prompt_number": 3
    },
    {
     "cell_type": "code",
     "collapsed": false,
     "input": [
      "# grouped devices form a device type\n",
      "fridges = [fridge_example_1,fridge_example_2]\n",
      "refrigerator = dag.DeviceType(fridges)\n",
      "\n",
      "refrigerator.learn_parameters()\n"
     ],
     "language": "python",
     "metadata": {},
     "outputs": [],
     "prompt_number": 4
    },
    {
     "cell_type": "code",
     "collapsed": false,
     "input": [
      "# want to disaggregate this data\n",
      "raw_aggregated_data = pd.DataFrame()\n",
      "\n",
      "# grouped device_types form a building\n",
      "device_types = [refrigerator]\n",
      "building1 = dag.MeteredUnit()\n",
      "\n",
      "# decide how likely each appliance is\n",
      "building1.learn_device_types(raw_aggregated_data,device_types)\n",
      "\n",
      "## (probably does something like this):\n",
      "# probabilities = []\n",
      "# for appliance_type in [refrigerator]:\n",
      "#     probabilities.append(appliance_type.probability_present(raw_aggregated_data))\n",
      "\n",
      "# disaggregation for this building\n",
      "building1.learn_disaggregator_parameters()\n",
      "disaggregated_data, confidences = building1.disaggregate(raw_aggregated_data)\n",
      "\n"
     ],
     "language": "python",
     "metadata": {},
     "outputs": [],
     "prompt_number": 5
    }
   ],
   "metadata": {}
  }
 ]
}