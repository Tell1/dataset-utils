{
 "metadata": {
  "name": "",
  "signature": "sha256:06dd3b5c081ef4d075585daef76b325733e41dba78df03a88e65c4d18b08fd9b"
 },
 "nbformat": 3,
 "nbformat_minor": 0,
 "worksheets": [
  {
   "cells": [
    {
     "cell_type": "code",
     "collapsed": false,
     "input": [
      "\n",
      "import sys\n",
      "sys.path.append('../../')\n",
      "import disaggregator\n",
      "import disaggregator.OakParkDatasetAdapter as opdsa\n",
      "import disaggregator.appliance as app\n",
      "import disaggregator.utils as utils\n",
      "from datetime import datetime\n",
      "import calendar"
     ],
     "language": "python",
     "metadata": {},
     "outputs": [],
     "prompt_number": 207
    },
    {
     "cell_type": "code",
     "collapsed": false,
     "input": [
      "reload(disaggregator.appliance)\n",
      "reload(disaggregator.utils)\n",
      "reload(disaggregator.OakParkDatasetAdapter)\n",
      "reload(app)"
     ],
     "language": "python",
     "metadata": {},
     "outputs": [
      {
       "metadata": {},
       "output_type": "pyout",
       "prompt_number": 232,
       "text": [
        "<module 'disaggregator.appliance' from '../../disaggregator/appliance.pyc'>"
       ]
      }
     ],
     "prompt_number": 232
    },
    {
     "cell_type": "code",
     "collapsed": false,
     "input": [
      "reload(opdsa)"
     ],
     "language": "python",
     "metadata": {},
     "outputs": [
      {
       "metadata": {},
       "output_type": "pyout",
       "prompt_number": 233,
       "text": [
        "<module 'disaggregator.OakParkDatasetAdapter' from '../../disaggregator/OakParkDatasetAdapter.pyc'>"
       ]
      }
     ],
     "prompt_number": 233
    },
    {
     "cell_type": "code",
     "collapsed": false,
     "input": [
      "app_set = opdsa.generate_set_by_year_month(2013,4)"
     ],
     "language": "python",
     "metadata": {},
     "outputs": [],
     "prompt_number": 106
    },
    {
     "cell_type": "code",
     "collapsed": false,
     "input": [
      "app_set.metadata"
     ],
     "language": "python",
     "metadata": {},
     "outputs": [
      {
       "metadata": {},
       "output_type": "pyout",
       "prompt_number": 109,
       "text": [
        "{'dataids': [], 'source': 'OakPark'}"
       ]
      }
     ],
     "prompt_number": 109
    },
    {
     "cell_type": "code",
     "collapsed": false,
     "input": [
      "db = opdsa.get_db_connection()\n",
      "\n",
      "homes = opdsa.get_homes(db)\n",
      "\n",
      "dataids = homes.keys()"
     ],
     "language": "python",
     "metadata": {},
     "outputs": [],
     "prompt_number": 121
    },
    {
     "cell_type": "code",
     "collapsed": false,
     "input": [
      "homes_traces = opdsa.homes_to_traces(homes)"
     ],
     "language": "python",
     "metadata": {},
     "outputs": [],
     "prompt_number": 223
    },
    {
     "cell_type": "code",
     "collapsed": false,
     "input": [
      "trace_list = homes_traces.values()"
     ],
     "language": "python",
     "metadata": {},
     "outputs": [],
     "prompt_number": 226
    },
    {
     "cell_type": "code",
     "collapsed": false,
     "input": [
      "(trace_list[0].series.index.summary())==(trace_list[1].series.index.summary())"
     ],
     "language": "python",
     "metadata": {},
     "outputs": [
      {
       "metadata": {},
       "output_type": "pyout",
       "prompt_number": 231,
       "text": [
        "False"
       ]
      }
     ],
     "prompt_number": 231
    },
    {
     "cell_type": "code",
     "collapsed": false,
     "input": [
      "utils.traces_aligned(trace_list)"
     ],
     "language": "python",
     "metadata": {},
     "outputs": [
      {
       "output_type": "stream",
       "stream": "stdout",
       "text": [
        "<class 'pandas.tseries.index.DatetimeIndex'>\n",
        "[2014-06-16 00:00:00, ..., 2014-07-15 23:30:00]\n",
        "Length: 1440, Freq: None, Timezone: None\n"
       ]
      },
      {
       "metadata": {},
       "output_type": "pyout",
       "prompt_number": 234,
       "text": [
        "False"
       ]
      }
     ],
     "prompt_number": 234
    },
    {
     "cell_type": "code",
     "collapsed": false,
     "input": [
      "complete_homes = opdsa.get_list_of_homes_with_certain_year_month(homes_traces,2013,4)\n"
     ],
     "language": "python",
     "metadata": {},
     "outputs": [],
     "prompt_number": 128
    },
    {
     "cell_type": "code",
     "collapsed": false,
     "input": [
      "homes_traces.keys['']"
     ],
     "language": "python",
     "metadata": {},
     "outputs": [
      {
       "metadata": {},
       "output_type": "pyout",
       "prompt_number": 158,
       "text": [
        "['5065',\n",
        " '9455',\n",
        " '3494',\n",
        " '9308',\n",
        " '3534',\n",
        " '8343',\n",
        " '7833',\n",
        " '7879',\n",
        " '8132',\n",
        " '3698',\n",
        " '1472',\n",
        " '8354',\n",
        " '1253',\n",
        " '8508',\n",
        " '8736',\n",
        " '1396',\n",
        " '4309',\n",
        " '3082',\n",
        " '2288',\n",
        " '2872',\n",
        " '2913',\n",
        " '2853',\n",
        " '9526',\n",
        " '7622',\n",
        " '4796',\n",
        " '4790',\n",
        " '1881',\n",
        " '1550',\n",
        " '4528',\n",
        " '4391',\n",
        " '8534',\n",
        " '2066']"
       ]
      }
     ],
     "prompt_number": 158
    },
    {
     "cell_type": "code",
     "collapsed": false,
     "input": [
      "year = 2013\n",
      "month = 4\n",
      "new_dict = {}\n",
      "for h in complete_homes:\n",
      "    homes_traces[h].series=opdsa.get_home_series_by_year_month(homes_traces[h],year,month)\n",
      "    #print homes_traces[h].series.index.summary()\n",
      "    #print homes_traces[h].series.index[0]\n",
      "    new_dict[h]=homes_traces[h]\n",
      "    \n",
      "instances = [app.ApplianceInstance([t],t.metadata) for t in new_dict.values()]\n",
      "metadata_set= {'source':'OakPark','dataids':complete_homes}\n",
      "for i in instances:\n",
      "    print i.traces[0].series.index[0]\n",
      "app_set = app.ApplianceSet(instances,metadata_set)\n"
     ],
     "language": "python",
     "metadata": {},
     "outputs": [
      {
       "output_type": "stream",
       "stream": "stdout",
       "text": [
        "2013-04-01 00:00:00\n",
        "2013-04-01 00:00:00\n",
        "2013-04-01 00:00:00\n",
        "2013-04-01 00:00:00\n",
        "2013-04-01 00:00:00\n",
        "2013-04-01 00:00:00\n",
        "2013-04-01 00:00:00\n",
        "2013-04-01 00:00:00\n",
        "2013-04-01 00:00:00\n",
        "2013-04-01 00:00:00\n",
        "2013-04-01 00:00:00\n",
        "2013-04-01 00:00:00\n",
        "2013-04-01 00:00:00\n",
        "2013-04-01 00:00:00\n",
        "2013-04-01 00:00:00\n",
        "2013-04-01 00:00:00\n",
        "2013-04-01 00:00:00\n",
        "2013-04-01 00:00:00\n",
        "2013-04-01 00:00:00\n",
        "2013-04-01 00:00:00\n",
        "2013-04-01 00:00:00\n",
        "2013-04-01 00:00:00\n",
        "2013-04-01 00:00:00\n",
        "2013-04-01 00:00:00\n"
       ]
      },
      {
       "ename": "AttributeError",
       "evalue": "'unicode' object has no attribute 'equals'",
       "output_type": "pyerr",
       "traceback": [
        "\u001b[0;31m---------------------------------------------------------------------------\u001b[0m\n\u001b[0;31mAttributeError\u001b[0m                            Traceback (most recent call last)",
        "\u001b[0;32m<ipython-input-219-d2cd509f3b28>\u001b[0m in \u001b[0;36m<module>\u001b[0;34m()\u001b[0m\n\u001b[1;32m     11\u001b[0m \u001b[0;32mfor\u001b[0m \u001b[0mi\u001b[0m \u001b[0;32min\u001b[0m \u001b[0minstances\u001b[0m\u001b[0;34m:\u001b[0m\u001b[0;34m\u001b[0m\u001b[0m\n\u001b[1;32m     12\u001b[0m     \u001b[0;32mprint\u001b[0m \u001b[0mi\u001b[0m\u001b[0;34m.\u001b[0m\u001b[0mtraces\u001b[0m\u001b[0;34m[\u001b[0m\u001b[0;36m0\u001b[0m\u001b[0;34m]\u001b[0m\u001b[0;34m.\u001b[0m\u001b[0mseries\u001b[0m\u001b[0;34m.\u001b[0m\u001b[0mindex\u001b[0m\u001b[0;34m[\u001b[0m\u001b[0;36m0\u001b[0m\u001b[0;34m]\u001b[0m\u001b[0;34m\u001b[0m\u001b[0m\n\u001b[0;32m---> 13\u001b[0;31m \u001b[0mapp_set\u001b[0m \u001b[0;34m=\u001b[0m \u001b[0mapp\u001b[0m\u001b[0;34m.\u001b[0m\u001b[0mApplianceSet\u001b[0m\u001b[0;34m(\u001b[0m\u001b[0minstances\u001b[0m\u001b[0;34m,\u001b[0m\u001b[0mmetadata_set\u001b[0m\u001b[0;34m)\u001b[0m\u001b[0;34m\u001b[0m\u001b[0m\n\u001b[0m",
        "\u001b[0;32m/Users/sabina/wikienergy/disaggregator/appliance.pyc\u001b[0m in \u001b[0;36m__init__\u001b[0;34m(self, instances, metadata)\u001b[0m\n\u001b[1;32m    183\u001b[0m         \u001b[0mInitializes\u001b[0m \u001b[0man\u001b[0m \u001b[0mappliance\u001b[0m \u001b[0mset\u001b[0m \u001b[0mgiven\u001b[0m \u001b[0ma\u001b[0m \u001b[0mlist\u001b[0m \u001b[0mof\u001b[0m \u001b[0minstances\u001b[0m\u001b[0;34m.\u001b[0m\u001b[0;34m\u001b[0m\u001b[0m\n\u001b[1;32m    184\u001b[0m         '''\n\u001b[0;32m--> 185\u001b[0;31m         \u001b[0;32mif\u001b[0m \u001b[0;32mnot\u001b[0m \u001b[0mutils\u001b[0m\u001b[0;34m.\u001b[0m\u001b[0minstances_aligned\u001b[0m\u001b[0;34m(\u001b[0m\u001b[0minstances\u001b[0m\u001b[0;34m)\u001b[0m\u001b[0;34m:\u001b[0m\u001b[0;34m\u001b[0m\u001b[0m\n\u001b[0m\u001b[1;32m    186\u001b[0m             \u001b[0mself\u001b[0m\u001b[0;34m.\u001b[0m\u001b[0minstances\u001b[0m \u001b[0;34m=\u001b[0m \u001b[0mutils\u001b[0m\u001b[0;34m.\u001b[0m\u001b[0malign_instances\u001b[0m\u001b[0;34m(\u001b[0m\u001b[0minstances\u001b[0m\u001b[0;34m)\u001b[0m\u001b[0;34m\u001b[0m\u001b[0m\n\u001b[1;32m    187\u001b[0m         \u001b[0;32melse\u001b[0m\u001b[0;34m:\u001b[0m\u001b[0;34m\u001b[0m\u001b[0m\n",
        "\u001b[0;32m/Users/sabina/wikienergy/disaggregator/utils.py\u001b[0m in \u001b[0;36minstances_aligned\u001b[0;34m(instances)\u001b[0m\n\u001b[1;32m    373\u001b[0m     \u001b[0mtraces\u001b[0m \u001b[0;34m=\u001b[0m \u001b[0mmap\u001b[0m\u001b[0;34m(\u001b[0m\u001b[0mlist\u001b[0m\u001b[0;34m,\u001b[0m\u001b[0mzip\u001b[0m\u001b[0;34m(\u001b[0m\u001b[0;34m*\u001b[0m\u001b[0;34m[\u001b[0m\u001b[0minstance\u001b[0m\u001b[0;34m.\u001b[0m\u001b[0mtraces\u001b[0m \u001b[0;32mfor\u001b[0m \u001b[0minstance\u001b[0m \u001b[0;32min\u001b[0m \u001b[0minstances\u001b[0m\u001b[0;34m]\u001b[0m\u001b[0;34m)\u001b[0m\u001b[0;34m)\u001b[0m\u001b[0;34m\u001b[0m\u001b[0m\n\u001b[1;32m    374\u001b[0m     \u001b[0;32mfor\u001b[0m \u001b[0mtraces_\u001b[0m \u001b[0;32min\u001b[0m \u001b[0mtraces\u001b[0m\u001b[0;34m:\u001b[0m\u001b[0;34m\u001b[0m\u001b[0m\n\u001b[0;32m--> 375\u001b[0;31m         \u001b[0;32mif\u001b[0m \u001b[0;32mnot\u001b[0m \u001b[0mtraces_aligned\u001b[0m\u001b[0;34m(\u001b[0m\u001b[0mtraces_\u001b[0m\u001b[0;34m)\u001b[0m\u001b[0;34m:\u001b[0m\u001b[0;34m\u001b[0m\u001b[0m\n\u001b[0m\u001b[1;32m    376\u001b[0m             \u001b[0;32mprint\u001b[0m \u001b[0;34m\"two\"\u001b[0m\u001b[0;34m\u001b[0m\u001b[0m\n\u001b[1;32m    377\u001b[0m             \u001b[0;32mreturn\u001b[0m \u001b[0mFalse\u001b[0m\u001b[0;34m\u001b[0m\u001b[0m\n",
        "\u001b[0;32m/Users/sabina/wikienergy/disaggregator/utils.py\u001b[0m in \u001b[0;36mtraces_aligned\u001b[0;34m(traces)\u001b[0m\n\u001b[1;32m    356\u001b[0m     \u001b[0mindices\u001b[0m \u001b[0;34m=\u001b[0m \u001b[0;34m[\u001b[0m\u001b[0mtrace\u001b[0m\u001b[0;34m.\u001b[0m\u001b[0mseries\u001b[0m\u001b[0;34m.\u001b[0m\u001b[0mindex\u001b[0m\u001b[0;34m.\u001b[0m\u001b[0msummary\u001b[0m\u001b[0;34m(\u001b[0m\u001b[0;34m)\u001b[0m \u001b[0;32mfor\u001b[0m \u001b[0mtrace\u001b[0m \u001b[0;32min\u001b[0m \u001b[0mtraces\u001b[0m\u001b[0;34m]\u001b[0m\u001b[0;34m\u001b[0m\u001b[0m\n\u001b[1;32m    357\u001b[0m     \u001b[0;32mfor\u001b[0m \u001b[0mindex\u001b[0m \u001b[0;32min\u001b[0m \u001b[0mindices\u001b[0m\u001b[0;34m[\u001b[0m\u001b[0;36m1\u001b[0m\u001b[0;34m:\u001b[0m\u001b[0;34m]\u001b[0m\u001b[0;34m:\u001b[0m\u001b[0;34m\u001b[0m\u001b[0m\n\u001b[0;32m--> 358\u001b[0;31m         \u001b[0;32mif\u001b[0m \u001b[0;32mnot\u001b[0m \u001b[0mindices\u001b[0m\u001b[0;34m[\u001b[0m\u001b[0;36m0\u001b[0m\u001b[0;34m]\u001b[0m\u001b[0;34m.\u001b[0m\u001b[0mequals\u001b[0m\u001b[0;34m(\u001b[0m\u001b[0mindex\u001b[0m\u001b[0;34m)\u001b[0m\u001b[0;34m:\u001b[0m\u001b[0;34m\u001b[0m\u001b[0m\n\u001b[0m\u001b[1;32m    359\u001b[0m             \u001b[0;32mprint\u001b[0m \u001b[0mindex\u001b[0m\u001b[0;34m\u001b[0m\u001b[0m\n\u001b[1;32m    360\u001b[0m             \u001b[0;32mreturn\u001b[0m \u001b[0mFalse\u001b[0m\u001b[0;34m\u001b[0m\u001b[0m\n",
        "\u001b[0;31mAttributeError\u001b[0m: 'unicode' object has no attribute 'equals'"
       ]
      }
     ],
     "prompt_number": 219
    },
    {
     "cell_type": "code",
     "collapsed": false,
     "input": [
      "t_list = new_dict.values()"
     ],
     "language": "python",
     "metadata": {},
     "outputs": [],
     "prompt_number": 236
    },
    {
     "cell_type": "code",
     "collapsed": false,
     "input": [
      "utils.traces_aligned(t_list)"
     ],
     "language": "python",
     "metadata": {},
     "outputs": [
      {
       "metadata": {},
       "output_type": "pyout",
       "prompt_number": 239,
       "text": [
        "True"
       ]
      }
     ],
     "prompt_number": 239
    },
    {
     "cell_type": "code",
     "collapsed": false,
     "input": [
      "home= homes[dataids[0]]"
     ],
     "language": "python",
     "metadata": {},
     "outputs": [],
     "prompt_number": 3
    },
    {
     "cell_type": "code",
     "collapsed": false,
     "input": [
      "trace = opdsa.generate_trace_by_dataid(homes,dataids[0])"
     ],
     "language": "python",
     "metadata": {},
     "outputs": [],
     "prompt_number": 6
    },
    {
     "cell_type": "code",
     "collapsed": false,
     "input": [
      "dt_index =  trace.series.index"
     ],
     "language": "python",
     "metadata": {},
     "outputs": [],
     "prompt_number": 10
    },
    {
     "cell_type": "code",
     "collapsed": false,
     "input": [
      "trace.series.index.searchsorted(datetime(2013, 1, 2))\n"
     ],
     "language": "python",
     "metadata": {},
     "outputs": [
      {
       "metadata": {},
       "output_type": "pyout",
       "prompt_number": 29,
       "text": [
        "8112"
       ]
      }
     ],
     "prompt_number": 29
    },
    {
     "cell_type": "code",
     "collapsed": false,
     "input": [
      "year = 2013\n",
      "month = 1\n",
      "day = 1\n",
      "dt_start = datetime(year,month,day)\n",
      "dt_end = datetime(year,month,calendar.monthrange(year,month)[1])"
     ],
     "language": "python",
     "metadata": {},
     "outputs": [],
     "prompt_number": 44
    },
    {
     "cell_type": "code",
     "collapsed": false,
     "input": [
      "index_start = trace.series.index.searchsorted(dt_start)\n",
      "index_end = trace.series.index.searchsorted(dt_end)\n",
      "print index_end-index_start"
     ],
     "language": "python",
     "metadata": {},
     "outputs": [
      {
       "output_type": "stream",
       "stream": "stdout",
       "text": [
        "1440\n"
       ]
      }
     ],
     "prompt_number": 60
    },
    {
     "cell_type": "code",
     "collapsed": false,
     "input": [
      "test = trace.series[index_start:index_end]"
     ],
     "language": "python",
     "metadata": {},
     "outputs": [],
     "prompt_number": 52
    },
    {
     "cell_type": "code",
     "collapsed": false,
     "input": [
      "def get_home_series_by_year_month(year,month,trace):\n",
      "    '''\n",
      "    Returns the home's series sliced by year and month. \n",
      "    '''\n",
      "    dt_start = datetime(year,month,1)\n",
      "    dt_end = datetime(year,month,calendar.monthrange(year,month)[1])\n",
      "    index_start = trace.series.index.searchsorted(dt_start)\n",
      "    index_end = trace.series.index.searchsorted(dt_end)\n",
      "    \n",
      "    if index_start == 0 or index_end==0:\n",
      "        return -1\n",
      "    else:\n",
      "        return  trace.series[index_start:index_end]"
     ],
     "language": "python",
     "metadata": {},
     "outputs": [],
     "prompt_number": 56
    },
    {
     "cell_type": "code",
     "collapsed": false,
     "input": [
      "def get_list_of_homes_with_certain_month_year(homes,year,month):\n",
      "    '''\n",
      "    Returns a list of homes which have complete trace info for given year and month. \n",
      "    Assumes that homes is dict where keys are dataids and values are traces. \n",
      "    '''\n",
      "    complete_homes = []\n",
      "    for h in homes.keys():\n",
      "        dt_start = datetime(year,month,1)\n",
      "        dt_end = datetime(year,month,calendar.monthrange(year,month)[1])\n",
      "        index_start = homes[h].series.index.searchsorted(dt_start)\n",
      "        index_end = homes[h].series.index.searchsorted(dt_end)\n",
      "        if index_end-index_start==((dt_end-dt_start)*48).days:\n",
      "            complete_homes.append(h)\n",
      "    return complete_homes"
     ],
     "language": "python",
     "metadata": {},
     "outputs": [],
     "prompt_number": 70
    },
    {
     "cell_type": "code",
     "collapsed": false,
     "input": [
      "get_list_of_homes_with_certain_month_year(hom,2013,6)"
     ],
     "language": "python",
     "metadata": {},
     "outputs": [
      {
       "output_type": "stream",
       "stream": "stdout",
       "text": [
        "1392\n",
        "1392 days, 0:00:00\n"
       ]
      },
      {
       "metadata": {},
       "output_type": "pyout",
       "prompt_number": 71,
       "text": [
        "['3923']"
       ]
      }
     ],
     "prompt_number": 71
    },
    {
     "cell_type": "code",
     "collapsed": false,
     "input": [
      "dataids[0]"
     ],
     "language": "python",
     "metadata": {},
     "outputs": [
      {
       "metadata": {},
       "output_type": "pyout",
       "prompt_number": 62,
       "text": [
        "'3923'"
       ]
      }
     ],
     "prompt_number": 62
    },
    {
     "cell_type": "code",
     "collapsed": false,
     "input": [
      "hom = {'3923':trace}"
     ],
     "language": "python",
     "metadata": {},
     "outputs": [],
     "prompt_number": 63
    },
    {
     "cell_type": "code",
     "collapsed": false,
     "input": [],
     "language": "python",
     "metadata": {},
     "outputs": []
    },
    {
     "cell_type": "code",
     "collapsed": false,
     "input": [],
     "language": "python",
     "metadata": {},
     "outputs": []
    }
   ],
   "metadata": {}
  }
 ]
}