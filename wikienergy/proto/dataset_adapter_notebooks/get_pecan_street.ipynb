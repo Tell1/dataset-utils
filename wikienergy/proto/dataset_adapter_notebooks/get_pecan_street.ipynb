{
 "metadata": {
  "name": "",
  "signature": "sha256:69d92b757d8a4b146029501a8091d7d174aafdd8e2b500ed9d6d4a5667893665"
 },
 "nbformat": 3,
 "nbformat_minor": 0,
 "worksheets": [
  {
   "cells": [
    {
     "cell_type": "code",
     "collapsed": false,
     "input": [
      "import sys\n",
      "sys.path.append('../')"
     ],
     "language": "python",
     "metadata": {},
     "outputs": [],
     "prompt_number": 4
    },
    {
     "cell_type": "code",
     "collapsed": false,
     "input": [
      "import disaggregator.PecanStreetDatasetAdapter as pecan\n",
      "\n",
      "\n",
      "user_name = 'USERNAME'\n",
      "pw='PASSWORD'\n",
      "host = \"db.wiki-energy.org\"\n",
      "port = \"5432\"\n",
      "db = \"postgres\"\n",
      "db_url = \"postgresql\"+\"://\"+user_name+\":\"+pw+\"@\"+host+\":\"+port+\"/\"+db\n",
      "\n",
      "table = {'curated':'\\\"PecanStreet_CuratedSets\\\"','raw':'\\\"PecanStreet_RawData\\\"','shared':'\\\"PecanStreet_SharedData\\\"'}"
     ],
     "language": "python",
     "metadata": {},
     "outputs": [
      {
       "output_type": "stream",
       "stream": "stderr",
       "text": [
        "/Users/sabina/anaconda/lib/python2.7/site-packages/pandas/io/excel.py:626: UserWarning: Installed openpyxl is not supported at this time. Use >=1.6.1 and <2.0.0.\n",
        "  .format(openpyxl_compat.start_ver, openpyxl_compat.stop_ver))\n"
       ]
      }
     ],
     "prompt_number": 5
    },
    {
     "cell_type": "code",
     "collapsed": false,
     "input": [
      "print 'There are two datasets you can view right now, one is called curated, and one is called shared.\\n The shared data set has one minute interval data for Jan-May 2014, for about 200 homes. \\n\\n The curated data set has 15 mintue interval data for different intervals in 2013 and 2012, the largest interval lasting from 12/12-11/13. \\n\\n If you want to analyze longer term data, the curated set is recommended, whereas if you want shorter but more frequent data the shared set is recommended. \\n\\n Would you like to recieve data from the shared or curated set?'"
     ],
     "language": "python",
     "metadata": {},
     "outputs": [
      {
       "output_type": "stream",
       "stream": "stdout",
       "text": [
        "There are two datasets you can view right now, one is called curated, and one is called shared.\n",
        " The shared data set has one minute interval data for Jan-May 2014, for about 200 homes. \n",
        "\n",
        " The curated data set has 15 mintue interval data for different intervals in 2013 and 2012, the largest interval lasting from 12/12-11/13. \n",
        "\n",
        " If you want to analyze longer term data, the curated set is recommended, whereas if you want shorter but more frequent data the shared set is recommended. \n",
        "\n",
        " Would you like to recieve data from the shared or curated set?\n"
       ]
      }
     ],
     "prompt_number": 1
    },
    {
     "cell_type": "code",
     "collapsed": false,
     "input": [],
     "language": "python",
     "metadata": {},
     "outputs": []
    },
    {
     "cell_type": "code",
     "collapsed": false,
     "input": [
      "dataset = input('Please enter either shared or curated')\n",
      "print dataset"
     ],
     "language": "python",
     "metadata": {},
     "outputs": [
      {
       "name": "stdout",
       "output_type": "stream",
       "stream": "stdout",
       "text": [
        "Please enter either shared or curated\"curated\"\n"
       ]
      },
      {
       "output_type": "stream",
       "stream": "stdout",
       "text": [
        "curated\n"
       ]
      }
     ],
     "prompt_number": 2
    },
    {
     "cell_type": "code",
     "collapsed": false,
     "input": [
      "p = pecan(db_url)"
     ],
     "language": "python",
     "metadata": {},
     "outputs": [],
     "prompt_number": 6
    },
    {
     "cell_type": "code",
     "collapsed": false,
     "input": [
      "schema = table[dataset]"
     ],
     "language": "python",
     "metadata": {},
     "outputs": [],
     "prompt_number": 7
    },
    {
     "cell_type": "code",
     "collapsed": false,
     "input": [
      "schema= schema[1:len(schema)-1]\n"
     ],
     "language": "python",
     "metadata": {},
     "outputs": [],
     "prompt_number": 11
    },
    {
     "cell_type": "code",
     "collapsed": false,
     "input": [
      "tables= p.set_table_names(schema)"
     ],
     "language": "python",
     "metadata": {},
     "outputs": [],
     "prompt_number": 13
    },
    {
     "cell_type": "code",
     "collapsed": false,
     "input": [
      "tables"
     ],
     "language": "python",
     "metadata": {},
     "outputs": [
      {
       "metadata": {},
       "output_type": "pyout",
       "prompt_number": 14,
       "text": [
        "[u'group1_disaggregated_2013_07',\n",
        " u'group2_disaggregated_2013_05',\n",
        " u'group2_disaggregated_2013_11',\n",
        " u'group2_disaggregated_2013_08',\n",
        " u'group1_disaggregated_2013_01',\n",
        " u'group1_disaggregated_2013_08',\n",
        " u'group3_disaggregated_2013_07',\n",
        " u'group2_disaggregated_2013_03',\n",
        " u'group1_disaggregated_2013_04',\n",
        " u'group3_disaggregated_2013_05',\n",
        " u'west_pv_fall_2013',\n",
        " u'group1_disaggregated_2013_09',\n",
        " u'south_pv_fall_2013',\n",
        " u'pv_summer_2013',\n",
        " u'group1_disaggregated_2013_03',\n",
        " u'southwest_pv_fall_2013',\n",
        " u'group2_disaggregated_2013_10',\n",
        " u'group2_disaggregated_2013_09',\n",
        " u'group3_disaggregated_2013_10',\n",
        " u'group2_disaggregated_2013_07',\n",
        " u'group1_disaggregated_2013_11',\n",
        " u'group1_disaggregated_2012_12',\n",
        " u'group1_disaggregated_2013_02',\n",
        " u'group3_disaggregated_2013_09',\n",
        " u'group2_disaggregated_2013_06',\n",
        " u'group3_disaggregated_2013_06',\n",
        " u'group3_disaggregated_2013_11',\n",
        " u'group2_disaggregated_2013_04',\n",
        " u'group3_disaggregated_2013_08',\n",
        " u'group2_disaggregated_2013_01',\n",
        " u'group1_disaggregated_2013_06',\n",
        " u'group2_disaggregated_2013_02',\n",
        " u'group1_disaggregated_2013_05',\n",
        " u'group1_disaggregated_2013_10',\n",
        " u'ev_fall_2013']"
       ]
      }
     ],
     "prompt_number": 14
    },
    {
     "cell_type": "code",
     "collapsed": false,
     "input": [],
     "language": "python",
     "metadata": {},
     "outputs": []
    }
   ],
   "metadata": {}
  }
 ]
}