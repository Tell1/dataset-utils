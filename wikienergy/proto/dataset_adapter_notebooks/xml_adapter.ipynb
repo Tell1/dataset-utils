{
 "metadata": {
  "name": "",
  "signature": "sha256:248e5145cf48df9953f41e6149f2ae4bd8d51dd00f5d61f92472b06a2f76a0f1"
 },
 "nbformat": 3,
 "nbformat_minor": 0,
 "worksheets": [
  {
   "cells": [
    {
     "cell_type": "code",
     "collapsed": false,
     "input": [
      "import os\n",
      "import xml.etree.ElementTree as ET\n",
      "import datetime\n",
      "import random\n",
      "import pymongo as mongo\n",
      "from collections import OrderedDict\n",
      "import pandas as pd\n",
      "import OakParkDatasetAdapter as opda\n"
     ],
     "language": "python",
     "metadata": {},
     "outputs": [
      {
       "output_type": "stream",
       "stream": "stderr",
       "text": [
        "/usr/local/lib/python2.7/dist-packages/pandas/io/excel.py:626: UserWarning: Installed openpyxl is not supported at this time. Use >=1.6.1 and <2.0.0.\n",
        "  .format(openpyxl_compat.start_ver, openpyxl_compat.stop_ver))\n"
       ]
      },
      {
       "ename": "ImportError",
       "evalue": "No module named OakParkDatasetAdapter",
       "output_type": "pyerr",
       "traceback": [
        "\u001b[1;31m---------------------------------------------------------------------------\u001b[0m\n\u001b[1;31mImportError\u001b[0m                               Traceback (most recent call last)",
        "\u001b[1;32m<ipython-input-1-66341debb7c9>\u001b[0m in \u001b[0;36m<module>\u001b[1;34m()\u001b[0m\n\u001b[0;32m      6\u001b[0m \u001b[1;32mfrom\u001b[0m \u001b[0mcollections\u001b[0m \u001b[1;32mimport\u001b[0m \u001b[0mOrderedDict\u001b[0m\u001b[1;33m\u001b[0m\u001b[0m\n\u001b[0;32m      7\u001b[0m \u001b[1;32mimport\u001b[0m \u001b[0mpandas\u001b[0m \u001b[1;32mas\u001b[0m \u001b[0mpd\u001b[0m\u001b[1;33m\u001b[0m\u001b[0m\n\u001b[1;32m----> 8\u001b[1;33m \u001b[1;32mimport\u001b[0m \u001b[0mOakParkDatasetAdapter\u001b[0m \u001b[1;32mas\u001b[0m \u001b[0mopda\u001b[0m\u001b[1;33m\u001b[0m\u001b[0m\n\u001b[0m",
        "\u001b[1;31mImportError\u001b[0m: No module named OakParkDatasetAdapter"
       ]
      }
     ],
     "prompt_number": 1
    },
    {
     "cell_type": "code",
     "collapsed": false,
     "input": [
      "reload(opda)"
     ],
     "language": "python",
     "metadata": {},
     "outputs": [
      {
       "metadata": {},
       "output_type": "pyout",
       "prompt_number": 26,
       "text": [
        "<module 'OakParkDatasetAdapter' from 'OakParkDatasetAdapter.py'>"
       ]
      }
     ],
     "prompt_number": 26
    },
    {
     "cell_type": "code",
     "collapsed": false,
     "input": [
      "##change this part to where your files are\n",
      "#path = os.path.join(os.getcwd(), 'xml_files')\n",
      "#xml_files = [f for f in os.listdir(path)]"
     ],
     "language": "python",
     "metadata": {},
     "outputs": [],
     "prompt_number": 8
    },
    {
     "cell_type": "code",
     "collapsed": false,
     "input": [
      "def get_tree(xml_file):\n",
      "    tree = ET.parse('{}'.format(xml_file))\n",
      "    root = tree.getroot()\n",
      "    return tree,root"
     ],
     "language": "python",
     "metadata": {},
     "outputs": [],
     "prompt_number": 23
    },
    {
     "cell_type": "code",
     "collapsed": false,
     "input": [
      "def get_interval_data(tree_root):\n",
      "    base_interval_string = './/{http://www.w3.org/2005/Atom}entry/{http://www.w3.org/2005/Atom}content/{http://naesb.org/espi}IntervalBlock/'\n",
      "    S = '{http://naesb.org/espi}'\n",
      "    interval  = tree_root.findall('{0}/{1}{2}'.format(base_interval_string,S,'interval/'))\n",
      "    interval_dict = {interval[i].tag.split('{http://naesb.org/espi}')[1]:interval[i].text for i in range(len(interval))} \n",
      "    interval_dict['start']=datetime.datetime.fromtimestamp(float(interval_dict['start']))\n",
      "    return interval_dict"
     ],
     "language": "python",
     "metadata": {},
     "outputs": [],
     "prompt_number": 10
    },
    {
     "cell_type": "code",
     "collapsed": false,
     "input": [
      "def get_interval_block(tree_root):\n",
      "    base_interval_string = './/{http://www.w3.org/2005/Atom}entry/{http://www.w3.org/2005/Atom}content/{http://naesb.org/espi}IntervalBlock/'\n",
      "    S = '{http://naesb.org/espi}'\n",
      "    reading  = tree_root.findall('{0}/{1}{2}'.format(base_interval_string,S,'IntervalReading/'))\n",
      "    values = []\n",
      "    index_date = [] \n",
      "    bigger = []\n",
      "    dict_test = {}\n",
      "    for r in range(0,len(reading)-1,2):\n",
      "        index_date.append(datetime.datetime.fromtimestamp(float(reading[r][1].text)))\n",
      "        values.append(reading[r+1].text)\n",
      "        bigger.append([datetime.datetime.fromtimestamp(float(reading[r][1].text)),{'value':float(reading[r+1].text)/1e3}])\n",
      "        #dict_test[str(datetime.datetime.utcfromtimestamp(float(reading[r][1].text)))] =reading[r+1].text     \n",
      "    return bigger"
     ],
     "language": "python",
     "metadata": {},
     "outputs": [],
     "prompt_number": 11
    },
    {
     "cell_type": "code",
     "collapsed": false,
     "input": [
      "def get_currency(tree_root):\n",
      "    base_interval_string = './/{http://www.w3.org/2005/Atom}entry/{http://www.w3.org/2005/Atom}content/{http://naesb.org/espi}ReadingType/'\n",
      "    S = '{http://naesb.org/espi}'\n",
      "    currency  = tree_root.findall('{0}/{1}{2}'.format(base_interval_string,S,'currency'))\n",
      "    return currency[0].text"
     ],
     "language": "python",
     "metadata": {},
     "outputs": [],
     "prompt_number": 12
    },
    {
     "cell_type": "code",
     "collapsed": false,
     "input": [
      "def get_address(tree_root):\n",
      "    return tree_root.findall('{0}'.format('.//{http://www.w3.org/2005/Atom}entry/{http://www.w3.org/2005/Atom}title'))[0].text"
     ],
     "language": "python",
     "metadata": {},
     "outputs": [],
     "prompt_number": 13
    },
    {
     "cell_type": "code",
     "collapsed": false,
     "input": [
      "def get_meta(tree_root):\n",
      "    meta_data = {}\n",
      "    meta_data['updated'] = tree_root.findall('{0}'.format('.//{http://www.w3.org/2005/Atom}entry/{http://www.w3.org/2005/Atom}updated'))[0].text\n",
      "    meta_data['published'] = tree_root.findall('{0}'.format('.//{http://www.w3.org/2005/Atom}entry/{http://www.w3.org/2005/Atom}published'))[0].text\n",
      "    meta_data['interval'] = get_interval_data(tree_root)\n",
      "    meta_data['currency'] = get_currency(tree_root)\n",
      "    meta_data['account_number']=None\n",
      "    return meta_data"
     ],
     "language": "python",
     "metadata": {},
     "outputs": [],
     "prompt_number": 19
    },
    {
     "cell_type": "code",
     "collapsed": false,
     "input": [
      "def get_xml_house(xml_file):\n",
      "    tree,root = get_tree(xml_file)\n",
      "    address = get_address(root)\n",
      "    house ={}\n",
      "    house['meta'] = get_meta(root)\n",
      "    house['meta']['dataid']=random.randint(100,9999)\n",
      "    house['interval_readings'] = (get_interval_block(root))\n",
      "    return house"
     ],
     "language": "python",
     "metadata": {},
     "outputs": [],
     "prompt_number": 21
    },
    {
     "cell_type": "code",
     "collapsed": false,
     "input": [
      "t = 'cec_electric_interval_data_Service 1_2012-07-25_to_2014-07-16.xml'\n",
      "xml_house = get_xml_house(t)"
     ],
     "language": "python",
     "metadata": {},
     "outputs": [],
     "prompt_number": 24
    },
    {
     "cell_type": "code",
     "collapsed": false,
     "input": [
      "trace = opda.get_trace_from_intermediate_xml(xml_house)"
     ],
     "language": "python",
     "metadata": {},
     "outputs": [],
     "prompt_number": 27
    },
    {
     "cell_type": "code",
     "collapsed": false,
     "input": [
      "trace.series"
     ],
     "language": "python",
     "metadata": {},
     "outputs": [
      {
       "metadata": {},
       "output_type": "pyout",
       "prompt_number": 29,
       "text": [
        "2012-07-26 00:00:00    0.036\n",
        "2012-07-26 00:30:00    0.029\n",
        "2012-07-26 01:00:00    0.034\n",
        "2012-07-26 01:30:00    0.047\n",
        "2012-07-26 02:00:00    0.043\n",
        "2012-07-26 02:30:00    0.027\n",
        "2012-07-26 03:00:00    0.028\n",
        "2012-07-26 03:30:00    0.047\n",
        "2012-07-26 04:00:00    0.045\n",
        "2012-07-26 04:30:00    0.032\n",
        "2012-07-26 05:00:00    0.032\n",
        "2012-07-26 05:30:00    0.030\n",
        "2012-07-26 06:00:00    0.040\n",
        "2012-07-26 06:30:00    0.043\n",
        "2012-07-26 07:00:00    0.043\n",
        "...\n",
        "2014-07-15 16:30:00    0.954\n",
        "2014-07-15 17:00:00    0.395\n",
        "2014-07-15 17:30:00    0.313\n",
        "2014-07-15 18:00:00    0.348\n",
        "2014-07-15 18:30:00    0.322\n",
        "2014-07-15 19:00:00    0.321\n",
        "2014-07-15 19:30:00    0.338\n",
        "2014-07-15 20:00:00    0.261\n",
        "2014-07-15 20:30:00    0.258\n",
        "2014-07-15 21:00:00    0.230\n",
        "2014-07-15 21:30:00    0.351\n",
        "2014-07-15 22:00:00    0.299\n",
        "2014-07-15 22:30:00    0.201\n",
        "2014-07-15 23:00:00    0.201\n",
        "2014-07-15 23:30:00    0.190\n",
        "Length: 33678"
       ]
      }
     ],
     "prompt_number": 29
    },
    {
     "cell_type": "code",
     "collapsed": false,
     "input": [],
     "language": "python",
     "metadata": {},
     "outputs": []
    }
   ],
   "metadata": {}
  }
 ]
}