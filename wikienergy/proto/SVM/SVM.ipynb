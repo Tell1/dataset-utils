{
 "metadata": {
  "name": "",
  "signature": "sha256:645b89d8cac86be80c041dbaa9aa682935b2c3c591ffdcd059640e645d6275aa"
 },
 "nbformat": 3,
 "nbformat_minor": 0,
 "worksheets": [
  {
   "cells": [
    {
     "cell_type": "code",
     "collapsed": false,
     "input": [
      "\n",
      "from sklearn import svm\n",
      "import pandas as pd\n",
      "import sys\n",
      "import pickle\n",
      "import os\n",
      "import numpy as np\n",
      "from sklearn.preprocessing import Imputer\n",
      "from sklearn import preprocessing\n",
      "sys.path.append('../../')\n",
      "import disaggregator.utils as utils\n",
      "import matplotlib.pyplot as plt\n",
      "import itertools\n",
      "from sklearn.decomposition import PCA\n",
      "import fold\n",
      "from disaggregator import appliance\n",
      "from disaggregator import evaluation_metrics as evm"
     ],
     "language": "python",
     "metadata": {},
     "outputs": [
      {
       "output_type": "stream",
       "stream": "stderr",
       "text": [
        "/Users/sabina/anaconda/lib/python2.7/site-packages/pandas/io/excel.py:626: UserWarning: Installed openpyxl is not supported at this time. Use >=1.6.1 and <2.0.0.\n",
        "  .format(openpyxl_compat.start_ver, openpyxl_compat.stop_ver))\n"
       ]
      }
     ],
     "prompt_number": 1
    },
    {
     "cell_type": "code",
     "collapsed": false,
     "input": [
      "reload(utils)\n",
      "reload(appliance)\n",
      "reload(fold)\n",
      "reload(evm)"
     ],
     "language": "python",
     "metadata": {},
     "outputs": [
      {
       "metadata": {},
       "output_type": "pyout",
       "prompt_number": 2,
       "text": [
        "<module 'disaggregator.evaluation_metrics' from '../../disaggregator/evaluation_metrics.pyc'>"
       ]
      }
     ],
     "prompt_number": 2
    },
    {
     "cell_type": "code",
     "collapsed": false,
     "input": [
      "air_traces = pickle.load(open(os.path.join('../../','data/air1_validated_05_2014.p'),'rb'))"
     ],
     "language": "python",
     "metadata": {},
     "outputs": [],
     "prompt_number": 3
    },
    {
     "cell_type": "code",
     "collapsed": false,
     "input": [
      "use_traces = pickle.load(open(os.path.join('../../','data/use_validated_05_2014.p'),'rb'))"
     ],
     "language": "python",
     "metadata": {},
     "outputs": [],
     "prompt_number": 4
    },
    {
     "cell_type": "code",
     "collapsed": false,
     "input": [
      "ev_traces = pickle.load((open(os.path.join('../../','data/ev_validated_01_2014.p'),'rb')))"
     ],
     "language": "python",
     "metadata": {},
     "outputs": [],
     "prompt_number": 4
    },
    {
     "cell_type": "code",
     "collapsed": false,
     "input": [
      "#drop nones from traces\n",
      "X_ev= [x for x in ev_traces if not (all(y is None for y in x.series))]\n",
      "X_air = [x for x in air_traces if not (all(y is None for y in x.series))]"
     ],
     "language": "python",
     "metadata": {},
     "outputs": [],
     "prompt_number": 5
    },
    {
     "cell_type": "code",
     "collapsed": false,
     "input": [
      "#split into days\n",
      "X_ev = [x.split_by('D') for x in X_ev]"
     ],
     "language": "python",
     "metadata": {},
     "outputs": [],
     "prompt_number": 10
    },
    {
     "cell_type": "code",
     "collapsed": false,
     "input": [
      "X_air = [x.split_by('D') for x in X_air]"
     ],
     "language": "python",
     "metadata": {},
     "outputs": [],
     "prompt_number": 11
    },
    {
     "cell_type": "code",
     "collapsed": false,
     "input": [
      "\n",
      "chain_ev = list(itertools.chain(*X_ev))\n",
      "chain_air = list(itertools.chain(*X_air))"
     ],
     "language": "python",
     "metadata": {},
     "outputs": [],
     "prompt_number": 37
    },
    {
     "cell_type": "code",
     "collapsed": false,
     "input": [
      "reload(fold)\n",
      "a,b,c,d= fold.folds(chain_air,chain_ev,5)"
     ],
     "language": "python",
     "metadata": {},
     "outputs": [],
     "prompt_number": 129
    },
    {
     "cell_type": "code",
     "collapsed": false,
     "input": [
      "#set up scaler\n",
      "imp = Imputer(missing_values='NaN', strategy='mean', axis=0)\n",
      "X_train = [x.series for x in a[0]]\n",
      "imp.fit(X_train)  \n",
      "new_X = imp.transform(X_train)\n",
      "scaler = preprocessing.StandardScaler().fit(new_X)"
     ],
     "language": "python",
     "metadata": {},
     "outputs": [],
     "prompt_number": 130
    },
    {
     "cell_type": "code",
     "collapsed": false,
     "input": [
      "#FIX ALL THE FOLDS FIRST - this makes way more sense to do it the other way but oh well for now\n",
      "#returns fixed version\n",
      "def fix(x_list):\n",
      "    list_return=[]\n",
      "    imp = Imputer(missing_values='NaN', strategy='mean', axis=0)\n",
      "    for i,train_x in enumerate(x_list):\n",
      "        X_train = [x.series for x in train_x]\n",
      "        imp.fit(X_train)  \n",
      "        new_X = imp.transform(X_train)\n",
      "        new_X = scaler.transform(new_X)\n",
      "        list_return.append(new_X)\n",
      "    return list_return"
     ],
     "language": "python",
     "metadata": {},
     "outputs": [],
     "prompt_number": 138
    },
    {
     "cell_type": "code",
     "collapsed": false,
     "input": [
      "#set up\n",
      "fixed_train = fix(a)\n",
      "#fixed_test = fix(c)"
     ],
     "language": "python",
     "metadata": {},
     "outputs": [],
     "prompt_number": 139
    },
    {
     "cell_type": "code",
     "collapsed": false,
     "input": [
      "fixed_test = fix(c)"
     ],
     "language": "python",
     "metadata": {},
     "outputs": [],
     "prompt_number": 141
    },
    {
     "cell_type": "code",
     "collapsed": false,
     "input": [
      "clf = svm.SVC(gamma = .1)"
     ],
     "language": "python",
     "metadata": {},
     "outputs": [],
     "prompt_number": 147
    },
    {
     "cell_type": "code",
     "collapsed": false,
     "input": [
      "clf.fit(fixed_train[0],b[0])"
     ],
     "language": "python",
     "metadata": {},
     "outputs": [
      {
       "metadata": {},
       "output_type": "pyout",
       "prompt_number": 71,
       "text": [
        "SVC(C=1.0, cache_size=200, class_weight=None, coef0=2, degree=3, gamma=0.1,\n",
        "  kernel='rbf', max_iter=-1, probability=False, random_state=None,\n",
        "  shrinking=True, tol=0.001, verbose=False)"
       ]
      }
     ],
     "prompt_number": 71
    },
    {
     "cell_type": "code",
     "collapsed": false,
     "input": [
      "predictions = clf.predict(fixed_test[0])"
     ],
     "language": "python",
     "metadata": {},
     "outputs": [],
     "prompt_number": 72
    },
    {
     "cell_type": "code",
     "collapsed": false,
     "input": [
      "stats = evm.get_positive_negative_stats_neg(d[0], predictions)"
     ],
     "language": "python",
     "metadata": {},
     "outputs": [],
     "prompt_number": 109
    },
    {
     "cell_type": "code",
     "collapsed": false,
     "input": [
      "print(evm.get_table_of_confusion(stats))"
     ],
     "language": "python",
     "metadata": {},
     "outputs": [
      {
       "output_type": "stream",
       "stream": "stdout",
       "text": [
        "+----------+------------+------------+\n",
        "|          |   Positive |   Negative |\n",
        "+==========+============+============+\n",
        "| Positive |        290 |        171 |\n",
        "+----------+------------+------------+\n",
        "| Negative |         82 |        945 |\n",
        "+----------+------------+------------+\n"
       ]
      }
     ],
     "prompt_number": 110
    },
    {
     "cell_type": "code",
     "collapsed": false,
     "input": [
      "print(evm.get_accuracy(stats))\n",
      "print(evm.get_f1_score(stats))"
     ],
     "language": "python",
     "metadata": {},
     "outputs": [
      {
       "output_type": "stream",
       "stream": "stdout",
       "text": [
        "0.82997311828\n",
        "0.696278511405\n"
       ]
      }
     ],
     "prompt_number": 112
    },
    {
     "cell_type": "code",
     "collapsed": false,
     "input": [
      "clf.fit(fixed_train[0],b[0])"
     ],
     "language": "python",
     "metadata": {},
     "outputs": [
      {
       "metadata": {},
       "output_type": "pyout",
       "prompt_number": 115,
       "text": [
        "SVC(C=1.0, cache_size=200, class_weight=None, coef0=2, degree=3, gamma=0.1,\n",
        "  kernel='rbf', max_iter=-1, probability=False, random_state=None,\n",
        "  shrinking=True, tol=0.001, verbose=False)"
       ]
      }
     ],
     "prompt_number": 115
    },
    {
     "cell_type": "code",
     "collapsed": false,
     "input": [
      "#cross validate!!!\n",
      "def test_with_diff_params(g):\n",
      "    clf = svm.SVC(gamma = g)\n",
      "    errors = []\n",
      "    stats_all = []\n",
      "    for i in range(5):\n",
      "        clf.fit(fixed_train[i],b[i])\n",
      "        predictions = clf.predict(fixed_test[i])\n",
      "        stats = evm.get_positive_negative_stats_neg(d[i], predictions)\n",
      "        errors.append(1-float(evm.get_accuracy(stats)))\n",
      "        stats_all.append(stats) \n",
      "    return errors,stats_all"
     ],
     "language": "python",
     "metadata": {},
     "outputs": [],
     "prompt_number": 151
    },
    {
     "cell_type": "code",
     "collapsed": false,
     "input": [
      "st = {}\n",
      "err = {}\n"
     ],
     "language": "python",
     "metadata": {},
     "outputs": [],
     "prompt_number": 148
    },
    {
     "cell_type": "code",
     "collapsed": false,
     "input": [
      "for gam in range(1,11,1):\n",
      "    errs,st_all = test_with_diff_params(float(gam)/14000)\n",
      "    st[gam]=st_all\n",
      "    err[gam]=errs"
     ],
     "language": "python",
     "metadata": {},
     "outputs": [],
     "prompt_number": 178
    },
    {
     "cell_type": "code",
     "collapsed": false,
     "input": [
      "for e in err.values():\n",
      "    print np.array(e).mean()\n",
      "    "
     ],
     "language": "python",
     "metadata": {},
     "outputs": [
      {
       "output_type": "stream",
       "stream": "stdout",
       "text": [
        "0.146774193548\n",
        "0.131720430108\n",
        "0.124327956989\n",
        "0.11935483871\n",
        "0.116532258065\n",
        "0.114247311828\n",
        "0.112903225806\n",
        "0.1125\n",
        "0.111962365591\n",
        "0.110349462366\n"
       ]
      }
     ],
     "prompt_number": 177
    }
   ],
   "metadata": {}
  }
 ]
}