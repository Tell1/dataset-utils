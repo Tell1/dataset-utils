{
 "metadata": {
  "name": "",
  "signature": "sha256:f28bfe0d41e507f149dd8b42fc71c56f040b7521692c64ad57f7375cbfeef9cd"
 },
 "nbformat": 3,
 "nbformat_minor": 0,
 "worksheets": [
  {
   "cells": [
    {
     "cell_type": "code",
     "collapsed": false,
     "input": [
      "\n",
      "from sklearn import svm\n",
      "import pandas as pd\n",
      "import sys\n",
      "import pickle\n",
      "import os\n",
      "import numpy as np\n",
      "from sklearn.preprocessing import Imputer\n",
      "from sklearn import preprocessing\n",
      "sys.path.append('../../')\n",
      "import disaggregator.utils as utils\n",
      "import matplotlib.pyplot as plt\n",
      "import itertools\n",
      "from sklearn.decomposition import PCA\n",
      "import fold\n",
      "from disaggregator import appliance\n",
      "from disaggregator import evaluation_metrics as evm\n",
      "import disaggregator as da\n",
      "from scipy.interpolate import interp1d"
     ],
     "language": "python",
     "metadata": {},
     "outputs": [
      {
       "output_type": "stream",
       "stream": "stderr",
       "text": [
        "/Users/sabina/anaconda/lib/python2.7/site-packages/pandas/io/excel.py:626: UserWarning: Installed openpyxl is not supported at this time. Use >=1.6.1 and <2.0.0.\n",
        "  .format(openpyxl_compat.start_ver, openpyxl_compat.stop_ver))\n"
       ]
      }
     ],
     "prompt_number": 2
    },
    {
     "cell_type": "code",
     "collapsed": false,
     "input": [
      "reload(utils)\n",
      "reload(appliance)\n",
      "reload(fold)\n",
      "reload(evm)"
     ],
     "language": "python",
     "metadata": {},
     "outputs": [
      {
       "metadata": {},
       "output_type": "pyout",
       "prompt_number": 3,
       "text": [
        "<module 'disaggregator.evaluation_metrics' from '../../disaggregator/evaluation_metrics.pyc'>"
       ]
      }
     ],
     "prompt_number": 3
    },
    {
     "cell_type": "code",
     "collapsed": false,
     "input": [
      "use_traces = pickle.load(open(os.path.join('../../','data/use_validated_05_2014.p'),'rb'))"
     ],
     "language": "python",
     "metadata": {},
     "outputs": [],
     "prompt_number": 5
    },
    {
     "cell_type": "code",
     "collapsed": false,
     "input": [
      "ev_traces = pickle.load((open(os.path.join('../../','data/car1_validated_05_2014.p'),'rb')))"
     ],
     "language": "python",
     "metadata": {},
     "outputs": [],
     "prompt_number": 6
    },
    {
     "cell_type": "code",
     "collapsed": false,
     "input": [
      "#test = [utils.split_trace_into_rate(x,'D') for x in ev_traces]"
     ],
     "language": "python",
     "metadata": {},
     "outputs": [],
     "prompt_number": 36
    },
    {
     "cell_type": "code",
     "collapsed": false,
     "input": [
      "len(use_traces)"
     ],
     "language": "python",
     "metadata": {},
     "outputs": [
      {
       "metadata": {},
       "output_type": "pyout",
       "prompt_number": 7,
       "text": [
        "200"
       ]
      }
     ],
     "prompt_number": 7
    },
    {
     "cell_type": "code",
     "collapsed": false,
     "input": [
      "len(ev_traces)"
     ],
     "language": "python",
     "metadata": {},
     "outputs": [
      {
       "metadata": {},
       "output_type": "pyout",
       "prompt_number": 8,
       "text": [
        "47"
       ]
      }
     ],
     "prompt_number": 8
    },
    {
     "cell_type": "code",
     "collapsed": false,
     "input": [
      "car_ids = [car.metadata['dataid'] for car in ev_traces]"
     ],
     "language": "python",
     "metadata": {},
     "outputs": [],
     "prompt_number": 9
    },
    {
     "cell_type": "code",
     "collapsed": false,
     "input": [
      "all_ids = [use.metadata['dataid'] for use in use_traces]"
     ],
     "language": "python",
     "metadata": {},
     "outputs": [],
     "prompt_number": 13
    },
    {
     "cell_type": "code",
     "collapsed": false,
     "input": [
      "X_cars = []\n",
      "X_without_cars = []\n",
      "for x in use_traces:\n",
      "    if x.metadata['dataid'] in car_ids:\n",
      "        X_cars.append(x)\n",
      "    else:\n",
      "        X_without_cars.append(x)"
     ],
     "language": "python",
     "metadata": {},
     "outputs": [],
     "prompt_number": 10
    },
    {
     "cell_type": "code",
     "collapsed": false,
     "input": [
      "equal_class_size = [x for x in X_without_cars[:47]]"
     ],
     "language": "python",
     "metadata": {},
     "outputs": [],
     "prompt_number": 11
    },
    {
     "cell_type": "code",
     "collapsed": false,
     "input": [
      "#drop nones using resample\n",
      "class_cars = [x.resample('1T') for x in X_cars]\n",
      "class_no_cars = [x.resample('1T') for x in equal_class_size] "
     ],
     "language": "python",
     "metadata": {},
     "outputs": [],
     "prompt_number": 65
    },
    {
     "cell_type": "code",
     "collapsed": false,
     "input": [
      "#split into days\n",
      "class_cars = [x.split_by('D') for x in class_cars]"
     ],
     "language": "python",
     "metadata": {},
     "outputs": [],
     "prompt_number": 66
    },
    {
     "cell_type": "code",
     "collapsed": false,
     "input": [
      "class_no_cars = [x.split_by('D') for x in class_no_cars]"
     ],
     "language": "python",
     "metadata": {},
     "outputs": [],
     "prompt_number": 67
    },
    {
     "cell_type": "code",
     "collapsed": false,
     "input": [
      "class_cars = [car[:30] for car in class_cars]\n",
      "class_no_cars = [house[:30] for house in class_no_cars] "
     ],
     "language": "python",
     "metadata": {},
     "outputs": [],
     "prompt_number": 68
    },
    {
     "cell_type": "code",
     "collapsed": false,
     "input": [
      "indices = []\n",
      "for hidx, home in enumerate(class_cars):\n",
      "    for didx, day in enumerate(home):\n",
      "        if len(day.series)!=1440:\n",
      "            \n",
      "            indices.append([hidx,didx])"
     ],
     "language": "python",
     "metadata": {},
     "outputs": [],
     "prompt_number": 69
    },
    {
     "cell_type": "code",
     "collapsed": false,
     "input": [
      "def fix_one(inds):\n",
      "    home_index=inds[0]\n",
      "    day_index=inds[1]\n",
      "    day = class_cars[home_index][day_index].series.index[0].day\n",
      "    month = class_cars[home_index][day_index].series.index[0].month\n",
      "    year = class_cars[home_index][day_index].series.index[0].year\n",
      "    date = '{}/{}/{}'.format(month,day,year)\n",
      "    print date\n",
      "    rng = pd.date_range(date, periods = 1440, freq='T')\n",
      "    temp = class_cars[home_index][day_index].series.reindex(rng)\n",
      "    temp = temp.astype(float)\n",
      "    temp = temp.interpolate()\n",
      "    temp_app = appliance.ApplianceTrace(temp,class_cars[home_index][day_index].metadata)\n",
      "    return temp_app "
     ],
     "language": "python",
     "metadata": {},
     "outputs": [],
     "prompt_number": 125
    },
    {
     "cell_type": "code",
     "collapsed": false,
     "input": [
      "for i in indices:\n",
      "    class_cars[i[0]][i[1]]=fix(i)"
     ],
     "language": "python",
     "metadata": {},
     "outputs": [],
     "prompt_number": 71
    },
    {
     "cell_type": "code",
     "collapsed": false,
     "input": [
      "indices_2 = []\n",
      "for hidx, home in enumerate(class_no_cars):\n",
      "    for didx, day in enumerate(home):\n",
      "        if len(day.series)!=1440:\n",
      "            indices.append([hidx,didx])"
     ],
     "language": "python",
     "metadata": {},
     "outputs": [],
     "prompt_number": 29
    },
    {
     "cell_type": "code",
     "collapsed": false,
     "input": [
      "for i in indices_2:\n",
      "    class_no_cars[i[0]][i[1]]=fix(i)\n",
      "    "
     ],
     "language": "python",
     "metadata": {},
     "outputs": [],
     "prompt_number": 31
    },
    {
     "cell_type": "code",
     "collapsed": false,
     "input": [
      "for home in class_cars:\n",
      "    for day in home:\n",
      "        if len(day.series)!=1440:\n",
      "            print 'oops'"
     ],
     "language": "python",
     "metadata": {},
     "outputs": [],
     "prompt_number": 74
    },
    {
     "cell_type": "code",
     "collapsed": false,
     "input": [
      "chain_class_cars = list(itertools.chain(*new_cars))\n",
      "chain_class_no_cars = list(itertools.chain(*new_no_cars))"
     ],
     "language": "python",
     "metadata": {},
     "outputs": [],
     "prompt_number": 87
    },
    {
     "cell_type": "code",
     "collapsed": false,
     "input": [
      "for i in chain_class_cars:\n",
      "    if len(i.series)!=1440:\n",
      "        print 'help'"
     ],
     "language": "python",
     "metadata": {},
     "outputs": [],
     "prompt_number": 104
    },
    {
     "cell_type": "code",
     "collapsed": false,
     "input": [
      "new_cars = []\n",
      "for i in class_cars:\n",
      "    if len(i)==30:\n",
      "        new_cars.append(i)"
     ],
     "language": "python",
     "metadata": {},
     "outputs": [],
     "prompt_number": 79
    },
    {
     "cell_type": "code",
     "collapsed": false,
     "input": [
      "new_no_cars = class_no_cars[:-4]"
     ],
     "language": "python",
     "metadata": {},
     "outputs": [],
     "prompt_number": 85
    },
    {
     "cell_type": "code",
     "collapsed": false,
     "input": [
      "#set up scaler\n",
      "X_car_train = [x.series for x in chain_class_cars]\n",
      "scaler = preprocessing.StandardScaler().fit(X_car_train)"
     ],
     "language": "python",
     "metadata": {},
     "outputs": [
      {
       "output_type": "stream",
       "stream": "stderr",
       "text": [
        "/Users/sabina/anaconda/lib/python2.7/site-packages/sklearn/utils/validation.py:278: UserWarning: StandardScaler assumes floating point values as input, got object\n",
        "  \"got %s\" % (estimator, X.dtype))\n"
       ]
      }
     ],
     "prompt_number": 90
    },
    {
     "cell_type": "code",
     "collapsed": false,
     "input": [
      "reload(fold)\n",
      "a,b,c,d= fold.folds(chain_class_cars,chain_class_no_cars,5)"
     ],
     "language": "python",
     "metadata": {},
     "outputs": [],
     "prompt_number": 113
    },
    {
     "cell_type": "code",
     "collapsed": false,
     "input": [
      "minu =0\n",
      "plus = 0 \n",
      "for i in b[0]:\n",
      "    if i==-1:\n",
      "        minu=minu+1\n",
      "    else:\n",
      "        plus=plus+1"
     ],
     "language": "python",
     "metadata": {},
     "outputs": [],
     "prompt_number": 163
    },
    {
     "cell_type": "code",
     "collapsed": false,
     "input": [
      "#FIX ALL THE FOLDS FIRST - this makes way more sense to do it the other way but oh well for now\n",
      "#returns fixed version\n",
      "def fix(x_list):\n",
      "    list_return=[]\n",
      "    #imp = Imputer(missing_values='NaN', strategy='mean', axis=0)\n",
      "    for i,train_x in enumerate(x_list):\n",
      "        X_train = [x.series for x in train_x]\n",
      "        #imp.fit(X_train)  \n",
      "        #new_X = imp.transform(X_train)\n",
      "        new_X = scaler.transform(X_train)\n",
      "        list_return.append(new_X)\n",
      "    return list_return"
     ],
     "language": "python",
     "metadata": {},
     "outputs": [],
     "prompt_number": 121
    },
    {
     "cell_type": "code",
     "collapsed": false,
     "input": [
      "#X = list(itertools.chain(*X_air))+list(itertools.chain(*X_ev))"
     ],
     "language": "python",
     "metadata": {},
     "outputs": [],
     "prompt_number": 127
    },
    {
     "cell_type": "code",
     "collapsed": false,
     "input": [
      "#set up\n",
      "fixed_train = fix(a)\n",
      "#fixed_test = fix(c)"
     ],
     "language": "python",
     "metadata": {},
     "outputs": [],
     "prompt_number": 144
    },
    {
     "cell_type": "code",
     "collapsed": false,
     "input": [
      "fixed_test = fix(c)"
     ],
     "language": "python",
     "metadata": {},
     "outputs": [],
     "prompt_number": 148
    },
    {
     "cell_type": "code",
     "collapsed": false,
     "input": [
      "clf = svm.SVC(gamma = .1)"
     ],
     "language": "python",
     "metadata": {},
     "outputs": [],
     "prompt_number": 203
    },
    {
     "cell_type": "code",
     "collapsed": false,
     "input": [
      "clf.fit(fixed_train[0],b[0])"
     ],
     "language": "python",
     "metadata": {},
     "outputs": [
      {
       "metadata": {},
       "output_type": "pyout",
       "prompt_number": 204,
       "text": [
        "SVC(C=1.0, cache_size=200, class_weight=None, coef0=0.0, degree=3, gamma=0.1,\n",
        "  kernel='rbf', max_iter=-1, probability=False, random_state=None,\n",
        "  shrinking=True, tol=0.001, verbose=False)"
       ]
      }
     ],
     "prompt_number": 204
    },
    {
     "cell_type": "code",
     "collapsed": false,
     "input": [
      "predictions = clf.predict(fixed_test[0])"
     ],
     "language": "python",
     "metadata": {},
     "outputs": [],
     "prompt_number": 205
    },
    {
     "cell_type": "code",
     "collapsed": false,
     "input": [
      "stats = evm.get_positive_negative_stats_neg(d[0], predictions)"
     ],
     "language": "python",
     "metadata": {},
     "outputs": [],
     "prompt_number": 206
    },
    {
     "cell_type": "code",
     "collapsed": false,
     "input": [
      "print(evm.get_table_of_confusion(stats))"
     ],
     "language": "python",
     "metadata": {},
     "outputs": [
      {
       "output_type": "stream",
       "stream": "stdout",
       "text": [
        "+----------+------------+------------+\n",
        "|          |   Positive |   Negative |\n",
        "+==========+============+============+\n",
        "| Positive |         20 |         22 |\n",
        "+----------+------------+------------+\n",
        "| Negative |        238 |        236 |\n",
        "+----------+------------+------------+\n"
       ]
      }
     ],
     "prompt_number": 207
    },
    {
     "cell_type": "code",
     "collapsed": false,
     "input": [
      "print(evm.get_accuracy(stats))\n",
      "print(evm.get_f1_score(stats))"
     ],
     "language": "python",
     "metadata": {},
     "outputs": [
      {
       "output_type": "stream",
       "stream": "stdout",
       "text": [
        "0.496124031008\n",
        "0.133333333333\n"
       ]
      }
     ],
     "prompt_number": 208
    },
    {
     "cell_type": "code",
     "collapsed": false,
     "input": [
      "clf.fit(fixed_train[0],b[0])"
     ],
     "language": "python",
     "metadata": {},
     "outputs": [
      {
       "metadata": {},
       "output_type": "pyout",
       "prompt_number": 115,
       "text": [
        "SVC(C=1.0, cache_size=200, class_weight=None, coef0=2, degree=3, gamma=0.1,\n",
        "  kernel='rbf', max_iter=-1, probability=False, random_state=None,\n",
        "  shrinking=True, tol=0.001, verbose=False)"
       ]
      }
     ],
     "prompt_number": 115
    },
    {
     "cell_type": "code",
     "collapsed": false,
     "input": [
      "#cross validate!!!\n",
      "def test_with_diff_params(g):\n",
      "    clf = svm.SVC(gamma = g)\n",
      "    errors = []\n",
      "    stats_all = []\n",
      "    for i in range(5):\n",
      "        clf.fit(fixed_train[i],b[i])\n",
      "        predictions = clf.predict(fixed_test[i])\n",
      "        stats = evm.get_positive_negative_stats_neg(d[i], predictions)\n",
      "        errors.append(1-float(evm.get_accuracy(stats)))\n",
      "        stats_all.append(stats) \n",
      "    return errors,stats_all"
     ],
     "language": "python",
     "metadata": {},
     "outputs": [],
     "prompt_number": 151
    },
    {
     "cell_type": "code",
     "collapsed": false,
     "input": [
      "st = {}\n",
      "err = {}\n"
     ],
     "language": "python",
     "metadata": {},
     "outputs": [],
     "prompt_number": 148
    },
    {
     "cell_type": "code",
     "collapsed": false,
     "input": [
      "for gam in range(1,11,1):\n",
      "    errs,st_all = test_with_diff_params(float(gam)/14000)\n",
      "    st[gam]=st_all\n",
      "    err[gam]=errs"
     ],
     "language": "python",
     "metadata": {},
     "outputs": [],
     "prompt_number": 178
    },
    {
     "cell_type": "code",
     "collapsed": false,
     "input": [
      "for e in err.values():\n",
      "    print np.array(e).mean()   "
     ],
     "language": "python",
     "metadata": {},
     "outputs": [
      {
       "output_type": "stream",
       "stream": "stdout",
       "text": [
        "0.146774193548\n",
        "0.131720430108\n",
        "0.124327956989\n",
        "0.11935483871\n",
        "0.116532258065\n",
        "0.114247311828\n",
        "0.112903225806\n",
        "0.1125\n",
        "0.111962365591\n",
        "0.110349462366\n"
       ]
      }
     ],
     "prompt_number": 177
    }
   ],
   "metadata": {}
  }
 ]
}