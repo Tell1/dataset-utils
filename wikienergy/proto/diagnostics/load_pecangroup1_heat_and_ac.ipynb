{
 "metadata": {
  "name": "",
  "signature": "sha256:4bc20bdb61559f13da35309c1f5aef0bdd89934d31a11c182b67f44d825caf12"
 },
 "nbformat": 3,
 "nbformat_minor": 0,
 "worksheets": [
  {
   "cells": [
    {
     "cell_type": "markdown",
     "metadata": {},
     "source": [
      "#Loading and analyzing pecan street data\n",
      "\n",
      "####[Contains sensitive database access info]"
     ]
    },
    {
     "cell_type": "code",
     "collapsed": false,
     "input": [
      "%matplotlib inline\n",
      "\n",
      "import datetime\n",
      "import pandas as pd\n",
      "import sqlalchemy as sa\n",
      "from sqlalchemy import *\n",
      "import pandas as pd\n",
      "import os\n",
      "import numpy as np\n",
      "import operator\n",
      "import math\n",
      "import random\n",
      "from pylab import *\n",
      "import json \n",
      "import matplotlib \n",
      "import matplotlib.pyplot as pyplt"
     ],
     "language": "python",
     "metadata": {},
     "outputs": [],
     "prompt_number": 6
    },
    {
     "cell_type": "markdown",
     "metadata": {},
     "source": [
      "Month accessors\n"
     ]
    },
    {
     "cell_type": "code",
     "collapsed": false,
     "input": [
      "##for accessing all months\n",
      "months = ['01','02','03','04','05','06','07','08','09','10','11']\n",
      "days  = {'01':31,'02':28,'03':31,'04':30,'05':31,'06':30,'07':31,'08':31,'09':30,'10':31,'11':30}"
     ],
     "language": "python",
     "metadata": {},
     "outputs": [],
     "prompt_number": 3
    },
    {
     "cell_type": "markdown",
     "metadata": {},
     "source": [
      "***Sensitive db info below!!!***"
     ]
    },
    {
     "cell_type": "code",
     "collapsed": false,
     "input": [
      "##engine information\n",
      "user_name = 'USERNAME'\n",
      "pw='PASSWORD'\n",
      "host = \"db.wiki-energy.org\"\n",
      "port = \"5432\"\n",
      "db = \"postgres\""
     ],
     "language": "python",
     "metadata": {},
     "outputs": [],
     "prompt_number": 7
    },
    {
     "cell_type": "markdown",
     "metadata": {},
     "source": [
      "Function for getting the all data for group 1 houses for a certain month (ex: month=\"01\" is jan).\n",
      "returns an array of dataframes with all data for 25 houses"
     ]
    },
    {
     "cell_type": "code",
     "collapsed": false,
     "input": [
      "def query_month(month):\n",
      "\n",
      "    # exectute query\n",
      "    query = \"\"\"select * from \"PecanStreet_CuratedSets\".group1_disaggregated_2013_\"\"\"+month\n",
      "    url = \"postgresql\"+\"://\"+user_name+\":\"+pw+\"@\"+host+\":\"+port+\"/\"+db\n",
      "    eng = create_engine(url)\n",
      "    eng.echo=True\n",
      "    eng_object=eng.execute(query)\n",
      "    \n",
      "    # get data\n",
      "    df = pd.DataFrame.from_records(eng_object.fetchall())\n",
      "    df.columns = eng_object.keys()\n",
      "    \n",
      "    # create a dic\n",
      "    dfs_dict = {}\n",
      "    dfs=df.groupby('dataid')\n",
      "    for df in dfs:\n",
      "        dfs_dict[df[0]]=df[1].drop('dataid',1)\n",
      "    \n",
      "    return dfs_dict"
     ],
     "language": "python",
     "metadata": {},
     "outputs": [],
     "prompt_number": 8
    },
    {
     "cell_type": "code",
     "collapsed": false,
     "input": [
      "#example, takes a couple of minutes to run. fetches january data.\n",
      "\n",
      "dataframes = query_month(\"01\")"
     ],
     "language": "python",
     "metadata": {},
     "outputs": [
      {
       "output_type": "stream",
       "stream": "stdout",
       "text": [
        "2014-06-25 11:20:38,683 INFO sqlalchemy.engine.base.Engine select version()\n"
       ]
      },
      {
       "output_type": "stream",
       "stream": "stderr",
       "text": [
        "INFO:sqlalchemy.engine.base.Engine:select version()\n"
       ]
      },
      {
       "output_type": "stream",
       "stream": "stdout",
       "text": [
        "2014-06-25 11:20:38,685 INFO sqlalchemy.engine.base.Engine {}\n"
       ]
      },
      {
       "output_type": "stream",
       "stream": "stderr",
       "text": [
        "INFO:sqlalchemy.engine.base.Engine:{}\n"
       ]
      },
      {
       "output_type": "stream",
       "stream": "stdout",
       "text": [
        "2014-06-25 11:20:38,776 INFO sqlalchemy.engine.base.Engine select current_schema()\n"
       ]
      },
      {
       "output_type": "stream",
       "stream": "stderr",
       "text": [
        "INFO:sqlalchemy.engine.base.Engine:select current_schema()\n"
       ]
      },
      {
       "output_type": "stream",
       "stream": "stdout",
       "text": [
        "2014-06-25 11:20:38,778 INFO sqlalchemy.engine.base.Engine {}\n"
       ]
      },
      {
       "output_type": "stream",
       "stream": "stderr",
       "text": [
        "INFO:sqlalchemy.engine.base.Engine:{}\n"
       ]
      },
      {
       "output_type": "stream",
       "stream": "stdout",
       "text": [
        "2014-06-25 11:20:38,873 INFO sqlalchemy.engine.base.Engine SELECT CAST('test plain returns' AS VARCHAR(60)) AS anon_1\n"
       ]
      },
      {
       "output_type": "stream",
       "stream": "stderr",
       "text": [
        "INFO:sqlalchemy.engine.base.Engine:SELECT CAST('test plain returns' AS VARCHAR(60)) AS anon_1\n"
       ]
      },
      {
       "output_type": "stream",
       "stream": "stdout",
       "text": [
        "2014-06-25 11:20:38,874 INFO sqlalchemy.engine.base.Engine {}\n"
       ]
      },
      {
       "output_type": "stream",
       "stream": "stderr",
       "text": [
        "INFO:sqlalchemy.engine.base.Engine:{}\n"
       ]
      },
      {
       "output_type": "stream",
       "stream": "stdout",
       "text": [
        "2014-06-25 11:20:38,925 INFO sqlalchemy.engine.base.Engine SELECT CAST('test unicode returns' AS VARCHAR(60)) AS anon_1\n"
       ]
      },
      {
       "output_type": "stream",
       "stream": "stderr",
       "text": [
        "INFO:sqlalchemy.engine.base.Engine:SELECT CAST('test unicode returns' AS VARCHAR(60)) AS anon_1\n"
       ]
      },
      {
       "output_type": "stream",
       "stream": "stdout",
       "text": [
        "2014-06-25 11:20:38,927 INFO sqlalchemy.engine.base.Engine {}\n"
       ]
      },
      {
       "output_type": "stream",
       "stream": "stderr",
       "text": [
        "INFO:sqlalchemy.engine.base.Engine:{}\n"
       ]
      },
      {
       "output_type": "stream",
       "stream": "stdout",
       "text": [
        "2014-06-25 11:20:39,062 INFO sqlalchemy.engine.base.Engine show standard_conforming_strings\n"
       ]
      },
      {
       "output_type": "stream",
       "stream": "stderr",
       "text": [
        "INFO:sqlalchemy.engine.base.Engine:show standard_conforming_strings\n"
       ]
      },
      {
       "output_type": "stream",
       "stream": "stdout",
       "text": [
        "2014-06-25 11:20:39,063 INFO sqlalchemy.engine.base.Engine {}\n"
       ]
      },
      {
       "output_type": "stream",
       "stream": "stderr",
       "text": [
        "INFO:sqlalchemy.engine.base.Engine:{}\n"
       ]
      },
      {
       "output_type": "stream",
       "stream": "stdout",
       "text": [
        "2014-06-25 11:20:39,156 INFO sqlalchemy.engine.base.Engine select * from \"PecanStreet_CuratedSets\".group1_disaggregated_2013_01\n"
       ]
      },
      {
       "output_type": "stream",
       "stream": "stderr",
       "text": [
        "INFO:sqlalchemy.engine.base.Engine:select * from \"PecanStreet_CuratedSets\".group1_disaggregated_2013_01\n"
       ]
      },
      {
       "output_type": "stream",
       "stream": "stdout",
       "text": [
        "2014-06-25 11:20:39,158 INFO sqlalchemy.engine.base.Engine {}\n"
       ]
      },
      {
       "output_type": "stream",
       "stream": "stderr",
       "text": [
        "INFO:sqlalchemy.engine.base.Engine:{}\n"
       ]
      },
      {
       "metadata": {},
       "output_type": "pyout",
       "prompt_number": 11,
       "text": [
        "{936: <class 'pandas.core.frame.DataFrame'>\n",
        " Int64Index: 2976 entries, 59520 to 62495\n",
        " Data columns (total 73 columns):\n",
        " id                      2976  non-null values\n",
        " utc_15min               2976  non-null values\n",
        " air1                    2976  non-null values\n",
        " air2                    2976  non-null values\n",
        " air3                    2976  non-null values\n",
        " airwindowunit1          2976  non-null values\n",
        " aquarium1               2976  non-null values\n",
        " bathroom1               2976  non-null values\n",
        " bathroom2               2976  non-null values\n",
        " bedroom1                2976  non-null values\n",
        " bedroom2                2976  non-null values\n",
        " bedroom3                2976  non-null values\n",
        " bedroom4                2976  non-null values\n",
        " bedroom5                2976  non-null values\n",
        " car1                    0  non-null values\n",
        " clotheswasher1          2976  non-null values\n",
        " clotheswasher_dryg1     2976  non-null values\n",
        " diningroom1             2976  non-null values\n",
        " diningroom2             2976  non-null values\n",
        " dishwasher1             2976  non-null values\n",
        " disposal1               2976  non-null values\n",
        " drye1                   2976  non-null values\n",
        " dryg1                   2976  non-null values\n",
        " freezer1                2976  non-null values\n",
        " furnace1                2976  non-null values\n",
        " furnace2                2976  non-null values\n",
        " garage1                 2976  non-null values\n",
        " garage2                 2976  non-null values\n",
        " heater1                 2976  non-null values\n",
        " housefan1               2976  non-null values\n",
        " icemaker1               2976  non-null values\n",
        " jacuzzi1                2976  non-null values\n",
        " kitchen1                2976  non-null values\n",
        " kitchen2                2976  non-null values\n",
        " kitchenapp1             2976  non-null values\n",
        " kitchenapp2             2976  non-null values\n",
        " lights_plugs1           2976  non-null values\n",
        " lights_plugs2           2976  non-null values\n",
        " lights_plugs3           2976  non-null values\n",
        " lights_plugs4           2976  non-null values\n",
        " lights_plugs5           2976  non-null values\n",
        " lights_plugs6           2976  non-null values\n",
        " livingroom1             2976  non-null values\n",
        " livingroom2             2976  non-null values\n",
        " microwave1              2976  non-null values\n",
        " office1                 2976  non-null values\n",
        " outsidelights_plugs1    2976  non-null values\n",
        " outsidelights_plugs2    2976  non-null values\n",
        " oven1                   2976  non-null values\n",
        " oven2                   2976  non-null values\n",
        " pool1                   2976  non-null values\n",
        " pool2                   2976  non-null values\n",
        " poollight1              2976  non-null values\n",
        " poolpump1               2976  non-null values\n",
        " pump1                   2976  non-null values\n",
        " range1                  2976  non-null values\n",
        " refrigerator1           2976  non-null values\n",
        " refrigerator2           2976  non-null values\n",
        " security1               2976  non-null values\n",
        " shed1                   2976  non-null values\n",
        " sprinkler1              2976  non-null values\n",
        " subpanel1               2976  non-null values\n",
        " subpanel2               2976  non-null values\n",
        " unknown1                2976  non-null values\n",
        " unknown2                2976  non-null values\n",
        " unknown3                2976  non-null values\n",
        " unknown4                2976  non-null values\n",
        " use                     2976  non-null values\n",
        " utilityroom1            2976  non-null values\n",
        " venthood1               2976  non-null values\n",
        " waterheater1            2976  non-null values\n",
        " waterheater2            2976  non-null values\n",
        " winecooler1             2976  non-null values\n",
        " dtypes: int64(1), object(72), 1334: <class 'pandas.core.frame.DataFrame'>\n",
        " Int64Index: 2976 entries, 19475 to 29759\n",
        " Data columns (total 73 columns):\n",
        " id                      2976  non-null values\n",
        " utc_15min               2976  non-null values\n",
        " air1                    2976  non-null values\n",
        " air2                    2976  non-null values\n",
        " air3                    2976  non-null values\n",
        " airwindowunit1          2976  non-null values\n",
        " aquarium1               2976  non-null values\n",
        " bathroom1               2976  non-null values\n",
        " bathroom2               2976  non-null values\n",
        " bedroom1                2976  non-null values\n",
        " bedroom2                2976  non-null values\n",
        " bedroom3                2976  non-null values\n",
        " bedroom4                2976  non-null values\n",
        " bedroom5                2976  non-null values\n",
        " car1                    0  non-null values\n",
        " clotheswasher1          2976  non-null values\n",
        " clotheswasher_dryg1     2976  non-null values\n",
        " diningroom1             2976  non-null values\n",
        " diningroom2             2976  non-null values\n",
        " dishwasher1             2976  non-null values\n",
        " disposal1               2976  non-null values\n",
        " drye1                   2976  non-null values\n",
        " dryg1                   2976  non-null values\n",
        " freezer1                2976  non-null values\n",
        " furnace1                2976  non-null values\n",
        " furnace2                2976  non-null values\n",
        " garage1                 2976  non-null values\n",
        " garage2                 2976  non-null values\n",
        " heater1                 2976  non-null values\n",
        " housefan1               2976  non-null values\n",
        " icemaker1               2976  non-null values\n",
        " jacuzzi1                2976  non-null values\n",
        " kitchen1                2976  non-null values\n",
        " kitchen2                2976  non-null values\n",
        " kitchenapp1             2976  non-null values\n",
        " kitchenapp2             2976  non-null values\n",
        " lights_plugs1           2976  non-null values\n",
        " lights_plugs2           2976  non-null values\n",
        " lights_plugs3           2976  non-null values\n",
        " lights_plugs4           2976  non-null values\n",
        " lights_plugs5           2976  non-null values\n",
        " lights_plugs6           2976  non-null values\n",
        " livingroom1             2976  non-null values\n",
        " livingroom2             2976  non-null values\n",
        " microwave1              2976  non-null values\n",
        " office1                 2976  non-null values\n",
        " outsidelights_plugs1    2976  non-null values\n",
        " outsidelights_plugs2    2976  non-null values\n",
        " oven1                   2976  non-null values\n",
        " oven2                   2976  non-null values\n",
        " pool1                   2976  non-null values\n",
        " pool2                   2976  non-null values\n",
        " poollight1              2976  non-null values\n",
        " poolpump1               2976  non-null values\n",
        " pump1                   2976  non-null values\n",
        " range1                  2976  non-null values\n",
        " refrigerator1           2976  non-null values\n",
        " refrigerator2           2976  non-null values\n",
        " security1               2976  non-null values\n",
        " shed1                   2976  non-null values\n",
        " sprinkler1              2976  non-null values\n",
        " subpanel1               2976  non-null values\n",
        " subpanel2               2976  non-null values\n",
        " unknown1                2976  non-null values\n",
        " unknown2                2976  non-null values\n",
        " unknown3                2976  non-null values\n",
        " unknown4                2976  non-null values\n",
        " use                     2976  non-null values\n",
        " utilityroom1            2976  non-null values\n",
        " venthood1               2976  non-null values\n",
        " waterheater1            2976  non-null values\n",
        " waterheater2            2976  non-null values\n",
        " winecooler1             2976  non-null values\n",
        " dtypes: int64(1), object(72), 1697: <class 'pandas.core.frame.DataFrame'>\n",
        " Int64Index: 2976 entries, 35712 to 38691\n",
        " Data columns (total 73 columns):\n",
        " id                      2976  non-null values\n",
        " utc_15min               2976  non-null values\n",
        " air1                    2976  non-null values\n",
        " air2                    2976  non-null values\n",
        " air3                    2976  non-null values\n",
        " airwindowunit1          2976  non-null values\n",
        " aquarium1               2976  non-null values\n",
        " bathroom1               2976  non-null values\n",
        " bathroom2               2976  non-null values\n",
        " bedroom1                2976  non-null values\n",
        " bedroom2                2976  non-null values\n",
        " bedroom3                2976  non-null values\n",
        " bedroom4                2976  non-null values\n",
        " bedroom5                2976  non-null values\n",
        " car1                    0  non-null values\n",
        " clotheswasher1          2976  non-null values\n",
        " clotheswasher_dryg1     2976  non-null values\n",
        " diningroom1             2976  non-null values\n",
        " diningroom2             2976  non-null values\n",
        " dishwasher1             2976  non-null values\n",
        " disposal1               2976  non-null values\n",
        " drye1                   2976  non-null values\n",
        " dryg1                   2976  non-null values\n",
        " freezer1                2976  non-null values\n",
        " furnace1                2976  non-null values\n",
        " furnace2                2976  non-null values\n",
        " garage1                 2976  non-null values\n",
        " garage2                 2976  non-null values\n",
        " heater1                 2976  non-null values\n",
        " housefan1               2976  non-null values\n",
        " icemaker1               2976  non-null values\n",
        " jacuzzi1                2976  non-null values\n",
        " kitchen1                2976  non-null values\n",
        " kitchen2                2976  non-null values\n",
        " kitchenapp1             2976  non-null values\n",
        " kitchenapp2             2976  non-null values\n",
        " lights_plugs1           2976  non-null values\n",
        " lights_plugs2           2976  non-null values\n",
        " lights_plugs3           2976  non-null values\n",
        " lights_plugs4           2976  non-null values\n",
        " lights_plugs5           2976  non-null values\n",
        " lights_plugs6           2976  non-null values\n",
        " livingroom1             2976  non-null values\n",
        " livingroom2             2976  non-null values\n",
        " microwave1              2976  non-null values\n",
        " office1                 2976  non-null values\n",
        " outsidelights_plugs1    2976  non-null values\n",
        " outsidelights_plugs2    2976  non-null values\n",
        " oven1                   2976  non-null values\n",
        " oven2                   2976  non-null values\n",
        " pool1                   2976  non-null values\n",
        " pool2                   2976  non-null values\n",
        " poollight1              2976  non-null values\n",
        " poolpump1               2976  non-null values\n",
        " pump1                   2976  non-null values\n",
        " range1                  2976  non-null values\n",
        " refrigerator1           2976  non-null values\n",
        " refrigerator2           2976  non-null values\n",
        " security1               2976  non-null values\n",
        " shed1                   2976  non-null values\n",
        " sprinkler1              2976  non-null values\n",
        " subpanel1               2976  non-null values\n",
        " subpanel2               2976  non-null values\n",
        " unknown1                2976  non-null values\n",
        " unknown2                2976  non-null values\n",
        " unknown3                2976  non-null values\n",
        " unknown4                2976  non-null values\n",
        " use                     2976  non-null values\n",
        " utilityroom1            2976  non-null values\n",
        " venthood1               2976  non-null values\n",
        " waterheater1            2976  non-null values\n",
        " waterheater2            2976  non-null values\n",
        " winecooler1             2976  non-null values\n",
        " dtypes: int64(1), object(72), 1714: <class 'pandas.core.frame.DataFrame'>\n",
        " Int64Index: 2976 entries, 17856 to 20839\n",
        " Data columns (total 73 columns):\n",
        " id                      2976  non-null values\n",
        " utc_15min               2976  non-null values\n",
        " air1                    2976  non-null values\n",
        " air2                    2976  non-null values\n",
        " air3                    2976  non-null values\n",
        " airwindowunit1          2976  non-null values\n",
        " aquarium1               2976  non-null values\n",
        " bathroom1               2976  non-null values\n",
        " bathroom2               2976  non-null values\n",
        " bedroom1                2976  non-null values\n",
        " bedroom2                2976  non-null values\n",
        " bedroom3                2976  non-null values\n",
        " bedroom4                2976  non-null values\n",
        " bedroom5                2976  non-null values\n",
        " car1                    0  non-null values\n",
        " clotheswasher1          2976  non-null values\n",
        " clotheswasher_dryg1     2976  non-null values\n",
        " diningroom1             2976  non-null values\n",
        " diningroom2             2976  non-null values\n",
        " dishwasher1             2976  non-null values\n",
        " disposal1               2976  non-null values\n",
        " drye1                   2976  non-null values\n",
        " dryg1                   2976  non-null values\n",
        " freezer1                2976  non-null values\n",
        " furnace1                2976  non-null values\n",
        " furnace2                2976  non-null values\n",
        " garage1                 2976  non-null values\n",
        " garage2                 2976  non-null values\n",
        " heater1                 2976  non-null values\n",
        " housefan1               2976  non-null values\n",
        " icemaker1               2976  non-null values\n",
        " jacuzzi1                2976  non-null values\n",
        " kitchen1                2976  non-null values\n",
        " kitchen2                2976  non-null values\n",
        " kitchenapp1             2976  non-null values\n",
        " kitchenapp2             2976  non-null values\n",
        " lights_plugs1           2976  non-null values\n",
        " lights_plugs2           2976  non-null values\n",
        " lights_plugs3           2976  non-null values\n",
        " lights_plugs4           2976  non-null values\n",
        " lights_plugs5           2976  non-null values\n",
        " lights_plugs6           2976  non-null values\n",
        " livingroom1             2976  non-null values\n",
        " livingroom2             2976  non-null values\n",
        " microwave1              2976  non-null values\n",
        " office1                 2976  non-null values\n",
        " outsidelights_plugs1    2976  non-null values\n",
        " outsidelights_plugs2    2976  non-null values\n",
        " oven1                   2976  non-null values\n",
        " oven2                   2976  non-null values\n",
        " pool1                   2976  non-null values\n",
        " pool2                   2976  non-null values\n",
        " poollight1              2976  non-null values\n",
        " poolpump1               2976  non-null values\n",
        " pump1                   2976  non-null values\n",
        " range1                  2976  non-null values\n",
        " refrigerator1           2976  non-null values\n",
        " refrigerator2           2976  non-null values\n",
        " security1               2976  non-null values\n",
        " shed1                   2976  non-null values\n",
        " sprinkler1              2976  non-null values\n",
        " subpanel1               2976  non-null values\n",
        " subpanel2               2976  non-null values\n",
        " unknown1                2976  non-null values\n",
        " unknown2                2976  non-null values\n",
        " unknown3                2976  non-null values\n",
        " unknown4                2976  non-null values\n",
        " use                     2976  non-null values\n",
        " utilityroom1            2976  non-null values\n",
        " venthood1               2976  non-null values\n",
        " waterheater1            2976  non-null values\n",
        " waterheater2            2976  non-null values\n",
        " winecooler1             2976  non-null values\n",
        " dtypes: int64(1), object(72), 2156: <class 'pandas.core.frame.DataFrame'>\n",
        " Int64Index: 2976 entries, 50592 to 53567\n",
        " Data columns (total 73 columns):\n",
        " id                      2976  non-null values\n",
        " utc_15min               2976  non-null values\n",
        " air1                    2976  non-null values\n",
        " air2                    2976  non-null values\n",
        " air3                    2976  non-null values\n",
        " airwindowunit1          2976  non-null values\n",
        " aquarium1               2976  non-null values\n",
        " bathroom1               2976  non-null values\n",
        " bathroom2               2976  non-null values\n",
        " bedroom1                2976  non-null values\n",
        " bedroom2                2976  non-null values\n",
        " bedroom3                2976  non-null values\n",
        " bedroom4                2976  non-null values\n",
        " bedroom5                2976  non-null values\n",
        " car1                    0  non-null values\n",
        " clotheswasher1          2976  non-null values\n",
        " clotheswasher_dryg1     2976  non-null values\n",
        " diningroom1             2976  non-null values\n",
        " diningroom2             2976  non-null values\n",
        " dishwasher1             2976  non-null values\n",
        " disposal1               2976  non-null values\n",
        " drye1                   2976  non-null values\n",
        " dryg1                   2976  non-null values\n",
        " freezer1                2976  non-null values\n",
        " furnace1                2976  non-null values\n",
        " furnace2                2976  non-null values\n",
        " garage1                 2976  non-null values\n",
        " garage2                 2976  non-null values\n",
        " heater1                 2976  non-null values\n",
        " housefan1               2976  non-null values\n",
        " icemaker1               2976  non-null values\n",
        " jacuzzi1                2976  non-null values\n",
        " kitchen1                2976  non-null values\n",
        " kitchen2                2976  non-null values\n",
        " kitchenapp1             2976  non-null values\n",
        " kitchenapp2             2976  non-null values\n",
        " lights_plugs1           2976  non-null values\n",
        " lights_plugs2           2976  non-null values\n",
        " lights_plugs3           2976  non-null values\n",
        " lights_plugs4           2976  non-null values\n",
        " lights_plugs5           2976  non-null values\n",
        " lights_plugs6           2976  non-null values\n",
        " livingroom1             2976  non-null values\n",
        " livingroom2             2976  non-null values\n",
        " microwave1              2976  non-null values\n",
        " office1                 2976  non-null values\n",
        " outsidelights_plugs1    2976  non-null values\n",
        " outsidelights_plugs2    2976  non-null values\n",
        " oven1                   2976  non-null values\n",
        " oven2                   2976  non-null values\n",
        " pool1                   2976  non-null values\n",
        " pool2                   2976  non-null values\n",
        " poollight1              2976  non-null values\n",
        " poolpump1               2976  non-null values\n",
        " pump1                   2976  non-null values\n",
        " range1                  2976  non-null values\n",
        " refrigerator1           2976  non-null values\n",
        " refrigerator2           2976  non-null values\n",
        " security1               2976  non-null values\n",
        " shed1                   2976  non-null values\n",
        " sprinkler1              2976  non-null values\n",
        " subpanel1               2976  non-null values\n",
        " subpanel2               2976  non-null values\n",
        " unknown1                2976  non-null values\n",
        " unknown2                2976  non-null values\n",
        " unknown3                2976  non-null values\n",
        " unknown4                2976  non-null values\n",
        " use                     2976  non-null values\n",
        " utilityroom1            2976  non-null values\n",
        " venthood1               2976  non-null values\n",
        " waterheater1            2976  non-null values\n",
        " waterheater2            2976  non-null values\n",
        " winecooler1             2976  non-null values\n",
        " dtypes: int64(1), object(72), 2158: <class 'pandas.core.frame.DataFrame'>\n",
        " Int64Index: 2976 entries, 5952 to 8927\n",
        " Data columns (total 73 columns):\n",
        " id                      2976  non-null values\n",
        " utc_15min               2976  non-null values\n",
        " air1                    2976  non-null values\n",
        " air2                    2976  non-null values\n",
        " air3                    2976  non-null values\n",
        " airwindowunit1          2976  non-null values\n",
        " aquarium1               2976  non-null values\n",
        " bathroom1               2976  non-null values\n",
        " bathroom2               2976  non-null values\n",
        " bedroom1                2976  non-null values\n",
        " bedroom2                2976  non-null values\n",
        " bedroom3                2976  non-null values\n",
        " bedroom4                2976  non-null values\n",
        " bedroom5                2976  non-null values\n",
        " car1                    0  non-null values\n",
        " clotheswasher1          2976  non-null values\n",
        " clotheswasher_dryg1     2976  non-null values\n",
        " diningroom1             2976  non-null values\n",
        " diningroom2             2976  non-null values\n",
        " dishwasher1             2976  non-null values\n",
        " disposal1               2976  non-null values\n",
        " drye1                   2976  non-null values\n",
        " dryg1                   2976  non-null values\n",
        " freezer1                2976  non-null values\n",
        " furnace1                2976  non-null values\n",
        " furnace2                2976  non-null values\n",
        " garage1                 2976  non-null values\n",
        " garage2                 2976  non-null values\n",
        " heater1                 2976  non-null values\n",
        " housefan1               2976  non-null values\n",
        " icemaker1               2976  non-null values\n",
        " jacuzzi1                2976  non-null values\n",
        " kitchen1                2976  non-null values\n",
        " kitchen2                2976  non-null values\n",
        " kitchenapp1             2976  non-null values\n",
        " kitchenapp2             2976  non-null values\n",
        " lights_plugs1           2976  non-null values\n",
        " lights_plugs2           2976  non-null values\n",
        " lights_plugs3           2976  non-null values\n",
        " lights_plugs4           2976  non-null values\n",
        " lights_plugs5           2976  non-null values\n",
        " lights_plugs6           2976  non-null values\n",
        " livingroom1             2976  non-null values\n",
        " livingroom2             2976  non-null values\n",
        " microwave1              2976  non-null values\n",
        " office1                 2976  non-null values\n",
        " outsidelights_plugs1    2976  non-null values\n",
        " outsidelights_plugs2    2976  non-null values\n",
        " oven1                   2976  non-null values\n",
        " oven2                   2976  non-null values\n",
        " pool1                   2976  non-null values\n",
        " pool2                   2976  non-null values\n",
        " poollight1              2976  non-null values\n",
        " poolpump1               2976  non-null values\n",
        " pump1                   2976  non-null values\n",
        " range1                  2976  non-null values\n",
        " refrigerator1           2976  non-null values\n",
        " refrigerator2           2976  non-null values\n",
        " security1               2976  non-null values\n",
        " shed1                   2976  non-null values\n",
        " sprinkler1              2976  non-null values\n",
        " subpanel1               2976  non-null values\n",
        " subpanel2               2976  non-null values\n",
        " unknown1                2976  non-null values\n",
        " unknown2                2976  non-null values\n",
        " unknown3                2976  non-null values\n",
        " unknown4                2976  non-null values\n",
        " use                     2976  non-null values\n",
        " utilityroom1            2976  non-null values\n",
        " venthood1               2976  non-null values\n",
        " waterheater1            2976  non-null values\n",
        " waterheater2            2976  non-null values\n",
        " winecooler1             2976  non-null values\n",
        " dtypes: int64(1), object(72), 2829: <class 'pandas.core.frame.DataFrame'>\n",
        " Int64Index: 2976 entries, 56544 to 59519\n",
        " Data columns (total 73 columns):\n",
        " id                      2976  non-null values\n",
        " utc_15min               2976  non-null values\n",
        " air1                    2976  non-null values\n",
        " air2                    2976  non-null values\n",
        " air3                    2976  non-null values\n",
        " airwindowunit1          2976  non-null values\n",
        " aquarium1               2976  non-null values\n",
        " bathroom1               2976  non-null values\n",
        " bathroom2               2976  non-null values\n",
        " bedroom1                2976  non-null values\n",
        " bedroom2                2976  non-null values\n",
        " bedroom3                2976  non-null values\n",
        " bedroom4                2976  non-null values\n",
        " bedroom5                2976  non-null values\n",
        " car1                    0  non-null values\n",
        " clotheswasher1          2976  non-null values\n",
        " clotheswasher_dryg1     2976  non-null values\n",
        " diningroom1             2976  non-null values\n",
        " diningroom2             2976  non-null values\n",
        " dishwasher1             2976  non-null values\n",
        " disposal1               2976  non-null values\n",
        " drye1                   2976  non-null values\n",
        " dryg1                   2976  non-null values\n",
        " freezer1                2976  non-null values\n",
        " furnace1                2976  non-null values\n",
        " furnace2                2976  non-null values\n",
        " garage1                 2976  non-null values\n",
        " garage2                 2976  non-null values\n",
        " heater1                 2976  non-null values\n",
        " housefan1               2976  non-null values\n",
        " icemaker1               2976  non-null values\n",
        " jacuzzi1                2976  non-null values\n",
        " kitchen1                2976  non-null values\n",
        " kitchen2                2976  non-null values\n",
        " kitchenapp1             2976  non-null values\n",
        " kitchenapp2             2976  non-null values\n",
        " lights_plugs1           2976  non-null values\n",
        " lights_plugs2           2976  non-null values\n",
        " lights_plugs3           2976  non-null values\n",
        " lights_plugs4           2976  non-null values\n",
        " lights_plugs5           2976  non-null values\n",
        " lights_plugs6           2976  non-null values\n",
        " livingroom1             2976  non-null values\n",
        " livingroom2             2976  non-null values\n",
        " microwave1              2976  non-null values\n",
        " office1                 2976  non-null values\n",
        " outsidelights_plugs1    2976  non-null values\n",
        " outsidelights_plugs2    2976  non-null values\n",
        " oven1                   2976  non-null values\n",
        " oven2                   2976  non-null values\n",
        " pool1                   2976  non-null values\n",
        " pool2                   2976  non-null values\n",
        " poollight1              2976  non-null values\n",
        " poolpump1               2976  non-null values\n",
        " pump1                   2976  non-null values\n",
        " range1                  2976  non-null values\n",
        " refrigerator1           2976  non-null values\n",
        " refrigerator2           2976  non-null values\n",
        " security1               2976  non-null values\n",
        " shed1                   2976  non-null values\n",
        " sprinkler1              2976  non-null values\n",
        " subpanel1               2976  non-null values\n",
        " subpanel2               2976  non-null values\n",
        " unknown1                2976  non-null values\n",
        " unknown2                2976  non-null values\n",
        " unknown3                2976  non-null values\n",
        " unknown4                2976  non-null values\n",
        " use                     2976  non-null values\n",
        " utilityroom1            2976  non-null values\n",
        " venthood1               2976  non-null values\n",
        " waterheater1            2976  non-null values\n",
        " waterheater2            2976  non-null values\n",
        " winecooler1             2976  non-null values\n",
        " dtypes: int64(1), object(72), 4031: <class 'pandas.core.frame.DataFrame'>\n",
        " Int64Index: 2976 entries, 29760 to 32740\n",
        " Data columns (total 73 columns):\n",
        " id                      2976  non-null values\n",
        " utc_15min               2976  non-null values\n",
        " air1                    2976  non-null values\n",
        " air2                    2976  non-null values\n",
        " air3                    2976  non-null values\n",
        " airwindowunit1          2976  non-null values\n",
        " aquarium1               2976  non-null values\n",
        " bathroom1               2976  non-null values\n",
        " bathroom2               2976  non-null values\n",
        " bedroom1                2976  non-null values\n",
        " bedroom2                2976  non-null values\n",
        " bedroom3                2976  non-null values\n",
        " bedroom4                2976  non-null values\n",
        " bedroom5                2976  non-null values\n",
        " car1                    0  non-null values\n",
        " clotheswasher1          2976  non-null values\n",
        " clotheswasher_dryg1     2976  non-null values\n",
        " diningroom1             2976  non-null values\n",
        " diningroom2             2976  non-null values\n",
        " dishwasher1             2976  non-null values\n",
        " disposal1               2976  non-null values\n",
        " drye1                   2976  non-null values\n",
        " dryg1                   2976  non-null values\n",
        " freezer1                2976  non-null values\n",
        " furnace1                2976  non-null values\n",
        " furnace2                2976  non-null values\n",
        " garage1                 2976  non-null values\n",
        " garage2                 2976  non-null values\n",
        " heater1                 2976  non-null values\n",
        " housefan1               2976  non-null values\n",
        " icemaker1               2976  non-null values\n",
        " jacuzzi1                2976  non-null values\n",
        " kitchen1                2976  non-null values\n",
        " kitchen2                2976  non-null values\n",
        " kitchenapp1             2976  non-null values\n",
        " kitchenapp2             2976  non-null values\n",
        " lights_plugs1           2976  non-null values\n",
        " lights_plugs2           2976  non-null values\n",
        " lights_plugs3           2976  non-null values\n",
        " lights_plugs4           2976  non-null values\n",
        " lights_plugs5           2976  non-null values\n",
        " lights_plugs6           2976  non-null values\n",
        " livingroom1             2976  non-null values\n",
        " livingroom2             2976  non-null values\n",
        " microwave1              2976  non-null values\n",
        " office1                 2976  non-null values\n",
        " outsidelights_plugs1    2976  non-null values\n",
        " outsidelights_plugs2    2976  non-null values\n",
        " oven1                   2976  non-null values\n",
        " oven2                   2976  non-null values\n",
        " pool1                   2976  non-null values\n",
        " pool2                   2976  non-null values\n",
        " poollight1              2976  non-null values\n",
        " poolpump1               2976  non-null values\n",
        " pump1                   2976  non-null values\n",
        " range1                  2976  non-null values\n",
        " refrigerator1           2976  non-null values\n",
        " refrigerator2           2976  non-null values\n",
        " security1               2976  non-null values\n",
        " shed1                   2976  non-null values\n",
        " sprinkler1              2976  non-null values\n",
        " subpanel1               2976  non-null values\n",
        " subpanel2               2976  non-null values\n",
        " unknown1                2976  non-null values\n",
        " unknown2                2976  non-null values\n",
        " unknown3                2976  non-null values\n",
        " unknown4                2976  non-null values\n",
        " use                     2976  non-null values\n",
        " utilityroom1            2976  non-null values\n",
        " venthood1               2976  non-null values\n",
        " waterheater1            2976  non-null values\n",
        " waterheater2            2976  non-null values\n",
        " winecooler1             2976  non-null values\n",
        " dtypes: int64(1), object(72), 5395: <class 'pandas.core.frame.DataFrame'>\n",
        " Int64Index: 2976 entries, 53568 to 56543\n",
        " Data columns (total 73 columns):\n",
        " id                      2976  non-null values\n",
        " utc_15min               2976  non-null values\n",
        " air1                    2976  non-null values\n",
        " air2                    2976  non-null values\n",
        " air3                    2976  non-null values\n",
        " airwindowunit1          2976  non-null values\n",
        " aquarium1               2976  non-null values\n",
        " bathroom1               2976  non-null values\n",
        " bathroom2               2976  non-null values\n",
        " bedroom1                2976  non-null values\n",
        " bedroom2                2976  non-null values\n",
        " bedroom3                2976  non-null values\n",
        " bedroom4                2976  non-null values\n",
        " bedroom5                2976  non-null values\n",
        " car1                    0  non-null values\n",
        " clotheswasher1          2976  non-null values\n",
        " clotheswasher_dryg1     2976  non-null values\n",
        " diningroom1             2976  non-null values\n",
        " diningroom2             2976  non-null values\n",
        " dishwasher1             2976  non-null values\n",
        " disposal1               2976  non-null values\n",
        " drye1                   2976  non-null values\n",
        " dryg1                   2976  non-null values\n",
        " freezer1                2976  non-null values\n",
        " furnace1                2976  non-null values\n",
        " furnace2                2976  non-null values\n",
        " garage1                 2976  non-null values\n",
        " garage2                 2976  non-null values\n",
        " heater1                 2976  non-null values\n",
        " housefan1               2976  non-null values\n",
        " icemaker1               2976  non-null values\n",
        " jacuzzi1                2976  non-null values\n",
        " kitchen1                2976  non-null values\n",
        " kitchen2                2976  non-null values\n",
        " kitchenapp1             2976  non-null values\n",
        " kitchenapp2             2976  non-null values\n",
        " lights_plugs1           2976  non-null values\n",
        " lights_plugs2           2976  non-null values\n",
        " lights_plugs3           2976  non-null values\n",
        " lights_plugs4           2976  non-null values\n",
        " lights_plugs5           2976  non-null values\n",
        " lights_plugs6           2976  non-null values\n",
        " livingroom1             2976  non-null values\n",
        " livingroom2             2976  non-null values\n",
        " microwave1              2976  non-null values\n",
        " office1                 2976  non-null values\n",
        " outsidelights_plugs1    2976  non-null values\n",
        " outsidelights_plugs2    2976  non-null values\n",
        " oven1                   2976  non-null values\n",
        " oven2                   2976  non-null values\n",
        " pool1                   2976  non-null values\n",
        " pool2                   2976  non-null values\n",
        " poollight1              2976  non-null values\n",
        " poolpump1               2976  non-null values\n",
        " pump1                   2976  non-null values\n",
        " range1                  2976  non-null values\n",
        " refrigerator1           2976  non-null values\n",
        " refrigerator2           2976  non-null values\n",
        " security1               2976  non-null values\n",
        " shed1                   2976  non-null values\n",
        " sprinkler1              2976  non-null values\n",
        " subpanel1               2976  non-null values\n",
        " subpanel2               2976  non-null values\n",
        " unknown1                2976  non-null values\n",
        " unknown2                2976  non-null values\n",
        " unknown3                2976  non-null values\n",
        " unknown4                2976  non-null values\n",
        " use                     2976  non-null values\n",
        " utilityroom1            2976  non-null values\n",
        " venthood1               2976  non-null values\n",
        " waterheater1            2976  non-null values\n",
        " waterheater2            2976  non-null values\n",
        " winecooler1             2976  non-null values\n",
        " dtypes: int64(1), object(72), 5746: <class 'pandas.core.frame.DataFrame'>\n",
        " Int64Index: 2976 entries, 65472 to 68447\n",
        " Data columns (total 73 columns):\n",
        " id                      2976  non-null values\n",
        " utc_15min               2976  non-null values\n",
        " air1                    2976  non-null values\n",
        " air2                    2976  non-null values\n",
        " air3                    2976  non-null values\n",
        " airwindowunit1          2976  non-null values\n",
        " aquarium1               2976  non-null values\n",
        " bathroom1               2976  non-null values\n",
        " bathroom2               2976  non-null values\n",
        " bedroom1                2976  non-null values\n",
        " bedroom2                2976  non-null values\n",
        " bedroom3                2976  non-null values\n",
        " bedroom4                2976  non-null values\n",
        " bedroom5                2976  non-null values\n",
        " car1                    0  non-null values\n",
        " clotheswasher1          2976  non-null values\n",
        " clotheswasher_dryg1     2976  non-null values\n",
        " diningroom1             2976  non-null values\n",
        " diningroom2             2976  non-null values\n",
        " dishwasher1             2976  non-null values\n",
        " disposal1               2976  non-null values\n",
        " drye1                   2976  non-null values\n",
        " dryg1                   2976  non-null values\n",
        " freezer1                2976  non-null values\n",
        " furnace1                2976  non-null values\n",
        " furnace2                2976  non-null values\n",
        " garage1                 2976  non-null values\n",
        " garage2                 2976  non-null values\n",
        " heater1                 2976  non-null values\n",
        " housefan1               2976  non-null values\n",
        " icemaker1               2976  non-null values\n",
        " jacuzzi1                2976  non-null values\n",
        " kitchen1                2976  non-null values\n",
        " kitchen2                2976  non-null values\n",
        " kitchenapp1             2976  non-null values\n",
        " kitchenapp2             2976  non-null values\n",
        " lights_plugs1           2976  non-null values\n",
        " lights_plugs2           2976  non-null values\n",
        " lights_plugs3           2976  non-null values\n",
        " lights_plugs4           2976  non-null values\n",
        " lights_plugs5           2976  non-null values\n",
        " lights_plugs6           2976  non-null values\n",
        " livingroom1             2976  non-null values\n",
        " livingroom2             2976  non-null values\n",
        " microwave1              2976  non-null values\n",
        " office1                 2976  non-null values\n",
        " outsidelights_plugs1    2976  non-null values\n",
        " outsidelights_plugs2    2976  non-null values\n",
        " oven1                   2976  non-null values\n",
        " oven2                   2976  non-null values\n",
        " pool1                   2976  non-null values\n",
        " pool2                   2976  non-null values\n",
        " poollight1              2976  non-null values\n",
        " poolpump1               2976  non-null values\n",
        " pump1                   2976  non-null values\n",
        " range1                  2976  non-null values\n",
        " refrigerator1           2976  non-null values\n",
        " refrigerator2           2976  non-null values\n",
        " security1               2976  non-null values\n",
        " shed1                   2976  non-null values\n",
        " sprinkler1              2976  non-null values\n",
        " subpanel1               2976  non-null values\n",
        " subpanel2               2976  non-null values\n",
        " unknown1                2976  non-null values\n",
        " unknown2                2976  non-null values\n",
        " unknown3                2976  non-null values\n",
        " unknown4                2976  non-null values\n",
        " use                     2976  non-null values\n",
        " utilityroom1            2976  non-null values\n",
        " venthood1               2976  non-null values\n",
        " waterheater1            2976  non-null values\n",
        " waterheater2            2976  non-null values\n",
        " winecooler1             2976  non-null values\n",
        " dtypes: int64(1), object(72), 5785: <class 'pandas.core.frame.DataFrame'>\n",
        " Int64Index: 2976 entries, 8928 to 11903\n",
        " Data columns (total 73 columns):\n",
        " id                      2976  non-null values\n",
        " utc_15min               2976  non-null values\n",
        " air1                    2976  non-null values\n",
        " air2                    2976  non-null values\n",
        " air3                    2976  non-null values\n",
        " airwindowunit1          2976  non-null values\n",
        " aquarium1               2976  non-null values\n",
        " bathroom1               2976  non-null values\n",
        " bathroom2               2976  non-null values\n",
        " bedroom1                2976  non-null values\n",
        " bedroom2                2976  non-null values\n",
        " bedroom3                2976  non-null values\n",
        " bedroom4                2976  non-null values\n",
        " bedroom5                2976  non-null values\n",
        " car1                    0  non-null values\n",
        " clotheswasher1          2976  non-null values\n",
        " clotheswasher_dryg1     2976  non-null values\n",
        " diningroom1             2976  non-null values\n",
        " diningroom2             2976  non-null values\n",
        " dishwasher1             2976  non-null values\n",
        " disposal1               2976  non-null values\n",
        " drye1                   2976  non-null values\n",
        " dryg1                   2976  non-null values\n",
        " freezer1                2976  non-null values\n",
        " furnace1                2976  non-null values\n",
        " furnace2                2976  non-null values\n",
        " garage1                 2976  non-null values\n",
        " garage2                 2976  non-null values\n",
        " heater1                 2976  non-null values\n",
        " housefan1               2976  non-null values\n",
        " icemaker1               2976  non-null values\n",
        " jacuzzi1                2976  non-null values\n",
        " kitchen1                2976  non-null values\n",
        " kitchen2                2976  non-null values\n",
        " kitchenapp1             2976  non-null values\n",
        " kitchenapp2             2976  non-null values\n",
        " lights_plugs1           2976  non-null values\n",
        " lights_plugs2           2976  non-null values\n",
        " lights_plugs3           2976  non-null values\n",
        " lights_plugs4           2976  non-null values\n",
        " lights_plugs5           2976  non-null values\n",
        " lights_plugs6           2976  non-null values\n",
        " livingroom1             2976  non-null values\n",
        " livingroom2             2976  non-null values\n",
        " microwave1              2976  non-null values\n",
        " office1                 2976  non-null values\n",
        " outsidelights_plugs1    2976  non-null values\n",
        " outsidelights_plugs2    2976  non-null values\n",
        " oven1                   2976  non-null values\n",
        " oven2                   2976  non-null values\n",
        " pool1                   2976  non-null values\n",
        " pool2                   2976  non-null values\n",
        " poollight1              2976  non-null values\n",
        " poolpump1               2976  non-null values\n",
        " pump1                   2976  non-null values\n",
        " range1                  2976  non-null values\n",
        " refrigerator1           2976  non-null values\n",
        " refrigerator2           2976  non-null values\n",
        " security1               2976  non-null values\n",
        " shed1                   2976  non-null values\n",
        " sprinkler1              2976  non-null values\n",
        " subpanel1               2976  non-null values\n",
        " subpanel2               2976  non-null values\n",
        " unknown1                2976  non-null values\n",
        " unknown2                2976  non-null values\n",
        " unknown3                2976  non-null values\n",
        " unknown4                2976  non-null values\n",
        " use                     2976  non-null values\n",
        " utilityroom1            2976  non-null values\n",
        " venthood1               2976  non-null values\n",
        " waterheater1            2976  non-null values\n",
        " waterheater2            2976  non-null values\n",
        " winecooler1             2976  non-null values\n",
        " dtypes: int64(1), object(72), 5949: <class 'pandas.core.frame.DataFrame'>\n",
        " Int64Index: 2976 entries, 29930 to 35711\n",
        " Data columns (total 73 columns):\n",
        " id                      2976  non-null values\n",
        " utc_15min               2976  non-null values\n",
        " air1                    2976  non-null values\n",
        " air2                    2976  non-null values\n",
        " air3                    2976  non-null values\n",
        " airwindowunit1          2976  non-null values\n",
        " aquarium1               2976  non-null values\n",
        " bathroom1               2976  non-null values\n",
        " bathroom2               2976  non-null values\n",
        " bedroom1                2976  non-null values\n",
        " bedroom2                2976  non-null values\n",
        " bedroom3                2976  non-null values\n",
        " bedroom4                2976  non-null values\n",
        " bedroom5                2976  non-null values\n",
        " car1                    0  non-null values\n",
        " clotheswasher1          2976  non-null values\n",
        " clotheswasher_dryg1     2976  non-null values\n",
        " diningroom1             2976  non-null values\n",
        " diningroom2             2976  non-null values\n",
        " dishwasher1             2976  non-null values\n",
        " disposal1               2976  non-null values\n",
        " drye1                   2976  non-null values\n",
        " dryg1                   2976  non-null values\n",
        " freezer1                2976  non-null values\n",
        " furnace1                2976  non-null values\n",
        " furnace2                2976  non-null values\n",
        " garage1                 2976  non-null values\n",
        " garage2                 2976  non-null values\n",
        " heater1                 2976  non-null values\n",
        " housefan1               2976  non-null values\n",
        " icemaker1               2976  non-null values\n",
        " jacuzzi1                2976  non-null values\n",
        " kitchen1                2976  non-null values\n",
        " kitchen2                2976  non-null values\n",
        " kitchenapp1             2976  non-null values\n",
        " kitchenapp2             2976  non-null values\n",
        " lights_plugs1           2976  non-null values\n",
        " lights_plugs2           2976  non-null values\n",
        " lights_plugs3           2976  non-null values\n",
        " lights_plugs4           2976  non-null values\n",
        " lights_plugs5           2976  non-null values\n",
        " lights_plugs6           2976  non-null values\n",
        " livingroom1             2976  non-null values\n",
        " livingroom2             2976  non-null values\n",
        " microwave1              2976  non-null values\n",
        " office1                 2976  non-null values\n",
        " outsidelights_plugs1    2976  non-null values\n",
        " outsidelights_plugs2    2976  non-null values\n",
        " oven1                   2976  non-null values\n",
        " oven2                   2976  non-null values\n",
        " pool1                   2976  non-null values\n",
        " pool2                   2976  non-null values\n",
        " poollight1              2976  non-null values\n",
        " poolpump1               2976  non-null values\n",
        " pump1                   2976  non-null values\n",
        " range1                  2976  non-null values\n",
        " refrigerator1           2976  non-null values\n",
        " refrigerator2           2976  non-null values\n",
        " security1               2976  non-null values\n",
        " shed1                   2976  non-null values\n",
        " sprinkler1              2976  non-null values\n",
        " subpanel1               2976  non-null values\n",
        " subpanel2               2976  non-null values\n",
        " unknown1                2976  non-null values\n",
        " unknown2                2976  non-null values\n",
        " unknown3                2976  non-null values\n",
        " unknown4                2976  non-null values\n",
        " use                     2976  non-null values\n",
        " utilityroom1            2976  non-null values\n",
        " venthood1               2976  non-null values\n",
        " waterheater1            2976  non-null values\n",
        " waterheater2            2976  non-null values\n",
        " winecooler1             2976  non-null values\n",
        " dtypes: int64(1), object(72), 6673: <class 'pandas.core.frame.DataFrame'>\n",
        " Int64Index: 2976 entries, 68448 to 71424\n",
        " Data columns (total 73 columns):\n",
        " id                      2976  non-null values\n",
        " utc_15min               2976  non-null values\n",
        " air1                    2976  non-null values\n",
        " air2                    2976  non-null values\n",
        " air3                    2976  non-null values\n",
        " airwindowunit1          2976  non-null values\n",
        " aquarium1               2976  non-null values\n",
        " bathroom1               2976  non-null values\n",
        " bathroom2               2976  non-null values\n",
        " bedroom1                2976  non-null values\n",
        " bedroom2                2976  non-null values\n",
        " bedroom3                2976  non-null values\n",
        " bedroom4                2976  non-null values\n",
        " bedroom5                2976  non-null values\n",
        " car1                    0  non-null values\n",
        " clotheswasher1          2976  non-null values\n",
        " clotheswasher_dryg1     2976  non-null values\n",
        " diningroom1             2976  non-null values\n",
        " diningroom2             2976  non-null values\n",
        " dishwasher1             2976  non-null values\n",
        " disposal1               2976  non-null values\n",
        " drye1                   2976  non-null values\n",
        " dryg1                   2976  non-null values\n",
        " freezer1                2976  non-null values\n",
        " furnace1                2976  non-null values\n",
        " furnace2                2976  non-null values\n",
        " garage1                 2976  non-null values\n",
        " garage2                 2976  non-null values\n",
        " heater1                 2976  non-null values\n",
        " housefan1               2976  non-null values\n",
        " icemaker1               2976  non-null values\n",
        " jacuzzi1                2976  non-null values\n",
        " kitchen1                2976  non-null values\n",
        " kitchen2                2976  non-null values\n",
        " kitchenapp1             2976  non-null values\n",
        " kitchenapp2             2976  non-null values\n",
        " lights_plugs1           2976  non-null values\n",
        " lights_plugs2           2976  non-null values\n",
        " lights_plugs3           2976  non-null values\n",
        " lights_plugs4           2976  non-null values\n",
        " lights_plugs5           2976  non-null values\n",
        " lights_plugs6           2976  non-null values\n",
        " livingroom1             2976  non-null values\n",
        " livingroom2             2976  non-null values\n",
        " microwave1              2976  non-null values\n",
        " office1                 2976  non-null values\n",
        " outsidelights_plugs1    2976  non-null values\n",
        " outsidelights_plugs2    2976  non-null values\n",
        " oven1                   2976  non-null values\n",
        " oven2                   2976  non-null values\n",
        " pool1                   2976  non-null values\n",
        " pool2                   2976  non-null values\n",
        " poollight1              2976  non-null values\n",
        " poolpump1               2976  non-null values\n",
        " pump1                   2976  non-null values\n",
        " range1                  2976  non-null values\n",
        " refrigerator1           2976  non-null values\n",
        " refrigerator2           2976  non-null values\n",
        " security1               2976  non-null values\n",
        " shed1                   2976  non-null values\n",
        " sprinkler1              2976  non-null values\n",
        " subpanel1               2976  non-null values\n",
        " subpanel2               2976  non-null values\n",
        " unknown1                2976  non-null values\n",
        " unknown2                2976  non-null values\n",
        " unknown3                2976  non-null values\n",
        " unknown4                2976  non-null values\n",
        " use                     2976  non-null values\n",
        " utilityroom1            2976  non-null values\n",
        " venthood1               2976  non-null values\n",
        " waterheater1            2976  non-null values\n",
        " waterheater2            2976  non-null values\n",
        " winecooler1             2976  non-null values\n",
        " dtypes: int64(1), object(72), 6941: <class 'pandas.core.frame.DataFrame'>\n",
        " Int64Index: 2976 entries, 47616 to 50591\n",
        " Data columns (total 73 columns):\n",
        " id                      2976  non-null values\n",
        " utc_15min               2976  non-null values\n",
        " air1                    2976  non-null values\n",
        " air2                    2976  non-null values\n",
        " air3                    2976  non-null values\n",
        " airwindowunit1          2976  non-null values\n",
        " aquarium1               2976  non-null values\n",
        " bathroom1               2976  non-null values\n",
        " bathroom2               2976  non-null values\n",
        " bedroom1                2976  non-null values\n",
        " bedroom2                2976  non-null values\n",
        " bedroom3                2976  non-null values\n",
        " bedroom4                2976  non-null values\n",
        " bedroom5                2976  non-null values\n",
        " car1                    0  non-null values\n",
        " clotheswasher1          2976  non-null values\n",
        " clotheswasher_dryg1     2976  non-null values\n",
        " diningroom1             2976  non-null values\n",
        " diningroom2             2976  non-null values\n",
        " dishwasher1             2976  non-null values\n",
        " disposal1               2976  non-null values\n",
        " drye1                   2976  non-null values\n",
        " dryg1                   2976  non-null values\n",
        " freezer1                2976  non-null values\n",
        " furnace1                2976  non-null values\n",
        " furnace2                2976  non-null values\n",
        " garage1                 2976  non-null values\n",
        " garage2                 2976  non-null values\n",
        " heater1                 2976  non-null values\n",
        " housefan1               2976  non-null values\n",
        " icemaker1               2976  non-null values\n",
        " jacuzzi1                2976  non-null values\n",
        " kitchen1                2976  non-null values\n",
        " kitchen2                2976  non-null values\n",
        " kitchenapp1             2976  non-null values\n",
        " kitchenapp2             2976  non-null values\n",
        " lights_plugs1           2976  non-null values\n",
        " lights_plugs2           2976  non-null values\n",
        " lights_plugs3           2976  non-null values\n",
        " lights_plugs4           2976  non-null values\n",
        " lights_plugs5           2976  non-null values\n",
        " lights_plugs6           2976  non-null values\n",
        " livingroom1             2976  non-null values\n",
        " livingroom2             2976  non-null values\n",
        " microwave1              2976  non-null values\n",
        " office1                 2976  non-null values\n",
        " outsidelights_plugs1    2976  non-null values\n",
        " outsidelights_plugs2    2976  non-null values\n",
        " oven1                   2976  non-null values\n",
        " oven2                   2976  non-null values\n",
        " pool1                   2976  non-null values\n",
        " pool2                   2976  non-null values\n",
        " poollight1              2976  non-null values\n",
        " poolpump1               2976  non-null values\n",
        " pump1                   2976  non-null values\n",
        " range1                  2976  non-null values\n",
        " refrigerator1           2976  non-null values\n",
        " refrigerator2           2976  non-null values\n",
        " security1               2976  non-null values\n",
        " shed1                   2976  non-null values\n",
        " sprinkler1              2976  non-null values\n",
        " subpanel1               2976  non-null values\n",
        " subpanel2               2976  non-null values\n",
        " unknown1                2976  non-null values\n",
        " unknown2                2976  non-null values\n",
        " unknown3                2976  non-null values\n",
        " unknown4                2976  non-null values\n",
        " use                     2976  non-null values\n",
        " utilityroom1            2976  non-null values\n",
        " venthood1               2976  non-null values\n",
        " waterheater1            2976  non-null values\n",
        " waterheater2            2976  non-null values\n",
        " winecooler1             2976  non-null values\n",
        " dtypes: int64(1), object(72), 7731: <class 'pandas.core.frame.DataFrame'>\n",
        " Int64Index: 2976 entries, 2976 to 5951\n",
        " Data columns (total 73 columns):\n",
        " id                      2976  non-null values\n",
        " utc_15min               2976  non-null values\n",
        " air1                    2976  non-null values\n",
        " air2                    2976  non-null values\n",
        " air3                    2976  non-null values\n",
        " airwindowunit1          2976  non-null values\n",
        " aquarium1               2976  non-null values\n",
        " bathroom1               2976  non-null values\n",
        " bathroom2               2976  non-null values\n",
        " bedroom1                2976  non-null values\n",
        " bedroom2                2976  non-null values\n",
        " bedroom3                2976  non-null values\n",
        " bedroom4                2976  non-null values\n",
        " bedroom5                2976  non-null values\n",
        " car1                    0  non-null values\n",
        " clotheswasher1          2976  non-null values\n",
        " clotheswasher_dryg1     2976  non-null values\n",
        " diningroom1             2976  non-null values\n",
        " diningroom2             2976  non-null values\n",
        " dishwasher1             2976  non-null values\n",
        " disposal1               2976  non-null values\n",
        " drye1                   2976  non-null values\n",
        " dryg1                   2976  non-null values\n",
        " freezer1                2976  non-null values\n",
        " furnace1                2976  non-null values\n",
        " furnace2                2976  non-null values\n",
        " garage1                 2976  non-null values\n",
        " garage2                 2976  non-null values\n",
        " heater1                 2976  non-null values\n",
        " housefan1               2976  non-null values\n",
        " icemaker1               2976  non-null values\n",
        " jacuzzi1                2976  non-null values\n",
        " kitchen1                2976  non-null values\n",
        " kitchen2                2976  non-null values\n",
        " kitchenapp1             2976  non-null values\n",
        " kitchenapp2             2976  non-null values\n",
        " lights_plugs1           2976  non-null values\n",
        " lights_plugs2           2976  non-null values\n",
        " lights_plugs3           2976  non-null values\n",
        " lights_plugs4           2976  non-null values\n",
        " lights_plugs5           2976  non-null values\n",
        " lights_plugs6           2976  non-null values\n",
        " livingroom1             2976  non-null values\n",
        " livingroom2             2976  non-null values\n",
        " microwave1              2976  non-null values\n",
        " office1                 2976  non-null values\n",
        " outsidelights_plugs1    2976  non-null values\n",
        " outsidelights_plugs2    2976  non-null values\n",
        " oven1                   2976  non-null values\n",
        " oven2                   2976  non-null values\n",
        " pool1                   2976  non-null values\n",
        " pool2                   2976  non-null values\n",
        " poollight1              2976  non-null values\n",
        " poolpump1               2976  non-null values\n",
        " pump1                   2976  non-null values\n",
        " range1                  2976  non-null values\n",
        " refrigerator1           2976  non-null values\n",
        " refrigerator2           2976  non-null values\n",
        " security1               2976  non-null values\n",
        " shed1                   2976  non-null values\n",
        " sprinkler1              2976  non-null values\n",
        " subpanel1               2976  non-null values\n",
        " subpanel2               2976  non-null values\n",
        " unknown1                2976  non-null values\n",
        " unknown2                2976  non-null values\n",
        " unknown3                2976  non-null values\n",
        " unknown4                2976  non-null values\n",
        " use                     2976  non-null values\n",
        " utilityroom1            2976  non-null values\n",
        " venthood1               2976  non-null values\n",
        " waterheater1            2976  non-null values\n",
        " waterheater2            2976  non-null values\n",
        " winecooler1             2976  non-null values\n",
        " dtypes: int64(1), object(72), 7989: <class 'pandas.core.frame.DataFrame'>\n",
        " Int64Index: 2976 entries, 44640 to 47615\n",
        " Data columns (total 73 columns):\n",
        " id                      2976  non-null values\n",
        " utc_15min               2976  non-null values\n",
        " air1                    2976  non-null values\n",
        " air2                    2976  non-null values\n",
        " air3                    2976  non-null values\n",
        " airwindowunit1          2976  non-null values\n",
        " aquarium1               2976  non-null values\n",
        " bathroom1               2976  non-null values\n",
        " bathroom2               2976  non-null values\n",
        " bedroom1                2976  non-null values\n",
        " bedroom2                2976  non-null values\n",
        " bedroom3                2976  non-null values\n",
        " bedroom4                2976  non-null values\n",
        " bedroom5                2976  non-null values\n",
        " car1                    0  non-null values\n",
        " clotheswasher1          2976  non-null values\n",
        " clotheswasher_dryg1     2976  non-null values\n",
        " diningroom1             2976  non-null values\n",
        " diningroom2             2976  non-null values\n",
        " dishwasher1             2976  non-null values\n",
        " disposal1               2976  non-null values\n",
        " drye1                   2976  non-null values\n",
        " dryg1                   2976  non-null values\n",
        " freezer1                2976  non-null values\n",
        " furnace1                2976  non-null values\n",
        " furnace2                2976  non-null values\n",
        " garage1                 2976  non-null values\n",
        " garage2                 2976  non-null values\n",
        " heater1                 2976  non-null values\n",
        " housefan1               2976  non-null values\n",
        " icemaker1               2976  non-null values\n",
        " jacuzzi1                2976  non-null values\n",
        " kitchen1                2976  non-null values\n",
        " kitchen2                2976  non-null values\n",
        " kitchenapp1             2976  non-null values\n",
        " kitchenapp2             2976  non-null values\n",
        " lights_plugs1           2976  non-null values\n",
        " lights_plugs2           2976  non-null values\n",
        " lights_plugs3           2976  non-null values\n",
        " lights_plugs4           2976  non-null values\n",
        " lights_plugs5           2976  non-null values\n",
        " lights_plugs6           2976  non-null values\n",
        " livingroom1             2976  non-null values\n",
        " livingroom2             2976  non-null values\n",
        " microwave1              2976  non-null values\n",
        " office1                 2976  non-null values\n",
        " outsidelights_plugs1    2976  non-null values\n",
        " outsidelights_plugs2    2976  non-null values\n",
        " oven1                   2976  non-null values\n",
        " oven2                   2976  non-null values\n",
        " pool1                   2976  non-null values\n",
        " pool2                   2976  non-null values\n",
        " poollight1              2976  non-null values\n",
        " poolpump1               2976  non-null values\n",
        " pump1                   2976  non-null values\n",
        " range1                  2976  non-null values\n",
        " refrigerator1           2976  non-null values\n",
        " refrigerator2           2976  non-null values\n",
        " security1               2976  non-null values\n",
        " shed1                   2976  non-null values\n",
        " sprinkler1              2976  non-null values\n",
        " subpanel1               2976  non-null values\n",
        " subpanel2               2976  non-null values\n",
        " unknown1                2976  non-null values\n",
        " unknown2                2976  non-null values\n",
        " unknown3                2976  non-null values\n",
        " unknown4                2976  non-null values\n",
        " use                     2976  non-null values\n",
        " utilityroom1            2976  non-null values\n",
        " venthood1               2976  non-null values\n",
        " waterheater1            2976  non-null values\n",
        " waterheater2            2976  non-null values\n",
        " winecooler1             2976  non-null values\n",
        " dtypes: int64(1), object(72), 8197: <class 'pandas.core.frame.DataFrame'>\n",
        " Int64Index: 2976 entries, 11904 to 14883\n",
        " Data columns (total 73 columns):\n",
        " id                      2976  non-null values\n",
        " utc_15min               2976  non-null values\n",
        " air1                    2976  non-null values\n",
        " air2                    2976  non-null values\n",
        " air3                    2976  non-null values\n",
        " airwindowunit1          2976  non-null values\n",
        " aquarium1               2976  non-null values\n",
        " bathroom1               2976  non-null values\n",
        " bathroom2               2976  non-null values\n",
        " bedroom1                2976  non-null values\n",
        " bedroom2                2976  non-null values\n",
        " bedroom3                2976  non-null values\n",
        " bedroom4                2976  non-null values\n",
        " bedroom5                2976  non-null values\n",
        " car1                    0  non-null values\n",
        " clotheswasher1          2976  non-null values\n",
        " clotheswasher_dryg1     2976  non-null values\n",
        " diningroom1             2976  non-null values\n",
        " diningroom2             2976  non-null values\n",
        " dishwasher1             2976  non-null values\n",
        " disposal1               2976  non-null values\n",
        " drye1                   2976  non-null values\n",
        " dryg1                   2976  non-null values\n",
        " freezer1                2976  non-null values\n",
        " furnace1                2976  non-null values\n",
        " furnace2                2976  non-null values\n",
        " garage1                 2976  non-null values\n",
        " garage2                 2976  non-null values\n",
        " heater1                 2976  non-null values\n",
        " housefan1               2976  non-null values\n",
        " icemaker1               2976  non-null values\n",
        " jacuzzi1                2976  non-null values\n",
        " kitchen1                2976  non-null values\n",
        " kitchen2                2976  non-null values\n",
        " kitchenapp1             2976  non-null values\n",
        " kitchenapp2             2976  non-null values\n",
        " lights_plugs1           2976  non-null values\n",
        " lights_plugs2           2976  non-null values\n",
        " lights_plugs3           2976  non-null values\n",
        " lights_plugs4           2976  non-null values\n",
        " lights_plugs5           2976  non-null values\n",
        " lights_plugs6           2976  non-null values\n",
        " livingroom1             2976  non-null values\n",
        " livingroom2             2976  non-null values\n",
        " microwave1              2976  non-null values\n",
        " office1                 2976  non-null values\n",
        " outsidelights_plugs1    2976  non-null values\n",
        " outsidelights_plugs2    2976  non-null values\n",
        " oven1                   2976  non-null values\n",
        " oven2                   2976  non-null values\n",
        " pool1                   2976  non-null values\n",
        " pool2                   2976  non-null values\n",
        " poollight1              2976  non-null values\n",
        " poolpump1               2976  non-null values\n",
        " pump1                   2976  non-null values\n",
        " range1                  2976  non-null values\n",
        " refrigerator1           2976  non-null values\n",
        " refrigerator2           2976  non-null values\n",
        " security1               2976  non-null values\n",
        " shed1                   2976  non-null values\n",
        " sprinkler1              2976  non-null values\n",
        " subpanel1               2976  non-null values\n",
        " subpanel2               2976  non-null values\n",
        " unknown1                2976  non-null values\n",
        " unknown2                2976  non-null values\n",
        " unknown3                2976  non-null values\n",
        " unknown4                2976  non-null values\n",
        " use                     2976  non-null values\n",
        " utilityroom1            2976  non-null values\n",
        " venthood1               2976  non-null values\n",
        " waterheater1            2976  non-null values\n",
        " waterheater2            2976  non-null values\n",
        " winecooler1             2976  non-null values\n",
        " dtypes: int64(1), object(72), 8669: <class 'pandas.core.frame.DataFrame'>\n",
        " Int64Index: 2976 entries, 18343 to 23811\n",
        " Data columns (total 73 columns):\n",
        " id                      2976  non-null values\n",
        " utc_15min               2976  non-null values\n",
        " air1                    2976  non-null values\n",
        " air2                    2976  non-null values\n",
        " air3                    2976  non-null values\n",
        " airwindowunit1          2976  non-null values\n",
        " aquarium1               2976  non-null values\n",
        " bathroom1               2976  non-null values\n",
        " bathroom2               2976  non-null values\n",
        " bedroom1                2976  non-null values\n",
        " bedroom2                2976  non-null values\n",
        " bedroom3                2976  non-null values\n",
        " bedroom4                2976  non-null values\n",
        " bedroom5                2976  non-null values\n",
        " car1                    0  non-null values\n",
        " clotheswasher1          2976  non-null values\n",
        " clotheswasher_dryg1     2976  non-null values\n",
        " diningroom1             2976  non-null values\n",
        " diningroom2             2976  non-null values\n",
        " dishwasher1             2976  non-null values\n",
        " disposal1               2976  non-null values\n",
        " drye1                   2976  non-null values\n",
        " dryg1                   2976  non-null values\n",
        " freezer1                2976  non-null values\n",
        " furnace1                2976  non-null values\n",
        " furnace2                2976  non-null values\n",
        " garage1                 2976  non-null values\n",
        " garage2                 2976  non-null values\n",
        " heater1                 2976  non-null values\n",
        " housefan1               2976  non-null values\n",
        " icemaker1               2976  non-null values\n",
        " jacuzzi1                2976  non-null values\n",
        " kitchen1                2976  non-null values\n",
        " kitchen2                2976  non-null values\n",
        " kitchenapp1             2976  non-null values\n",
        " kitchenapp2             2976  non-null values\n",
        " lights_plugs1           2976  non-null values\n",
        " lights_plugs2           2976  non-null values\n",
        " lights_plugs3           2976  non-null values\n",
        " lights_plugs4           2976  non-null values\n",
        " lights_plugs5           2976  non-null values\n",
        " lights_plugs6           2976  non-null values\n",
        " livingroom1             2976  non-null values\n",
        " livingroom2             2976  non-null values\n",
        " microwave1              2976  non-null values\n",
        " office1                 2976  non-null values\n",
        " outsidelights_plugs1    2976  non-null values\n",
        " outsidelights_plugs2    2976  non-null values\n",
        " oven1                   2976  non-null values\n",
        " oven2                   2976  non-null values\n",
        " pool1                   2976  non-null values\n",
        " pool2                   2976  non-null values\n",
        " poollight1              2976  non-null values\n",
        " poolpump1               2976  non-null values\n",
        " pump1                   2976  non-null values\n",
        " range1                  2976  non-null values\n",
        " refrigerator1           2976  non-null values\n",
        " refrigerator2           2976  non-null values\n",
        " security1               2976  non-null values\n",
        " shed1                   2976  non-null values\n",
        " sprinkler1              2976  non-null values\n",
        " subpanel1               2976  non-null values\n",
        " subpanel2               2976  non-null values\n",
        " unknown1                2976  non-null values\n",
        " unknown2                2976  non-null values\n",
        " unknown3                2976  non-null values\n",
        " unknown4                2976  non-null values\n",
        " use                     2976  non-null values\n",
        " utilityroom1            2976  non-null values\n",
        " venthood1               2976  non-null values\n",
        " waterheater1            2976  non-null values\n",
        " waterheater2            2976  non-null values\n",
        " winecooler1             2976  non-null values\n",
        " dtypes: int64(1), object(72), 9160: <class 'pandas.core.frame.DataFrame'>\n",
        " Int64Index: 2976 entries, 35948 to 41663\n",
        " Data columns (total 73 columns):\n",
        " id                      2976  non-null values\n",
        " utc_15min               2976  non-null values\n",
        " air1                    2976  non-null values\n",
        " air2                    2976  non-null values\n",
        " air3                    2976  non-null values\n",
        " airwindowunit1          2976  non-null values\n",
        " aquarium1               2976  non-null values\n",
        " bathroom1               2976  non-null values\n",
        " bathroom2               2976  non-null values\n",
        " bedroom1                2976  non-null values\n",
        " bedroom2                2976  non-null values\n",
        " bedroom3                2976  non-null values\n",
        " bedroom4                2976  non-null values\n",
        " bedroom5                2976  non-null values\n",
        " car1                    0  non-null values\n",
        " clotheswasher1          2976  non-null values\n",
        " clotheswasher_dryg1     2976  non-null values\n",
        " diningroom1             2976  non-null values\n",
        " diningroom2             2976  non-null values\n",
        " dishwasher1             2976  non-null values\n",
        " disposal1               2976  non-null values\n",
        " drye1                   2976  non-null values\n",
        " dryg1                   2976  non-null values\n",
        " freezer1                2976  non-null values\n",
        " furnace1                2976  non-null values\n",
        " furnace2                2976  non-null values\n",
        " garage1                 2976  non-null values\n",
        " garage2                 2976  non-null values\n",
        " heater1                 2976  non-null values\n",
        " housefan1               2976  non-null values\n",
        " icemaker1               2976  non-null values\n",
        " jacuzzi1                2976  non-null values\n",
        " kitchen1                2976  non-null values\n",
        " kitchen2                2976  non-null values\n",
        " kitchenapp1             2976  non-null values\n",
        " kitchenapp2             2976  non-null values\n",
        " lights_plugs1           2976  non-null values\n",
        " lights_plugs2           2976  non-null values\n",
        " lights_plugs3           2976  non-null values\n",
        " lights_plugs4           2976  non-null values\n",
        " lights_plugs5           2976  non-null values\n",
        " lights_plugs6           2976  non-null values\n",
        " livingroom1             2976  non-null values\n",
        " livingroom2             2976  non-null values\n",
        " microwave1              2976  non-null values\n",
        " office1                 2976  non-null values\n",
        " outsidelights_plugs1    2976  non-null values\n",
        " outsidelights_plugs2    2976  non-null values\n",
        " oven1                   2976  non-null values\n",
        " oven2                   2976  non-null values\n",
        " pool1                   2976  non-null values\n",
        " pool2                   2976  non-null values\n",
        " poollight1              2976  non-null values\n",
        " poolpump1               2976  non-null values\n",
        " pump1                   2976  non-null values\n",
        " range1                  2976  non-null values\n",
        " refrigerator1           2976  non-null values\n",
        " refrigerator2           2976  non-null values\n",
        " security1               2976  non-null values\n",
        " shed1                   2976  non-null values\n",
        " sprinkler1              2976  non-null values\n",
        " subpanel1               2976  non-null values\n",
        " subpanel2               2976  non-null values\n",
        " unknown1                2976  non-null values\n",
        " unknown2                2976  non-null values\n",
        " unknown3                2976  non-null values\n",
        " unknown4                2976  non-null values\n",
        " use                     2976  non-null values\n",
        " utilityroom1            2976  non-null values\n",
        " venthood1               2976  non-null values\n",
        " waterheater1            2976  non-null values\n",
        " waterheater2            2976  non-null values\n",
        " winecooler1             2976  non-null values\n",
        " dtypes: int64(1), object(72), 9654: <class 'pandas.core.frame.DataFrame'>\n",
        " Int64Index: 2976 entries, 0 to 2975\n",
        " Data columns (total 73 columns):\n",
        " id                      2976  non-null values\n",
        " utc_15min               2976  non-null values\n",
        " air1                    2976  non-null values\n",
        " air2                    2976  non-null values\n",
        " air3                    2976  non-null values\n",
        " airwindowunit1          2976  non-null values\n",
        " aquarium1               2976  non-null values\n",
        " bathroom1               2976  non-null values\n",
        " bathroom2               2976  non-null values\n",
        " bedroom1                2976  non-null values\n",
        " bedroom2                2976  non-null values\n",
        " bedroom3                2976  non-null values\n",
        " bedroom4                2976  non-null values\n",
        " bedroom5                2976  non-null values\n",
        " car1                    0  non-null values\n",
        " clotheswasher1          2976  non-null values\n",
        " clotheswasher_dryg1     2976  non-null values\n",
        " diningroom1             2976  non-null values\n",
        " diningroom2             2976  non-null values\n",
        " dishwasher1             2976  non-null values\n",
        " disposal1               2976  non-null values\n",
        " drye1                   2976  non-null values\n",
        " dryg1                   2976  non-null values\n",
        " freezer1                2976  non-null values\n",
        " furnace1                2976  non-null values\n",
        " furnace2                2976  non-null values\n",
        " garage1                 2976  non-null values\n",
        " garage2                 2976  non-null values\n",
        " heater1                 2976  non-null values\n",
        " housefan1               2976  non-null values\n",
        " icemaker1               2976  non-null values\n",
        " jacuzzi1                2976  non-null values\n",
        " kitchen1                2976  non-null values\n",
        " kitchen2                2976  non-null values\n",
        " kitchenapp1             2976  non-null values\n",
        " kitchenapp2             2976  non-null values\n",
        " lights_plugs1           2976  non-null values\n",
        " lights_plugs2           2976  non-null values\n",
        " lights_plugs3           2976  non-null values\n",
        " lights_plugs4           2976  non-null values\n",
        " lights_plugs5           2976  non-null values\n",
        " lights_plugs6           2976  non-null values\n",
        " livingroom1             2976  non-null values\n",
        " livingroom2             2976  non-null values\n",
        " microwave1              2976  non-null values\n",
        " office1                 2976  non-null values\n",
        " outsidelights_plugs1    2976  non-null values\n",
        " outsidelights_plugs2    2976  non-null values\n",
        " oven1                   2976  non-null values\n",
        " oven2                   2976  non-null values\n",
        " pool1                   2976  non-null values\n",
        " pool2                   2976  non-null values\n",
        " poollight1              2976  non-null values\n",
        " poolpump1               2976  non-null values\n",
        " pump1                   2976  non-null values\n",
        " range1                  2976  non-null values\n",
        " refrigerator1           2976  non-null values\n",
        " refrigerator2           2976  non-null values\n",
        " security1               2976  non-null values\n",
        " shed1                   2976  non-null values\n",
        " sprinkler1              2976  non-null values\n",
        " subpanel1               2976  non-null values\n",
        " subpanel2               2976  non-null values\n",
        " unknown1                2976  non-null values\n",
        " unknown2                2976  non-null values\n",
        " unknown3                2976  non-null values\n",
        " unknown4                2976  non-null values\n",
        " use                     2976  non-null values\n",
        " utilityroom1            2976  non-null values\n",
        " venthood1               2976  non-null values\n",
        " waterheater1            2976  non-null values\n",
        " waterheater2            2976  non-null values\n",
        " winecooler1             2976  non-null values\n",
        " dtypes: int64(1), object(72), 9737: <class 'pandas.core.frame.DataFrame'>\n",
        " Int64Index: 2976 entries, 23812 to 26794\n",
        " Data columns (total 73 columns):\n",
        " id                      2976  non-null values\n",
        " utc_15min               2976  non-null values\n",
        " air1                    2976  non-null values\n",
        " air2                    2976  non-null values\n",
        " air3                    2976  non-null values\n",
        " airwindowunit1          2976  non-null values\n",
        " aquarium1               2976  non-null values\n",
        " bathroom1               2976  non-null values\n",
        " bathroom2               2976  non-null values\n",
        " bedroom1                2976  non-null values\n",
        " bedroom2                2976  non-null values\n",
        " bedroom3                2976  non-null values\n",
        " bedroom4                2976  non-null values\n",
        " bedroom5                2976  non-null values\n",
        " car1                    0  non-null values\n",
        " clotheswasher1          2976  non-null values\n",
        " clotheswasher_dryg1     2976  non-null values\n",
        " diningroom1             2976  non-null values\n",
        " diningroom2             2976  non-null values\n",
        " dishwasher1             2976  non-null values\n",
        " disposal1               2976  non-null values\n",
        " drye1                   2976  non-null values\n",
        " dryg1                   2976  non-null values\n",
        " freezer1                2976  non-null values\n",
        " furnace1                2976  non-null values\n",
        " furnace2                2976  non-null values\n",
        " garage1                 2976  non-null values\n",
        " garage2                 2976  non-null values\n",
        " heater1                 2976  non-null values\n",
        " housefan1               2976  non-null values\n",
        " icemaker1               2976  non-null values\n",
        " jacuzzi1                2976  non-null values\n",
        " kitchen1                2976  non-null values\n",
        " kitchen2                2976  non-null values\n",
        " kitchenapp1             2976  non-null values\n",
        " kitchenapp2             2976  non-null values\n",
        " lights_plugs1           2976  non-null values\n",
        " lights_plugs2           2976  non-null values\n",
        " lights_plugs3           2976  non-null values\n",
        " lights_plugs4           2976  non-null values\n",
        " lights_plugs5           2976  non-null values\n",
        " lights_plugs6           2976  non-null values\n",
        " livingroom1             2976  non-null values\n",
        " livingroom2             2976  non-null values\n",
        " microwave1              2976  non-null values\n",
        " office1                 2976  non-null values\n",
        " outsidelights_plugs1    2976  non-null values\n",
        " outsidelights_plugs2    2976  non-null values\n",
        " oven1                   2976  non-null values\n",
        " oven2                   2976  non-null values\n",
        " pool1                   2976  non-null values\n",
        " pool2                   2976  non-null values\n",
        " poollight1              2976  non-null values\n",
        " poolpump1               2976  non-null values\n",
        " pump1                   2976  non-null values\n",
        " range1                  2976  non-null values\n",
        " refrigerator1           2976  non-null values\n",
        " refrigerator2           2976  non-null values\n",
        " security1               2976  non-null values\n",
        " shed1                   2976  non-null values\n",
        " sprinkler1              2976  non-null values\n",
        " subpanel1               2976  non-null values\n",
        " subpanel2               2976  non-null values\n",
        " unknown1                2976  non-null values\n",
        " unknown2                2976  non-null values\n",
        " unknown3                2976  non-null values\n",
        " unknown4                2976  non-null values\n",
        " use                     2976  non-null values\n",
        " utilityroom1            2976  non-null values\n",
        " venthood1               2976  non-null values\n",
        " waterheater1            2976  non-null values\n",
        " waterheater2            2976  non-null values\n",
        " winecooler1             2976  non-null values\n",
        " dtypes: int64(1), object(72), 9923: <class 'pandas.core.frame.DataFrame'>\n",
        " Int64Index: 2976 entries, 41664 to 44639\n",
        " Data columns (total 73 columns):\n",
        " id                      2976  non-null values\n",
        " utc_15min               2976  non-null values\n",
        " air1                    2976  non-null values\n",
        " air2                    2976  non-null values\n",
        " air3                    2976  non-null values\n",
        " airwindowunit1          2976  non-null values\n",
        " aquarium1               2976  non-null values\n",
        " bathroom1               2976  non-null values\n",
        " bathroom2               2976  non-null values\n",
        " bedroom1                2976  non-null values\n",
        " bedroom2                2976  non-null values\n",
        " bedroom3                2976  non-null values\n",
        " bedroom4                2976  non-null values\n",
        " bedroom5                2976  non-null values\n",
        " car1                    0  non-null values\n",
        " clotheswasher1          2976  non-null values\n",
        " clotheswasher_dryg1     2976  non-null values\n",
        " diningroom1             2976  non-null values\n",
        " diningroom2             2976  non-null values\n",
        " dishwasher1             2976  non-null values\n",
        " disposal1               2976  non-null values\n",
        " drye1                   2976  non-null values\n",
        " dryg1                   2976  non-null values\n",
        " freezer1                2976  non-null values\n",
        " furnace1                2976  non-null values\n",
        " furnace2                2976  non-null values\n",
        " garage1                 2976  non-null values\n",
        " garage2                 2976  non-null values\n",
        " heater1                 2976  non-null values\n",
        " housefan1               2976  non-null values\n",
        " icemaker1               2976  non-null values\n",
        " jacuzzi1                2976  non-null values\n",
        " kitchen1                2976  non-null values\n",
        " kitchen2                2976  non-null values\n",
        " kitchenapp1             2976  non-null values\n",
        " kitchenapp2             2976  non-null values\n",
        " lights_plugs1           2976  non-null values\n",
        " lights_plugs2           2976  non-null values\n",
        " lights_plugs3           2976  non-null values\n",
        " lights_plugs4           2976  non-null values\n",
        " lights_plugs5           2976  non-null values\n",
        " lights_plugs6           2976  non-null values\n",
        " livingroom1             2976  non-null values\n",
        " livingroom2             2976  non-null values\n",
        " microwave1              2976  non-null values\n",
        " office1                 2976  non-null values\n",
        " outsidelights_plugs1    2976  non-null values\n",
        " outsidelights_plugs2    2976  non-null values\n",
        " oven1                   2976  non-null values\n",
        " oven2                   2976  non-null values\n",
        " pool1                   2976  non-null values\n",
        " pool2                   2976  non-null values\n",
        " poollight1              2976  non-null values\n",
        " poolpump1               2976  non-null values\n",
        " pump1                   2976  non-null values\n",
        " range1                  2976  non-null values\n",
        " refrigerator1           2976  non-null values\n",
        " refrigerator2           2976  non-null values\n",
        " security1               2976  non-null values\n",
        " shed1                   2976  non-null values\n",
        " sprinkler1              2976  non-null values\n",
        " subpanel1               2976  non-null values\n",
        " subpanel2               2976  non-null values\n",
        " unknown1                2976  non-null values\n",
        " unknown2                2976  non-null values\n",
        " unknown3                2976  non-null values\n",
        " unknown4                2976  non-null values\n",
        " use                     2976  non-null values\n",
        " utilityroom1            2976  non-null values\n",
        " venthood1               2976  non-null values\n",
        " waterheater1            2976  non-null values\n",
        " waterheater2            2976  non-null values\n",
        " winecooler1             2976  non-null values\n",
        " dtypes: int64(1), object(72), 9932: <class 'pandas.core.frame.DataFrame'>\n",
        " Int64Index: 2976 entries, 62496 to 65471\n",
        " Data columns (total 73 columns):\n",
        " id                      2976  non-null values\n",
        " utc_15min               2976  non-null values\n",
        " air1                    2976  non-null values\n",
        " air2                    2976  non-null values\n",
        " air3                    2976  non-null values\n",
        " airwindowunit1          2976  non-null values\n",
        " aquarium1               2976  non-null values\n",
        " bathroom1               2976  non-null values\n",
        " bathroom2               2976  non-null values\n",
        " bedroom1                2976  non-null values\n",
        " bedroom2                2976  non-null values\n",
        " bedroom3                2976  non-null values\n",
        " bedroom4                2976  non-null values\n",
        " bedroom5                2976  non-null values\n",
        " car1                    0  non-null values\n",
        " clotheswasher1          2976  non-null values\n",
        " clotheswasher_dryg1     2976  non-null values\n",
        " diningroom1             2976  non-null values\n",
        " diningroom2             2976  non-null values\n",
        " dishwasher1             2976  non-null values\n",
        " disposal1               2976  non-null values\n",
        " drye1                   2976  non-null values\n",
        " dryg1                   2976  non-null values\n",
        " freezer1                2976  non-null values\n",
        " furnace1                2976  non-null values\n",
        " furnace2                2976  non-null values\n",
        " garage1                 2976  non-null values\n",
        " garage2                 2976  non-null values\n",
        " heater1                 2976  non-null values\n",
        " housefan1               2976  non-null values\n",
        " icemaker1               2976  non-null values\n",
        " jacuzzi1                2976  non-null values\n",
        " kitchen1                2976  non-null values\n",
        " kitchen2                2976  non-null values\n",
        " kitchenapp1             2976  non-null values\n",
        " kitchenapp2             2976  non-null values\n",
        " lights_plugs1           2976  non-null values\n",
        " lights_plugs2           2976  non-null values\n",
        " lights_plugs3           2976  non-null values\n",
        " lights_plugs4           2976  non-null values\n",
        " lights_plugs5           2976  non-null values\n",
        " lights_plugs6           2976  non-null values\n",
        " livingroom1             2976  non-null values\n",
        " livingroom2             2976  non-null values\n",
        " microwave1              2976  non-null values\n",
        " office1                 2976  non-null values\n",
        " outsidelights_plugs1    2976  non-null values\n",
        " outsidelights_plugs2    2976  non-null values\n",
        " oven1                   2976  non-null values\n",
        " oven2                   2976  non-null values\n",
        " pool1                   2976  non-null values\n",
        " pool2                   2976  non-null values\n",
        " poollight1              2976  non-null values\n",
        " poolpump1               2976  non-null values\n",
        " pump1                   2976  non-null values\n",
        " range1                  2976  non-null values\n",
        " refrigerator1           2976  non-null values\n",
        " refrigerator2           2976  non-null values\n",
        " security1               2976  non-null values\n",
        " shed1                   2976  non-null values\n",
        " sprinkler1              2976  non-null values\n",
        " subpanel1               2976  non-null values\n",
        " subpanel2               2976  non-null values\n",
        " unknown1                2976  non-null values\n",
        " unknown2                2976  non-null values\n",
        " unknown3                2976  non-null values\n",
        " unknown4                2976  non-null values\n",
        " use                     2976  non-null values\n",
        " utilityroom1            2976  non-null values\n",
        " venthood1               2976  non-null values\n",
        " waterheater1            2976  non-null values\n",
        " waterheater2            2976  non-null values\n",
        " winecooler1             2976  non-null values\n",
        " dtypes: int64(1), object(72), 9934: <class 'pandas.core.frame.DataFrame'>\n",
        " Int64Index: 2976 entries, 12409 to 17855\n",
        " Data columns (total 73 columns):\n",
        " id                      2976  non-null values\n",
        " utc_15min               2976  non-null values\n",
        " air1                    2976  non-null values\n",
        " air2                    2976  non-null values\n",
        " air3                    2976  non-null values\n",
        " airwindowunit1          2976  non-null values\n",
        " aquarium1               2976  non-null values\n",
        " bathroom1               2976  non-null values\n",
        " bathroom2               2976  non-null values\n",
        " bedroom1                2976  non-null values\n",
        " bedroom2                2976  non-null values\n",
        " bedroom3                2976  non-null values\n",
        " bedroom4                2976  non-null values\n",
        " bedroom5                2976  non-null values\n",
        " car1                    0  non-null values\n",
        " clotheswasher1          2976  non-null values\n",
        " clotheswasher_dryg1     2976  non-null values\n",
        " diningroom1             2976  non-null values\n",
        " diningroom2             2976  non-null values\n",
        " dishwasher1             2976  non-null values\n",
        " disposal1               2976  non-null values\n",
        " drye1                   2976  non-null values\n",
        " dryg1                   2976  non-null values\n",
        " freezer1                2976  non-null values\n",
        " furnace1                2976  non-null values\n",
        " furnace2                2976  non-null values\n",
        " garage1                 2976  non-null values\n",
        " garage2                 2976  non-null values\n",
        " heater1                 2976  non-null values\n",
        " housefan1               2976  non-null values\n",
        " icemaker1               2976  non-null values\n",
        " jacuzzi1                2976  non-null values\n",
        " kitchen1                2976  non-null values\n",
        " kitchen2                2976  non-null values\n",
        " kitchenapp1             2976  non-null values\n",
        " kitchenapp2             2976  non-null values\n",
        " lights_plugs1           2976  non-null values\n",
        " lights_plugs2           2976  non-null values\n",
        " lights_plugs3           2976  non-null values\n",
        " lights_plugs4           2976  non-null values\n",
        " lights_plugs5           2976  non-null values\n",
        " lights_plugs6           2976  non-null values\n",
        " livingroom1             2976  non-null values\n",
        " livingroom2             2976  non-null values\n",
        " microwave1              2976  non-null values\n",
        " office1                 2976  non-null values\n",
        " outsidelights_plugs1    2976  non-null values\n",
        " outsidelights_plugs2    2976  non-null values\n",
        " oven1                   2976  non-null values\n",
        " oven2                   2976  non-null values\n",
        " pool1                   2976  non-null values\n",
        " pool2                   2976  non-null values\n",
        " poollight1              2976  non-null values\n",
        " poolpump1               2976  non-null values\n",
        " pump1                   2976  non-null values\n",
        " range1                  2976  non-null values\n",
        " refrigerator1           2976  non-null values\n",
        " refrigerator2           2976  non-null values\n",
        " security1               2976  non-null values\n",
        " shed1                   2976  non-null values\n",
        " sprinkler1              2976  non-null values\n",
        " subpanel1               2976  non-null values\n",
        " subpanel2               2976  non-null values\n",
        " unknown1                2976  non-null values\n",
        " unknown2                2976  non-null values\n",
        " unknown3                2976  non-null values\n",
        " unknown4                2976  non-null values\n",
        " use                     2976  non-null values\n",
        " utilityroom1            2976  non-null values\n",
        " venthood1               2976  non-null values\n",
        " waterheater1            2976  non-null values\n",
        " waterheater2            2976  non-null values\n",
        " winecooler1             2976  non-null values\n",
        " dtypes: int64(1), object(72), 9937: <class 'pandas.core.frame.DataFrame'>\n",
        " Int64Index: 2976 entries, 70560 to 74399\n",
        " Data columns (total 73 columns):\n",
        " id                      2976  non-null values\n",
        " utc_15min               2976  non-null values\n",
        " air1                    2976  non-null values\n",
        " air2                    2976  non-null values\n",
        " air3                    2976  non-null values\n",
        " airwindowunit1          2976  non-null values\n",
        " aquarium1               2976  non-null values\n",
        " bathroom1               2976  non-null values\n",
        " bathroom2               2976  non-null values\n",
        " bedroom1                2976  non-null values\n",
        " bedroom2                2976  non-null values\n",
        " bedroom3                2976  non-null values\n",
        " bedroom4                2976  non-null values\n",
        " bedroom5                2976  non-null values\n",
        " car1                    0  non-null values\n",
        " clotheswasher1          2976  non-null values\n",
        " clotheswasher_dryg1     2976  non-null values\n",
        " diningroom1             2976  non-null values\n",
        " diningroom2             2976  non-null values\n",
        " dishwasher1             2976  non-null values\n",
        " disposal1               2976  non-null values\n",
        " drye1                   2976  non-null values\n",
        " dryg1                   2976  non-null values\n",
        " freezer1                2976  non-null values\n",
        " furnace1                2976  non-null values\n",
        " furnace2                2976  non-null values\n",
        " garage1                 2976  non-null values\n",
        " garage2                 2976  non-null values\n",
        " heater1                 2976  non-null values\n",
        " housefan1               2976  non-null values\n",
        " icemaker1               2976  non-null values\n",
        " jacuzzi1                2976  non-null values\n",
        " kitchen1                2976  non-null values\n",
        " kitchen2                2976  non-null values\n",
        " kitchenapp1             2976  non-null values\n",
        " kitchenapp2             2976  non-null values\n",
        " lights_plugs1           2976  non-null values\n",
        " lights_plugs2           2976  non-null values\n",
        " lights_plugs3           2976  non-null values\n",
        " lights_plugs4           2976  non-null values\n",
        " lights_plugs5           2976  non-null values\n",
        " lights_plugs6           2976  non-null values\n",
        " livingroom1             2976  non-null values\n",
        " livingroom2             2976  non-null values\n",
        " microwave1              2976  non-null values\n",
        " office1                 2976  non-null values\n",
        " outsidelights_plugs1    2976  non-null values\n",
        " outsidelights_plugs2    2976  non-null values\n",
        " oven1                   2976  non-null values\n",
        " oven2                   2976  non-null values\n",
        " pool1                   2976  non-null values\n",
        " pool2                   2976  non-null values\n",
        " poollight1              2976  non-null values\n",
        " poolpump1               2976  non-null values\n",
        " pump1                   2976  non-null values\n",
        " range1                  2976  non-null values\n",
        " refrigerator1           2976  non-null values\n",
        " refrigerator2           2976  non-null values\n",
        " security1               2976  non-null values\n",
        " shed1                   2976  non-null values\n",
        " sprinkler1              2976  non-null values\n",
        " subpanel1               2976  non-null values\n",
        " subpanel2               2976  non-null values\n",
        " unknown1                2976  non-null values\n",
        " unknown2                2976  non-null values\n",
        " unknown3                2976  non-null values\n",
        " unknown4                2976  non-null values\n",
        " use                     2976  non-null values\n",
        " utilityroom1            2976  non-null values\n",
        " venthood1               2976  non-null values\n",
        " waterheater1            2976  non-null values\n",
        " waterheater2            2976  non-null values\n",
        " winecooler1             2976  non-null values\n",
        " dtypes: int64(1), object(72)}"
       ]
      }
     ],
     "prompt_number": 11
    },
    {
     "cell_type": "code",
     "collapsed": false,
     "input": [
      "def plot_ac_over_one_month(d,month):\n",
      "    pyplt.clf()\n",
      "    day = days[month]\n",
      "    x=[]\n",
      "    for key,val in d.iteritems():\n",
      "        a1 = [float(y) for y in list(val['air1'])]\n",
      "        a2 = [float(y) + z for (y,z) in zip(list(val['air2']),a1)]\n",
      "        a3 = [float(y) + z for (y,z) in zip(list(val['air3']),a2)]\n",
      "        x = [float(y) + z for (y,z) in zip(list(val['airwindowunit1']),a3)]\n",
      "    x = [y/25.0 for y in x]\n",
      "    l = list(range(0,len(x),(len(x)/day)))\n",
      "    ax = pyplt.figure(figsize=(20,10)).add_subplot(111)\n",
      "    ax.set_xticks(l)\n",
      "    ax.set_xticklabels(range(1,day+1))\n",
      "    title = 'ac_'+month\n",
      "    pyplt.title(title)\n",
      "    ax.plot(x)\n",
      "    pyplt.savefig(title+'.png')\n",
      "\n",
      "    #pyplt.show()"
     ],
     "language": "python",
     "metadata": {},
     "outputs": [],
     "prompt_number": 6
    },
    {
     "cell_type": "code",
     "collapsed": false,
     "input": [
      "def plot_heat_over_one_month(d,month):\n",
      "    pyplt.clf()\n",
      "    day = days[month]\n",
      "    x=[]\n",
      "    for key,val in d.iteritems():\n",
      "        x = [float(y) for y in list(val['heater1'])]\n",
      "    x = [y/25.0 for y in x]\n",
      "    l = list(range(0,len(x),(len(x)/day)))\n",
      "    ax = pyplt.figure(figsize=(20,10)).add_subplot(111)\n",
      "    ax.set_xticks(l)\n",
      "    ax.set_xticklabels(range(1,day+1))\n",
      "    title = 'heat_'+month\n",
      "    pyplt.title(title)\n",
      "    ax.plot(x)\n",
      "    pyplt.savefig(title+'.png')\n",
      "\n",
      "    #pyplt.show()"
     ],
     "language": "python",
     "metadata": {},
     "outputs": [],
     "prompt_number": 7
    },
    {
     "cell_type": "code",
     "collapsed": false,
     "input": [
      "##plot air conditioning for one month\n",
      "##for a home add all the columns\n",
      "'''\n",
      "x=[]\n",
      "for key,val in dfs_dict.iteritems():\n",
      "    a1 = [float(y) for y in list(val['air1'])]\n",
      "    a2 = [float(y) + z for (y,z) in zip(list(val['air2']),a1)]\n",
      "    a3 = [float(y) + z for (y,z) in zip(list(val['air3']),a2)]\n",
      "    x = [float(y) + z for (y,z) in zip(list(val['airwindowunit1']),a3)]\n",
      "    x = [float(y) for y in list(val['heat1'])]\n",
      "x = [y/25.0 for y in x]\n",
      "#print x\n",
      "'''"
     ],
     "language": "python",
     "metadata": {},
     "outputs": [
      {
       "metadata": {},
       "output_type": "pyout",
       "prompt_number": 8,
       "text": [
        "\"\\nx=[]\\nfor key,val in dfs_dict.iteritems():\\n    a1 = [float(y) for y in list(val['air1'])]\\n    a2 = [float(y) + z for (y,z) in zip(list(val['air2']),a1)]\\n    a3 = [float(y) + z for (y,z) in zip(list(val['air3']),a2)]\\n    x = [float(y) + z for (y,z) in zip(list(val['airwindowunit1']),a3)]\\n    x = [float(y) for y in list(val['heat1'])]\\nx = [y/25.0 for y in x]\\n#print x\\n\""
       ]
      }
     ],
     "prompt_number": 8
    },
    {
     "cell_type": "code",
     "collapsed": false,
     "input": [
      "##for plotting purposes\n",
      "'''\n",
      "l = list(range(0,len(x),(len(x)/31)))\n",
      "len(l)\n",
      "pyplt.clf()\n",
      "'''"
     ],
     "language": "python",
     "metadata": {},
     "outputs": [
      {
       "metadata": {},
       "output_type": "pyout",
       "prompt_number": 9,
       "text": [
        "'\\nl = list(range(0,len(x),(len(x)/31)))\\nlen(l)\\npyplt.clf()\\n'"
       ]
      }
     ],
     "prompt_number": 9
    },
    {
     "cell_type": "code",
     "collapsed": false,
     "input": [
      "#pyplt.clf()"
     ],
     "language": "python",
     "metadata": {},
     "outputs": [],
     "prompt_number": 10
    },
    {
     "cell_type": "code",
     "collapsed": false,
     "input": [
      "##plotting\n",
      "##should make this a method\n",
      "'''\n",
      "ax = pyplt.figure(figsize=(20,10)).add_subplot(111)\n",
      "ax.set_xticks(l)\n",
      "ax.set_xticklabels(range(1,32))\n",
      "ax.plot(x)\n",
      "pyplt.savefig('October_avg.pdf')\n",
      "\n",
      "pyplt.show()\n",
      "'''\n"
     ],
     "language": "python",
     "metadata": {},
     "outputs": [
      {
       "metadata": {},
       "output_type": "pyout",
       "prompt_number": 11,
       "text": [
        "\"\\nax = pyplt.figure(figsize=(20,10)).add_subplot(111)\\nax.set_xticks(l)\\nax.set_xticklabels(range(1,32))\\nax.plot(x)\\npyplt.savefig('October_avg.pdf')\\n\\npyplt.show()\\n\""
       ]
      }
     ],
     "prompt_number": 11
    },
    {
     "cell_type": "code",
     "collapsed": false,
     "input": [
      "#test_building=dfs_dict[8197]"
     ],
     "language": "python",
     "metadata": {},
     "outputs": [],
     "prompt_number": 12
    },
    {
     "cell_type": "code",
     "collapsed": false,
     "input": [
      "def get_sums(house):\n",
      "    house=house.drop('id',axis=1)\n",
      "    #house=house.drop('dataid',axis=1)\n",
      "    house=house.drop('utc_15min',axis=1)\n",
      "    sums={}\n",
      "   # print(house.columns)\n",
      "    for col in house.columns:\n",
      "       sums[str(col)]=float(house[col].sum())\n",
      "    return sums        \n",
      "    "
     ],
     "language": "python",
     "metadata": {},
     "outputs": [],
     "prompt_number": 12
    },
    {
     "cell_type": "code",
     "collapsed": false,
     "input": [
      "#get_sums(dfs_dict[8197])"
     ],
     "language": "python",
     "metadata": {},
     "outputs": [],
     "prompt_number": 13
    },
    {
     "cell_type": "code",
     "collapsed": false,
     "input": [
      "def hvacs(house):\n",
      "    other = 0 \n",
      "    hvacs={'air1':0,'air2':0,'air3':0,'airwindowunit1':0,'furnace1':0,'furnace2':0,'heater1':0,'housefan1':0,'venthood1':0, 'other':0,'use':0}\n",
      "    house2 = house.drop('id',axis=1)\n",
      "   # house2=house2.drop('dataid',axis=1)\n",
      "    house2=house2.drop('utc_15min',axis=1)\n",
      "    \n",
      "    #print(house2.columns)\n",
      "    count = 0 \n",
      "    for col in house2.columns:\n",
      "        if str(col) in hvacs:\n",
      "            hvacs[str(col)]=float(house2[col].sum())\n",
      "        elif col!='use':\n",
      "            hvacs['other']=float(hvacs['other']) + float(house2[col].sum())\n",
      "            if not math.isnan(float(house2[col].sum())):\n",
      "                count = count + float(house2[col].sum())\n",
      "            hvacs['other']=count\n",
      "        else:\n",
      "            hvacs['use']=float(house2[col].sum())\n",
      "    total_air = hvacs['air1']+hvacs['air2']+hvacs['air3']+hvacs['airwindowunit1']\n",
      "    hvacs['air']=total_air\n",
      "    hvacs.pop('air1',None)\n",
      "    hvacs.pop('air2',None)\n",
      "    hvacs.pop('air3',None)\n",
      "    hvacs.pop('airwindowunit1',None)\n",
      "    hvacs['furnaces']= hvacs['furnace1']+hvacs['furnace2']\n",
      "    hvacs.pop('furnace1',None)\n",
      "    hvacs.pop('furnace2',None)\n",
      "    #print(count)\n",
      "    \n",
      "    return hvacs"
     ],
     "language": "python",
     "metadata": {},
     "outputs": [],
     "prompt_number": 14
    },
    {
     "cell_type": "code",
     "collapsed": false,
     "input": [
      "'''\n",
      "x=sum(val for (key,val) in hvacs.iteritems() if key!='other')\n",
      "print(x)\n",
      "print(1-(hvacs['other']/(x+hvacs['other'])))\n",
      "'''"
     ],
     "language": "python",
     "metadata": {},
     "outputs": [
      {
       "metadata": {},
       "output_type": "pyout",
       "prompt_number": 16,
       "text": [
        "\"\\nx=sum(val for (key,val) in hvacs.iteritems() if key!='other')\\nprint(x)\\nprint(1-(hvacs['other']/(x+hvacs['other'])))\\n\""
       ]
      }
     ],
     "prompt_number": 16
    },
    {
     "cell_type": "code",
     "collapsed": false,
     "input": [
      "#funhouse = d[d.keys()[0]]"
     ],
     "language": "python",
     "metadata": {},
     "outputs": [],
     "prompt_number": 17
    },
    {
     "cell_type": "code",
     "collapsed": false,
     "input": [
      "#check that use is the total use?\n",
      "count=0\n",
      "funhouset = funhouse\n",
      "funhouset = funhouset.drop('id',axis=1)\n",
      "   # house2=house2.drop('dataid',axis=1)\n",
      "funhouset=funhouset.drop('utc_15min',axis=1)\n",
      "for col in funhouset.columns:\n",
      "   if col!='use':\n",
      "       if not math.isnan(float(funhouset[col].sum())):\n",
      "            count = count + float(funhouset[col].sum())\n",
      "print count\n",
      "print float(funhouset['use'].sum())"
     ],
     "language": "python",
     "metadata": {},
     "outputs": [
      {
       "output_type": "stream",
       "stream": "stdout",
       "text": [
        "3843.059\n",
        "7600.19\n"
       ]
      }
     ],
     "prompt_number": 15
    },
    {
     "cell_type": "code",
     "collapsed": false,
     "input": [
      "for month in months:\n",
      "    d = query_month(month)\n",
      "    plot_heat_over_one_month(d,month)"
     ],
     "language": "python",
     "metadata": {},
     "outputs": [
      {
       "output_type": "stream",
       "stream": "stdout",
       "text": [
        "2014-06-16 15:58:59,395 INFO sqlalchemy.engine.base.Engine select version()\n"
       ]
      },
      {
       "output_type": "stream",
       "stream": "stderr",
       "text": [
        "INFO:sqlalchemy.engine.base.Engine:select version()\n"
       ]
      },
      {
       "output_type": "stream",
       "stream": "stdout",
       "text": [
        "2014-06-16 15:58:59,396 INFO sqlalchemy.engine.base.Engine {}\n"
       ]
      },
      {
       "output_type": "stream",
       "stream": "stderr",
       "text": [
        "INFO:sqlalchemy.engine.base.Engine:{}\n"
       ]
      },
      {
       "output_type": "stream",
       "stream": "stdout",
       "text": [
        "2014-06-16 15:58:59,485 INFO sqlalchemy.engine.base.Engine select current_schema()\n"
       ]
      },
      {
       "output_type": "stream",
       "stream": "stderr",
       "text": [
        "INFO:sqlalchemy.engine.base.Engine:select current_schema()\n"
       ]
      },
      {
       "output_type": "stream",
       "stream": "stdout",
       "text": [
        "2014-06-16 15:58:59,486 INFO sqlalchemy.engine.base.Engine {}\n"
       ]
      },
      {
       "output_type": "stream",
       "stream": "stderr",
       "text": [
        "INFO:sqlalchemy.engine.base.Engine:{}\n"
       ]
      },
      {
       "output_type": "stream",
       "stream": "stdout",
       "text": [
        "2014-06-16 15:58:59,577 INFO sqlalchemy.engine.base.Engine SELECT CAST('test plain returns' AS VARCHAR(60)) AS anon_1\n"
       ]
      },
      {
       "output_type": "stream",
       "stream": "stderr",
       "text": [
        "INFO:sqlalchemy.engine.base.Engine:SELECT CAST('test plain returns' AS VARCHAR(60)) AS anon_1\n"
       ]
      },
      {
       "output_type": "stream",
       "stream": "stdout",
       "text": [
        "2014-06-16 15:58:59,578 INFO sqlalchemy.engine.base.Engine {}\n"
       ]
      },
      {
       "output_type": "stream",
       "stream": "stderr",
       "text": [
        "INFO:sqlalchemy.engine.base.Engine:{}\n"
       ]
      },
      {
       "output_type": "stream",
       "stream": "stdout",
       "text": [
        "2014-06-16 15:58:59,623 INFO sqlalchemy.engine.base.Engine SELECT CAST('test unicode returns' AS VARCHAR(60)) AS anon_1\n"
       ]
      },
      {
       "output_type": "stream",
       "stream": "stderr",
       "text": [
        "INFO:sqlalchemy.engine.base.Engine:SELECT CAST('test unicode returns' AS VARCHAR(60)) AS anon_1\n"
       ]
      },
      {
       "output_type": "stream",
       "stream": "stdout",
       "text": [
        "2014-06-16 15:58:59,625 INFO sqlalchemy.engine.base.Engine {}\n"
       ]
      },
      {
       "output_type": "stream",
       "stream": "stderr",
       "text": [
        "INFO:sqlalchemy.engine.base.Engine:{}\n"
       ]
      },
      {
       "output_type": "stream",
       "stream": "stdout",
       "text": [
        "2014-06-16 15:58:59,748 INFO sqlalchemy.engine.base.Engine show standard_conforming_strings\n"
       ]
      },
      {
       "output_type": "stream",
       "stream": "stderr",
       "text": [
        "INFO:sqlalchemy.engine.base.Engine:show standard_conforming_strings\n"
       ]
      },
      {
       "output_type": "stream",
       "stream": "stdout",
       "text": [
        "2014-06-16 15:58:59,750 INFO sqlalchemy.engine.base.Engine {}\n"
       ]
      },
      {
       "output_type": "stream",
       "stream": "stderr",
       "text": [
        "INFO:sqlalchemy.engine.base.Engine:{}\n"
       ]
      },
      {
       "output_type": "stream",
       "stream": "stdout",
       "text": [
        "2014-06-16 15:58:59,841 INFO sqlalchemy.engine.base.Engine select * from \"PecanStreet_CuratedSets\".group1_disaggregated_2013_01\n"
       ]
      },
      {
       "output_type": "stream",
       "stream": "stderr",
       "text": [
        "INFO:sqlalchemy.engine.base.Engine:select * from \"PecanStreet_CuratedSets\".group1_disaggregated_2013_01\n"
       ]
      },
      {
       "output_type": "stream",
       "stream": "stdout",
       "text": [
        "2014-06-16 15:58:59,842 INFO sqlalchemy.engine.base.Engine {}\n"
       ]
      },
      {
       "output_type": "stream",
       "stream": "stderr",
       "text": [
        "INFO:sqlalchemy.engine.base.Engine:{}\n"
       ]
      },
      {
       "output_type": "stream",
       "stream": "stdout",
       "text": [
        "2014-06-16 16:01:21,758 INFO sqlalchemy.engine.base.Engine select version()\n"
       ]
      },
      {
       "output_type": "stream",
       "stream": "stderr",
       "text": [
        "INFO:sqlalchemy.engine.base.Engine:select version()\n"
       ]
      },
      {
       "output_type": "stream",
       "stream": "stdout",
       "text": [
        "2014-06-16 16:01:21,759 INFO sqlalchemy.engine.base.Engine {}\n"
       ]
      },
      {
       "output_type": "stream",
       "stream": "stderr",
       "text": [
        "INFO:sqlalchemy.engine.base.Engine:{}\n"
       ]
      },
      {
       "output_type": "stream",
       "stream": "stdout",
       "text": [
        "2014-06-16 16:01:21,847 INFO sqlalchemy.engine.base.Engine select current_schema()\n"
       ]
      },
      {
       "output_type": "stream",
       "stream": "stderr",
       "text": [
        "INFO:sqlalchemy.engine.base.Engine:select current_schema()\n"
       ]
      },
      {
       "output_type": "stream",
       "stream": "stdout",
       "text": [
        "2014-06-16 16:01:21,849 INFO sqlalchemy.engine.base.Engine {}\n"
       ]
      },
      {
       "output_type": "stream",
       "stream": "stderr",
       "text": [
        "INFO:sqlalchemy.engine.base.Engine:{}\n"
       ]
      },
      {
       "output_type": "stream",
       "stream": "stdout",
       "text": [
        "2014-06-16 16:01:21,936 INFO sqlalchemy.engine.base.Engine SELECT CAST('test plain returns' AS VARCHAR(60)) AS anon_1\n"
       ]
      },
      {
       "output_type": "stream",
       "stream": "stderr",
       "text": [
        "INFO:sqlalchemy.engine.base.Engine:SELECT CAST('test plain returns' AS VARCHAR(60)) AS anon_1\n"
       ]
      },
      {
       "output_type": "stream",
       "stream": "stdout",
       "text": [
        "2014-06-16 16:01:21,937 INFO sqlalchemy.engine.base.Engine {}\n"
       ]
      },
      {
       "output_type": "stream",
       "stream": "stderr",
       "text": [
        "INFO:sqlalchemy.engine.base.Engine:{}\n"
       ]
      },
      {
       "output_type": "stream",
       "stream": "stdout",
       "text": [
        "2014-06-16 16:01:21,983 INFO sqlalchemy.engine.base.Engine SELECT CAST('test unicode returns' AS VARCHAR(60)) AS anon_1\n"
       ]
      },
      {
       "output_type": "stream",
       "stream": "stderr",
       "text": [
        "INFO:sqlalchemy.engine.base.Engine:SELECT CAST('test unicode returns' AS VARCHAR(60)) AS anon_1\n"
       ]
      },
      {
       "output_type": "stream",
       "stream": "stdout",
       "text": [
        "2014-06-16 16:01:21,984 INFO sqlalchemy.engine.base.Engine {}\n"
       ]
      },
      {
       "output_type": "stream",
       "stream": "stderr",
       "text": [
        "INFO:sqlalchemy.engine.base.Engine:{}\n"
       ]
      },
      {
       "output_type": "stream",
       "stream": "stdout",
       "text": [
        "2014-06-16 16:01:22,121 INFO sqlalchemy.engine.base.Engine show standard_conforming_strings\n"
       ]
      },
      {
       "output_type": "stream",
       "stream": "stderr",
       "text": [
        "INFO:sqlalchemy.engine.base.Engine:show standard_conforming_strings\n"
       ]
      },
      {
       "output_type": "stream",
       "stream": "stdout",
       "text": [
        "2014-06-16 16:01:22,123 INFO sqlalchemy.engine.base.Engine {}\n"
       ]
      },
      {
       "output_type": "stream",
       "stream": "stderr",
       "text": [
        "INFO:sqlalchemy.engine.base.Engine:{}\n"
       ]
      },
      {
       "output_type": "stream",
       "stream": "stdout",
       "text": [
        "2014-06-16 16:01:22,212 INFO sqlalchemy.engine.base.Engine select * from \"PecanStreet_CuratedSets\".group1_disaggregated_2013_02\n"
       ]
      },
      {
       "output_type": "stream",
       "stream": "stderr",
       "text": [
        "INFO:sqlalchemy.engine.base.Engine:select * from \"PecanStreet_CuratedSets\".group1_disaggregated_2013_02\n"
       ]
      },
      {
       "output_type": "stream",
       "stream": "stdout",
       "text": [
        "2014-06-16 16:01:22,213 INFO sqlalchemy.engine.base.Engine {}\n"
       ]
      },
      {
       "output_type": "stream",
       "stream": "stderr",
       "text": [
        "INFO:sqlalchemy.engine.base.Engine:{}\n"
       ]
      },
      {
       "output_type": "stream",
       "stream": "stdout",
       "text": [
        "2014-06-16 16:03:25,807 INFO sqlalchemy.engine.base.Engine select version()\n"
       ]
      },
      {
       "output_type": "stream",
       "stream": "stderr",
       "text": [
        "INFO:sqlalchemy.engine.base.Engine:select version()\n"
       ]
      },
      {
       "output_type": "stream",
       "stream": "stdout",
       "text": [
        "2014-06-16 16:03:25,810 INFO sqlalchemy.engine.base.Engine {}\n"
       ]
      },
      {
       "output_type": "stream",
       "stream": "stderr",
       "text": [
        "INFO:sqlalchemy.engine.base.Engine:{}\n"
       ]
      },
      {
       "output_type": "stream",
       "stream": "stdout",
       "text": [
        "2014-06-16 16:03:26,090 INFO sqlalchemy.engine.base.Engine select current_schema()\n"
       ]
      },
      {
       "output_type": "stream",
       "stream": "stderr",
       "text": [
        "INFO:sqlalchemy.engine.base.Engine:select current_schema()\n"
       ]
      },
      {
       "output_type": "stream",
       "stream": "stdout",
       "text": [
        "2014-06-16 16:03:26,091 INFO sqlalchemy.engine.base.Engine {}\n"
       ]
      },
      {
       "output_type": "stream",
       "stream": "stderr",
       "text": [
        "INFO:sqlalchemy.engine.base.Engine:{}\n"
       ]
      },
      {
       "output_type": "stream",
       "stream": "stdout",
       "text": [
        "2014-06-16 16:03:26,327 INFO sqlalchemy.engine.base.Engine SELECT CAST('test plain returns' AS VARCHAR(60)) AS anon_1\n"
       ]
      },
      {
       "output_type": "stream",
       "stream": "stderr",
       "text": [
        "INFO:sqlalchemy.engine.base.Engine:SELECT CAST('test plain returns' AS VARCHAR(60)) AS anon_1\n"
       ]
      },
      {
       "output_type": "stream",
       "stream": "stdout",
       "text": [
        "2014-06-16 16:03:26,328 INFO sqlalchemy.engine.base.Engine {}\n"
       ]
      },
      {
       "output_type": "stream",
       "stream": "stderr",
       "text": [
        "INFO:sqlalchemy.engine.base.Engine:{}\n"
       ]
      },
      {
       "output_type": "stream",
       "stream": "stdout",
       "text": [
        "2014-06-16 16:03:26,448 INFO sqlalchemy.engine.base.Engine SELECT CAST('test unicode returns' AS VARCHAR(60)) AS anon_1\n"
       ]
      },
      {
       "output_type": "stream",
       "stream": "stderr",
       "text": [
        "INFO:sqlalchemy.engine.base.Engine:SELECT CAST('test unicode returns' AS VARCHAR(60)) AS anon_1\n"
       ]
      },
      {
       "output_type": "stream",
       "stream": "stdout",
       "text": [
        "2014-06-16 16:03:26,449 INFO sqlalchemy.engine.base.Engine {}\n"
       ]
      },
      {
       "output_type": "stream",
       "stream": "stderr",
       "text": [
        "INFO:sqlalchemy.engine.base.Engine:{}\n"
       ]
      },
      {
       "output_type": "stream",
       "stream": "stdout",
       "text": [
        "2014-06-16 16:03:26,846 INFO sqlalchemy.engine.base.Engine show standard_conforming_strings\n"
       ]
      },
      {
       "output_type": "stream",
       "stream": "stderr",
       "text": [
        "INFO:sqlalchemy.engine.base.Engine:show standard_conforming_strings\n"
       ]
      },
      {
       "output_type": "stream",
       "stream": "stdout",
       "text": [
        "2014-06-16 16:03:26,847 INFO sqlalchemy.engine.base.Engine {}\n"
       ]
      },
      {
       "output_type": "stream",
       "stream": "stderr",
       "text": [
        "INFO:sqlalchemy.engine.base.Engine:{}\n"
       ]
      },
      {
       "output_type": "stream",
       "stream": "stdout",
       "text": [
        "2014-06-16 16:03:27,112 INFO sqlalchemy.engine.base.Engine select * from \"PecanStreet_CuratedSets\".group1_disaggregated_2013_03\n"
       ]
      },
      {
       "output_type": "stream",
       "stream": "stderr",
       "text": [
        "INFO:sqlalchemy.engine.base.Engine:select * from \"PecanStreet_CuratedSets\".group1_disaggregated_2013_03\n"
       ]
      },
      {
       "output_type": "stream",
       "stream": "stdout",
       "text": [
        "2014-06-16 16:03:27,113 INFO sqlalchemy.engine.base.Engine {}\n"
       ]
      },
      {
       "output_type": "stream",
       "stream": "stderr",
       "text": [
        "INFO:sqlalchemy.engine.base.Engine:{}\n"
       ]
      },
      {
       "output_type": "stream",
       "stream": "stdout",
       "text": [
        "2014-06-16 16:05:58,687 INFO sqlalchemy.engine.base.Engine select version()\n"
       ]
      },
      {
       "output_type": "stream",
       "stream": "stderr",
       "text": [
        "INFO:sqlalchemy.engine.base.Engine:select version()\n"
       ]
      },
      {
       "output_type": "stream",
       "stream": "stdout",
       "text": [
        "2014-06-16 16:05:58,688 INFO sqlalchemy.engine.base.Engine {}\n"
       ]
      },
      {
       "output_type": "stream",
       "stream": "stderr",
       "text": [
        "INFO:sqlalchemy.engine.base.Engine:{}\n"
       ]
      },
      {
       "output_type": "stream",
       "stream": "stdout",
       "text": [
        "2014-06-16 16:05:58,957 INFO sqlalchemy.engine.base.Engine select current_schema()\n"
       ]
      },
      {
       "output_type": "stream",
       "stream": "stderr",
       "text": [
        "INFO:sqlalchemy.engine.base.Engine:select current_schema()\n"
       ]
      },
      {
       "output_type": "stream",
       "stream": "stdout",
       "text": [
        "2014-06-16 16:05:58,958 INFO sqlalchemy.engine.base.Engine {}\n"
       ]
      },
      {
       "output_type": "stream",
       "stream": "stderr",
       "text": [
        "INFO:sqlalchemy.engine.base.Engine:{}\n"
       ]
      },
      {
       "output_type": "stream",
       "stream": "stdout",
       "text": [
        "2014-06-16 16:05:59,277 INFO sqlalchemy.engine.base.Engine SELECT CAST('test plain returns' AS VARCHAR(60)) AS anon_1\n"
       ]
      },
      {
       "output_type": "stream",
       "stream": "stderr",
       "text": [
        "INFO:sqlalchemy.engine.base.Engine:SELECT CAST('test plain returns' AS VARCHAR(60)) AS anon_1\n"
       ]
      },
      {
       "output_type": "stream",
       "stream": "stdout",
       "text": [
        "2014-06-16 16:05:59,278 INFO sqlalchemy.engine.base.Engine {}\n"
       ]
      },
      {
       "output_type": "stream",
       "stream": "stderr",
       "text": [
        "INFO:sqlalchemy.engine.base.Engine:{}\n"
       ]
      },
      {
       "output_type": "stream",
       "stream": "stdout",
       "text": [
        "2014-06-16 16:05:59,453 INFO sqlalchemy.engine.base.Engine SELECT CAST('test unicode returns' AS VARCHAR(60)) AS anon_1\n"
       ]
      },
      {
       "output_type": "stream",
       "stream": "stderr",
       "text": [
        "INFO:sqlalchemy.engine.base.Engine:SELECT CAST('test unicode returns' AS VARCHAR(60)) AS anon_1\n"
       ]
      },
      {
       "output_type": "stream",
       "stream": "stdout",
       "text": [
        "2014-06-16 16:05:59,454 INFO sqlalchemy.engine.base.Engine {}\n"
       ]
      },
      {
       "output_type": "stream",
       "stream": "stderr",
       "text": [
        "INFO:sqlalchemy.engine.base.Engine:{}\n"
       ]
      },
      {
       "output_type": "stream",
       "stream": "stdout",
       "text": [
        "2014-06-16 16:05:59,933 INFO sqlalchemy.engine.base.Engine show standard_conforming_strings\n"
       ]
      },
      {
       "output_type": "stream",
       "stream": "stderr",
       "text": [
        "INFO:sqlalchemy.engine.base.Engine:show standard_conforming_strings\n"
       ]
      },
      {
       "output_type": "stream",
       "stream": "stdout",
       "text": [
        "2014-06-16 16:05:59,933 INFO sqlalchemy.engine.base.Engine {}\n"
       ]
      },
      {
       "output_type": "stream",
       "stream": "stderr",
       "text": [
        "INFO:sqlalchemy.engine.base.Engine:{}\n"
       ]
      },
      {
       "output_type": "stream",
       "stream": "stdout",
       "text": [
        "2014-06-16 16:06:00,237 INFO sqlalchemy.engine.base.Engine select * from \"PecanStreet_CuratedSets\".group1_disaggregated_2013_04\n"
       ]
      },
      {
       "output_type": "stream",
       "stream": "stderr",
       "text": [
        "INFO:sqlalchemy.engine.base.Engine:select * from \"PecanStreet_CuratedSets\".group1_disaggregated_2013_04\n"
       ]
      },
      {
       "output_type": "stream",
       "stream": "stdout",
       "text": [
        "2014-06-16 16:06:00,238 INFO sqlalchemy.engine.base.Engine {}\n"
       ]
      },
      {
       "output_type": "stream",
       "stream": "stderr",
       "text": [
        "INFO:sqlalchemy.engine.base.Engine:{}\n"
       ]
      },
      {
       "output_type": "stream",
       "stream": "stdout",
       "text": [
        "2014-06-16 16:08:39,568 INFO sqlalchemy.engine.base.Engine select version()\n"
       ]
      },
      {
       "output_type": "stream",
       "stream": "stderr",
       "text": [
        "INFO:sqlalchemy.engine.base.Engine:select version()\n"
       ]
      },
      {
       "output_type": "stream",
       "stream": "stdout",
       "text": [
        "2014-06-16 16:08:39,569 INFO sqlalchemy.engine.base.Engine {}\n"
       ]
      },
      {
       "output_type": "stream",
       "stream": "stderr",
       "text": [
        "INFO:sqlalchemy.engine.base.Engine:{}\n"
       ]
      },
      {
       "output_type": "stream",
       "stream": "stdout",
       "text": [
        "2014-06-16 16:08:39,875 INFO sqlalchemy.engine.base.Engine select current_schema()\n"
       ]
      },
      {
       "output_type": "stream",
       "stream": "stderr",
       "text": [
        "INFO:sqlalchemy.engine.base.Engine:select current_schema()\n"
       ]
      },
      {
       "output_type": "stream",
       "stream": "stdout",
       "text": [
        "2014-06-16 16:08:39,876 INFO sqlalchemy.engine.base.Engine {}\n"
       ]
      },
      {
       "output_type": "stream",
       "stream": "stderr",
       "text": [
        "INFO:sqlalchemy.engine.base.Engine:{}\n"
       ]
      },
      {
       "output_type": "stream",
       "stream": "stdout",
       "text": [
        "2014-06-16 16:08:40,174 INFO sqlalchemy.engine.base.Engine SELECT CAST('test plain returns' AS VARCHAR(60)) AS anon_1\n"
       ]
      },
      {
       "output_type": "stream",
       "stream": "stderr",
       "text": [
        "INFO:sqlalchemy.engine.base.Engine:SELECT CAST('test plain returns' AS VARCHAR(60)) AS anon_1\n"
       ]
      },
      {
       "output_type": "stream",
       "stream": "stdout",
       "text": [
        "2014-06-16 16:08:40,174 INFO sqlalchemy.engine.base.Engine {}\n"
       ]
      },
      {
       "output_type": "stream",
       "stream": "stderr",
       "text": [
        "INFO:sqlalchemy.engine.base.Engine:{}\n"
       ]
      },
      {
       "output_type": "stream",
       "stream": "stdout",
       "text": [
        "2014-06-16 16:08:40,319 INFO sqlalchemy.engine.base.Engine SELECT CAST('test unicode returns' AS VARCHAR(60)) AS anon_1\n"
       ]
      },
      {
       "output_type": "stream",
       "stream": "stderr",
       "text": [
        "INFO:sqlalchemy.engine.base.Engine:SELECT CAST('test unicode returns' AS VARCHAR(60)) AS anon_1\n"
       ]
      },
      {
       "output_type": "stream",
       "stream": "stdout",
       "text": [
        "2014-06-16 16:08:40,319 INFO sqlalchemy.engine.base.Engine {}\n"
       ]
      },
      {
       "output_type": "stream",
       "stream": "stderr",
       "text": [
        "INFO:sqlalchemy.engine.base.Engine:{}\n"
       ]
      },
      {
       "output_type": "stream",
       "stream": "stdout",
       "text": [
        "2014-06-16 16:08:40,767 INFO sqlalchemy.engine.base.Engine show standard_conforming_strings\n"
       ]
      },
      {
       "output_type": "stream",
       "stream": "stderr",
       "text": [
        "INFO:sqlalchemy.engine.base.Engine:show standard_conforming_strings\n"
       ]
      },
      {
       "output_type": "stream",
       "stream": "stdout",
       "text": [
        "2014-06-16 16:08:40,768 INFO sqlalchemy.engine.base.Engine {}\n"
       ]
      },
      {
       "output_type": "stream",
       "stream": "stderr",
       "text": [
        "INFO:sqlalchemy.engine.base.Engine:{}\n"
       ]
      },
      {
       "output_type": "stream",
       "stream": "stdout",
       "text": [
        "2014-06-16 16:08:41,050 INFO sqlalchemy.engine.base.Engine select * from \"PecanStreet_CuratedSets\".group1_disaggregated_2013_05\n"
       ]
      },
      {
       "output_type": "stream",
       "stream": "stderr",
       "text": [
        "INFO:sqlalchemy.engine.base.Engine:select * from \"PecanStreet_CuratedSets\".group1_disaggregated_2013_05\n"
       ]
      },
      {
       "output_type": "stream",
       "stream": "stdout",
       "text": [
        "2014-06-16 16:08:41,051 INFO sqlalchemy.engine.base.Engine {}\n"
       ]
      },
      {
       "output_type": "stream",
       "stream": "stderr",
       "text": [
        "INFO:sqlalchemy.engine.base.Engine:{}\n"
       ]
      },
      {
       "output_type": "stream",
       "stream": "stdout",
       "text": [
        "2014-06-16 16:11:21,738 INFO sqlalchemy.engine.base.Engine select version()\n"
       ]
      },
      {
       "output_type": "stream",
       "stream": "stderr",
       "text": [
        "INFO:sqlalchemy.engine.base.Engine:select version()\n"
       ]
      },
      {
       "output_type": "stream",
       "stream": "stdout",
       "text": [
        "2014-06-16 16:11:21,740 INFO sqlalchemy.engine.base.Engine {}\n"
       ]
      },
      {
       "output_type": "stream",
       "stream": "stderr",
       "text": [
        "INFO:sqlalchemy.engine.base.Engine:{}\n"
       ]
      },
      {
       "output_type": "stream",
       "stream": "stdout",
       "text": [
        "2014-06-16 16:11:21,834 INFO sqlalchemy.engine.base.Engine select current_schema()\n"
       ]
      },
      {
       "output_type": "stream",
       "stream": "stderr",
       "text": [
        "INFO:sqlalchemy.engine.base.Engine:select current_schema()\n"
       ]
      },
      {
       "output_type": "stream",
       "stream": "stdout",
       "text": [
        "2014-06-16 16:11:21,834 INFO sqlalchemy.engine.base.Engine {}\n"
       ]
      },
      {
       "output_type": "stream",
       "stream": "stderr",
       "text": [
        "INFO:sqlalchemy.engine.base.Engine:{}\n"
       ]
      },
      {
       "output_type": "stream",
       "stream": "stdout",
       "text": [
        "2014-06-16 16:11:21,923 INFO sqlalchemy.engine.base.Engine SELECT CAST('test plain returns' AS VARCHAR(60)) AS anon_1\n"
       ]
      },
      {
       "output_type": "stream",
       "stream": "stderr",
       "text": [
        "INFO:sqlalchemy.engine.base.Engine:SELECT CAST('test plain returns' AS VARCHAR(60)) AS anon_1\n"
       ]
      },
      {
       "output_type": "stream",
       "stream": "stdout",
       "text": [
        "2014-06-16 16:11:21,924 INFO sqlalchemy.engine.base.Engine {}\n"
       ]
      },
      {
       "output_type": "stream",
       "stream": "stderr",
       "text": [
        "INFO:sqlalchemy.engine.base.Engine:{}\n"
       ]
      },
      {
       "output_type": "stream",
       "stream": "stdout",
       "text": [
        "2014-06-16 16:11:21,968 INFO sqlalchemy.engine.base.Engine SELECT CAST('test unicode returns' AS VARCHAR(60)) AS anon_1\n"
       ]
      },
      {
       "output_type": "stream",
       "stream": "stderr",
       "text": [
        "INFO:sqlalchemy.engine.base.Engine:SELECT CAST('test unicode returns' AS VARCHAR(60)) AS anon_1\n"
       ]
      },
      {
       "output_type": "stream",
       "stream": "stdout",
       "text": [
        "2014-06-16 16:11:21,969 INFO sqlalchemy.engine.base.Engine {}\n"
       ]
      },
      {
       "output_type": "stream",
       "stream": "stderr",
       "text": [
        "INFO:sqlalchemy.engine.base.Engine:{}\n"
       ]
      },
      {
       "output_type": "stream",
       "stream": "stdout",
       "text": [
        "2014-06-16 16:11:22,098 INFO sqlalchemy.engine.base.Engine show standard_conforming_strings\n"
       ]
      },
      {
       "output_type": "stream",
       "stream": "stderr",
       "text": [
        "INFO:sqlalchemy.engine.base.Engine:show standard_conforming_strings\n"
       ]
      },
      {
       "output_type": "stream",
       "stream": "stdout",
       "text": [
        "2014-06-16 16:11:22,099 INFO sqlalchemy.engine.base.Engine {}\n"
       ]
      },
      {
       "output_type": "stream",
       "stream": "stderr",
       "text": [
        "INFO:sqlalchemy.engine.base.Engine:{}\n"
       ]
      },
      {
       "output_type": "stream",
       "stream": "stdout",
       "text": [
        "2014-06-16 16:11:22,193 INFO sqlalchemy.engine.base.Engine select * from \"PecanStreet_CuratedSets\".group1_disaggregated_2013_06\n"
       ]
      },
      {
       "output_type": "stream",
       "stream": "stderr",
       "text": [
        "INFO:sqlalchemy.engine.base.Engine:select * from \"PecanStreet_CuratedSets\".group1_disaggregated_2013_06\n"
       ]
      },
      {
       "output_type": "stream",
       "stream": "stdout",
       "text": [
        "2014-06-16 16:11:22,194 INFO sqlalchemy.engine.base.Engine {}\n"
       ]
      },
      {
       "output_type": "stream",
       "stream": "stderr",
       "text": [
        "INFO:sqlalchemy.engine.base.Engine:{}\n"
       ]
      },
      {
       "output_type": "stream",
       "stream": "stdout",
       "text": [
        "2014-06-16 16:13:50,629 INFO sqlalchemy.engine.base.Engine select version()\n"
       ]
      },
      {
       "output_type": "stream",
       "stream": "stderr",
       "text": [
        "INFO:sqlalchemy.engine.base.Engine:select version()\n"
       ]
      },
      {
       "output_type": "stream",
       "stream": "stdout",
       "text": [
        "2014-06-16 16:13:50,630 INFO sqlalchemy.engine.base.Engine {}\n"
       ]
      },
      {
       "output_type": "stream",
       "stream": "stderr",
       "text": [
        "INFO:sqlalchemy.engine.base.Engine:{}\n"
       ]
      },
      {
       "output_type": "stream",
       "stream": "stdout",
       "text": [
        "2014-06-16 16:13:50,894 INFO sqlalchemy.engine.base.Engine select current_schema()\n"
       ]
      },
      {
       "output_type": "stream",
       "stream": "stderr",
       "text": [
        "INFO:sqlalchemy.engine.base.Engine:select current_schema()\n"
       ]
      },
      {
       "output_type": "stream",
       "stream": "stdout",
       "text": [
        "2014-06-16 16:13:50,895 INFO sqlalchemy.engine.base.Engine {}\n"
       ]
      },
      {
       "output_type": "stream",
       "stream": "stderr",
       "text": [
        "INFO:sqlalchemy.engine.base.Engine:{}\n"
       ]
      },
      {
       "output_type": "stream",
       "stream": "stdout",
       "text": [
        "2014-06-16 16:13:51,151 INFO sqlalchemy.engine.base.Engine SELECT CAST('test plain returns' AS VARCHAR(60)) AS anon_1\n"
       ]
      },
      {
       "output_type": "stream",
       "stream": "stderr",
       "text": [
        "INFO:sqlalchemy.engine.base.Engine:SELECT CAST('test plain returns' AS VARCHAR(60)) AS anon_1\n"
       ]
      },
      {
       "output_type": "stream",
       "stream": "stdout",
       "text": [
        "2014-06-16 16:13:51,152 INFO sqlalchemy.engine.base.Engine {}\n"
       ]
      },
      {
       "output_type": "stream",
       "stream": "stderr",
       "text": [
        "INFO:sqlalchemy.engine.base.Engine:{}\n"
       ]
      },
      {
       "output_type": "stream",
       "stream": "stdout",
       "text": [
        "2014-06-16 16:13:51,278 INFO sqlalchemy.engine.base.Engine SELECT CAST('test unicode returns' AS VARCHAR(60)) AS anon_1\n"
       ]
      },
      {
       "output_type": "stream",
       "stream": "stderr",
       "text": [
        "INFO:sqlalchemy.engine.base.Engine:SELECT CAST('test unicode returns' AS VARCHAR(60)) AS anon_1\n"
       ]
      },
      {
       "output_type": "stream",
       "stream": "stdout",
       "text": [
        "2014-06-16 16:13:51,280 INFO sqlalchemy.engine.base.Engine {}\n"
       ]
      },
      {
       "output_type": "stream",
       "stream": "stderr",
       "text": [
        "INFO:sqlalchemy.engine.base.Engine:{}\n"
       ]
      },
      {
       "output_type": "stream",
       "stream": "stdout",
       "text": [
        "2014-06-16 16:13:51,675 INFO sqlalchemy.engine.base.Engine show standard_conforming_strings\n"
       ]
      },
      {
       "output_type": "stream",
       "stream": "stderr",
       "text": [
        "INFO:sqlalchemy.engine.base.Engine:show standard_conforming_strings\n"
       ]
      },
      {
       "output_type": "stream",
       "stream": "stdout",
       "text": [
        "2014-06-16 16:13:51,676 INFO sqlalchemy.engine.base.Engine {}\n"
       ]
      },
      {
       "output_type": "stream",
       "stream": "stderr",
       "text": [
        "INFO:sqlalchemy.engine.base.Engine:{}\n"
       ]
      },
      {
       "output_type": "stream",
       "stream": "stdout",
       "text": [
        "2014-06-16 16:13:51,936 INFO sqlalchemy.engine.base.Engine select * from \"PecanStreet_CuratedSets\".group1_disaggregated_2013_07\n"
       ]
      },
      {
       "output_type": "stream",
       "stream": "stderr",
       "text": [
        "INFO:sqlalchemy.engine.base.Engine:select * from \"PecanStreet_CuratedSets\".group1_disaggregated_2013_07\n"
       ]
      },
      {
       "output_type": "stream",
       "stream": "stdout",
       "text": [
        "2014-06-16 16:13:51,937 INFO sqlalchemy.engine.base.Engine {}\n"
       ]
      },
      {
       "output_type": "stream",
       "stream": "stderr",
       "text": [
        "INFO:sqlalchemy.engine.base.Engine:{}\n"
       ]
      },
      {
       "output_type": "stream",
       "stream": "stdout",
       "text": [
        "2014-06-16 16:16:51,043 INFO sqlalchemy.engine.base.Engine select version()\n"
       ]
      },
      {
       "output_type": "stream",
       "stream": "stderr",
       "text": [
        "INFO:sqlalchemy.engine.base.Engine:select version()\n"
       ]
      },
      {
       "output_type": "stream",
       "stream": "stdout",
       "text": [
        "2014-06-16 16:16:51,045 INFO sqlalchemy.engine.base.Engine {}\n"
       ]
      },
      {
       "output_type": "stream",
       "stream": "stderr",
       "text": [
        "INFO:sqlalchemy.engine.base.Engine:{}\n"
       ]
      },
      {
       "output_type": "stream",
       "stream": "stdout",
       "text": [
        "2014-06-16 16:16:51,334 INFO sqlalchemy.engine.base.Engine select current_schema()\n"
       ]
      },
      {
       "output_type": "stream",
       "stream": "stderr",
       "text": [
        "INFO:sqlalchemy.engine.base.Engine:select current_schema()\n"
       ]
      },
      {
       "output_type": "stream",
       "stream": "stdout",
       "text": [
        "2014-06-16 16:16:51,335 INFO sqlalchemy.engine.base.Engine {}\n"
       ]
      },
      {
       "output_type": "stream",
       "stream": "stderr",
       "text": [
        "INFO:sqlalchemy.engine.base.Engine:{}\n"
       ]
      },
      {
       "output_type": "stream",
       "stream": "stdout",
       "text": [
        "2014-06-16 16:16:51,666 INFO sqlalchemy.engine.base.Engine SELECT CAST('test plain returns' AS VARCHAR(60)) AS anon_1\n"
       ]
      },
      {
       "output_type": "stream",
       "stream": "stderr",
       "text": [
        "INFO:sqlalchemy.engine.base.Engine:SELECT CAST('test plain returns' AS VARCHAR(60)) AS anon_1\n"
       ]
      },
      {
       "output_type": "stream",
       "stream": "stdout",
       "text": [
        "2014-06-16 16:16:51,667 INFO sqlalchemy.engine.base.Engine {}\n"
       ]
      },
      {
       "output_type": "stream",
       "stream": "stderr",
       "text": [
        "INFO:sqlalchemy.engine.base.Engine:{}\n"
       ]
      },
      {
       "output_type": "stream",
       "stream": "stdout",
       "text": [
        "2014-06-16 16:16:51,789 INFO sqlalchemy.engine.base.Engine SELECT CAST('test unicode returns' AS VARCHAR(60)) AS anon_1\n"
       ]
      },
      {
       "output_type": "stream",
       "stream": "stderr",
       "text": [
        "INFO:sqlalchemy.engine.base.Engine:SELECT CAST('test unicode returns' AS VARCHAR(60)) AS anon_1\n"
       ]
      },
      {
       "output_type": "stream",
       "stream": "stdout",
       "text": [
        "2014-06-16 16:16:51,790 INFO sqlalchemy.engine.base.Engine {}\n"
       ]
      },
      {
       "output_type": "stream",
       "stream": "stderr",
       "text": [
        "INFO:sqlalchemy.engine.base.Engine:{}\n"
       ]
      },
      {
       "output_type": "stream",
       "stream": "stdout",
       "text": [
        "2014-06-16 16:16:51,991 INFO sqlalchemy.engine.base.Engine show standard_conforming_strings\n"
       ]
      },
      {
       "output_type": "stream",
       "stream": "stderr",
       "text": [
        "INFO:sqlalchemy.engine.base.Engine:show standard_conforming_strings\n"
       ]
      },
      {
       "output_type": "stream",
       "stream": "stdout",
       "text": [
        "2014-06-16 16:16:51,992 INFO sqlalchemy.engine.base.Engine {}\n"
       ]
      },
      {
       "output_type": "stream",
       "stream": "stderr",
       "text": [
        "INFO:sqlalchemy.engine.base.Engine:{}\n"
       ]
      },
      {
       "output_type": "stream",
       "stream": "stdout",
       "text": [
        "2014-06-16 16:16:52,124 INFO sqlalchemy.engine.base.Engine select * from \"PecanStreet_CuratedSets\".group1_disaggregated_2013_08\n"
       ]
      },
      {
       "output_type": "stream",
       "stream": "stderr",
       "text": [
        "INFO:sqlalchemy.engine.base.Engine:select * from \"PecanStreet_CuratedSets\".group1_disaggregated_2013_08\n"
       ]
      },
      {
       "output_type": "stream",
       "stream": "stdout",
       "text": [
        "2014-06-16 16:16:52,125 INFO sqlalchemy.engine.base.Engine {}\n"
       ]
      },
      {
       "output_type": "stream",
       "stream": "stderr",
       "text": [
        "INFO:sqlalchemy.engine.base.Engine:{}\n"
       ]
      },
      {
       "output_type": "stream",
       "stream": "stdout",
       "text": [
        "2014-06-16 16:19:48,914 INFO sqlalchemy.engine.base.Engine select version()\n"
       ]
      },
      {
       "output_type": "stream",
       "stream": "stderr",
       "text": [
        "INFO:sqlalchemy.engine.base.Engine:select version()\n"
       ]
      },
      {
       "output_type": "stream",
       "stream": "stdout",
       "text": [
        "2014-06-16 16:19:48,915 INFO sqlalchemy.engine.base.Engine {}\n"
       ]
      },
      {
       "output_type": "stream",
       "stream": "stderr",
       "text": [
        "INFO:sqlalchemy.engine.base.Engine:{}\n"
       ]
      },
      {
       "output_type": "stream",
       "stream": "stdout",
       "text": [
        "2014-06-16 16:19:49,009 INFO sqlalchemy.engine.base.Engine select current_schema()\n"
       ]
      },
      {
       "output_type": "stream",
       "stream": "stderr",
       "text": [
        "INFO:sqlalchemy.engine.base.Engine:select current_schema()\n"
       ]
      },
      {
       "output_type": "stream",
       "stream": "stdout",
       "text": [
        "2014-06-16 16:19:49,009 INFO sqlalchemy.engine.base.Engine {}\n"
       ]
      },
      {
       "output_type": "stream",
       "stream": "stderr",
       "text": [
        "INFO:sqlalchemy.engine.base.Engine:{}\n"
       ]
      },
      {
       "output_type": "stream",
       "stream": "stdout",
       "text": [
        "2014-06-16 16:19:49,099 INFO sqlalchemy.engine.base.Engine SELECT CAST('test plain returns' AS VARCHAR(60)) AS anon_1\n"
       ]
      },
      {
       "output_type": "stream",
       "stream": "stderr",
       "text": [
        "INFO:sqlalchemy.engine.base.Engine:SELECT CAST('test plain returns' AS VARCHAR(60)) AS anon_1\n"
       ]
      },
      {
       "output_type": "stream",
       "stream": "stdout",
       "text": [
        "2014-06-16 16:19:49,100 INFO sqlalchemy.engine.base.Engine {}\n"
       ]
      },
      {
       "output_type": "stream",
       "stream": "stderr",
       "text": [
        "INFO:sqlalchemy.engine.base.Engine:{}\n"
       ]
      },
      {
       "output_type": "stream",
       "stream": "stdout",
       "text": [
        "2014-06-16 16:19:49,145 INFO sqlalchemy.engine.base.Engine SELECT CAST('test unicode returns' AS VARCHAR(60)) AS anon_1\n"
       ]
      },
      {
       "output_type": "stream",
       "stream": "stderr",
       "text": [
        "INFO:sqlalchemy.engine.base.Engine:SELECT CAST('test unicode returns' AS VARCHAR(60)) AS anon_1\n"
       ]
      },
      {
       "output_type": "stream",
       "stream": "stdout",
       "text": [
        "2014-06-16 16:19:49,147 INFO sqlalchemy.engine.base.Engine {}\n"
       ]
      },
      {
       "output_type": "stream",
       "stream": "stderr",
       "text": [
        "INFO:sqlalchemy.engine.base.Engine:{}\n"
       ]
      },
      {
       "output_type": "stream",
       "stream": "stdout",
       "text": [
        "2014-06-16 16:19:49,279 INFO sqlalchemy.engine.base.Engine show standard_conforming_strings\n"
       ]
      },
      {
       "output_type": "stream",
       "stream": "stderr",
       "text": [
        "INFO:sqlalchemy.engine.base.Engine:show standard_conforming_strings\n"
       ]
      },
      {
       "output_type": "stream",
       "stream": "stdout",
       "text": [
        "2014-06-16 16:19:49,280 INFO sqlalchemy.engine.base.Engine {}\n"
       ]
      },
      {
       "output_type": "stream",
       "stream": "stderr",
       "text": [
        "INFO:sqlalchemy.engine.base.Engine:{}\n"
       ]
      },
      {
       "output_type": "stream",
       "stream": "stdout",
       "text": [
        "2014-06-16 16:19:49,374 INFO sqlalchemy.engine.base.Engine select * from \"PecanStreet_CuratedSets\".group1_disaggregated_2013_09\n"
       ]
      },
      {
       "output_type": "stream",
       "stream": "stderr",
       "text": [
        "INFO:sqlalchemy.engine.base.Engine:select * from \"PecanStreet_CuratedSets\".group1_disaggregated_2013_09\n"
       ]
      },
      {
       "output_type": "stream",
       "stream": "stdout",
       "text": [
        "2014-06-16 16:19:49,375 INFO sqlalchemy.engine.base.Engine {}\n"
       ]
      },
      {
       "output_type": "stream",
       "stream": "stderr",
       "text": [
        "INFO:sqlalchemy.engine.base.Engine:{}\n"
       ]
      },
      {
       "output_type": "stream",
       "stream": "stdout",
       "text": [
        "2014-06-16 16:22:17,248 INFO sqlalchemy.engine.base.Engine select version()\n"
       ]
      },
      {
       "output_type": "stream",
       "stream": "stderr",
       "text": [
        "INFO:sqlalchemy.engine.base.Engine:select version()\n"
       ]
      },
      {
       "output_type": "stream",
       "stream": "stdout",
       "text": [
        "2014-06-16 16:22:17,249 INFO sqlalchemy.engine.base.Engine {}\n"
       ]
      },
      {
       "output_type": "stream",
       "stream": "stderr",
       "text": [
        "INFO:sqlalchemy.engine.base.Engine:{}\n"
       ]
      },
      {
       "output_type": "stream",
       "stream": "stdout",
       "text": [
        "2014-06-16 16:22:17,407 INFO sqlalchemy.engine.base.Engine select current_schema()\n"
       ]
      },
      {
       "output_type": "stream",
       "stream": "stderr",
       "text": [
        "INFO:sqlalchemy.engine.base.Engine:select current_schema()\n"
       ]
      },
      {
       "output_type": "stream",
       "stream": "stdout",
       "text": [
        "2014-06-16 16:22:17,408 INFO sqlalchemy.engine.base.Engine {}\n"
       ]
      },
      {
       "output_type": "stream",
       "stream": "stderr",
       "text": [
        "INFO:sqlalchemy.engine.base.Engine:{}\n"
       ]
      },
      {
       "output_type": "stream",
       "stream": "stdout",
       "text": [
        "2014-06-16 16:22:17,571 INFO sqlalchemy.engine.base.Engine SELECT CAST('test plain returns' AS VARCHAR(60)) AS anon_1\n"
       ]
      },
      {
       "output_type": "stream",
       "stream": "stderr",
       "text": [
        "INFO:sqlalchemy.engine.base.Engine:SELECT CAST('test plain returns' AS VARCHAR(60)) AS anon_1\n"
       ]
      },
      {
       "output_type": "stream",
       "stream": "stdout",
       "text": [
        "2014-06-16 16:22:17,572 INFO sqlalchemy.engine.base.Engine {}\n"
       ]
      },
      {
       "output_type": "stream",
       "stream": "stderr",
       "text": [
        "INFO:sqlalchemy.engine.base.Engine:{}\n"
       ]
      },
      {
       "output_type": "stream",
       "stream": "stdout",
       "text": [
        "2014-06-16 16:22:17,652 INFO sqlalchemy.engine.base.Engine SELECT CAST('test unicode returns' AS VARCHAR(60)) AS anon_1\n"
       ]
      },
      {
       "output_type": "stream",
       "stream": "stderr",
       "text": [
        "INFO:sqlalchemy.engine.base.Engine:SELECT CAST('test unicode returns' AS VARCHAR(60)) AS anon_1\n"
       ]
      },
      {
       "output_type": "stream",
       "stream": "stdout",
       "text": [
        "2014-06-16 16:22:17,653 INFO sqlalchemy.engine.base.Engine {}\n"
       ]
      },
      {
       "output_type": "stream",
       "stream": "stderr",
       "text": [
        "INFO:sqlalchemy.engine.base.Engine:{}\n"
       ]
      },
      {
       "output_type": "stream",
       "stream": "stdout",
       "text": [
        "2014-06-16 16:22:17,880 INFO sqlalchemy.engine.base.Engine show standard_conforming_strings\n"
       ]
      },
      {
       "output_type": "stream",
       "stream": "stderr",
       "text": [
        "INFO:sqlalchemy.engine.base.Engine:show standard_conforming_strings\n"
       ]
      },
      {
       "output_type": "stream",
       "stream": "stdout",
       "text": [
        "2014-06-16 16:22:17,882 INFO sqlalchemy.engine.base.Engine {}\n"
       ]
      },
      {
       "output_type": "stream",
       "stream": "stderr",
       "text": [
        "INFO:sqlalchemy.engine.base.Engine:{}\n"
       ]
      },
      {
       "output_type": "stream",
       "stream": "stdout",
       "text": [
        "2014-06-16 16:22:18,096 INFO sqlalchemy.engine.base.Engine select * from \"PecanStreet_CuratedSets\".group1_disaggregated_2013_10\n"
       ]
      },
      {
       "output_type": "stream",
       "stream": "stderr",
       "text": [
        "INFO:sqlalchemy.engine.base.Engine:select * from \"PecanStreet_CuratedSets\".group1_disaggregated_2013_10\n"
       ]
      },
      {
       "output_type": "stream",
       "stream": "stdout",
       "text": [
        "2014-06-16 16:22:18,097 INFO sqlalchemy.engine.base.Engine {}\n"
       ]
      },
      {
       "output_type": "stream",
       "stream": "stderr",
       "text": [
        "INFO:sqlalchemy.engine.base.Engine:{}\n"
       ]
      },
      {
       "output_type": "stream",
       "stream": "stdout",
       "text": [
        "2014-06-16 16:24:08,918 INFO sqlalchemy.engine.base.Engine select version()\n"
       ]
      },
      {
       "output_type": "stream",
       "stream": "stderr",
       "text": [
        "INFO:sqlalchemy.engine.base.Engine:select version()\n"
       ]
      },
      {
       "output_type": "stream",
       "stream": "stdout",
       "text": [
        "2014-06-16 16:24:08,919 INFO sqlalchemy.engine.base.Engine {}\n"
       ]
      },
      {
       "output_type": "stream",
       "stream": "stderr",
       "text": [
        "INFO:sqlalchemy.engine.base.Engine:{}\n"
       ]
      },
      {
       "output_type": "stream",
       "stream": "stdout",
       "text": [
        "2014-06-16 16:24:09,049 INFO sqlalchemy.engine.base.Engine select current_schema()\n"
       ]
      },
      {
       "output_type": "stream",
       "stream": "stderr",
       "text": [
        "INFO:sqlalchemy.engine.base.Engine:select current_schema()\n"
       ]
      },
      {
       "output_type": "stream",
       "stream": "stdout",
       "text": [
        "2014-06-16 16:24:09,050 INFO sqlalchemy.engine.base.Engine {}\n"
       ]
      },
      {
       "output_type": "stream",
       "stream": "stderr",
       "text": [
        "INFO:sqlalchemy.engine.base.Engine:{}\n"
       ]
      },
      {
       "output_type": "stream",
       "stream": "stdout",
       "text": [
        "2014-06-16 16:24:09,168 INFO sqlalchemy.engine.base.Engine SELECT CAST('test plain returns' AS VARCHAR(60)) AS anon_1\n"
       ]
      },
      {
       "output_type": "stream",
       "stream": "stderr",
       "text": [
        "INFO:sqlalchemy.engine.base.Engine:SELECT CAST('test plain returns' AS VARCHAR(60)) AS anon_1\n"
       ]
      },
      {
       "output_type": "stream",
       "stream": "stdout",
       "text": [
        "2014-06-16 16:24:09,169 INFO sqlalchemy.engine.base.Engine {}\n"
       ]
      },
      {
       "output_type": "stream",
       "stream": "stderr",
       "text": [
        "INFO:sqlalchemy.engine.base.Engine:{}\n"
       ]
      },
      {
       "output_type": "stream",
       "stream": "stdout",
       "text": [
        "2014-06-16 16:24:09,247 INFO sqlalchemy.engine.base.Engine SELECT CAST('test unicode returns' AS VARCHAR(60)) AS anon_1\n"
       ]
      },
      {
       "output_type": "stream",
       "stream": "stderr",
       "text": [
        "INFO:sqlalchemy.engine.base.Engine:SELECT CAST('test unicode returns' AS VARCHAR(60)) AS anon_1\n"
       ]
      },
      {
       "output_type": "stream",
       "stream": "stdout",
       "text": [
        "2014-06-16 16:24:09,248 INFO sqlalchemy.engine.base.Engine {}\n"
       ]
      },
      {
       "output_type": "stream",
       "stream": "stderr",
       "text": [
        "INFO:sqlalchemy.engine.base.Engine:{}\n"
       ]
      },
      {
       "output_type": "stream",
       "stream": "stdout",
       "text": [
        "2014-06-16 16:24:09,641 INFO sqlalchemy.engine.base.Engine show standard_conforming_strings\n"
       ]
      },
      {
       "output_type": "stream",
       "stream": "stderr",
       "text": [
        "INFO:sqlalchemy.engine.base.Engine:show standard_conforming_strings\n"
       ]
      },
      {
       "output_type": "stream",
       "stream": "stdout",
       "text": [
        "2014-06-16 16:24:09,642 INFO sqlalchemy.engine.base.Engine {}\n"
       ]
      },
      {
       "output_type": "stream",
       "stream": "stderr",
       "text": [
        "INFO:sqlalchemy.engine.base.Engine:{}\n"
       ]
      },
      {
       "output_type": "stream",
       "stream": "stdout",
       "text": [
        "2014-06-16 16:24:09,921 INFO sqlalchemy.engine.base.Engine select * from \"PecanStreet_CuratedSets\".group1_disaggregated_2013_11\n"
       ]
      },
      {
       "output_type": "stream",
       "stream": "stderr",
       "text": [
        "INFO:sqlalchemy.engine.base.Engine:select * from \"PecanStreet_CuratedSets\".group1_disaggregated_2013_11\n"
       ]
      },
      {
       "output_type": "stream",
       "stream": "stdout",
       "text": [
        "2014-06-16 16:24:09,922 INFO sqlalchemy.engine.base.Engine {}\n"
       ]
      },
      {
       "output_type": "stream",
       "stream": "stderr",
       "text": [
        "INFO:sqlalchemy.engine.base.Engine:{}\n"
       ]
      },
      {
       "metadata": {},
       "output_type": "display_data",
       "text": [
        "<matplotlib.figure.Figure at 0x15ec6e3d0>"
       ]
      },
      {
       "metadata": {},
       "output_type": "display_data",
       "text": [
        "<matplotlib.figure.Figure at 0x133f67890>"
       ]
      },
      {
       "metadata": {},
       "output_type": "display_data",
       "text": [
        "<matplotlib.figure.Figure at 0x16834ced0>"
       ]
      },
      {
       "metadata": {},
       "output_type": "display_data",
       "text": [
        "<matplotlib.figure.Figure at 0x115069810>"
       ]
      },
      {
       "metadata": {},
       "output_type": "display_data",
       "text": [
        "<matplotlib.figure.Figure at 0x135863710>"
       ]
      },
      {
       "metadata": {},
       "output_type": "display_data",
       "text": [
        "<matplotlib.figure.Figure at 0x10b3c6a50>"
       ]
      },
      {
       "metadata": {},
       "output_type": "display_data",
       "text": [
        "<matplotlib.figure.Figure at 0x112cc1b10>"
       ]
      },
      {
       "metadata": {},
       "output_type": "display_data",
       "text": [
        "<matplotlib.figure.Figure at 0x118bd2f90>"
       ]
      },
      {
       "metadata": {},
       "output_type": "display_data",
       "text": [
        "<matplotlib.figure.Figure at 0x14c372d50>"
       ]
      },
      {
       "metadata": {},
       "output_type": "display_data",
       "text": [
        "<matplotlib.figure.Figure at 0x148e4ea90>"
       ]
      },
      {
       "metadata": {},
       "output_type": "display_data",
       "text": [
        "<matplotlib.figure.Figure at 0x133963850>"
       ]
      },
      {
       "metadata": {},
       "output_type": "display_data",
       "png": "[encoded data removed]",
       "text": [
        "<matplotlib.figure.Figure at 0x13f0b8cd0>"
       ]
      }
     ],
     "prompt_number": 37
    },
    {
     "cell_type": "code",
     "collapsed": false,
     "input": [
      "d = query_month('01')"
     ],
     "language": "python",
     "metadata": {},
     "outputs": [
      {
       "output_type": "stream",
       "stream": "stdout",
       "text": [
        "2014-06-17 09:57:17,037 INFO sqlalchemy.engine.base.Engine select version()\n"
       ]
      },
      {
       "output_type": "stream",
       "stream": "stderr",
       "text": [
        "INFO:sqlalchemy.engine.base.Engine:select version()\n"
       ]
      },
      {
       "output_type": "stream",
       "stream": "stdout",
       "text": [
        "2014-06-17 09:57:17,038 INFO sqlalchemy.engine.base.Engine {}\n"
       ]
      },
      {
       "output_type": "stream",
       "stream": "stderr",
       "text": [
        "INFO:sqlalchemy.engine.base.Engine:{}\n"
       ]
      },
      {
       "output_type": "stream",
       "stream": "stdout",
       "text": [
        "2014-06-17 09:57:17,127 INFO sqlalchemy.engine.base.Engine select current_schema()\n"
       ]
      },
      {
       "output_type": "stream",
       "stream": "stderr",
       "text": [
        "INFO:sqlalchemy.engine.base.Engine:select current_schema()\n"
       ]
      },
      {
       "output_type": "stream",
       "stream": "stdout",
       "text": [
        "2014-06-17 09:57:17,128 INFO sqlalchemy.engine.base.Engine {}\n"
       ]
      },
      {
       "output_type": "stream",
       "stream": "stderr",
       "text": [
        "INFO:sqlalchemy.engine.base.Engine:{}\n"
       ]
      },
      {
       "output_type": "stream",
       "stream": "stdout",
       "text": [
        "2014-06-17 09:57:17,212 INFO sqlalchemy.engine.base.Engine SELECT CAST('test plain returns' AS VARCHAR(60)) AS anon_1\n"
       ]
      },
      {
       "output_type": "stream",
       "stream": "stderr",
       "text": [
        "INFO:sqlalchemy.engine.base.Engine:SELECT CAST('test plain returns' AS VARCHAR(60)) AS anon_1\n"
       ]
      },
      {
       "output_type": "stream",
       "stream": "stdout",
       "text": [
        "2014-06-17 09:57:17,213 INFO sqlalchemy.engine.base.Engine {}\n"
       ]
      },
      {
       "output_type": "stream",
       "stream": "stderr",
       "text": [
        "INFO:sqlalchemy.engine.base.Engine:{}\n"
       ]
      },
      {
       "output_type": "stream",
       "stream": "stdout",
       "text": [
        "2014-06-17 09:57:17,261 INFO sqlalchemy.engine.base.Engine SELECT CAST('test unicode returns' AS VARCHAR(60)) AS anon_1\n"
       ]
      },
      {
       "output_type": "stream",
       "stream": "stderr",
       "text": [
        "INFO:sqlalchemy.engine.base.Engine:SELECT CAST('test unicode returns' AS VARCHAR(60)) AS anon_1\n"
       ]
      },
      {
       "output_type": "stream",
       "stream": "stdout",
       "text": [
        "2014-06-17 09:57:17,262 INFO sqlalchemy.engine.base.Engine {}\n"
       ]
      },
      {
       "output_type": "stream",
       "stream": "stderr",
       "text": [
        "INFO:sqlalchemy.engine.base.Engine:{}\n"
       ]
      },
      {
       "output_type": "stream",
       "stream": "stdout",
       "text": [
        "2014-06-17 09:57:17,392 INFO sqlalchemy.engine.base.Engine show standard_conforming_strings\n"
       ]
      },
      {
       "output_type": "stream",
       "stream": "stderr",
       "text": [
        "INFO:sqlalchemy.engine.base.Engine:show standard_conforming_strings\n"
       ]
      },
      {
       "output_type": "stream",
       "stream": "stdout",
       "text": [
        "2014-06-17 09:57:17,393 INFO sqlalchemy.engine.base.Engine {}\n"
       ]
      },
      {
       "output_type": "stream",
       "stream": "stderr",
       "text": [
        "INFO:sqlalchemy.engine.base.Engine:{}\n"
       ]
      },
      {
       "output_type": "stream",
       "stream": "stdout",
       "text": [
        "2014-06-17 09:57:17,481 INFO sqlalchemy.engine.base.Engine select * from \"PecanStreet_CuratedSets\".group1_disaggregated_2013_01\n"
       ]
      },
      {
       "output_type": "stream",
       "stream": "stderr",
       "text": [
        "INFO:sqlalchemy.engine.base.Engine:select * from \"PecanStreet_CuratedSets\".group1_disaggregated_2013_01\n"
       ]
      },
      {
       "output_type": "stream",
       "stream": "stdout",
       "text": [
        "2014-06-17 09:57:17,482 INFO sqlalchemy.engine.base.Engine {}\n"
       ]
      },
      {
       "output_type": "stream",
       "stream": "stderr",
       "text": [
        "INFO:sqlalchemy.engine.base.Engine:{}\n"
       ]
      }
     ],
     "prompt_number": 8
    },
    {
     "cell_type": "code",
     "collapsed": false,
     "input": [
      "\n",
      "hvacs_t = hvacs(d[d.keys()[0]])"
     ],
     "language": "python",
     "metadata": {},
     "outputs": [],
     "prompt_number": 12
    },
    {
     "cell_type": "code",
     "collapsed": false,
     "input": [
      "plot_hvacs = {key:val for (key,val) in hvacs.iteritems() if val!=0}"
     ],
     "language": "python",
     "metadata": {},
     "outputs": [],
     "prompt_number": 63
    },
    {
     "cell_type": "code",
     "collapsed": false,
     "input": [
      "fracs = [i for i in plot_hvacs.values()]\n",
      "labels = [k for k in plot_hvacs.keys()] "
     ],
     "language": "python",
     "metadata": {},
     "outputs": [],
     "prompt_number": 64
    },
    {
     "cell_type": "code",
     "collapsed": false,
     "input": [
      "ax = pyplt.figure(figsize=(6,6))\n",
      "pyplt.pie(fracs,labels=labels)\n",
      "pyplt.title('Percent Hvac')\n",
      "savefig('test.png')"
     ],
     "language": "python",
     "metadata": {},
     "outputs": [
      {
       "metadata": {},
       "output_type": "display_data",
       "png": "[encoded data removed]",
       "text": [
        "<matplotlib.figure.Figure at 0x15f3d5510>"
       ]
      }
     ],
     "prompt_number": 67
    },
    {
     "cell_type": "code",
     "collapsed": false,
     "input": [
      "hvacs_test={'air':0,'furnaces':0,'heater1':0,'housefan1':0,'venthood1':0, 'other':0}\n",
      "for val in d.values():\n",
      "    h=hvacs(val)\n",
      "    for (k,v) in h.iteritems():\n",
      "        hvacs_test[k]=hvacs_test[k]+h[k]\n",
      "hvacs_test\n"
     ],
     "language": "python",
     "metadata": {},
     "outputs": [
      {
       "metadata": {},
       "output_type": "pyout",
       "prompt_number": 13,
       "text": [
        "{'air': 6135.7829999999985,\n",
        " 'furnaces': 6210.662,\n",
        " 'heater1': 478.561,\n",
        " 'housefan1': 0.073,\n",
        " 'other': 116378.40100000001,\n",
        " 'venthood1': 0.0}"
       ]
      }
     ],
     "prompt_number": 13
    },
    {
     "cell_type": "code",
     "collapsed": false,
     "input": [
      "hvacs_test = {k:(val/25) for (k,val) in hvacs_test.iteritems()}"
     ],
     "language": "python",
     "metadata": {},
     "outputs": [],
     "prompt_number": 14
    },
    {
     "cell_type": "code",
     "collapsed": false,
     "input": [
      "##should make this faster\n",
      "def get_pie_month(month):\n",
      "    pyplt.clf()\n",
      "    d = query_month(month)\n",
      "    hvacs_test={'air':0,'furnaces':0,'heater1':0,'housefan1':0,'venthood1':0, 'other':0}\n",
      "    for val in d.values():\n",
      "        h=hvacs(val)\n",
      "        h.pop('use',None)\n",
      "        for (k,v) in h.iteritems():\n",
      "            hvacs_test[k]=hvacs_test[k]+h[k]\n",
      "    hvacs_test = {k:(val/25) for (k,val) in hvacs_test.iteritems()}\n",
      "    plot_hvacs = {key:val for (key,val) in hvacs_test.iteritems() if val!=0}\n",
      "    fracs = [i for i in plot_hvacs.values()]\n",
      "    labels = [k for k in plot_hvacs.keys()] \n",
      "    ax = pyplt.figure(figsize=(6,6))\n",
      "    pyplt.pie(fracs,labels=labels)\n",
      "    title = 'Percent_Hvac_'+month\n",
      "    pyplt.title(title)\n",
      "    savefig(title+'.png')"
     ],
     "language": "python",
     "metadata": {},
     "outputs": [],
     "prompt_number": 15
    },
    {
     "cell_type": "code",
     "collapsed": false,
     "input": [
      "get_pie_month('11')"
     ],
     "language": "python",
     "metadata": {},
     "outputs": [
      {
       "output_type": "stream",
       "stream": "stdout",
       "text": [
        "2014-06-18 08:51:35,159 INFO sqlalchemy.engine.base.Engine select version()\n"
       ]
      },
      {
       "output_type": "stream",
       "stream": "stderr",
       "text": [
        "INFO:sqlalchemy.engine.base.Engine:select version()\n"
       ]
      },
      {
       "output_type": "stream",
       "stream": "stdout",
       "text": [
        "2014-06-18 08:51:35,161 INFO sqlalchemy.engine.base.Engine {}\n"
       ]
      },
      {
       "output_type": "stream",
       "stream": "stderr",
       "text": [
        "INFO:sqlalchemy.engine.base.Engine:{}\n"
       ]
      },
      {
       "output_type": "stream",
       "stream": "stdout",
       "text": [
        "2014-06-18 08:51:35,253 INFO sqlalchemy.engine.base.Engine select current_schema()\n"
       ]
      },
      {
       "output_type": "stream",
       "stream": "stderr",
       "text": [
        "INFO:sqlalchemy.engine.base.Engine:select current_schema()\n"
       ]
      },
      {
       "output_type": "stream",
       "stream": "stdout",
       "text": [
        "2014-06-18 08:51:35,254 INFO sqlalchemy.engine.base.Engine {}\n"
       ]
      },
      {
       "output_type": "stream",
       "stream": "stderr",
       "text": [
        "INFO:sqlalchemy.engine.base.Engine:{}\n"
       ]
      },
      {
       "output_type": "stream",
       "stream": "stdout",
       "text": [
        "2014-06-18 08:51:35,343 INFO sqlalchemy.engine.base.Engine SELECT CAST('test plain returns' AS VARCHAR(60)) AS anon_1\n"
       ]
      },
      {
       "output_type": "stream",
       "stream": "stderr",
       "text": [
        "INFO:sqlalchemy.engine.base.Engine:SELECT CAST('test plain returns' AS VARCHAR(60)) AS anon_1\n"
       ]
      },
      {
       "output_type": "stream",
       "stream": "stdout",
       "text": [
        "2014-06-18 08:51:35,344 INFO sqlalchemy.engine.base.Engine {}\n"
       ]
      },
      {
       "output_type": "stream",
       "stream": "stderr",
       "text": [
        "INFO:sqlalchemy.engine.base.Engine:{}\n"
       ]
      },
      {
       "output_type": "stream",
       "stream": "stdout",
       "text": [
        "2014-06-18 08:51:35,391 INFO sqlalchemy.engine.base.Engine SELECT CAST('test unicode returns' AS VARCHAR(60)) AS anon_1\n"
       ]
      },
      {
       "output_type": "stream",
       "stream": "stderr",
       "text": [
        "INFO:sqlalchemy.engine.base.Engine:SELECT CAST('test unicode returns' AS VARCHAR(60)) AS anon_1\n"
       ]
      },
      {
       "output_type": "stream",
       "stream": "stdout",
       "text": [
        "2014-06-18 08:51:35,392 INFO sqlalchemy.engine.base.Engine {}\n"
       ]
      },
      {
       "output_type": "stream",
       "stream": "stderr",
       "text": [
        "INFO:sqlalchemy.engine.base.Engine:{}\n"
       ]
      },
      {
       "output_type": "stream",
       "stream": "stdout",
       "text": [
        "2014-06-18 08:51:35,524 INFO sqlalchemy.engine.base.Engine show standard_conforming_strings\n"
       ]
      },
      {
       "output_type": "stream",
       "stream": "stderr",
       "text": [
        "INFO:sqlalchemy.engine.base.Engine:show standard_conforming_strings\n"
       ]
      },
      {
       "output_type": "stream",
       "stream": "stdout",
       "text": [
        "2014-06-18 08:51:35,525 INFO sqlalchemy.engine.base.Engine {}\n"
       ]
      },
      {
       "output_type": "stream",
       "stream": "stderr",
       "text": [
        "INFO:sqlalchemy.engine.base.Engine:{}\n"
       ]
      },
      {
       "output_type": "stream",
       "stream": "stdout",
       "text": [
        "2014-06-18 08:51:35,616 INFO sqlalchemy.engine.base.Engine select * from \"PecanStreet_CuratedSets\".group1_disaggregated_2013_11\n"
       ]
      },
      {
       "output_type": "stream",
       "stream": "stderr",
       "text": [
        "INFO:sqlalchemy.engine.base.Engine:select * from \"PecanStreet_CuratedSets\".group1_disaggregated_2013_11\n"
       ]
      },
      {
       "output_type": "stream",
       "stream": "stdout",
       "text": [
        "2014-06-18 08:51:35,616 INFO sqlalchemy.engine.base.Engine {}\n"
       ]
      },
      {
       "output_type": "stream",
       "stream": "stderr",
       "text": [
        "INFO:sqlalchemy.engine.base.Engine:{}\n"
       ]
      },
      {
       "metadata": {},
       "output_type": "display_data",
       "text": [
        "<matplotlib.figure.Figure at 0x10404ead0>"
       ]
      },
      {
       "metadata": {},
       "output_type": "display_data",
       "png": "[encoded data removed]",
       "text": [
        "<matplotlib.figure.Figure at 0x1082c5f10>"
       ]
      }
     ],
     "prompt_number": 26
    },
    {
     "cell_type": "code",
     "collapsed": false,
     "input": [
      "##for all the houses return the highest appliances\n",
      "def get_highest(house):\n",
      "    sums= get_sums(house)\n",
      "    sums.pop('use',None)\n",
      "    sums.pop('car1',None)\n",
      "    sorted_sums = sorted(sums.iteritems(), key=operator.itemgetter(1), reverse = True)\n",
      "    \n",
      "    return sorted_sums"
     ],
     "language": "python",
     "metadata": {},
     "outputs": [],
     "prompt_number": 24
    },
    {
     "cell_type": "code",
     "collapsed": false,
     "input": [
      "##seeing all of the appliances for \n",
      "def get_top_5_all(d):\n",
      "    k = random.choice(d.keys())\n",
      "    count_highest  = {str(k): 0 for k in d[k].columns}\n",
      "    for house in d.values():\n",
      "        apps=get_highest(house)\n",
      "        for i in range(5):\n",
      "            count_highest[apps[i][0]]=count_highest[apps[i][0]]+1\n",
      "    sorted_sums = sorted(count_highest.iteritems(), key=operator.itemgetter(1), reverse = True)        \n",
      "    return sorted_sums[:5]"
     ],
     "language": "python",
     "metadata": {},
     "outputs": [],
     "prompt_number": 30
    },
    {
     "cell_type": "code",
     "collapsed": false,
     "input": [
      "h=get_top_5_all()"
     ],
     "language": "python",
     "metadata": {},
     "outputs": [],
     "prompt_number": 116
    },
    {
     "cell_type": "code",
     "collapsed": false,
     "input": [
      "#month is a string\n",
      "#d is the dictionary for that month, \n",
      "#where the keys are the house ids and the values are dataframes\n",
      "def write_month(month,d):    \n",
      "    dir_path = os.path.join(os.getcwd(), 'ranked_apps/' ) \n",
      "    #os.makedirs(dir_path)\n",
      "    filename = month+'.json'\n",
      "    text = []\n",
      "    for (h_id,house) in d.iteritems():\n",
      "        highs_dict = get_highest(house)\n",
      "        #text_dict[h_id] = highs_dict[2:7]\n",
      "      #  highs_dict.pop('use',None)\n",
      "      #  highs_dict.pop('car1',None)\n",
      "        try_this = {h_id:highs_dict[:5]}\n",
      "        text.append(str(try_this)+'\\n\\n') \n",
      "    \n",
      "    with open(os.path.join(dir_path, filename), 'w') as outfile:\n",
      "        outfile.writelines(text)   \n",
      "    outfile.close()"
     ],
     "language": "python",
     "metadata": {},
     "outputs": [],
     "prompt_number": 25
    },
    {
     "cell_type": "code",
     "collapsed": false,
     "input": [
      "###check for cars - how many people have cars \n",
      "cars =  [] \n",
      "cars_sanity = [] \n",
      "for (house_id,house) in dfs_dict.iteritems():\n",
      "    cars_sanity.append(house['car1'].sum())\n",
      "    if not(math.isnan(house['car1'].sum())):\n",
      "        \n",
      "        cars.append(house_id)\n",
      "cars\n",
      "#cars_sanity"
     ],
     "language": "python",
     "metadata": {},
     "outputs": [
      {
       "metadata": {},
       "output_type": "pyout",
       "prompt_number": 85,
       "text": [
        "[]"
       ]
      }
     ],
     "prompt_number": 85
    },
    {
     "cell_type": "code",
     "collapsed": false,
     "input": [
      "##is any data missing?"
     ],
     "language": "python",
     "metadata": {},
     "outputs": []
    },
    {
     "cell_type": "code",
     "collapsed": false,
     "input": [
      "percent_hvac(dfs_dict[9934])"
     ],
     "language": "python",
     "metadata": {},
     "outputs": [
      {
       "output_type": "stream",
       "stream": "stdout",
       "text": [
        "Index([u'air1', u'air2', u'air3', u'airwindowunit1', u'aquarium1', u'bathroom1', u'bathroom2', u'bedroom1', u'bedroom2', u'bedroom3', u'bedroom4', u'bedroom5', u'car1', u'clotheswasher1', u'clotheswasher_dryg1', u'diningroom1', u'diningroom2', u'dishwasher1', u'disposal1', u'drye1', u'dryg1', u'freezer1', u'furnace1', u'furnace2', u'garage1', u'garage2', u'heater1', u'housefan1', u'icemaker1', u'jacuzzi1', u'kitchen1', u'kitchen2', u'kitchenapp1', u'kitchenapp2', u'lights_plugs1', u'lights_plugs2', u'lights_plugs3', u'lights_plugs4', u'lights_plugs5', u'lights_plugs6', u'livingroom1', u'livingroom2', u'microwave1', u'office1', u'outsidelights_plugs1', u'outsidelights_plugs2', u'oven1', u'oven2', u'pool1', u'pool2', u'poollight1', u'poolpump1', u'pump1', u'range1', u'refrigerator1', u'refrigerator2', u'security1', u'shed1', u'sprinkler1', u'subpanel1', u'subpanel2', u'unknown1', u'unknown2', u'unknown3', u'unknown4', u'use', u'utilityroom1', u'venthood1', u'waterheater1', u'waterheater2', u'winecooler1'], dtype='object')\n"
       ]
      },
      {
       "metadata": {},
       "output_type": "pyout",
       "prompt_number": 182,
       "text": [
        "{'air1': Decimal('1414.214'),\n",
        " 'air2': Decimal('0'),\n",
        " 'air3': Decimal('0'),\n",
        " 'airwindowunit1': Decimal('0'),\n",
        " 'furnace1': Decimal('308.475'),\n",
        " 'furnace2': Decimal('31.683'),\n",
        " 'heater1': Decimal('0'),\n",
        " 'housefan1': Decimal('0.073'),\n",
        " 'other': 0,\n",
        " 'venthood1': Decimal('0')}"
       ]
      }
     ],
     "prompt_number": 182
    },
    {
     "cell_type": "code",
     "collapsed": false,
     "input": [
      "##get all months and output the top five appliances for all houses in that month\n",
      "for month in months:\n",
      "    d = query_month(month)\n",
      "    write_month(month,d)"
     ],
     "language": "python",
     "metadata": {},
     "outputs": [
      {
       "output_type": "stream",
       "stream": "stdout",
       "text": [
        "2014-06-16 09:22:47,442 INFO sqlalchemy.engine.base.Engine select version()\n"
       ]
      },
      {
       "output_type": "stream",
       "stream": "stderr",
       "text": [
        "INFO:sqlalchemy.engine.base.Engine:select version()\n"
       ]
      },
      {
       "output_type": "stream",
       "stream": "stdout",
       "text": [
        "2014-06-16 09:22:47,443 INFO sqlalchemy.engine.base.Engine {}\n"
       ]
      },
      {
       "output_type": "stream",
       "stream": "stderr",
       "text": [
        "INFO:sqlalchemy.engine.base.Engine:{}\n"
       ]
      },
      {
       "output_type": "stream",
       "stream": "stdout",
       "text": [
        "2014-06-16 09:22:47,536 INFO sqlalchemy.engine.base.Engine select current_schema()\n"
       ]
      },
      {
       "output_type": "stream",
       "stream": "stderr",
       "text": [
        "INFO:sqlalchemy.engine.base.Engine:select current_schema()\n"
       ]
      },
      {
       "output_type": "stream",
       "stream": "stdout",
       "text": [
        "2014-06-16 09:22:47,537 INFO sqlalchemy.engine.base.Engine {}\n"
       ]
      },
      {
       "output_type": "stream",
       "stream": "stderr",
       "text": [
        "INFO:sqlalchemy.engine.base.Engine:{}\n"
       ]
      },
      {
       "output_type": "stream",
       "stream": "stdout",
       "text": [
        "2014-06-16 09:22:47,627 INFO sqlalchemy.engine.base.Engine SELECT CAST('test plain returns' AS VARCHAR(60)) AS anon_1\n"
       ]
      },
      {
       "output_type": "stream",
       "stream": "stderr",
       "text": [
        "INFO:sqlalchemy.engine.base.Engine:SELECT CAST('test plain returns' AS VARCHAR(60)) AS anon_1\n"
       ]
      },
      {
       "output_type": "stream",
       "stream": "stdout",
       "text": [
        "2014-06-16 09:22:47,628 INFO sqlalchemy.engine.base.Engine {}\n"
       ]
      },
      {
       "output_type": "stream",
       "stream": "stderr",
       "text": [
        "INFO:sqlalchemy.engine.base.Engine:{}\n"
       ]
      },
      {
       "output_type": "stream",
       "stream": "stdout",
       "text": [
        "2014-06-16 09:22:47,672 INFO sqlalchemy.engine.base.Engine SELECT CAST('test unicode returns' AS VARCHAR(60)) AS anon_1\n"
       ]
      },
      {
       "output_type": "stream",
       "stream": "stderr",
       "text": [
        "INFO:sqlalchemy.engine.base.Engine:SELECT CAST('test unicode returns' AS VARCHAR(60)) AS anon_1\n"
       ]
      },
      {
       "output_type": "stream",
       "stream": "stdout",
       "text": [
        "2014-06-16 09:22:47,673 INFO sqlalchemy.engine.base.Engine {}\n"
       ]
      },
      {
       "output_type": "stream",
       "stream": "stderr",
       "text": [
        "INFO:sqlalchemy.engine.base.Engine:{}\n"
       ]
      },
      {
       "output_type": "stream",
       "stream": "stdout",
       "text": [
        "2014-06-16 09:22:47,801 INFO sqlalchemy.engine.base.Engine show standard_conforming_strings\n"
       ]
      },
      {
       "output_type": "stream",
       "stream": "stderr",
       "text": [
        "INFO:sqlalchemy.engine.base.Engine:show standard_conforming_strings\n"
       ]
      },
      {
       "output_type": "stream",
       "stream": "stdout",
       "text": [
        "2014-06-16 09:22:47,802 INFO sqlalchemy.engine.base.Engine {}\n"
       ]
      },
      {
       "output_type": "stream",
       "stream": "stderr",
       "text": [
        "INFO:sqlalchemy.engine.base.Engine:{}\n"
       ]
      },
      {
       "output_type": "stream",
       "stream": "stdout",
       "text": [
        "2014-06-16 09:22:47,887 INFO sqlalchemy.engine.base.Engine select * from \"PecanStreet_CuratedSets\".group1_disaggregated_2013_01\n"
       ]
      },
      {
       "output_type": "stream",
       "stream": "stderr",
       "text": [
        "INFO:sqlalchemy.engine.base.Engine:select * from \"PecanStreet_CuratedSets\".group1_disaggregated_2013_01\n"
       ]
      },
      {
       "output_type": "stream",
       "stream": "stdout",
       "text": [
        "2014-06-16 09:22:47,888 INFO sqlalchemy.engine.base.Engine {}\n"
       ]
      },
      {
       "output_type": "stream",
       "stream": "stderr",
       "text": [
        "INFO:sqlalchemy.engine.base.Engine:{}\n"
       ]
      },
      {
       "output_type": "stream",
       "stream": "stdout",
       "text": [
        "2014-06-16 09:25:28,448 INFO sqlalchemy.engine.base.Engine select version()\n"
       ]
      },
      {
       "output_type": "stream",
       "stream": "stderr",
       "text": [
        "INFO:sqlalchemy.engine.base.Engine:select version()\n"
       ]
      },
      {
       "output_type": "stream",
       "stream": "stdout",
       "text": [
        "2014-06-16 09:25:28,449 INFO sqlalchemy.engine.base.Engine {}\n"
       ]
      },
      {
       "output_type": "stream",
       "stream": "stderr",
       "text": [
        "INFO:sqlalchemy.engine.base.Engine:{}\n"
       ]
      },
      {
       "output_type": "stream",
       "stream": "stdout",
       "text": [
        "2014-06-16 09:25:28,535 INFO sqlalchemy.engine.base.Engine select current_schema()\n"
       ]
      },
      {
       "output_type": "stream",
       "stream": "stderr",
       "text": [
        "INFO:sqlalchemy.engine.base.Engine:select current_schema()\n"
       ]
      },
      {
       "output_type": "stream",
       "stream": "stdout",
       "text": [
        "2014-06-16 09:25:28,536 INFO sqlalchemy.engine.base.Engine {}\n"
       ]
      },
      {
       "output_type": "stream",
       "stream": "stderr",
       "text": [
        "INFO:sqlalchemy.engine.base.Engine:{}\n"
       ]
      },
      {
       "output_type": "stream",
       "stream": "stdout",
       "text": [
        "2014-06-16 09:25:28,629 INFO sqlalchemy.engine.base.Engine SELECT CAST('test plain returns' AS VARCHAR(60)) AS anon_1\n"
       ]
      },
      {
       "output_type": "stream",
       "stream": "stderr",
       "text": [
        "INFO:sqlalchemy.engine.base.Engine:SELECT CAST('test plain returns' AS VARCHAR(60)) AS anon_1\n"
       ]
      },
      {
       "output_type": "stream",
       "stream": "stdout",
       "text": [
        "2014-06-16 09:25:28,630 INFO sqlalchemy.engine.base.Engine {}\n"
       ]
      },
      {
       "output_type": "stream",
       "stream": "stderr",
       "text": [
        "INFO:sqlalchemy.engine.base.Engine:{}\n"
       ]
      },
      {
       "output_type": "stream",
       "stream": "stdout",
       "text": [
        "2014-06-16 09:25:28,680 INFO sqlalchemy.engine.base.Engine SELECT CAST('test unicode returns' AS VARCHAR(60)) AS anon_1\n"
       ]
      },
      {
       "output_type": "stream",
       "stream": "stderr",
       "text": [
        "INFO:sqlalchemy.engine.base.Engine:SELECT CAST('test unicode returns' AS VARCHAR(60)) AS anon_1\n"
       ]
      },
      {
       "output_type": "stream",
       "stream": "stdout",
       "text": [
        "2014-06-16 09:25:28,682 INFO sqlalchemy.engine.base.Engine {}\n"
       ]
      },
      {
       "output_type": "stream",
       "stream": "stderr",
       "text": [
        "INFO:sqlalchemy.engine.base.Engine:{}\n"
       ]
      },
      {
       "output_type": "stream",
       "stream": "stdout",
       "text": [
        "2014-06-16 09:25:28,815 INFO sqlalchemy.engine.base.Engine show standard_conforming_strings\n"
       ]
      },
      {
       "output_type": "stream",
       "stream": "stderr",
       "text": [
        "INFO:sqlalchemy.engine.base.Engine:show standard_conforming_strings\n"
       ]
      },
      {
       "output_type": "stream",
       "stream": "stdout",
       "text": [
        "2014-06-16 09:25:28,816 INFO sqlalchemy.engine.base.Engine {}\n"
       ]
      },
      {
       "output_type": "stream",
       "stream": "stderr",
       "text": [
        "INFO:sqlalchemy.engine.base.Engine:{}\n"
       ]
      },
      {
       "output_type": "stream",
       "stream": "stdout",
       "text": [
        "2014-06-16 09:25:28,903 INFO sqlalchemy.engine.base.Engine select * from \"PecanStreet_CuratedSets\".group1_disaggregated_2013_02\n"
       ]
      },
      {
       "output_type": "stream",
       "stream": "stderr",
       "text": [
        "INFO:sqlalchemy.engine.base.Engine:select * from \"PecanStreet_CuratedSets\".group1_disaggregated_2013_02\n"
       ]
      },
      {
       "output_type": "stream",
       "stream": "stdout",
       "text": [
        "2014-06-16 09:25:28,904 INFO sqlalchemy.engine.base.Engine {}\n"
       ]
      },
      {
       "output_type": "stream",
       "stream": "stderr",
       "text": [
        "INFO:sqlalchemy.engine.base.Engine:{}\n"
       ]
      },
      {
       "output_type": "stream",
       "stream": "stdout",
       "text": [
        "2014-06-16 09:27:36,510 INFO sqlalchemy.engine.base.Engine select version()\n"
       ]
      },
      {
       "output_type": "stream",
       "stream": "stderr",
       "text": [
        "INFO:sqlalchemy.engine.base.Engine:select version()\n"
       ]
      },
      {
       "output_type": "stream",
       "stream": "stdout",
       "text": [
        "2014-06-16 09:27:36,511 INFO sqlalchemy.engine.base.Engine {}\n"
       ]
      },
      {
       "output_type": "stream",
       "stream": "stderr",
       "text": [
        "INFO:sqlalchemy.engine.base.Engine:{}\n"
       ]
      },
      {
       "output_type": "stream",
       "stream": "stdout",
       "text": [
        "2014-06-16 09:27:36,595 INFO sqlalchemy.engine.base.Engine select current_schema()\n"
       ]
      },
      {
       "output_type": "stream",
       "stream": "stderr",
       "text": [
        "INFO:sqlalchemy.engine.base.Engine:select current_schema()\n"
       ]
      },
      {
       "output_type": "stream",
       "stream": "stdout",
       "text": [
        "2014-06-16 09:27:36,596 INFO sqlalchemy.engine.base.Engine {}\n"
       ]
      },
      {
       "output_type": "stream",
       "stream": "stderr",
       "text": [
        "INFO:sqlalchemy.engine.base.Engine:{}\n"
       ]
      },
      {
       "output_type": "stream",
       "stream": "stdout",
       "text": [
        "2014-06-16 09:27:36,685 INFO sqlalchemy.engine.base.Engine SELECT CAST('test plain returns' AS VARCHAR(60)) AS anon_1\n"
       ]
      },
      {
       "output_type": "stream",
       "stream": "stderr",
       "text": [
        "INFO:sqlalchemy.engine.base.Engine:SELECT CAST('test plain returns' AS VARCHAR(60)) AS anon_1\n"
       ]
      },
      {
       "output_type": "stream",
       "stream": "stdout",
       "text": [
        "2014-06-16 09:27:36,686 INFO sqlalchemy.engine.base.Engine {}\n"
       ]
      },
      {
       "output_type": "stream",
       "stream": "stderr",
       "text": [
        "INFO:sqlalchemy.engine.base.Engine:{}\n"
       ]
      },
      {
       "output_type": "stream",
       "stream": "stdout",
       "text": [
        "2014-06-16 09:27:36,730 INFO sqlalchemy.engine.base.Engine SELECT CAST('test unicode returns' AS VARCHAR(60)) AS anon_1\n"
       ]
      },
      {
       "output_type": "stream",
       "stream": "stderr",
       "text": [
        "INFO:sqlalchemy.engine.base.Engine:SELECT CAST('test unicode returns' AS VARCHAR(60)) AS anon_1\n"
       ]
      },
      {
       "output_type": "stream",
       "stream": "stdout",
       "text": [
        "2014-06-16 09:27:36,732 INFO sqlalchemy.engine.base.Engine {}\n"
       ]
      },
      {
       "output_type": "stream",
       "stream": "stderr",
       "text": [
        "INFO:sqlalchemy.engine.base.Engine:{}\n"
       ]
      },
      {
       "output_type": "stream",
       "stream": "stdout",
       "text": [
        "2014-06-16 09:27:36,870 INFO sqlalchemy.engine.base.Engine show standard_conforming_strings\n"
       ]
      },
      {
       "output_type": "stream",
       "stream": "stderr",
       "text": [
        "INFO:sqlalchemy.engine.base.Engine:show standard_conforming_strings\n"
       ]
      },
      {
       "output_type": "stream",
       "stream": "stdout",
       "text": [
        "2014-06-16 09:27:36,871 INFO sqlalchemy.engine.base.Engine {}\n"
       ]
      },
      {
       "output_type": "stream",
       "stream": "stderr",
       "text": [
        "INFO:sqlalchemy.engine.base.Engine:{}\n"
       ]
      },
      {
       "output_type": "stream",
       "stream": "stdout",
       "text": [
        "2014-06-16 09:27:36,960 INFO sqlalchemy.engine.base.Engine select * from \"PecanStreet_CuratedSets\".group1_disaggregated_2013_03\n"
       ]
      },
      {
       "output_type": "stream",
       "stream": "stderr",
       "text": [
        "INFO:sqlalchemy.engine.base.Engine:select * from \"PecanStreet_CuratedSets\".group1_disaggregated_2013_03\n"
       ]
      },
      {
       "output_type": "stream",
       "stream": "stdout",
       "text": [
        "2014-06-16 09:27:36,961 INFO sqlalchemy.engine.base.Engine {}\n"
       ]
      },
      {
       "output_type": "stream",
       "stream": "stderr",
       "text": [
        "INFO:sqlalchemy.engine.base.Engine:{}\n"
       ]
      },
      {
       "output_type": "stream",
       "stream": "stdout",
       "text": [
        "2014-06-16 09:30:05,863 INFO sqlalchemy.engine.base.Engine select version()\n"
       ]
      },
      {
       "output_type": "stream",
       "stream": "stderr",
       "text": [
        "INFO:sqlalchemy.engine.base.Engine:select version()\n"
       ]
      },
      {
       "output_type": "stream",
       "stream": "stdout",
       "text": [
        "2014-06-16 09:30:05,864 INFO sqlalchemy.engine.base.Engine {}\n"
       ]
      },
      {
       "output_type": "stream",
       "stream": "stderr",
       "text": [
        "INFO:sqlalchemy.engine.base.Engine:{}\n"
       ]
      },
      {
       "output_type": "stream",
       "stream": "stdout",
       "text": [
        "2014-06-16 09:30:05,957 INFO sqlalchemy.engine.base.Engine select current_schema()\n"
       ]
      },
      {
       "output_type": "stream",
       "stream": "stderr",
       "text": [
        "INFO:sqlalchemy.engine.base.Engine:select current_schema()\n"
       ]
      },
      {
       "output_type": "stream",
       "stream": "stdout",
       "text": [
        "2014-06-16 09:30:05,958 INFO sqlalchemy.engine.base.Engine {}\n"
       ]
      },
      {
       "output_type": "stream",
       "stream": "stderr",
       "text": [
        "INFO:sqlalchemy.engine.base.Engine:{}\n"
       ]
      },
      {
       "output_type": "stream",
       "stream": "stdout",
       "text": [
        "2014-06-16 09:30:06,047 INFO sqlalchemy.engine.base.Engine SELECT CAST('test plain returns' AS VARCHAR(60)) AS anon_1\n"
       ]
      },
      {
       "output_type": "stream",
       "stream": "stderr",
       "text": [
        "INFO:sqlalchemy.engine.base.Engine:SELECT CAST('test plain returns' AS VARCHAR(60)) AS anon_1\n"
       ]
      },
      {
       "output_type": "stream",
       "stream": "stdout",
       "text": [
        "2014-06-16 09:30:06,048 INFO sqlalchemy.engine.base.Engine {}\n"
       ]
      },
      {
       "output_type": "stream",
       "stream": "stderr",
       "text": [
        "INFO:sqlalchemy.engine.base.Engine:{}\n"
       ]
      },
      {
       "output_type": "stream",
       "stream": "stdout",
       "text": [
        "2014-06-16 09:30:06,092 INFO sqlalchemy.engine.base.Engine SELECT CAST('test unicode returns' AS VARCHAR(60)) AS anon_1\n"
       ]
      },
      {
       "output_type": "stream",
       "stream": "stderr",
       "text": [
        "INFO:sqlalchemy.engine.base.Engine:SELECT CAST('test unicode returns' AS VARCHAR(60)) AS anon_1\n"
       ]
      },
      {
       "output_type": "stream",
       "stream": "stdout",
       "text": [
        "2014-06-16 09:30:06,094 INFO sqlalchemy.engine.base.Engine {}\n"
       ]
      },
      {
       "output_type": "stream",
       "stream": "stderr",
       "text": [
        "INFO:sqlalchemy.engine.base.Engine:{}\n"
       ]
      },
      {
       "output_type": "stream",
       "stream": "stdout",
       "text": [
        "2014-06-16 09:30:06,231 INFO sqlalchemy.engine.base.Engine show standard_conforming_strings\n"
       ]
      },
      {
       "output_type": "stream",
       "stream": "stderr",
       "text": [
        "INFO:sqlalchemy.engine.base.Engine:show standard_conforming_strings\n"
       ]
      },
      {
       "output_type": "stream",
       "stream": "stdout",
       "text": [
        "2014-06-16 09:30:06,233 INFO sqlalchemy.engine.base.Engine {}\n"
       ]
      },
      {
       "output_type": "stream",
       "stream": "stderr",
       "text": [
        "INFO:sqlalchemy.engine.base.Engine:{}\n"
       ]
      },
      {
       "output_type": "stream",
       "stream": "stdout",
       "text": [
        "2014-06-16 09:30:06,318 INFO sqlalchemy.engine.base.Engine select * from \"PecanStreet_CuratedSets\".group1_disaggregated_2013_04\n"
       ]
      },
      {
       "output_type": "stream",
       "stream": "stderr",
       "text": [
        "INFO:sqlalchemy.engine.base.Engine:select * from \"PecanStreet_CuratedSets\".group1_disaggregated_2013_04\n"
       ]
      },
      {
       "output_type": "stream",
       "stream": "stdout",
       "text": [
        "2014-06-16 09:30:06,319 INFO sqlalchemy.engine.base.Engine {}\n"
       ]
      },
      {
       "output_type": "stream",
       "stream": "stderr",
       "text": [
        "INFO:sqlalchemy.engine.base.Engine:{}\n"
       ]
      },
      {
       "output_type": "stream",
       "stream": "stdout",
       "text": [
        "2014-06-16 09:32:25,193 INFO sqlalchemy.engine.base.Engine select version()\n"
       ]
      },
      {
       "output_type": "stream",
       "stream": "stderr",
       "text": [
        "INFO:sqlalchemy.engine.base.Engine:select version()\n"
       ]
      },
      {
       "output_type": "stream",
       "stream": "stdout",
       "text": [
        "2014-06-16 09:32:25,194 INFO sqlalchemy.engine.base.Engine {}\n"
       ]
      },
      {
       "output_type": "stream",
       "stream": "stderr",
       "text": [
        "INFO:sqlalchemy.engine.base.Engine:{}\n"
       ]
      },
      {
       "output_type": "stream",
       "stream": "stdout",
       "text": [
        "2014-06-16 09:32:25,281 INFO sqlalchemy.engine.base.Engine select current_schema()\n"
       ]
      },
      {
       "output_type": "stream",
       "stream": "stderr",
       "text": [
        "INFO:sqlalchemy.engine.base.Engine:select current_schema()\n"
       ]
      },
      {
       "output_type": "stream",
       "stream": "stdout",
       "text": [
        "2014-06-16 09:32:25,282 INFO sqlalchemy.engine.base.Engine {}\n"
       ]
      },
      {
       "output_type": "stream",
       "stream": "stderr",
       "text": [
        "INFO:sqlalchemy.engine.base.Engine:{}\n"
       ]
      },
      {
       "output_type": "stream",
       "stream": "stdout",
       "text": [
        "2014-06-16 09:32:25,373 INFO sqlalchemy.engine.base.Engine SELECT CAST('test plain returns' AS VARCHAR(60)) AS anon_1\n"
       ]
      },
      {
       "output_type": "stream",
       "stream": "stderr",
       "text": [
        "INFO:sqlalchemy.engine.base.Engine:SELECT CAST('test plain returns' AS VARCHAR(60)) AS anon_1\n"
       ]
      },
      {
       "output_type": "stream",
       "stream": "stdout",
       "text": [
        "2014-06-16 09:32:25,374 INFO sqlalchemy.engine.base.Engine {}\n"
       ]
      },
      {
       "output_type": "stream",
       "stream": "stderr",
       "text": [
        "INFO:sqlalchemy.engine.base.Engine:{}\n"
       ]
      },
      {
       "output_type": "stream",
       "stream": "stdout",
       "text": [
        "2014-06-16 09:32:25,421 INFO sqlalchemy.engine.base.Engine SELECT CAST('test unicode returns' AS VARCHAR(60)) AS anon_1\n"
       ]
      },
      {
       "output_type": "stream",
       "stream": "stderr",
       "text": [
        "INFO:sqlalchemy.engine.base.Engine:SELECT CAST('test unicode returns' AS VARCHAR(60)) AS anon_1\n"
       ]
      },
      {
       "output_type": "stream",
       "stream": "stdout",
       "text": [
        "2014-06-16 09:32:25,422 INFO sqlalchemy.engine.base.Engine {}\n"
       ]
      },
      {
       "output_type": "stream",
       "stream": "stderr",
       "text": [
        "INFO:sqlalchemy.engine.base.Engine:{}\n"
       ]
      },
      {
       "output_type": "stream",
       "stream": "stdout",
       "text": [
        "2014-06-16 09:32:25,571 INFO sqlalchemy.engine.base.Engine show standard_conforming_strings\n"
       ]
      },
      {
       "output_type": "stream",
       "stream": "stderr",
       "text": [
        "INFO:sqlalchemy.engine.base.Engine:show standard_conforming_strings\n"
       ]
      },
      {
       "output_type": "stream",
       "stream": "stdout",
       "text": [
        "2014-06-16 09:32:25,572 INFO sqlalchemy.engine.base.Engine {}\n"
       ]
      },
      {
       "output_type": "stream",
       "stream": "stderr",
       "text": [
        "INFO:sqlalchemy.engine.base.Engine:{}\n"
       ]
      },
      {
       "output_type": "stream",
       "stream": "stdout",
       "text": [
        "2014-06-16 09:32:25,658 INFO sqlalchemy.engine.base.Engine select * from \"PecanStreet_CuratedSets\".group1_disaggregated_2013_05\n"
       ]
      },
      {
       "output_type": "stream",
       "stream": "stderr",
       "text": [
        "INFO:sqlalchemy.engine.base.Engine:select * from \"PecanStreet_CuratedSets\".group1_disaggregated_2013_05\n"
       ]
      },
      {
       "output_type": "stream",
       "stream": "stdout",
       "text": [
        "2014-06-16 09:32:25,659 INFO sqlalchemy.engine.base.Engine {}\n"
       ]
      },
      {
       "output_type": "stream",
       "stream": "stderr",
       "text": [
        "INFO:sqlalchemy.engine.base.Engine:{}\n"
       ]
      },
      {
       "output_type": "stream",
       "stream": "stdout",
       "text": [
        "2014-06-16 09:34:56,285 INFO sqlalchemy.engine.base.Engine select version()\n"
       ]
      },
      {
       "output_type": "stream",
       "stream": "stderr",
       "text": [
        "INFO:sqlalchemy.engine.base.Engine:select version()\n"
       ]
      },
      {
       "output_type": "stream",
       "stream": "stdout",
       "text": [
        "2014-06-16 09:34:56,287 INFO sqlalchemy.engine.base.Engine {}\n"
       ]
      },
      {
       "output_type": "stream",
       "stream": "stderr",
       "text": [
        "INFO:sqlalchemy.engine.base.Engine:{}\n"
       ]
      },
      {
       "output_type": "stream",
       "stream": "stdout",
       "text": [
        "2014-06-16 09:34:56,375 INFO sqlalchemy.engine.base.Engine select current_schema()\n"
       ]
      },
      {
       "output_type": "stream",
       "stream": "stderr",
       "text": [
        "INFO:sqlalchemy.engine.base.Engine:select current_schema()\n"
       ]
      },
      {
       "output_type": "stream",
       "stream": "stdout",
       "text": [
        "2014-06-16 09:34:56,376 INFO sqlalchemy.engine.base.Engine {}\n"
       ]
      },
      {
       "output_type": "stream",
       "stream": "stderr",
       "text": [
        "INFO:sqlalchemy.engine.base.Engine:{}\n"
       ]
      },
      {
       "output_type": "stream",
       "stream": "stdout",
       "text": [
        "2014-06-16 09:34:56,465 INFO sqlalchemy.engine.base.Engine SELECT CAST('test plain returns' AS VARCHAR(60)) AS anon_1\n"
       ]
      },
      {
       "output_type": "stream",
       "stream": "stderr",
       "text": [
        "INFO:sqlalchemy.engine.base.Engine:SELECT CAST('test plain returns' AS VARCHAR(60)) AS anon_1\n"
       ]
      },
      {
       "output_type": "stream",
       "stream": "stdout",
       "text": [
        "2014-06-16 09:34:56,466 INFO sqlalchemy.engine.base.Engine {}\n"
       ]
      },
      {
       "output_type": "stream",
       "stream": "stderr",
       "text": [
        "INFO:sqlalchemy.engine.base.Engine:{}\n"
       ]
      },
      {
       "output_type": "stream",
       "stream": "stdout",
       "text": [
        "2014-06-16 09:34:56,512 INFO sqlalchemy.engine.base.Engine SELECT CAST('test unicode returns' AS VARCHAR(60)) AS anon_1\n"
       ]
      },
      {
       "output_type": "stream",
       "stream": "stderr",
       "text": [
        "INFO:sqlalchemy.engine.base.Engine:SELECT CAST('test unicode returns' AS VARCHAR(60)) AS anon_1\n"
       ]
      },
      {
       "output_type": "stream",
       "stream": "stdout",
       "text": [
        "2014-06-16 09:34:56,513 INFO sqlalchemy.engine.base.Engine {}\n"
       ]
      },
      {
       "output_type": "stream",
       "stream": "stderr",
       "text": [
        "INFO:sqlalchemy.engine.base.Engine:{}\n"
       ]
      },
      {
       "output_type": "stream",
       "stream": "stdout",
       "text": [
        "2014-06-16 09:34:56,655 INFO sqlalchemy.engine.base.Engine show standard_conforming_strings\n"
       ]
      },
      {
       "output_type": "stream",
       "stream": "stderr",
       "text": [
        "INFO:sqlalchemy.engine.base.Engine:show standard_conforming_strings\n"
       ]
      },
      {
       "output_type": "stream",
       "stream": "stdout",
       "text": [
        "2014-06-16 09:34:56,656 INFO sqlalchemy.engine.base.Engine {}\n"
       ]
      },
      {
       "output_type": "stream",
       "stream": "stderr",
       "text": [
        "INFO:sqlalchemy.engine.base.Engine:{}\n"
       ]
      },
      {
       "output_type": "stream",
       "stream": "stdout",
       "text": [
        "2014-06-16 09:34:56,741 INFO sqlalchemy.engine.base.Engine select * from \"PecanStreet_CuratedSets\".group1_disaggregated_2013_06\n"
       ]
      },
      {
       "output_type": "stream",
       "stream": "stderr",
       "text": [
        "INFO:sqlalchemy.engine.base.Engine:select * from \"PecanStreet_CuratedSets\".group1_disaggregated_2013_06\n"
       ]
      },
      {
       "output_type": "stream",
       "stream": "stdout",
       "text": [
        "2014-06-16 09:34:56,742 INFO sqlalchemy.engine.base.Engine {}\n"
       ]
      },
      {
       "output_type": "stream",
       "stream": "stderr",
       "text": [
        "INFO:sqlalchemy.engine.base.Engine:{}\n"
       ]
      },
      {
       "output_type": "stream",
       "stream": "stdout",
       "text": [
        "2014-06-16 09:37:16,609 INFO sqlalchemy.engine.base.Engine select version()\n"
       ]
      },
      {
       "output_type": "stream",
       "stream": "stderr",
       "text": [
        "INFO:sqlalchemy.engine.base.Engine:select version()\n"
       ]
      },
      {
       "output_type": "stream",
       "stream": "stdout",
       "text": [
        "2014-06-16 09:37:16,610 INFO sqlalchemy.engine.base.Engine {}\n"
       ]
      },
      {
       "output_type": "stream",
       "stream": "stderr",
       "text": [
        "INFO:sqlalchemy.engine.base.Engine:{}\n"
       ]
      },
      {
       "output_type": "stream",
       "stream": "stdout",
       "text": [
        "2014-06-16 09:37:16,702 INFO sqlalchemy.engine.base.Engine select current_schema()\n"
       ]
      },
      {
       "output_type": "stream",
       "stream": "stderr",
       "text": [
        "INFO:sqlalchemy.engine.base.Engine:select current_schema()\n"
       ]
      },
      {
       "output_type": "stream",
       "stream": "stdout",
       "text": [
        "2014-06-16 09:37:16,703 INFO sqlalchemy.engine.base.Engine {}\n"
       ]
      },
      {
       "output_type": "stream",
       "stream": "stderr",
       "text": [
        "INFO:sqlalchemy.engine.base.Engine:{}\n"
       ]
      },
      {
       "output_type": "stream",
       "stream": "stdout",
       "text": [
        "2014-06-16 09:37:16,809 INFO sqlalchemy.engine.base.Engine SELECT CAST('test plain returns' AS VARCHAR(60)) AS anon_1\n"
       ]
      },
      {
       "output_type": "stream",
       "stream": "stderr",
       "text": [
        "INFO:sqlalchemy.engine.base.Engine:SELECT CAST('test plain returns' AS VARCHAR(60)) AS anon_1\n"
       ]
      },
      {
       "output_type": "stream",
       "stream": "stdout",
       "text": [
        "2014-06-16 09:37:16,810 INFO sqlalchemy.engine.base.Engine {}\n"
       ]
      },
      {
       "output_type": "stream",
       "stream": "stderr",
       "text": [
        "INFO:sqlalchemy.engine.base.Engine:{}\n"
       ]
      },
      {
       "output_type": "stream",
       "stream": "stdout",
       "text": [
        "2014-06-16 09:37:16,889 INFO sqlalchemy.engine.base.Engine SELECT CAST('test unicode returns' AS VARCHAR(60)) AS anon_1\n"
       ]
      },
      {
       "output_type": "stream",
       "stream": "stderr",
       "text": [
        "INFO:sqlalchemy.engine.base.Engine:SELECT CAST('test unicode returns' AS VARCHAR(60)) AS anon_1\n"
       ]
      },
      {
       "output_type": "stream",
       "stream": "stdout",
       "text": [
        "2014-06-16 09:37:16,890 INFO sqlalchemy.engine.base.Engine {}\n"
       ]
      },
      {
       "output_type": "stream",
       "stream": "stderr",
       "text": [
        "INFO:sqlalchemy.engine.base.Engine:{}\n"
       ]
      },
      {
       "output_type": "stream",
       "stream": "stdout",
       "text": [
        "2014-06-16 09:37:17,120 INFO sqlalchemy.engine.base.Engine show standard_conforming_strings\n"
       ]
      },
      {
       "output_type": "stream",
       "stream": "stderr",
       "text": [
        "INFO:sqlalchemy.engine.base.Engine:show standard_conforming_strings\n"
       ]
      },
      {
       "output_type": "stream",
       "stream": "stdout",
       "text": [
        "2014-06-16 09:37:17,120 INFO sqlalchemy.engine.base.Engine {}\n"
       ]
      },
      {
       "output_type": "stream",
       "stream": "stderr",
       "text": [
        "INFO:sqlalchemy.engine.base.Engine:{}\n"
       ]
      },
      {
       "output_type": "stream",
       "stream": "stdout",
       "text": [
        "2014-06-16 09:37:17,349 INFO sqlalchemy.engine.base.Engine select * from \"PecanStreet_CuratedSets\".group1_disaggregated_2013_07\n"
       ]
      },
      {
       "output_type": "stream",
       "stream": "stderr",
       "text": [
        "INFO:sqlalchemy.engine.base.Engine:select * from \"PecanStreet_CuratedSets\".group1_disaggregated_2013_07\n"
       ]
      },
      {
       "output_type": "stream",
       "stream": "stdout",
       "text": [
        "2014-06-16 09:37:17,350 INFO sqlalchemy.engine.base.Engine {}\n"
       ]
      },
      {
       "output_type": "stream",
       "stream": "stderr",
       "text": [
        "INFO:sqlalchemy.engine.base.Engine:{}\n"
       ]
      },
      {
       "output_type": "stream",
       "stream": "stdout",
       "text": [
        "2014-06-16 09:39:44,602 INFO sqlalchemy.engine.base.Engine select version()\n"
       ]
      },
      {
       "output_type": "stream",
       "stream": "stderr",
       "text": [
        "INFO:sqlalchemy.engine.base.Engine:select version()\n"
       ]
      },
      {
       "output_type": "stream",
       "stream": "stdout",
       "text": [
        "2014-06-16 09:39:44,604 INFO sqlalchemy.engine.base.Engine {}\n"
       ]
      },
      {
       "output_type": "stream",
       "stream": "stderr",
       "text": [
        "INFO:sqlalchemy.engine.base.Engine:{}\n"
       ]
      },
      {
       "output_type": "stream",
       "stream": "stdout",
       "text": [
        "2014-06-16 09:39:44,689 INFO sqlalchemy.engine.base.Engine select current_schema()\n"
       ]
      },
      {
       "output_type": "stream",
       "stream": "stderr",
       "text": [
        "INFO:sqlalchemy.engine.base.Engine:select current_schema()\n"
       ]
      },
      {
       "output_type": "stream",
       "stream": "stdout",
       "text": [
        "2014-06-16 09:39:44,690 INFO sqlalchemy.engine.base.Engine {}\n"
       ]
      },
      {
       "output_type": "stream",
       "stream": "stderr",
       "text": [
        "INFO:sqlalchemy.engine.base.Engine:{}\n"
       ]
      },
      {
       "output_type": "stream",
       "stream": "stdout",
       "text": [
        "2014-06-16 09:39:44,780 INFO sqlalchemy.engine.base.Engine SELECT CAST('test plain returns' AS VARCHAR(60)) AS anon_1\n"
       ]
      },
      {
       "output_type": "stream",
       "stream": "stderr",
       "text": [
        "INFO:sqlalchemy.engine.base.Engine:SELECT CAST('test plain returns' AS VARCHAR(60)) AS anon_1\n"
       ]
      },
      {
       "output_type": "stream",
       "stream": "stdout",
       "text": [
        "2014-06-16 09:39:44,781 INFO sqlalchemy.engine.base.Engine {}\n"
       ]
      },
      {
       "output_type": "stream",
       "stream": "stderr",
       "text": [
        "INFO:sqlalchemy.engine.base.Engine:{}\n"
       ]
      },
      {
       "output_type": "stream",
       "stream": "stdout",
       "text": [
        "2014-06-16 09:39:44,829 INFO sqlalchemy.engine.base.Engine SELECT CAST('test unicode returns' AS VARCHAR(60)) AS anon_1\n"
       ]
      },
      {
       "output_type": "stream",
       "stream": "stderr",
       "text": [
        "INFO:sqlalchemy.engine.base.Engine:SELECT CAST('test unicode returns' AS VARCHAR(60)) AS anon_1\n"
       ]
      },
      {
       "output_type": "stream",
       "stream": "stdout",
       "text": [
        "2014-06-16 09:39:44,829 INFO sqlalchemy.engine.base.Engine {}\n"
       ]
      },
      {
       "output_type": "stream",
       "stream": "stderr",
       "text": [
        "INFO:sqlalchemy.engine.base.Engine:{}\n"
       ]
      },
      {
       "output_type": "stream",
       "stream": "stdout",
       "text": [
        "2014-06-16 09:39:44,964 INFO sqlalchemy.engine.base.Engine show standard_conforming_strings\n"
       ]
      },
      {
       "output_type": "stream",
       "stream": "stderr",
       "text": [
        "INFO:sqlalchemy.engine.base.Engine:show standard_conforming_strings\n"
       ]
      },
      {
       "output_type": "stream",
       "stream": "stdout",
       "text": [
        "2014-06-16 09:39:44,965 INFO sqlalchemy.engine.base.Engine {}\n"
       ]
      },
      {
       "output_type": "stream",
       "stream": "stderr",
       "text": [
        "INFO:sqlalchemy.engine.base.Engine:{}\n"
       ]
      },
      {
       "output_type": "stream",
       "stream": "stdout",
       "text": [
        "2014-06-16 09:39:45,060 INFO sqlalchemy.engine.base.Engine select * from \"PecanStreet_CuratedSets\".group1_disaggregated_2013_08\n"
       ]
      },
      {
       "output_type": "stream",
       "stream": "stderr",
       "text": [
        "INFO:sqlalchemy.engine.base.Engine:select * from \"PecanStreet_CuratedSets\".group1_disaggregated_2013_08\n"
       ]
      },
      {
       "output_type": "stream",
       "stream": "stdout",
       "text": [
        "2014-06-16 09:39:45,061 INFO sqlalchemy.engine.base.Engine {}\n"
       ]
      },
      {
       "output_type": "stream",
       "stream": "stderr",
       "text": [
        "INFO:sqlalchemy.engine.base.Engine:{}\n"
       ]
      },
      {
       "output_type": "stream",
       "stream": "stdout",
       "text": [
        "2014-06-16 09:42:13,730 INFO sqlalchemy.engine.base.Engine select version()\n"
       ]
      },
      {
       "output_type": "stream",
       "stream": "stderr",
       "text": [
        "INFO:sqlalchemy.engine.base.Engine:select version()\n"
       ]
      },
      {
       "output_type": "stream",
       "stream": "stdout",
       "text": [
        "2014-06-16 09:42:13,731 INFO sqlalchemy.engine.base.Engine {}\n"
       ]
      },
      {
       "output_type": "stream",
       "stream": "stderr",
       "text": [
        "INFO:sqlalchemy.engine.base.Engine:{}\n"
       ]
      },
      {
       "output_type": "stream",
       "stream": "stdout",
       "text": [
        "2014-06-16 09:42:13,821 INFO sqlalchemy.engine.base.Engine select current_schema()\n"
       ]
      },
      {
       "output_type": "stream",
       "stream": "stderr",
       "text": [
        "INFO:sqlalchemy.engine.base.Engine:select current_schema()\n"
       ]
      },
      {
       "output_type": "stream",
       "stream": "stdout",
       "text": [
        "2014-06-16 09:42:13,822 INFO sqlalchemy.engine.base.Engine {}\n"
       ]
      },
      {
       "output_type": "stream",
       "stream": "stderr",
       "text": [
        "INFO:sqlalchemy.engine.base.Engine:{}\n"
       ]
      },
      {
       "output_type": "stream",
       "stream": "stdout",
       "text": [
        "2014-06-16 09:42:13,906 INFO sqlalchemy.engine.base.Engine SELECT CAST('test plain returns' AS VARCHAR(60)) AS anon_1\n"
       ]
      },
      {
       "output_type": "stream",
       "stream": "stderr",
       "text": [
        "INFO:sqlalchemy.engine.base.Engine:SELECT CAST('test plain returns' AS VARCHAR(60)) AS anon_1\n"
       ]
      },
      {
       "output_type": "stream",
       "stream": "stdout",
       "text": [
        "2014-06-16 09:42:13,907 INFO sqlalchemy.engine.base.Engine {}\n"
       ]
      },
      {
       "output_type": "stream",
       "stream": "stderr",
       "text": [
        "INFO:sqlalchemy.engine.base.Engine:{}\n"
       ]
      },
      {
       "output_type": "stream",
       "stream": "stdout",
       "text": [
        "2014-06-16 09:42:13,956 INFO sqlalchemy.engine.base.Engine SELECT CAST('test unicode returns' AS VARCHAR(60)) AS anon_1\n"
       ]
      },
      {
       "output_type": "stream",
       "stream": "stderr",
       "text": [
        "INFO:sqlalchemy.engine.base.Engine:SELECT CAST('test unicode returns' AS VARCHAR(60)) AS anon_1\n"
       ]
      },
      {
       "output_type": "stream",
       "stream": "stdout",
       "text": [
        "2014-06-16 09:42:13,957 INFO sqlalchemy.engine.base.Engine {}\n"
       ]
      },
      {
       "output_type": "stream",
       "stream": "stderr",
       "text": [
        "INFO:sqlalchemy.engine.base.Engine:{}\n"
       ]
      },
      {
       "output_type": "stream",
       "stream": "stdout",
       "text": [
        "2014-06-16 09:42:14,085 INFO sqlalchemy.engine.base.Engine show standard_conforming_strings\n"
       ]
      },
      {
       "output_type": "stream",
       "stream": "stderr",
       "text": [
        "INFO:sqlalchemy.engine.base.Engine:show standard_conforming_strings\n"
       ]
      },
      {
       "output_type": "stream",
       "stream": "stdout",
       "text": [
        "2014-06-16 09:42:14,086 INFO sqlalchemy.engine.base.Engine {}\n"
       ]
      },
      {
       "output_type": "stream",
       "stream": "stderr",
       "text": [
        "INFO:sqlalchemy.engine.base.Engine:{}\n"
       ]
      },
      {
       "output_type": "stream",
       "stream": "stdout",
       "text": [
        "2014-06-16 09:42:14,175 INFO sqlalchemy.engine.base.Engine select * from \"PecanStreet_CuratedSets\".group1_disaggregated_2013_09\n"
       ]
      },
      {
       "output_type": "stream",
       "stream": "stderr",
       "text": [
        "INFO:sqlalchemy.engine.base.Engine:select * from \"PecanStreet_CuratedSets\".group1_disaggregated_2013_09\n"
       ]
      },
      {
       "output_type": "stream",
       "stream": "stdout",
       "text": [
        "2014-06-16 09:42:14,176 INFO sqlalchemy.engine.base.Engine {}\n"
       ]
      },
      {
       "output_type": "stream",
       "stream": "stderr",
       "text": [
        "INFO:sqlalchemy.engine.base.Engine:{}\n"
       ]
      },
      {
       "output_type": "stream",
       "stream": "stdout",
       "text": [
        "2014-06-16 09:44:34,372 INFO sqlalchemy.engine.base.Engine select version()\n"
       ]
      },
      {
       "output_type": "stream",
       "stream": "stderr",
       "text": [
        "INFO:sqlalchemy.engine.base.Engine:select version()\n"
       ]
      },
      {
       "output_type": "stream",
       "stream": "stdout",
       "text": [
        "2014-06-16 09:44:34,373 INFO sqlalchemy.engine.base.Engine {}\n"
       ]
      },
      {
       "output_type": "stream",
       "stream": "stderr",
       "text": [
        "INFO:sqlalchemy.engine.base.Engine:{}\n"
       ]
      },
      {
       "output_type": "stream",
       "stream": "stdout",
       "text": [
        "2014-06-16 09:44:34,465 INFO sqlalchemy.engine.base.Engine select current_schema()\n"
       ]
      },
      {
       "output_type": "stream",
       "stream": "stderr",
       "text": [
        "INFO:sqlalchemy.engine.base.Engine:select current_schema()\n"
       ]
      },
      {
       "output_type": "stream",
       "stream": "stdout",
       "text": [
        "2014-06-16 09:44:34,466 INFO sqlalchemy.engine.base.Engine {}\n"
       ]
      },
      {
       "output_type": "stream",
       "stream": "stderr",
       "text": [
        "INFO:sqlalchemy.engine.base.Engine:{}\n"
       ]
      },
      {
       "output_type": "stream",
       "stream": "stdout",
       "text": [
        "2014-06-16 09:44:34,557 INFO sqlalchemy.engine.base.Engine SELECT CAST('test plain returns' AS VARCHAR(60)) AS anon_1\n"
       ]
      },
      {
       "output_type": "stream",
       "stream": "stderr",
       "text": [
        "INFO:sqlalchemy.engine.base.Engine:SELECT CAST('test plain returns' AS VARCHAR(60)) AS anon_1\n"
       ]
      },
      {
       "output_type": "stream",
       "stream": "stdout",
       "text": [
        "2014-06-16 09:44:34,559 INFO sqlalchemy.engine.base.Engine {}\n"
       ]
      },
      {
       "output_type": "stream",
       "stream": "stderr",
       "text": [
        "INFO:sqlalchemy.engine.base.Engine:{}\n"
       ]
      },
      {
       "output_type": "stream",
       "stream": "stdout",
       "text": [
        "2014-06-16 09:44:34,605 INFO sqlalchemy.engine.base.Engine SELECT CAST('test unicode returns' AS VARCHAR(60)) AS anon_1\n"
       ]
      },
      {
       "output_type": "stream",
       "stream": "stderr",
       "text": [
        "INFO:sqlalchemy.engine.base.Engine:SELECT CAST('test unicode returns' AS VARCHAR(60)) AS anon_1\n"
       ]
      },
      {
       "output_type": "stream",
       "stream": "stdout",
       "text": [
        "2014-06-16 09:44:34,606 INFO sqlalchemy.engine.base.Engine {}\n"
       ]
      },
      {
       "output_type": "stream",
       "stream": "stderr",
       "text": [
        "INFO:sqlalchemy.engine.base.Engine:{}\n"
       ]
      },
      {
       "output_type": "stream",
       "stream": "stdout",
       "text": [
        "2014-06-16 09:44:34,734 INFO sqlalchemy.engine.base.Engine show standard_conforming_strings\n"
       ]
      },
      {
       "output_type": "stream",
       "stream": "stderr",
       "text": [
        "INFO:sqlalchemy.engine.base.Engine:show standard_conforming_strings\n"
       ]
      },
      {
       "output_type": "stream",
       "stream": "stdout",
       "text": [
        "2014-06-16 09:44:34,735 INFO sqlalchemy.engine.base.Engine {}\n"
       ]
      },
      {
       "output_type": "stream",
       "stream": "stderr",
       "text": [
        "INFO:sqlalchemy.engine.base.Engine:{}\n"
       ]
      },
      {
       "output_type": "stream",
       "stream": "stdout",
       "text": [
        "2014-06-16 09:44:34,827 INFO sqlalchemy.engine.base.Engine select * from \"PecanStreet_CuratedSets\".group1_disaggregated_2013_10\n"
       ]
      },
      {
       "output_type": "stream",
       "stream": "stderr",
       "text": [
        "INFO:sqlalchemy.engine.base.Engine:select * from \"PecanStreet_CuratedSets\".group1_disaggregated_2013_10\n"
       ]
      },
      {
       "output_type": "stream",
       "stream": "stdout",
       "text": [
        "2014-06-16 09:44:34,828 INFO sqlalchemy.engine.base.Engine {}\n"
       ]
      },
      {
       "output_type": "stream",
       "stream": "stderr",
       "text": [
        "INFO:sqlalchemy.engine.base.Engine:{}\n"
       ]
      },
      {
       "output_type": "stream",
       "stream": "stdout",
       "text": [
        "2014-06-16 09:46:24,326 INFO sqlalchemy.engine.base.Engine select version()\n"
       ]
      },
      {
       "output_type": "stream",
       "stream": "stderr",
       "text": [
        "INFO:sqlalchemy.engine.base.Engine:select version()\n"
       ]
      },
      {
       "output_type": "stream",
       "stream": "stdout",
       "text": [
        "2014-06-16 09:46:24,327 INFO sqlalchemy.engine.base.Engine {}\n"
       ]
      },
      {
       "output_type": "stream",
       "stream": "stderr",
       "text": [
        "INFO:sqlalchemy.engine.base.Engine:{}\n"
       ]
      },
      {
       "output_type": "stream",
       "stream": "stdout",
       "text": [
        "2014-06-16 09:46:24,415 INFO sqlalchemy.engine.base.Engine select current_schema()\n"
       ]
      },
      {
       "output_type": "stream",
       "stream": "stderr",
       "text": [
        "INFO:sqlalchemy.engine.base.Engine:select current_schema()\n"
       ]
      },
      {
       "output_type": "stream",
       "stream": "stdout",
       "text": [
        "2014-06-16 09:46:24,416 INFO sqlalchemy.engine.base.Engine {}\n"
       ]
      },
      {
       "output_type": "stream",
       "stream": "stderr",
       "text": [
        "INFO:sqlalchemy.engine.base.Engine:{}\n"
       ]
      },
      {
       "output_type": "stream",
       "stream": "stdout",
       "text": [
        "2014-06-16 09:46:24,510 INFO sqlalchemy.engine.base.Engine SELECT CAST('test plain returns' AS VARCHAR(60)) AS anon_1\n"
       ]
      },
      {
       "output_type": "stream",
       "stream": "stderr",
       "text": [
        "INFO:sqlalchemy.engine.base.Engine:SELECT CAST('test plain returns' AS VARCHAR(60)) AS anon_1\n"
       ]
      },
      {
       "output_type": "stream",
       "stream": "stdout",
       "text": [
        "2014-06-16 09:46:24,511 INFO sqlalchemy.engine.base.Engine {}\n"
       ]
      },
      {
       "output_type": "stream",
       "stream": "stderr",
       "text": [
        "INFO:sqlalchemy.engine.base.Engine:{}\n"
       ]
      },
      {
       "output_type": "stream",
       "stream": "stdout",
       "text": [
        "2014-06-16 09:46:24,557 INFO sqlalchemy.engine.base.Engine SELECT CAST('test unicode returns' AS VARCHAR(60)) AS anon_1\n"
       ]
      },
      {
       "output_type": "stream",
       "stream": "stderr",
       "text": [
        "INFO:sqlalchemy.engine.base.Engine:SELECT CAST('test unicode returns' AS VARCHAR(60)) AS anon_1\n"
       ]
      },
      {
       "output_type": "stream",
       "stream": "stdout",
       "text": [
        "2014-06-16 09:46:24,558 INFO sqlalchemy.engine.base.Engine {}\n"
       ]
      },
      {
       "output_type": "stream",
       "stream": "stderr",
       "text": [
        "INFO:sqlalchemy.engine.base.Engine:{}\n"
       ]
      },
      {
       "output_type": "stream",
       "stream": "stdout",
       "text": [
        "2014-06-16 09:46:24,684 INFO sqlalchemy.engine.base.Engine show standard_conforming_strings\n"
       ]
      },
      {
       "output_type": "stream",
       "stream": "stderr",
       "text": [
        "INFO:sqlalchemy.engine.base.Engine:show standard_conforming_strings\n"
       ]
      },
      {
       "output_type": "stream",
       "stream": "stdout",
       "text": [
        "2014-06-16 09:46:24,685 INFO sqlalchemy.engine.base.Engine {}\n"
       ]
      },
      {
       "output_type": "stream",
       "stream": "stderr",
       "text": [
        "INFO:sqlalchemy.engine.base.Engine:{}\n"
       ]
      },
      {
       "output_type": "stream",
       "stream": "stdout",
       "text": [
        "2014-06-16 09:46:24,772 INFO sqlalchemy.engine.base.Engine select * from \"PecanStreet_CuratedSets\".group1_disaggregated_2013_11\n"
       ]
      },
      {
       "output_type": "stream",
       "stream": "stderr",
       "text": [
        "INFO:sqlalchemy.engine.base.Engine:select * from \"PecanStreet_CuratedSets\".group1_disaggregated_2013_11\n"
       ]
      },
      {
       "output_type": "stream",
       "stream": "stdout",
       "text": [
        "2014-06-16 09:46:24,773 INFO sqlalchemy.engine.base.Engine {}\n"
       ]
      },
      {
       "output_type": "stream",
       "stream": "stderr",
       "text": [
        "INFO:sqlalchemy.engine.base.Engine:{}\n"
       ]
      },
      {
       "output_type": "stream",
       "stream": "stdout",
       "text": [
        "2014-06-16 09:48:42,297 INFO sqlalchemy.engine.base.Engine select version()\n"
       ]
      },
      {
       "output_type": "stream",
       "stream": "stderr",
       "text": [
        "INFO:sqlalchemy.engine.base.Engine:select version()\n"
       ]
      },
      {
       "output_type": "stream",
       "stream": "stdout",
       "text": [
        "2014-06-16 09:48:42,298 INFO sqlalchemy.engine.base.Engine {}\n"
       ]
      },
      {
       "output_type": "stream",
       "stream": "stderr",
       "text": [
        "INFO:sqlalchemy.engine.base.Engine:{}\n"
       ]
      },
      {
       "output_type": "stream",
       "stream": "stdout",
       "text": [
        "2014-06-16 09:48:42,632 INFO sqlalchemy.engine.base.Engine select current_schema()\n"
       ]
      },
      {
       "output_type": "stream",
       "stream": "stderr",
       "text": [
        "INFO:sqlalchemy.engine.base.Engine:select current_schema()\n"
       ]
      },
      {
       "output_type": "stream",
       "stream": "stdout",
       "text": [
        "2014-06-16 09:48:42,633 INFO sqlalchemy.engine.base.Engine {}\n"
       ]
      },
      {
       "output_type": "stream",
       "stream": "stderr",
       "text": [
        "INFO:sqlalchemy.engine.base.Engine:{}\n"
       ]
      },
      {
       "output_type": "stream",
       "stream": "stdout",
       "text": [
        "2014-06-16 09:48:42,722 INFO sqlalchemy.engine.base.Engine SELECT CAST('test plain returns' AS VARCHAR(60)) AS anon_1\n"
       ]
      },
      {
       "output_type": "stream",
       "stream": "stderr",
       "text": [
        "INFO:sqlalchemy.engine.base.Engine:SELECT CAST('test plain returns' AS VARCHAR(60)) AS anon_1\n"
       ]
      },
      {
       "output_type": "stream",
       "stream": "stdout",
       "text": [
        "2014-06-16 09:48:42,723 INFO sqlalchemy.engine.base.Engine {}\n"
       ]
      },
      {
       "output_type": "stream",
       "stream": "stderr",
       "text": [
        "INFO:sqlalchemy.engine.base.Engine:{}\n"
       ]
      },
      {
       "output_type": "stream",
       "stream": "stdout",
       "text": [
        "2014-06-16 09:48:42,771 INFO sqlalchemy.engine.base.Engine SELECT CAST('test unicode returns' AS VARCHAR(60)) AS anon_1\n"
       ]
      },
      {
       "output_type": "stream",
       "stream": "stderr",
       "text": [
        "INFO:sqlalchemy.engine.base.Engine:SELECT CAST('test unicode returns' AS VARCHAR(60)) AS anon_1\n"
       ]
      },
      {
       "output_type": "stream",
       "stream": "stdout",
       "text": [
        "2014-06-16 09:48:42,773 INFO sqlalchemy.engine.base.Engine {}\n"
       ]
      },
      {
       "output_type": "stream",
       "stream": "stderr",
       "text": [
        "INFO:sqlalchemy.engine.base.Engine:{}\n"
       ]
      },
      {
       "output_type": "stream",
       "stream": "stdout",
       "text": [
        "2014-06-16 09:48:42,902 INFO sqlalchemy.engine.base.Engine show standard_conforming_strings\n"
       ]
      },
      {
       "output_type": "stream",
       "stream": "stderr",
       "text": [
        "INFO:sqlalchemy.engine.base.Engine:show standard_conforming_strings\n"
       ]
      },
      {
       "output_type": "stream",
       "stream": "stdout",
       "text": [
        "2014-06-16 09:48:42,903 INFO sqlalchemy.engine.base.Engine {}\n"
       ]
      },
      {
       "output_type": "stream",
       "stream": "stderr",
       "text": [
        "INFO:sqlalchemy.engine.base.Engine:{}\n"
       ]
      },
      {
       "output_type": "stream",
       "stream": "stdout",
       "text": [
        "2014-06-16 09:48:42,991 INFO sqlalchemy.engine.base.Engine select * from \"PecanStreet_CuratedSets\".group1_disaggregated_2013_12\n"
       ]
      },
      {
       "output_type": "stream",
       "stream": "stderr",
       "text": [
        "INFO:sqlalchemy.engine.base.Engine:select * from \"PecanStreet_CuratedSets\".group1_disaggregated_2013_12\n"
       ]
      },
      {
       "output_type": "stream",
       "stream": "stdout",
       "text": [
        "2014-06-16 09:48:42,992 INFO sqlalchemy.engine.base.Engine {}\n"
       ]
      },
      {
       "output_type": "stream",
       "stream": "stderr",
       "text": [
        "INFO:sqlalchemy.engine.base.Engine:{}\n"
       ]
      },
      {
       "output_type": "stream",
       "stream": "stdout",
       "text": [
        "2014-06-16 09:48:43,042 INFO sqlalchemy.engine.base.Engine ROLLBACK\n"
       ]
      },
      {
       "output_type": "stream",
       "stream": "stderr",
       "text": [
        "INFO:sqlalchemy.engine.base.Engine:ROLLBACK\n"
       ]
      },
      {
       "ename": "ProgrammingError",
       "evalue": "(ProgrammingError) relation \"PecanStreet_CuratedSets.group1_disaggregated_2013_12\" does not exist\nLINE 1: select * from \"PecanStreet_CuratedSets\".group1_disaggregated...\n                      ^\n 'select * from \"PecanStreet_CuratedSets\".group1_disaggregated_2013_12' {}",
       "output_type": "pyerr",
       "traceback": [
        "\u001b[0;31m---------------------------------------------------------------------------\u001b[0m\n\u001b[0;31mProgrammingError\u001b[0m                          Traceback (most recent call last)",
        "\u001b[0;32m<ipython-input-26-5c48eb3ffb70>\u001b[0m in \u001b[0;36m<module>\u001b[0;34m()\u001b[0m\n\u001b[1;32m      1\u001b[0m \u001b[0;31m##get all months and output the top five appliances for all houses in that month\u001b[0m\u001b[0;34m\u001b[0m\u001b[0;34m\u001b[0m\u001b[0m\n\u001b[1;32m      2\u001b[0m \u001b[0;32mfor\u001b[0m \u001b[0mmonth\u001b[0m \u001b[0;32min\u001b[0m \u001b[0mmonths\u001b[0m\u001b[0;34m:\u001b[0m\u001b[0;34m\u001b[0m\u001b[0m\n\u001b[0;32m----> 3\u001b[0;31m     \u001b[0md\u001b[0m \u001b[0;34m=\u001b[0m \u001b[0mquery_month\u001b[0m\u001b[0;34m(\u001b[0m\u001b[0mmonth\u001b[0m\u001b[0;34m)\u001b[0m\u001b[0;34m\u001b[0m\u001b[0m\n\u001b[0m\u001b[1;32m      4\u001b[0m     \u001b[0mwrite_month\u001b[0m\u001b[0;34m(\u001b[0m\u001b[0mmonth\u001b[0m\u001b[0;34m,\u001b[0m\u001b[0md\u001b[0m\u001b[0;34m)\u001b[0m\u001b[0;34m\u001b[0m\u001b[0m\n",
        "\u001b[0;32m<ipython-input-7-33ba5dc70d56>\u001b[0m in \u001b[0;36mquery_month\u001b[0;34m(month)\u001b[0m\n\u001b[1;32m      4\u001b[0m     \u001b[0meng\u001b[0m \u001b[0;34m=\u001b[0m \u001b[0mcreate_engine\u001b[0m\u001b[0;34m(\u001b[0m\u001b[0murl\u001b[0m\u001b[0;34m)\u001b[0m\u001b[0;34m\u001b[0m\u001b[0m\n\u001b[1;32m      5\u001b[0m     \u001b[0meng\u001b[0m\u001b[0;34m.\u001b[0m\u001b[0mecho\u001b[0m\u001b[0;34m=\u001b[0m\u001b[0mTrue\u001b[0m\u001b[0;34m\u001b[0m\u001b[0m\n\u001b[0;32m----> 6\u001b[0;31m     \u001b[0meng_object\u001b[0m\u001b[0;34m=\u001b[0m\u001b[0meng\u001b[0m\u001b[0;34m.\u001b[0m\u001b[0mexecute\u001b[0m\u001b[0;34m(\u001b[0m\u001b[0mquery\u001b[0m\u001b[0;34m)\u001b[0m\u001b[0;34m\u001b[0m\u001b[0m\n\u001b[0m\u001b[1;32m      7\u001b[0m     \u001b[0mdf\u001b[0m \u001b[0;34m=\u001b[0m \u001b[0mpd\u001b[0m\u001b[0;34m.\u001b[0m\u001b[0mDataFrame\u001b[0m\u001b[0;34m.\u001b[0m\u001b[0mfrom_records\u001b[0m\u001b[0;34m(\u001b[0m\u001b[0meng_object\u001b[0m\u001b[0;34m.\u001b[0m\u001b[0mfetchall\u001b[0m\u001b[0;34m(\u001b[0m\u001b[0;34m)\u001b[0m\u001b[0;34m)\u001b[0m\u001b[0;34m\u001b[0m\u001b[0m\n\u001b[1;32m      8\u001b[0m     \u001b[0mdf\u001b[0m\u001b[0;34m.\u001b[0m\u001b[0mcolumns\u001b[0m \u001b[0;34m=\u001b[0m \u001b[0meng_object\u001b[0m\u001b[0;34m.\u001b[0m\u001b[0mkeys\u001b[0m\u001b[0;34m(\u001b[0m\u001b[0;34m)\u001b[0m\u001b[0;34m\u001b[0m\u001b[0m\n",
        "\u001b[0;32m/Users/sabina/anaconda/lib/python2.7/site-packages/sqlalchemy/engine/base.pyc\u001b[0m in \u001b[0;36mexecute\u001b[0;34m(self, statement, *multiparams, **params)\u001b[0m\n\u001b[1;32m   1680\u001b[0m \u001b[0;34m\u001b[0m\u001b[0m\n\u001b[1;32m   1681\u001b[0m         \u001b[0mconnection\u001b[0m \u001b[0;34m=\u001b[0m \u001b[0mself\u001b[0m\u001b[0;34m.\u001b[0m\u001b[0mcontextual_connect\u001b[0m\u001b[0;34m(\u001b[0m\u001b[0mclose_with_result\u001b[0m\u001b[0;34m=\u001b[0m\u001b[0mTrue\u001b[0m\u001b[0;34m)\u001b[0m\u001b[0;34m\u001b[0m\u001b[0m\n\u001b[0;32m-> 1682\u001b[0;31m         \u001b[0;32mreturn\u001b[0m \u001b[0mconnection\u001b[0m\u001b[0;34m.\u001b[0m\u001b[0mexecute\u001b[0m\u001b[0;34m(\u001b[0m\u001b[0mstatement\u001b[0m\u001b[0;34m,\u001b[0m \u001b[0;34m*\u001b[0m\u001b[0mmultiparams\u001b[0m\u001b[0;34m,\u001b[0m \u001b[0;34m**\u001b[0m\u001b[0mparams\u001b[0m\u001b[0;34m)\u001b[0m\u001b[0;34m\u001b[0m\u001b[0m\n\u001b[0m\u001b[1;32m   1683\u001b[0m \u001b[0;34m\u001b[0m\u001b[0m\n\u001b[1;32m   1684\u001b[0m     \u001b[0;32mdef\u001b[0m \u001b[0mscalar\u001b[0m\u001b[0;34m(\u001b[0m\u001b[0mself\u001b[0m\u001b[0;34m,\u001b[0m \u001b[0mstatement\u001b[0m\u001b[0;34m,\u001b[0m \u001b[0;34m*\u001b[0m\u001b[0mmultiparams\u001b[0m\u001b[0;34m,\u001b[0m \u001b[0;34m**\u001b[0m\u001b[0mparams\u001b[0m\u001b[0;34m)\u001b[0m\u001b[0;34m:\u001b[0m\u001b[0;34m\u001b[0m\u001b[0m\n",
        "\u001b[0;32m/Users/sabina/anaconda/lib/python2.7/site-packages/sqlalchemy/engine/base.pyc\u001b[0m in \u001b[0;36mexecute\u001b[0;34m(self, object, *multiparams, **params)\u001b[0m\n\u001b[1;32m    710\u001b[0m         \"\"\"\n\u001b[1;32m    711\u001b[0m         \u001b[0;32mif\u001b[0m \u001b[0misinstance\u001b[0m\u001b[0;34m(\u001b[0m\u001b[0mobject\u001b[0m\u001b[0;34m,\u001b[0m \u001b[0mutil\u001b[0m\u001b[0;34m.\u001b[0m\u001b[0mstring_types\u001b[0m\u001b[0;34m[\u001b[0m\u001b[0;36m0\u001b[0m\u001b[0;34m]\u001b[0m\u001b[0;34m)\u001b[0m\u001b[0;34m:\u001b[0m\u001b[0;34m\u001b[0m\u001b[0m\n\u001b[0;32m--> 712\u001b[0;31m             \u001b[0;32mreturn\u001b[0m \u001b[0mself\u001b[0m\u001b[0;34m.\u001b[0m\u001b[0m_execute_text\u001b[0m\u001b[0;34m(\u001b[0m\u001b[0mobject\u001b[0m\u001b[0;34m,\u001b[0m \u001b[0mmultiparams\u001b[0m\u001b[0;34m,\u001b[0m \u001b[0mparams\u001b[0m\u001b[0;34m)\u001b[0m\u001b[0;34m\u001b[0m\u001b[0m\n\u001b[0m\u001b[1;32m    713\u001b[0m         \u001b[0;32mtry\u001b[0m\u001b[0;34m:\u001b[0m\u001b[0;34m\u001b[0m\u001b[0m\n\u001b[1;32m    714\u001b[0m             \u001b[0mmeth\u001b[0m \u001b[0;34m=\u001b[0m \u001b[0mobject\u001b[0m\u001b[0;34m.\u001b[0m\u001b[0m_execute_on_connection\u001b[0m\u001b[0;34m\u001b[0m\u001b[0m\n",
        "\u001b[0;32m/Users/sabina/anaconda/lib/python2.7/site-packages/sqlalchemy/engine/base.pyc\u001b[0m in \u001b[0;36m_execute_text\u001b[0;34m(self, statement, multiparams, params)\u001b[0m\n\u001b[1;32m    859\u001b[0m             \u001b[0mstatement\u001b[0m\u001b[0;34m,\u001b[0m\u001b[0;34m\u001b[0m\u001b[0m\n\u001b[1;32m    860\u001b[0m             \u001b[0mparameters\u001b[0m\u001b[0;34m,\u001b[0m\u001b[0;34m\u001b[0m\u001b[0m\n\u001b[0;32m--> 861\u001b[0;31m             \u001b[0mstatement\u001b[0m\u001b[0;34m,\u001b[0m \u001b[0mparameters\u001b[0m\u001b[0;34m\u001b[0m\u001b[0m\n\u001b[0m\u001b[1;32m    862\u001b[0m         )\n\u001b[1;32m    863\u001b[0m         \u001b[0;32mif\u001b[0m \u001b[0mself\u001b[0m\u001b[0;34m.\u001b[0m\u001b[0m_has_events\u001b[0m \u001b[0;32mor\u001b[0m \u001b[0mself\u001b[0m\u001b[0;34m.\u001b[0m\u001b[0mengine\u001b[0m\u001b[0;34m.\u001b[0m\u001b[0m_has_events\u001b[0m\u001b[0;34m:\u001b[0m\u001b[0;34m\u001b[0m\u001b[0m\n",
        "\u001b[0;32m/Users/sabina/anaconda/lib/python2.7/site-packages/sqlalchemy/engine/base.pyc\u001b[0m in \u001b[0;36m_execute_context\u001b[0;34m(self, dialect, constructor, statement, parameters, *args)\u001b[0m\n\u001b[1;32m    945\u001b[0m                                 \u001b[0mparameters\u001b[0m\u001b[0;34m,\u001b[0m\u001b[0;34m\u001b[0m\u001b[0m\n\u001b[1;32m    946\u001b[0m                                 \u001b[0mcursor\u001b[0m\u001b[0;34m,\u001b[0m\u001b[0;34m\u001b[0m\u001b[0m\n\u001b[0;32m--> 947\u001b[0;31m                                 context)\n\u001b[0m\u001b[1;32m    948\u001b[0m \u001b[0;34m\u001b[0m\u001b[0m\n\u001b[1;32m    949\u001b[0m         \u001b[0;32mif\u001b[0m \u001b[0mself\u001b[0m\u001b[0;34m.\u001b[0m\u001b[0m_has_events\u001b[0m \u001b[0;32mor\u001b[0m \u001b[0mself\u001b[0m\u001b[0;34m.\u001b[0m\u001b[0mengine\u001b[0m\u001b[0;34m.\u001b[0m\u001b[0m_has_events\u001b[0m\u001b[0;34m:\u001b[0m\u001b[0;34m\u001b[0m\u001b[0m\n",
        "\u001b[0;32m/Users/sabina/anaconda/lib/python2.7/site-packages/sqlalchemy/engine/base.pyc\u001b[0m in \u001b[0;36m_handle_dbapi_exception\u001b[0;34m(self, e, statement, parameters, cursor, context)\u001b[0m\n\u001b[1;32m   1106\u001b[0m                                         \u001b[0mself\u001b[0m\u001b[0;34m.\u001b[0m\u001b[0mdialect\u001b[0m\u001b[0;34m.\u001b[0m\u001b[0mdbapi\u001b[0m\u001b[0;34m.\u001b[0m\u001b[0mError\u001b[0m\u001b[0;34m,\u001b[0m\u001b[0;34m\u001b[0m\u001b[0m\n\u001b[1;32m   1107\u001b[0m                                         connection_invalidated=self._is_disconnect),\n\u001b[0;32m-> 1108\u001b[0;31m                                     \u001b[0mexc_info\u001b[0m\u001b[0;34m\u001b[0m\u001b[0m\n\u001b[0m\u001b[1;32m   1109\u001b[0m                                 )\n\u001b[1;32m   1110\u001b[0m \u001b[0;34m\u001b[0m\u001b[0m\n",
        "\u001b[0;32m/Users/sabina/anaconda/lib/python2.7/site-packages/sqlalchemy/util/compat.pyc\u001b[0m in \u001b[0;36mraise_from_cause\u001b[0;34m(exception, exc_info)\u001b[0m\n\u001b[1;32m    183\u001b[0m             \u001b[0mexc_info\u001b[0m \u001b[0;34m=\u001b[0m \u001b[0msys\u001b[0m\u001b[0;34m.\u001b[0m\u001b[0mexc_info\u001b[0m\u001b[0;34m(\u001b[0m\u001b[0;34m)\u001b[0m\u001b[0;34m\u001b[0m\u001b[0m\n\u001b[1;32m    184\u001b[0m         \u001b[0mexc_type\u001b[0m\u001b[0;34m,\u001b[0m \u001b[0mexc_value\u001b[0m\u001b[0;34m,\u001b[0m \u001b[0mexc_tb\u001b[0m \u001b[0;34m=\u001b[0m \u001b[0mexc_info\u001b[0m\u001b[0;34m\u001b[0m\u001b[0m\n\u001b[0;32m--> 185\u001b[0;31m         \u001b[0mreraise\u001b[0m\u001b[0;34m(\u001b[0m\u001b[0mtype\u001b[0m\u001b[0;34m(\u001b[0m\u001b[0mexception\u001b[0m\u001b[0;34m)\u001b[0m\u001b[0;34m,\u001b[0m \u001b[0mexception\u001b[0m\u001b[0;34m,\u001b[0m \u001b[0mtb\u001b[0m\u001b[0;34m=\u001b[0m\u001b[0mexc_tb\u001b[0m\u001b[0;34m)\u001b[0m\u001b[0;34m\u001b[0m\u001b[0m\n\u001b[0m\u001b[1;32m    186\u001b[0m \u001b[0;34m\u001b[0m\u001b[0m\n\u001b[1;32m    187\u001b[0m \u001b[0;32mif\u001b[0m \u001b[0mpy3k\u001b[0m\u001b[0;34m:\u001b[0m\u001b[0;34m\u001b[0m\u001b[0m\n",
        "\u001b[0;32m/Users/sabina/anaconda/lib/python2.7/site-packages/sqlalchemy/engine/base.pyc\u001b[0m in \u001b[0;36m_execute_context\u001b[0;34m(self, dialect, constructor, statement, parameters, *args)\u001b[0m\n\u001b[1;32m    938\u001b[0m                                      \u001b[0mstatement\u001b[0m\u001b[0;34m,\u001b[0m\u001b[0;34m\u001b[0m\u001b[0m\n\u001b[1;32m    939\u001b[0m                                      \u001b[0mparameters\u001b[0m\u001b[0;34m,\u001b[0m\u001b[0;34m\u001b[0m\u001b[0m\n\u001b[0;32m--> 940\u001b[0;31m                                      context)\n\u001b[0m\u001b[1;32m    941\u001b[0m         \u001b[0;32mexcept\u001b[0m \u001b[0mException\u001b[0m \u001b[0;32mas\u001b[0m \u001b[0me\u001b[0m\u001b[0;34m:\u001b[0m\u001b[0;34m\u001b[0m\u001b[0m\n\u001b[1;32m    942\u001b[0m             self._handle_dbapi_exception(\n",
        "\u001b[0;32m/Users/sabina/anaconda/lib/python2.7/site-packages/sqlalchemy/engine/default.pyc\u001b[0m in \u001b[0;36mdo_execute\u001b[0;34m(self, cursor, statement, parameters, context)\u001b[0m\n\u001b[1;32m    433\u001b[0m \u001b[0;34m\u001b[0m\u001b[0m\n\u001b[1;32m    434\u001b[0m     \u001b[0;32mdef\u001b[0m \u001b[0mdo_execute\u001b[0m\u001b[0;34m(\u001b[0m\u001b[0mself\u001b[0m\u001b[0;34m,\u001b[0m \u001b[0mcursor\u001b[0m\u001b[0;34m,\u001b[0m \u001b[0mstatement\u001b[0m\u001b[0;34m,\u001b[0m \u001b[0mparameters\u001b[0m\u001b[0;34m,\u001b[0m \u001b[0mcontext\u001b[0m\u001b[0;34m=\u001b[0m\u001b[0mNone\u001b[0m\u001b[0;34m)\u001b[0m\u001b[0;34m:\u001b[0m\u001b[0;34m\u001b[0m\u001b[0m\n\u001b[0;32m--> 435\u001b[0;31m         \u001b[0mcursor\u001b[0m\u001b[0;34m.\u001b[0m\u001b[0mexecute\u001b[0m\u001b[0;34m(\u001b[0m\u001b[0mstatement\u001b[0m\u001b[0;34m,\u001b[0m \u001b[0mparameters\u001b[0m\u001b[0;34m)\u001b[0m\u001b[0;34m\u001b[0m\u001b[0m\n\u001b[0m\u001b[1;32m    436\u001b[0m \u001b[0;34m\u001b[0m\u001b[0m\n\u001b[1;32m    437\u001b[0m     \u001b[0;32mdef\u001b[0m \u001b[0mdo_execute_no_params\u001b[0m\u001b[0;34m(\u001b[0m\u001b[0mself\u001b[0m\u001b[0;34m,\u001b[0m \u001b[0mcursor\u001b[0m\u001b[0;34m,\u001b[0m \u001b[0mstatement\u001b[0m\u001b[0;34m,\u001b[0m \u001b[0mcontext\u001b[0m\u001b[0;34m=\u001b[0m\u001b[0mNone\u001b[0m\u001b[0;34m)\u001b[0m\u001b[0;34m:\u001b[0m\u001b[0;34m\u001b[0m\u001b[0m\n",
        "\u001b[0;31mProgrammingError\u001b[0m: (ProgrammingError) relation \"PecanStreet_CuratedSets.group1_disaggregated_2013_12\" does not exist\nLINE 1: select * from \"PecanStreet_CuratedSets\".group1_disaggregated...\n                      ^\n 'select * from \"PecanStreet_CuratedSets\".group1_disaggregated_2013_12' {}"
       ]
      }
     ],
     "prompt_number": 26
    },
    {
     "cell_type": "code",
     "collapsed": false,
     "input": [
      "##get most common 5 highs \n",
      "dir_path = os.path.join(os.getcwd(), 'ranked_apps/' ) \n",
      "for month in months:    \n",
      "    filename = month+'_most_common_5.json'\n",
      "    d = query_month(month)\n",
      "    text = (str(get_top_5_all(d))+'\\n\\n')\n",
      "    with open(os.path.join(dir_path, filename), 'w') as outfile:\n",
      "        outfile.writelines(text)   \n",
      "    outfile.close()"
     ],
     "language": "python",
     "metadata": {},
     "outputs": [
      {
       "output_type": "stream",
       "stream": "stdout",
       "text": [
        "2014-06-16 10:37:22,835 INFO sqlalchemy.engine.base.Engine select version()\n"
       ]
      },
      {
       "output_type": "stream",
       "stream": "stderr",
       "text": [
        "INFO:sqlalchemy.engine.base.Engine:select version()\n"
       ]
      },
      {
       "output_type": "stream",
       "stream": "stdout",
       "text": [
        "2014-06-16 10:37:22,836 INFO sqlalchemy.engine.base.Engine {}\n"
       ]
      },
      {
       "output_type": "stream",
       "stream": "stderr",
       "text": [
        "INFO:sqlalchemy.engine.base.Engine:{}\n"
       ]
      },
      {
       "output_type": "stream",
       "stream": "stdout",
       "text": [
        "2014-06-16 10:37:23,051 INFO sqlalchemy.engine.base.Engine select current_schema()\n"
       ]
      },
      {
       "output_type": "stream",
       "stream": "stderr",
       "text": [
        "INFO:sqlalchemy.engine.base.Engine:select current_schema()\n"
       ]
      },
      {
       "output_type": "stream",
       "stream": "stdout",
       "text": [
        "2014-06-16 10:37:23,052 INFO sqlalchemy.engine.base.Engine {}\n"
       ]
      },
      {
       "output_type": "stream",
       "stream": "stderr",
       "text": [
        "INFO:sqlalchemy.engine.base.Engine:{}\n"
       ]
      },
      {
       "output_type": "stream",
       "stream": "stdout",
       "text": [
        "2014-06-16 10:37:23,255 INFO sqlalchemy.engine.base.Engine SELECT CAST('test plain returns' AS VARCHAR(60)) AS anon_1\n"
       ]
      },
      {
       "output_type": "stream",
       "stream": "stderr",
       "text": [
        "INFO:sqlalchemy.engine.base.Engine:SELECT CAST('test plain returns' AS VARCHAR(60)) AS anon_1\n"
       ]
      },
      {
       "output_type": "stream",
       "stream": "stdout",
       "text": [
        "2014-06-16 10:37:23,257 INFO sqlalchemy.engine.base.Engine {}\n"
       ]
      },
      {
       "output_type": "stream",
       "stream": "stderr",
       "text": [
        "INFO:sqlalchemy.engine.base.Engine:{}\n"
       ]
      },
      {
       "output_type": "stream",
       "stream": "stdout",
       "text": [
        "2014-06-16 10:37:23,372 INFO sqlalchemy.engine.base.Engine SELECT CAST('test unicode returns' AS VARCHAR(60)) AS anon_1\n"
       ]
      },
      {
       "output_type": "stream",
       "stream": "stderr",
       "text": [
        "INFO:sqlalchemy.engine.base.Engine:SELECT CAST('test unicode returns' AS VARCHAR(60)) AS anon_1\n"
       ]
      },
      {
       "output_type": "stream",
       "stream": "stdout",
       "text": [
        "2014-06-16 10:37:23,374 INFO sqlalchemy.engine.base.Engine {}\n"
       ]
      },
      {
       "output_type": "stream",
       "stream": "stderr",
       "text": [
        "INFO:sqlalchemy.engine.base.Engine:{}\n"
       ]
      },
      {
       "output_type": "stream",
       "stream": "stdout",
       "text": [
        "2014-06-16 10:37:23,840 INFO sqlalchemy.engine.base.Engine show standard_conforming_strings\n"
       ]
      },
      {
       "output_type": "stream",
       "stream": "stderr",
       "text": [
        "INFO:sqlalchemy.engine.base.Engine:show standard_conforming_strings\n"
       ]
      },
      {
       "output_type": "stream",
       "stream": "stdout",
       "text": [
        "2014-06-16 10:37:23,841 INFO sqlalchemy.engine.base.Engine {}\n"
       ]
      },
      {
       "output_type": "stream",
       "stream": "stderr",
       "text": [
        "INFO:sqlalchemy.engine.base.Engine:{}\n"
       ]
      },
      {
       "output_type": "stream",
       "stream": "stdout",
       "text": [
        "2014-06-16 10:37:24,080 INFO sqlalchemy.engine.base.Engine select * from \"PecanStreet_CuratedSets\".group1_disaggregated_2013_01\n"
       ]
      },
      {
       "output_type": "stream",
       "stream": "stderr",
       "text": [
        "INFO:sqlalchemy.engine.base.Engine:select * from \"PecanStreet_CuratedSets\".group1_disaggregated_2013_01\n"
       ]
      },
      {
       "output_type": "stream",
       "stream": "stdout",
       "text": [
        "2014-06-16 10:37:24,081 INFO sqlalchemy.engine.base.Engine {}\n"
       ]
      },
      {
       "output_type": "stream",
       "stream": "stderr",
       "text": [
        "INFO:sqlalchemy.engine.base.Engine:{}\n"
       ]
      },
      {
       "output_type": "stream",
       "stream": "stdout",
       "text": [
        "2014-06-16 10:41:21,629 INFO sqlalchemy.engine.base.Engine select version()\n"
       ]
      },
      {
       "output_type": "stream",
       "stream": "stderr",
       "text": [
        "INFO:sqlalchemy.engine.base.Engine:select version()\n"
       ]
      },
      {
       "output_type": "stream",
       "stream": "stdout",
       "text": [
        "2014-06-16 10:41:21,630 INFO sqlalchemy.engine.base.Engine {}\n"
       ]
      },
      {
       "output_type": "stream",
       "stream": "stderr",
       "text": [
        "INFO:sqlalchemy.engine.base.Engine:{}\n"
       ]
      },
      {
       "output_type": "stream",
       "stream": "stdout",
       "text": [
        "2014-06-16 10:41:21,926 INFO sqlalchemy.engine.base.Engine select current_schema()\n"
       ]
      },
      {
       "output_type": "stream",
       "stream": "stderr",
       "text": [
        "INFO:sqlalchemy.engine.base.Engine:select current_schema()\n"
       ]
      },
      {
       "output_type": "stream",
       "stream": "stdout",
       "text": [
        "2014-06-16 10:41:21,927 INFO sqlalchemy.engine.base.Engine {}\n"
       ]
      },
      {
       "output_type": "stream",
       "stream": "stderr",
       "text": [
        "INFO:sqlalchemy.engine.base.Engine:{}\n"
       ]
      },
      {
       "output_type": "stream",
       "stream": "stdout",
       "text": [
        "2014-06-16 10:41:22,256 INFO sqlalchemy.engine.base.Engine SELECT CAST('test plain returns' AS VARCHAR(60)) AS anon_1\n"
       ]
      },
      {
       "output_type": "stream",
       "stream": "stderr",
       "text": [
        "INFO:sqlalchemy.engine.base.Engine:SELECT CAST('test plain returns' AS VARCHAR(60)) AS anon_1\n"
       ]
      },
      {
       "output_type": "stream",
       "stream": "stdout",
       "text": [
        "2014-06-16 10:41:22,258 INFO sqlalchemy.engine.base.Engine {}\n"
       ]
      },
      {
       "output_type": "stream",
       "stream": "stderr",
       "text": [
        "INFO:sqlalchemy.engine.base.Engine:{}\n"
       ]
      },
      {
       "output_type": "stream",
       "stream": "stdout",
       "text": [
        "2014-06-16 10:41:22,425 INFO sqlalchemy.engine.base.Engine SELECT CAST('test unicode returns' AS VARCHAR(60)) AS anon_1\n"
       ]
      },
      {
       "output_type": "stream",
       "stream": "stderr",
       "text": [
        "INFO:sqlalchemy.engine.base.Engine:SELECT CAST('test unicode returns' AS VARCHAR(60)) AS anon_1\n"
       ]
      },
      {
       "output_type": "stream",
       "stream": "stdout",
       "text": [
        "2014-06-16 10:41:22,426 INFO sqlalchemy.engine.base.Engine {}\n"
       ]
      },
      {
       "output_type": "stream",
       "stream": "stderr",
       "text": [
        "INFO:sqlalchemy.engine.base.Engine:{}\n"
       ]
      },
      {
       "output_type": "stream",
       "stream": "stdout",
       "text": [
        "2014-06-16 10:41:22,814 INFO sqlalchemy.engine.base.Engine show standard_conforming_strings\n"
       ]
      },
      {
       "output_type": "stream",
       "stream": "stderr",
       "text": [
        "INFO:sqlalchemy.engine.base.Engine:show standard_conforming_strings\n"
       ]
      },
      {
       "output_type": "stream",
       "stream": "stdout",
       "text": [
        "2014-06-16 10:41:22,816 INFO sqlalchemy.engine.base.Engine {}\n"
       ]
      },
      {
       "output_type": "stream",
       "stream": "stderr",
       "text": [
        "INFO:sqlalchemy.engine.base.Engine:{}\n"
       ]
      },
      {
       "output_type": "stream",
       "stream": "stdout",
       "text": [
        "2014-06-16 10:41:23,069 INFO sqlalchemy.engine.base.Engine select * from \"PecanStreet_CuratedSets\".group1_disaggregated_2013_02\n"
       ]
      },
      {
       "output_type": "stream",
       "stream": "stderr",
       "text": [
        "INFO:sqlalchemy.engine.base.Engine:select * from \"PecanStreet_CuratedSets\".group1_disaggregated_2013_02\n"
       ]
      },
      {
       "output_type": "stream",
       "stream": "stdout",
       "text": [
        "2014-06-16 10:41:23,070 INFO sqlalchemy.engine.base.Engine {}\n"
       ]
      },
      {
       "output_type": "stream",
       "stream": "stderr",
       "text": [
        "INFO:sqlalchemy.engine.base.Engine:{}\n"
       ]
      },
      {
       "output_type": "stream",
       "stream": "stdout",
       "text": [
        "2014-06-16 10:45:02,446 INFO sqlalchemy.engine.base.Engine select version()\n"
       ]
      },
      {
       "output_type": "stream",
       "stream": "stderr",
       "text": [
        "INFO:sqlalchemy.engine.base.Engine:select version()\n"
       ]
      },
      {
       "output_type": "stream",
       "stream": "stdout",
       "text": [
        "2014-06-16 10:45:02,447 INFO sqlalchemy.engine.base.Engine {}\n"
       ]
      },
      {
       "output_type": "stream",
       "stream": "stderr",
       "text": [
        "INFO:sqlalchemy.engine.base.Engine:{}\n"
       ]
      },
      {
       "output_type": "stream",
       "stream": "stdout",
       "text": [
        "2014-06-16 10:45:02,728 INFO sqlalchemy.engine.base.Engine select current_schema()\n"
       ]
      },
      {
       "output_type": "stream",
       "stream": "stderr",
       "text": [
        "INFO:sqlalchemy.engine.base.Engine:select current_schema()\n"
       ]
      },
      {
       "output_type": "stream",
       "stream": "stdout",
       "text": [
        "2014-06-16 10:45:02,729 INFO sqlalchemy.engine.base.Engine {}\n"
       ]
      },
      {
       "output_type": "stream",
       "stream": "stderr",
       "text": [
        "INFO:sqlalchemy.engine.base.Engine:{}\n"
       ]
      },
      {
       "output_type": "stream",
       "stream": "stdout",
       "text": [
        "2014-06-16 10:45:03,010 INFO sqlalchemy.engine.base.Engine SELECT CAST('test plain returns' AS VARCHAR(60)) AS anon_1\n"
       ]
      },
      {
       "output_type": "stream",
       "stream": "stderr",
       "text": [
        "INFO:sqlalchemy.engine.base.Engine:SELECT CAST('test plain returns' AS VARCHAR(60)) AS anon_1\n"
       ]
      },
      {
       "output_type": "stream",
       "stream": "stdout",
       "text": [
        "2014-06-16 10:45:03,011 INFO sqlalchemy.engine.base.Engine {}\n"
       ]
      },
      {
       "output_type": "stream",
       "stream": "stderr",
       "text": [
        "INFO:sqlalchemy.engine.base.Engine:{}\n"
       ]
      },
      {
       "output_type": "stream",
       "stream": "stdout",
       "text": [
        "2014-06-16 10:45:03,058 INFO sqlalchemy.engine.base.Engine SELECT CAST('test unicode returns' AS VARCHAR(60)) AS anon_1\n"
       ]
      },
      {
       "output_type": "stream",
       "stream": "stderr",
       "text": [
        "INFO:sqlalchemy.engine.base.Engine:SELECT CAST('test unicode returns' AS VARCHAR(60)) AS anon_1\n"
       ]
      },
      {
       "output_type": "stream",
       "stream": "stdout",
       "text": [
        "2014-06-16 10:45:03,059 INFO sqlalchemy.engine.base.Engine {}\n"
       ]
      },
      {
       "output_type": "stream",
       "stream": "stderr",
       "text": [
        "INFO:sqlalchemy.engine.base.Engine:{}\n"
       ]
      },
      {
       "output_type": "stream",
       "stream": "stdout",
       "text": [
        "2014-06-16 10:45:03,191 INFO sqlalchemy.engine.base.Engine show standard_conforming_strings\n"
       ]
      },
      {
       "output_type": "stream",
       "stream": "stderr",
       "text": [
        "INFO:sqlalchemy.engine.base.Engine:show standard_conforming_strings\n"
       ]
      },
      {
       "output_type": "stream",
       "stream": "stdout",
       "text": [
        "2014-06-16 10:45:03,192 INFO sqlalchemy.engine.base.Engine {}\n"
       ]
      },
      {
       "output_type": "stream",
       "stream": "stderr",
       "text": [
        "INFO:sqlalchemy.engine.base.Engine:{}\n"
       ]
      },
      {
       "output_type": "stream",
       "stream": "stdout",
       "text": [
        "2014-06-16 10:45:03,281 INFO sqlalchemy.engine.base.Engine select * from \"PecanStreet_CuratedSets\".group1_disaggregated_2013_03\n"
       ]
      },
      {
       "output_type": "stream",
       "stream": "stderr",
       "text": [
        "INFO:sqlalchemy.engine.base.Engine:select * from \"PecanStreet_CuratedSets\".group1_disaggregated_2013_03\n"
       ]
      },
      {
       "output_type": "stream",
       "stream": "stdout",
       "text": [
        "2014-06-16 10:45:03,282 INFO sqlalchemy.engine.base.Engine {}\n"
       ]
      },
      {
       "output_type": "stream",
       "stream": "stderr",
       "text": [
        "INFO:sqlalchemy.engine.base.Engine:{}\n"
       ]
      },
      {
       "output_type": "stream",
       "stream": "stdout",
       "text": [
        "2014-06-16 10:49:16,987 INFO sqlalchemy.engine.base.Engine select version()\n"
       ]
      },
      {
       "output_type": "stream",
       "stream": "stderr",
       "text": [
        "INFO:sqlalchemy.engine.base.Engine:select version()\n"
       ]
      },
      {
       "output_type": "stream",
       "stream": "stdout",
       "text": [
        "2014-06-16 10:49:16,988 INFO sqlalchemy.engine.base.Engine {}\n"
       ]
      },
      {
       "output_type": "stream",
       "stream": "stderr",
       "text": [
        "INFO:sqlalchemy.engine.base.Engine:{}\n"
       ]
      },
      {
       "output_type": "stream",
       "stream": "stdout",
       "text": [
        "2014-06-16 10:49:17,240 INFO sqlalchemy.engine.base.Engine select current_schema()\n"
       ]
      },
      {
       "output_type": "stream",
       "stream": "stderr",
       "text": [
        "INFO:sqlalchemy.engine.base.Engine:select current_schema()\n"
       ]
      },
      {
       "output_type": "stream",
       "stream": "stdout",
       "text": [
        "2014-06-16 10:49:17,242 INFO sqlalchemy.engine.base.Engine {}\n"
       ]
      },
      {
       "output_type": "stream",
       "stream": "stderr",
       "text": [
        "INFO:sqlalchemy.engine.base.Engine:{}\n"
       ]
      },
      {
       "output_type": "stream",
       "stream": "stdout",
       "text": [
        "2014-06-16 10:49:17,470 INFO sqlalchemy.engine.base.Engine SELECT CAST('test plain returns' AS VARCHAR(60)) AS anon_1\n"
       ]
      },
      {
       "output_type": "stream",
       "stream": "stderr",
       "text": [
        "INFO:sqlalchemy.engine.base.Engine:SELECT CAST('test plain returns' AS VARCHAR(60)) AS anon_1\n"
       ]
      },
      {
       "output_type": "stream",
       "stream": "stdout",
       "text": [
        "2014-06-16 10:49:17,471 INFO sqlalchemy.engine.base.Engine {}\n"
       ]
      },
      {
       "output_type": "stream",
       "stream": "stderr",
       "text": [
        "INFO:sqlalchemy.engine.base.Engine:{}\n"
       ]
      },
      {
       "output_type": "stream",
       "stream": "stdout",
       "text": [
        "2014-06-16 10:49:17,608 INFO sqlalchemy.engine.base.Engine SELECT CAST('test unicode returns' AS VARCHAR(60)) AS anon_1\n"
       ]
      },
      {
       "output_type": "stream",
       "stream": "stderr",
       "text": [
        "INFO:sqlalchemy.engine.base.Engine:SELECT CAST('test unicode returns' AS VARCHAR(60)) AS anon_1\n"
       ]
      },
      {
       "output_type": "stream",
       "stream": "stdout",
       "text": [
        "2014-06-16 10:49:17,609 INFO sqlalchemy.engine.base.Engine {}\n"
       ]
      },
      {
       "output_type": "stream",
       "stream": "stderr",
       "text": [
        "INFO:sqlalchemy.engine.base.Engine:{}\n"
       ]
      },
      {
       "output_type": "stream",
       "stream": "stdout",
       "text": [
        "2014-06-16 10:49:18,043 INFO sqlalchemy.engine.base.Engine show standard_conforming_strings\n"
       ]
      },
      {
       "output_type": "stream",
       "stream": "stderr",
       "text": [
        "INFO:sqlalchemy.engine.base.Engine:show standard_conforming_strings\n"
       ]
      },
      {
       "output_type": "stream",
       "stream": "stdout",
       "text": [
        "2014-06-16 10:49:18,044 INFO sqlalchemy.engine.base.Engine {}\n"
       ]
      },
      {
       "output_type": "stream",
       "stream": "stderr",
       "text": [
        "INFO:sqlalchemy.engine.base.Engine:{}\n"
       ]
      },
      {
       "output_type": "stream",
       "stream": "stdout",
       "text": [
        "2014-06-16 10:49:18,320 INFO sqlalchemy.engine.base.Engine select * from \"PecanStreet_CuratedSets\".group1_disaggregated_2013_04\n"
       ]
      },
      {
       "output_type": "stream",
       "stream": "stderr",
       "text": [
        "INFO:sqlalchemy.engine.base.Engine:select * from \"PecanStreet_CuratedSets\".group1_disaggregated_2013_04\n"
       ]
      },
      {
       "output_type": "stream",
       "stream": "stdout",
       "text": [
        "2014-06-16 10:49:18,321 INFO sqlalchemy.engine.base.Engine {}\n"
       ]
      },
      {
       "output_type": "stream",
       "stream": "stderr",
       "text": [
        "INFO:sqlalchemy.engine.base.Engine:{}\n"
       ]
      },
      {
       "output_type": "stream",
       "stream": "stdout",
       "text": [
        "2014-06-16 10:52:48,206 INFO sqlalchemy.engine.base.Engine select version()\n"
       ]
      },
      {
       "output_type": "stream",
       "stream": "stderr",
       "text": [
        "INFO:sqlalchemy.engine.base.Engine:select version()\n"
       ]
      },
      {
       "output_type": "stream",
       "stream": "stdout",
       "text": [
        "2014-06-16 10:52:48,208 INFO sqlalchemy.engine.base.Engine {}\n"
       ]
      },
      {
       "output_type": "stream",
       "stream": "stderr",
       "text": [
        "INFO:sqlalchemy.engine.base.Engine:{}\n"
       ]
      },
      {
       "output_type": "stream",
       "stream": "stdout",
       "text": [
        "2014-06-16 10:52:48,517 INFO sqlalchemy.engine.base.Engine select current_schema()\n"
       ]
      },
      {
       "output_type": "stream",
       "stream": "stderr",
       "text": [
        "INFO:sqlalchemy.engine.base.Engine:select current_schema()\n"
       ]
      },
      {
       "output_type": "stream",
       "stream": "stdout",
       "text": [
        "2014-06-16 10:52:48,518 INFO sqlalchemy.engine.base.Engine {}\n"
       ]
      },
      {
       "output_type": "stream",
       "stream": "stderr",
       "text": [
        "INFO:sqlalchemy.engine.base.Engine:{}\n"
       ]
      },
      {
       "output_type": "stream",
       "stream": "stdout",
       "text": [
        "2014-06-16 10:52:48,839 INFO sqlalchemy.engine.base.Engine SELECT CAST('test plain returns' AS VARCHAR(60)) AS anon_1\n"
       ]
      },
      {
       "output_type": "stream",
       "stream": "stderr",
       "text": [
        "INFO:sqlalchemy.engine.base.Engine:SELECT CAST('test plain returns' AS VARCHAR(60)) AS anon_1\n"
       ]
      },
      {
       "output_type": "stream",
       "stream": "stdout",
       "text": [
        "2014-06-16 10:52:48,840 INFO sqlalchemy.engine.base.Engine {}\n"
       ]
      },
      {
       "output_type": "stream",
       "stream": "stderr",
       "text": [
        "INFO:sqlalchemy.engine.base.Engine:{}\n"
       ]
      },
      {
       "output_type": "stream",
       "stream": "stdout",
       "text": [
        "2014-06-16 10:52:48,954 INFO sqlalchemy.engine.base.Engine SELECT CAST('test unicode returns' AS VARCHAR(60)) AS anon_1\n"
       ]
      },
      {
       "output_type": "stream",
       "stream": "stderr",
       "text": [
        "INFO:sqlalchemy.engine.base.Engine:SELECT CAST('test unicode returns' AS VARCHAR(60)) AS anon_1\n"
       ]
      },
      {
       "output_type": "stream",
       "stream": "stdout",
       "text": [
        "2014-06-16 10:52:48,956 INFO sqlalchemy.engine.base.Engine {}\n"
       ]
      },
      {
       "output_type": "stream",
       "stream": "stderr",
       "text": [
        "INFO:sqlalchemy.engine.base.Engine:{}\n"
       ]
      },
      {
       "output_type": "stream",
       "stream": "stdout",
       "text": [
        "2014-06-16 10:52:49,090 INFO sqlalchemy.engine.base.Engine show standard_conforming_strings\n"
       ]
      },
      {
       "output_type": "stream",
       "stream": "stderr",
       "text": [
        "INFO:sqlalchemy.engine.base.Engine:show standard_conforming_strings\n"
       ]
      },
      {
       "output_type": "stream",
       "stream": "stdout",
       "text": [
        "2014-06-16 10:52:49,092 INFO sqlalchemy.engine.base.Engine {}\n"
       ]
      },
      {
       "output_type": "stream",
       "stream": "stderr",
       "text": [
        "INFO:sqlalchemy.engine.base.Engine:{}\n"
       ]
      },
      {
       "output_type": "stream",
       "stream": "stdout",
       "text": [
        "2014-06-16 10:52:49,180 INFO sqlalchemy.engine.base.Engine select * from \"PecanStreet_CuratedSets\".group1_disaggregated_2013_05\n"
       ]
      },
      {
       "output_type": "stream",
       "stream": "stderr",
       "text": [
        "INFO:sqlalchemy.engine.base.Engine:select * from \"PecanStreet_CuratedSets\".group1_disaggregated_2013_05\n"
       ]
      },
      {
       "output_type": "stream",
       "stream": "stdout",
       "text": [
        "2014-06-16 10:52:49,181 INFO sqlalchemy.engine.base.Engine {}\n"
       ]
      },
      {
       "output_type": "stream",
       "stream": "stderr",
       "text": [
        "INFO:sqlalchemy.engine.base.Engine:{}\n"
       ]
      },
      {
       "output_type": "stream",
       "stream": "stdout",
       "text": [
        "2014-06-16 10:56:51,193 INFO sqlalchemy.engine.base.Engine select version()\n"
       ]
      },
      {
       "output_type": "stream",
       "stream": "stderr",
       "text": [
        "INFO:sqlalchemy.engine.base.Engine:select version()\n"
       ]
      },
      {
       "output_type": "stream",
       "stream": "stdout",
       "text": [
        "2014-06-16 10:56:51,194 INFO sqlalchemy.engine.base.Engine {}\n"
       ]
      },
      {
       "output_type": "stream",
       "stream": "stderr",
       "text": [
        "INFO:sqlalchemy.engine.base.Engine:{}\n"
       ]
      },
      {
       "output_type": "stream",
       "stream": "stdout",
       "text": [
        "2014-06-16 10:56:51,469 INFO sqlalchemy.engine.base.Engine select current_schema()\n"
       ]
      },
      {
       "output_type": "stream",
       "stream": "stderr",
       "text": [
        "INFO:sqlalchemy.engine.base.Engine:select current_schema()\n"
       ]
      },
      {
       "output_type": "stream",
       "stream": "stdout",
       "text": [
        "2014-06-16 10:56:51,470 INFO sqlalchemy.engine.base.Engine {}\n"
       ]
      },
      {
       "output_type": "stream",
       "stream": "stderr",
       "text": [
        "INFO:sqlalchemy.engine.base.Engine:{}\n"
       ]
      },
      {
       "output_type": "stream",
       "stream": "stdout",
       "text": [
        "2014-06-16 10:56:51,655 INFO sqlalchemy.engine.base.Engine SELECT CAST('test plain returns' AS VARCHAR(60)) AS anon_1\n"
       ]
      },
      {
       "output_type": "stream",
       "stream": "stderr",
       "text": [
        "INFO:sqlalchemy.engine.base.Engine:SELECT CAST('test plain returns' AS VARCHAR(60)) AS anon_1\n"
       ]
      },
      {
       "output_type": "stream",
       "stream": "stdout",
       "text": [
        "2014-06-16 10:56:51,656 INFO sqlalchemy.engine.base.Engine {}\n"
       ]
      },
      {
       "output_type": "stream",
       "stream": "stderr",
       "text": [
        "INFO:sqlalchemy.engine.base.Engine:{}\n"
       ]
      },
      {
       "output_type": "stream",
       "stream": "stdout",
       "text": [
        "2014-06-16 10:56:51,701 INFO sqlalchemy.engine.base.Engine SELECT CAST('test unicode returns' AS VARCHAR(60)) AS anon_1\n"
       ]
      },
      {
       "output_type": "stream",
       "stream": "stderr",
       "text": [
        "INFO:sqlalchemy.engine.base.Engine:SELECT CAST('test unicode returns' AS VARCHAR(60)) AS anon_1\n"
       ]
      },
      {
       "output_type": "stream",
       "stream": "stdout",
       "text": [
        "2014-06-16 10:56:51,702 INFO sqlalchemy.engine.base.Engine {}\n"
       ]
      },
      {
       "output_type": "stream",
       "stream": "stderr",
       "text": [
        "INFO:sqlalchemy.engine.base.Engine:{}\n"
       ]
      },
      {
       "output_type": "stream",
       "stream": "stdout",
       "text": [
        "2014-06-16 10:56:51,833 INFO sqlalchemy.engine.base.Engine show standard_conforming_strings\n"
       ]
      },
      {
       "output_type": "stream",
       "stream": "stderr",
       "text": [
        "INFO:sqlalchemy.engine.base.Engine:show standard_conforming_strings\n"
       ]
      },
      {
       "output_type": "stream",
       "stream": "stdout",
       "text": [
        "2014-06-16 10:56:51,834 INFO sqlalchemy.engine.base.Engine {}\n"
       ]
      },
      {
       "output_type": "stream",
       "stream": "stderr",
       "text": [
        "INFO:sqlalchemy.engine.base.Engine:{}\n"
       ]
      },
      {
       "output_type": "stream",
       "stream": "stdout",
       "text": [
        "2014-06-16 10:56:51,928 INFO sqlalchemy.engine.base.Engine select * from \"PecanStreet_CuratedSets\".group1_disaggregated_2013_06\n"
       ]
      },
      {
       "output_type": "stream",
       "stream": "stderr",
       "text": [
        "INFO:sqlalchemy.engine.base.Engine:select * from \"PecanStreet_CuratedSets\".group1_disaggregated_2013_06\n"
       ]
      },
      {
       "output_type": "stream",
       "stream": "stdout",
       "text": [
        "2014-06-16 10:56:51,929 INFO sqlalchemy.engine.base.Engine {}\n"
       ]
      },
      {
       "output_type": "stream",
       "stream": "stderr",
       "text": [
        "INFO:sqlalchemy.engine.base.Engine:{}\n"
       ]
      },
      {
       "output_type": "stream",
       "stream": "stdout",
       "text": [
        "2014-06-16 11:00:31,898 INFO sqlalchemy.engine.base.Engine select version()\n"
       ]
      },
      {
       "output_type": "stream",
       "stream": "stderr",
       "text": [
        "INFO:sqlalchemy.engine.base.Engine:select version()\n"
       ]
      },
      {
       "output_type": "stream",
       "stream": "stdout",
       "text": [
        "2014-06-16 11:00:31,899 INFO sqlalchemy.engine.base.Engine {}\n"
       ]
      },
      {
       "output_type": "stream",
       "stream": "stderr",
       "text": [
        "INFO:sqlalchemy.engine.base.Engine:{}\n"
       ]
      },
      {
       "output_type": "stream",
       "stream": "stdout",
       "text": [
        "2014-06-16 11:00:32,219 INFO sqlalchemy.engine.base.Engine select current_schema()\n"
       ]
      },
      {
       "output_type": "stream",
       "stream": "stderr",
       "text": [
        "INFO:sqlalchemy.engine.base.Engine:select current_schema()\n"
       ]
      },
      {
       "output_type": "stream",
       "stream": "stdout",
       "text": [
        "2014-06-16 11:00:32,220 INFO sqlalchemy.engine.base.Engine {}\n"
       ]
      },
      {
       "output_type": "stream",
       "stream": "stderr",
       "text": [
        "INFO:sqlalchemy.engine.base.Engine:{}\n"
       ]
      },
      {
       "output_type": "stream",
       "stream": "stdout",
       "text": [
        "2014-06-16 11:00:32,530 INFO sqlalchemy.engine.base.Engine SELECT CAST('test plain returns' AS VARCHAR(60)) AS anon_1\n"
       ]
      },
      {
       "output_type": "stream",
       "stream": "stderr",
       "text": [
        "INFO:sqlalchemy.engine.base.Engine:SELECT CAST('test plain returns' AS VARCHAR(60)) AS anon_1\n"
       ]
      },
      {
       "output_type": "stream",
       "stream": "stdout",
       "text": [
        "2014-06-16 11:00:32,531 INFO sqlalchemy.engine.base.Engine {}\n"
       ]
      },
      {
       "output_type": "stream",
       "stream": "stderr",
       "text": [
        "INFO:sqlalchemy.engine.base.Engine:{}\n"
       ]
      },
      {
       "output_type": "stream",
       "stream": "stdout",
       "text": [
        "2014-06-16 11:00:32,601 INFO sqlalchemy.engine.base.Engine SELECT CAST('test unicode returns' AS VARCHAR(60)) AS anon_1\n"
       ]
      },
      {
       "output_type": "stream",
       "stream": "stderr",
       "text": [
        "INFO:sqlalchemy.engine.base.Engine:SELECT CAST('test unicode returns' AS VARCHAR(60)) AS anon_1\n"
       ]
      },
      {
       "output_type": "stream",
       "stream": "stdout",
       "text": [
        "2014-06-16 11:00:32,602 INFO sqlalchemy.engine.base.Engine {}\n"
       ]
      },
      {
       "output_type": "stream",
       "stream": "stderr",
       "text": [
        "INFO:sqlalchemy.engine.base.Engine:{}\n"
       ]
      },
      {
       "output_type": "stream",
       "stream": "stdout",
       "text": [
        "2014-06-16 11:00:32,832 INFO sqlalchemy.engine.base.Engine show standard_conforming_strings\n"
       ]
      },
      {
       "output_type": "stream",
       "stream": "stderr",
       "text": [
        "INFO:sqlalchemy.engine.base.Engine:show standard_conforming_strings\n"
       ]
      },
      {
       "output_type": "stream",
       "stream": "stdout",
       "text": [
        "2014-06-16 11:00:32,833 INFO sqlalchemy.engine.base.Engine {}\n"
       ]
      },
      {
       "output_type": "stream",
       "stream": "stderr",
       "text": [
        "INFO:sqlalchemy.engine.base.Engine:{}\n"
       ]
      },
      {
       "output_type": "stream",
       "stream": "stdout",
       "text": [
        "2014-06-16 11:00:33,013 INFO sqlalchemy.engine.base.Engine select * from \"PecanStreet_CuratedSets\".group1_disaggregated_2013_07\n"
       ]
      },
      {
       "output_type": "stream",
       "stream": "stderr",
       "text": [
        "INFO:sqlalchemy.engine.base.Engine:select * from \"PecanStreet_CuratedSets\".group1_disaggregated_2013_07\n"
       ]
      },
      {
       "output_type": "stream",
       "stream": "stdout",
       "text": [
        "2014-06-16 11:00:33,014 INFO sqlalchemy.engine.base.Engine {}\n"
       ]
      },
      {
       "output_type": "stream",
       "stream": "stderr",
       "text": [
        "INFO:sqlalchemy.engine.base.Engine:{}\n"
       ]
      },
      {
       "output_type": "stream",
       "stream": "stdout",
       "text": [
        "2014-06-16 11:04:20,521 INFO sqlalchemy.engine.base.Engine select version()\n"
       ]
      },
      {
       "output_type": "stream",
       "stream": "stderr",
       "text": [
        "INFO:sqlalchemy.engine.base.Engine:select version()\n"
       ]
      },
      {
       "output_type": "stream",
       "stream": "stdout",
       "text": [
        "2014-06-16 11:04:20,522 INFO sqlalchemy.engine.base.Engine {}\n"
       ]
      },
      {
       "output_type": "stream",
       "stream": "stderr",
       "text": [
        "INFO:sqlalchemy.engine.base.Engine:{}\n"
       ]
      },
      {
       "output_type": "stream",
       "stream": "stdout",
       "text": [
        "2014-06-16 11:04:20,777 INFO sqlalchemy.engine.base.Engine select current_schema()\n"
       ]
      },
      {
       "output_type": "stream",
       "stream": "stderr",
       "text": [
        "INFO:sqlalchemy.engine.base.Engine:select current_schema()\n"
       ]
      },
      {
       "output_type": "stream",
       "stream": "stdout",
       "text": [
        "2014-06-16 11:04:20,778 INFO sqlalchemy.engine.base.Engine {}\n"
       ]
      },
      {
       "output_type": "stream",
       "stream": "stderr",
       "text": [
        "INFO:sqlalchemy.engine.base.Engine:{}\n"
       ]
      },
      {
       "output_type": "stream",
       "stream": "stdout",
       "text": [
        "2014-06-16 11:04:21,041 INFO sqlalchemy.engine.base.Engine SELECT CAST('test plain returns' AS VARCHAR(60)) AS anon_1\n"
       ]
      },
      {
       "output_type": "stream",
       "stream": "stderr",
       "text": [
        "INFO:sqlalchemy.engine.base.Engine:SELECT CAST('test plain returns' AS VARCHAR(60)) AS anon_1\n"
       ]
      },
      {
       "output_type": "stream",
       "stream": "stdout",
       "text": [
        "2014-06-16 11:04:21,042 INFO sqlalchemy.engine.base.Engine {}\n"
       ]
      },
      {
       "output_type": "stream",
       "stream": "stderr",
       "text": [
        "INFO:sqlalchemy.engine.base.Engine:{}\n"
       ]
      },
      {
       "output_type": "stream",
       "stream": "stdout",
       "text": [
        "2014-06-16 11:04:21,167 INFO sqlalchemy.engine.base.Engine SELECT CAST('test unicode returns' AS VARCHAR(60)) AS anon_1\n"
       ]
      },
      {
       "output_type": "stream",
       "stream": "stderr",
       "text": [
        "INFO:sqlalchemy.engine.base.Engine:SELECT CAST('test unicode returns' AS VARCHAR(60)) AS anon_1\n"
       ]
      },
      {
       "output_type": "stream",
       "stream": "stdout",
       "text": [
        "2014-06-16 11:04:21,168 INFO sqlalchemy.engine.base.Engine {}\n"
       ]
      },
      {
       "output_type": "stream",
       "stream": "stderr",
       "text": [
        "INFO:sqlalchemy.engine.base.Engine:{}\n"
       ]
      },
      {
       "output_type": "stream",
       "stream": "stdout",
       "text": [
        "2014-06-16 11:04:21,574 INFO sqlalchemy.engine.base.Engine show standard_conforming_strings\n"
       ]
      },
      {
       "output_type": "stream",
       "stream": "stderr",
       "text": [
        "INFO:sqlalchemy.engine.base.Engine:show standard_conforming_strings\n"
       ]
      },
      {
       "output_type": "stream",
       "stream": "stdout",
       "text": [
        "2014-06-16 11:04:21,575 INFO sqlalchemy.engine.base.Engine {}\n"
       ]
      },
      {
       "output_type": "stream",
       "stream": "stderr",
       "text": [
        "INFO:sqlalchemy.engine.base.Engine:{}\n"
       ]
      },
      {
       "output_type": "stream",
       "stream": "stdout",
       "text": [
        "2014-06-16 11:04:21,855 INFO sqlalchemy.engine.base.Engine select * from \"PecanStreet_CuratedSets\".group1_disaggregated_2013_08\n"
       ]
      },
      {
       "output_type": "stream",
       "stream": "stderr",
       "text": [
        "INFO:sqlalchemy.engine.base.Engine:select * from \"PecanStreet_CuratedSets\".group1_disaggregated_2013_08\n"
       ]
      },
      {
       "output_type": "stream",
       "stream": "stdout",
       "text": [
        "2014-06-16 11:04:21,856 INFO sqlalchemy.engine.base.Engine {}\n"
       ]
      },
      {
       "output_type": "stream",
       "stream": "stderr",
       "text": [
        "INFO:sqlalchemy.engine.base.Engine:{}\n"
       ]
      },
      {
       "output_type": "stream",
       "stream": "stdout",
       "text": [
        "2014-06-16 11:08:11,448 INFO sqlalchemy.engine.base.Engine select version()\n"
       ]
      },
      {
       "output_type": "stream",
       "stream": "stderr",
       "text": [
        "INFO:sqlalchemy.engine.base.Engine:select version()\n"
       ]
      },
      {
       "output_type": "stream",
       "stream": "stdout",
       "text": [
        "2014-06-16 11:08:11,450 INFO sqlalchemy.engine.base.Engine {}\n"
       ]
      },
      {
       "output_type": "stream",
       "stream": "stderr",
       "text": [
        "INFO:sqlalchemy.engine.base.Engine:{}\n"
       ]
      },
      {
       "output_type": "stream",
       "stream": "stdout",
       "text": [
        "2014-06-16 11:08:11,542 INFO sqlalchemy.engine.base.Engine select current_schema()\n"
       ]
      },
      {
       "output_type": "stream",
       "stream": "stderr",
       "text": [
        "INFO:sqlalchemy.engine.base.Engine:select current_schema()\n"
       ]
      },
      {
       "output_type": "stream",
       "stream": "stdout",
       "text": [
        "2014-06-16 11:08:11,543 INFO sqlalchemy.engine.base.Engine {}\n"
       ]
      },
      {
       "output_type": "stream",
       "stream": "stderr",
       "text": [
        "INFO:sqlalchemy.engine.base.Engine:{}\n"
       ]
      },
      {
       "output_type": "stream",
       "stream": "stdout",
       "text": [
        "2014-06-16 11:08:11,632 INFO sqlalchemy.engine.base.Engine SELECT CAST('test plain returns' AS VARCHAR(60)) AS anon_1\n"
       ]
      },
      {
       "output_type": "stream",
       "stream": "stderr",
       "text": [
        "INFO:sqlalchemy.engine.base.Engine:SELECT CAST('test plain returns' AS VARCHAR(60)) AS anon_1\n"
       ]
      },
      {
       "output_type": "stream",
       "stream": "stdout",
       "text": [
        "2014-06-16 11:08:11,633 INFO sqlalchemy.engine.base.Engine {}\n"
       ]
      },
      {
       "output_type": "stream",
       "stream": "stderr",
       "text": [
        "INFO:sqlalchemy.engine.base.Engine:{}\n"
       ]
      },
      {
       "output_type": "stream",
       "stream": "stdout",
       "text": [
        "2014-06-16 11:08:11,682 INFO sqlalchemy.engine.base.Engine SELECT CAST('test unicode returns' AS VARCHAR(60)) AS anon_1\n"
       ]
      },
      {
       "output_type": "stream",
       "stream": "stderr",
       "text": [
        "INFO:sqlalchemy.engine.base.Engine:SELECT CAST('test unicode returns' AS VARCHAR(60)) AS anon_1\n"
       ]
      },
      {
       "output_type": "stream",
       "stream": "stdout",
       "text": [
        "2014-06-16 11:08:11,683 INFO sqlalchemy.engine.base.Engine {}\n"
       ]
      },
      {
       "output_type": "stream",
       "stream": "stderr",
       "text": [
        "INFO:sqlalchemy.engine.base.Engine:{}\n"
       ]
      },
      {
       "output_type": "stream",
       "stream": "stdout",
       "text": [
        "2014-06-16 11:08:11,816 INFO sqlalchemy.engine.base.Engine show standard_conforming_strings\n"
       ]
      },
      {
       "output_type": "stream",
       "stream": "stderr",
       "text": [
        "INFO:sqlalchemy.engine.base.Engine:show standard_conforming_strings\n"
       ]
      },
      {
       "output_type": "stream",
       "stream": "stdout",
       "text": [
        "2014-06-16 11:08:11,817 INFO sqlalchemy.engine.base.Engine {}\n"
       ]
      },
      {
       "output_type": "stream",
       "stream": "stderr",
       "text": [
        "INFO:sqlalchemy.engine.base.Engine:{}\n"
       ]
      },
      {
       "output_type": "stream",
       "stream": "stdout",
       "text": [
        "2014-06-16 11:08:11,903 INFO sqlalchemy.engine.base.Engine select * from \"PecanStreet_CuratedSets\".group1_disaggregated_2013_09\n"
       ]
      },
      {
       "output_type": "stream",
       "stream": "stderr",
       "text": [
        "INFO:sqlalchemy.engine.base.Engine:select * from \"PecanStreet_CuratedSets\".group1_disaggregated_2013_09\n"
       ]
      },
      {
       "output_type": "stream",
       "stream": "stdout",
       "text": [
        "2014-06-16 11:08:11,904 INFO sqlalchemy.engine.base.Engine {}\n"
       ]
      },
      {
       "output_type": "stream",
       "stream": "stderr",
       "text": [
        "INFO:sqlalchemy.engine.base.Engine:{}\n"
       ]
      },
      {
       "output_type": "stream",
       "stream": "stdout",
       "text": [
        "2014-06-16 11:11:52,117 INFO sqlalchemy.engine.base.Engine select version()\n"
       ]
      },
      {
       "output_type": "stream",
       "stream": "stderr",
       "text": [
        "INFO:sqlalchemy.engine.base.Engine:select version()\n"
       ]
      },
      {
       "output_type": "stream",
       "stream": "stdout",
       "text": [
        "2014-06-16 11:11:52,118 INFO sqlalchemy.engine.base.Engine {}\n"
       ]
      },
      {
       "output_type": "stream",
       "stream": "stderr",
       "text": [
        "INFO:sqlalchemy.engine.base.Engine:{}\n"
       ]
      },
      {
       "output_type": "stream",
       "stream": "stdout",
       "text": [
        "2014-06-16 11:11:52,426 INFO sqlalchemy.engine.base.Engine select current_schema()\n"
       ]
      },
      {
       "output_type": "stream",
       "stream": "stderr",
       "text": [
        "INFO:sqlalchemy.engine.base.Engine:select current_schema()\n"
       ]
      },
      {
       "output_type": "stream",
       "stream": "stdout",
       "text": [
        "2014-06-16 11:11:52,427 INFO sqlalchemy.engine.base.Engine {}\n"
       ]
      },
      {
       "output_type": "stream",
       "stream": "stderr",
       "text": [
        "INFO:sqlalchemy.engine.base.Engine:{}\n"
       ]
      },
      {
       "output_type": "stream",
       "stream": "stdout",
       "text": [
        "2014-06-16 11:11:52,758 INFO sqlalchemy.engine.base.Engine SELECT CAST('test plain returns' AS VARCHAR(60)) AS anon_1\n"
       ]
      },
      {
       "output_type": "stream",
       "stream": "stderr",
       "text": [
        "INFO:sqlalchemy.engine.base.Engine:SELECT CAST('test plain returns' AS VARCHAR(60)) AS anon_1\n"
       ]
      },
      {
       "output_type": "stream",
       "stream": "stdout",
       "text": [
        "2014-06-16 11:11:52,759 INFO sqlalchemy.engine.base.Engine {}\n"
       ]
      },
      {
       "output_type": "stream",
       "stream": "stderr",
       "text": [
        "INFO:sqlalchemy.engine.base.Engine:{}\n"
       ]
      },
      {
       "output_type": "stream",
       "stream": "stdout",
       "text": [
        "2014-06-16 11:11:52,885 INFO sqlalchemy.engine.base.Engine SELECT CAST('test unicode returns' AS VARCHAR(60)) AS anon_1\n"
       ]
      },
      {
       "output_type": "stream",
       "stream": "stderr",
       "text": [
        "INFO:sqlalchemy.engine.base.Engine:SELECT CAST('test unicode returns' AS VARCHAR(60)) AS anon_1\n"
       ]
      },
      {
       "output_type": "stream",
       "stream": "stdout",
       "text": [
        "2014-06-16 11:11:52,887 INFO sqlalchemy.engine.base.Engine {}\n"
       ]
      },
      {
       "output_type": "stream",
       "stream": "stderr",
       "text": [
        "INFO:sqlalchemy.engine.base.Engine:{}\n"
       ]
      },
      {
       "output_type": "stream",
       "stream": "stdout",
       "text": [
        "2014-06-16 11:11:53,235 INFO sqlalchemy.engine.base.Engine show standard_conforming_strings\n"
       ]
      },
      {
       "output_type": "stream",
       "stream": "stderr",
       "text": [
        "INFO:sqlalchemy.engine.base.Engine:show standard_conforming_strings\n"
       ]
      },
      {
       "output_type": "stream",
       "stream": "stdout",
       "text": [
        "2014-06-16 11:11:53,236 INFO sqlalchemy.engine.base.Engine {}\n"
       ]
      },
      {
       "output_type": "stream",
       "stream": "stderr",
       "text": [
        "INFO:sqlalchemy.engine.base.Engine:{}\n"
       ]
      },
      {
       "output_type": "stream",
       "stream": "stdout",
       "text": [
        "2014-06-16 11:11:53,494 INFO sqlalchemy.engine.base.Engine select * from \"PecanStreet_CuratedSets\".group1_disaggregated_2013_10\n"
       ]
      },
      {
       "output_type": "stream",
       "stream": "stderr",
       "text": [
        "INFO:sqlalchemy.engine.base.Engine:select * from \"PecanStreet_CuratedSets\".group1_disaggregated_2013_10\n"
       ]
      },
      {
       "output_type": "stream",
       "stream": "stdout",
       "text": [
        "2014-06-16 11:11:53,495 INFO sqlalchemy.engine.base.Engine {}\n"
       ]
      },
      {
       "output_type": "stream",
       "stream": "stderr",
       "text": [
        "INFO:sqlalchemy.engine.base.Engine:{}\n"
       ]
      },
      {
       "output_type": "stream",
       "stream": "stdout",
       "text": [
        "2014-06-16 11:14:32,839 INFO sqlalchemy.engine.base.Engine select version()\n"
       ]
      },
      {
       "output_type": "stream",
       "stream": "stderr",
       "text": [
        "INFO:sqlalchemy.engine.base.Engine:select version()\n"
       ]
      },
      {
       "output_type": "stream",
       "stream": "stdout",
       "text": [
        "2014-06-16 11:14:32,840 INFO sqlalchemy.engine.base.Engine {}\n"
       ]
      },
      {
       "output_type": "stream",
       "stream": "stderr",
       "text": [
        "INFO:sqlalchemy.engine.base.Engine:{}\n"
       ]
      },
      {
       "output_type": "stream",
       "stream": "stdout",
       "text": [
        "2014-06-16 11:14:33,030 INFO sqlalchemy.engine.base.Engine select current_schema()\n"
       ]
      },
      {
       "output_type": "stream",
       "stream": "stderr",
       "text": [
        "INFO:sqlalchemy.engine.base.Engine:select current_schema()\n"
       ]
      },
      {
       "output_type": "stream",
       "stream": "stdout",
       "text": [
        "2014-06-16 11:14:33,031 INFO sqlalchemy.engine.base.Engine {}\n"
       ]
      },
      {
       "output_type": "stream",
       "stream": "stderr",
       "text": [
        "INFO:sqlalchemy.engine.base.Engine:{}\n"
       ]
      },
      {
       "output_type": "stream",
       "stream": "stdout",
       "text": [
        "2014-06-16 11:14:33,300 INFO sqlalchemy.engine.base.Engine SELECT CAST('test plain returns' AS VARCHAR(60)) AS anon_1\n"
       ]
      },
      {
       "output_type": "stream",
       "stream": "stderr",
       "text": [
        "INFO:sqlalchemy.engine.base.Engine:SELECT CAST('test plain returns' AS VARCHAR(60)) AS anon_1\n"
       ]
      },
      {
       "output_type": "stream",
       "stream": "stdout",
       "text": [
        "2014-06-16 11:14:33,301 INFO sqlalchemy.engine.base.Engine {}\n"
       ]
      },
      {
       "output_type": "stream",
       "stream": "stderr",
       "text": [
        "INFO:sqlalchemy.engine.base.Engine:{}\n"
       ]
      },
      {
       "output_type": "stream",
       "stream": "stdout",
       "text": [
        "2014-06-16 11:14:33,438 INFO sqlalchemy.engine.base.Engine SELECT CAST('test unicode returns' AS VARCHAR(60)) AS anon_1\n"
       ]
      },
      {
       "output_type": "stream",
       "stream": "stderr",
       "text": [
        "INFO:sqlalchemy.engine.base.Engine:SELECT CAST('test unicode returns' AS VARCHAR(60)) AS anon_1\n"
       ]
      },
      {
       "output_type": "stream",
       "stream": "stdout",
       "text": [
        "2014-06-16 11:14:33,439 INFO sqlalchemy.engine.base.Engine {}\n"
       ]
      },
      {
       "output_type": "stream",
       "stream": "stderr",
       "text": [
        "INFO:sqlalchemy.engine.base.Engine:{}\n"
       ]
      },
      {
       "output_type": "stream",
       "stream": "stdout",
       "text": [
        "2014-06-16 11:14:33,840 INFO sqlalchemy.engine.base.Engine show standard_conforming_strings\n"
       ]
      },
      {
       "output_type": "stream",
       "stream": "stderr",
       "text": [
        "INFO:sqlalchemy.engine.base.Engine:show standard_conforming_strings\n"
       ]
      },
      {
       "output_type": "stream",
       "stream": "stdout",
       "text": [
        "2014-06-16 11:14:33,841 INFO sqlalchemy.engine.base.Engine {}\n"
       ]
      },
      {
       "output_type": "stream",
       "stream": "stderr",
       "text": [
        "INFO:sqlalchemy.engine.base.Engine:{}\n"
       ]
      },
      {
       "output_type": "stream",
       "stream": "stdout",
       "text": [
        "2014-06-16 11:14:34,113 INFO sqlalchemy.engine.base.Engine select * from \"PecanStreet_CuratedSets\".group1_disaggregated_2013_11\n"
       ]
      },
      {
       "output_type": "stream",
       "stream": "stderr",
       "text": [
        "INFO:sqlalchemy.engine.base.Engine:select * from \"PecanStreet_CuratedSets\".group1_disaggregated_2013_11\n"
       ]
      },
      {
       "output_type": "stream",
       "stream": "stdout",
       "text": [
        "2014-06-16 11:14:34,114 INFO sqlalchemy.engine.base.Engine {}\n"
       ]
      },
      {
       "output_type": "stream",
       "stream": "stderr",
       "text": [
        "INFO:sqlalchemy.engine.base.Engine:{}\n"
       ]
      }
     ],
     "prompt_number": 31
    },
    {
     "cell_type": "code",
     "collapsed": false,
     "input": [
      "def pie(month):\n",
      "    hvacs = percent_hvacs(hv)\n",
      "    labels = []\n",
      "    fracs = []\n",
      "    total_air = \n",
      "    "
     ],
     "language": "python",
     "metadata": {},
     "outputs": []
    }
   ],
   "metadata": {}
  }
 ]
}