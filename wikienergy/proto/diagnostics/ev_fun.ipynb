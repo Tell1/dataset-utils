{
 "metadata": {
  "name": "",
  "signature": "sha256:a46221eb705498a66e2a4492e97dd6ef6a5386f0d6f0dcc3864adbb12a3b72e0"
 },
 "nbformat": 3,
 "nbformat_minor": 0,
 "worksheets": [
  {
   "cells": [
    {
     "cell_type": "code",
     "collapsed": false,
     "input": [
      "\n",
      "import datetime\n",
      "import pandas as pd\n",
      "import sqlalchemy as sa\n",
      "from sqlalchemy import *\n",
      "import pandas as pd\n",
      "import os\n",
      "import numpy as np\n",
      "import operator\n",
      "import math\n",
      "import random\n",
      "from pylab import *\n",
      "import ast"
     ],
     "language": "python",
     "metadata": {},
     "outputs": [
      {
       "output_type": "stream",
       "stream": "stderr",
       "text": [
        "/Users/sabina/anaconda/lib/python2.7/site-packages/pandas/io/excel.py:626: UserWarning: Installed openpyxl is not supported at this time. Use >=1.6.1 and <2.0.0.\n",
        "  .format(openpyxl_compat.start_ver, openpyxl_compat.stop_ver))\n"
       ]
      }
     ],
     "prompt_number": 1
    },
    {
     "cell_type": "code",
     "collapsed": false,
     "input": [
      "import json \n",
      "import matplotlib \n",
      "import matplotlib.pyplot as pyplt\n",
      "%matplotlib inline"
     ],
     "language": "python",
     "metadata": {},
     "outputs": [],
     "prompt_number": 2
    },
    {
     "cell_type": "code",
     "collapsed": false,
     "input": [
      "look_up_ids = "
     ],
     "language": "python",
     "metadata": {},
     "outputs": [],
     "prompt_number": 2
    },
    {
     "cell_type": "code",
     "collapsed": false,
     "input": [
      "#homes in intersection of all four months\n",
      "def get_json_data(folder, filename):    \n",
      "    dir_path = os.path.join(os.getcwd(),folder)\n",
      "    with open(os.path.join(dir_path, filename)) as outfile:\n",
      "        return json.load(outfile)\n",
      "    "
     ],
     "language": "python",
     "metadata": {},
     "outputs": [],
     "prompt_number": 3
    },
    {
     "cell_type": "code",
     "collapsed": false,
     "input": [
      "def init_dict(month):\n",
      "    global homes \n",
      "    homes= get_json_data('cars/{}/'.format(month),'cars_{}.json'.format(month))\n",
      "    global home_ids\n",
      "    home_ids= homes.keys()\n",
      "    "
     ],
     "language": "python",
     "metadata": {},
     "outputs": [],
     "prompt_number": 62
    },
    {
     "cell_type": "code",
     "collapsed": false,
     "input": [
      "all_home_ids =  {}\n",
      "for month in ['January','February','March','April']:\n",
      "    init_dict(month)\n",
      "    all_home_ids[month] = home_ids\n"
     ],
     "language": "python",
     "metadata": {},
     "outputs": [],
     "prompt_number": 102
    },
    {
     "cell_type": "code",
     "collapsed": false,
     "input": [
      "homes_with_all_months = list(set(all_home_ids['January'])&set(all_home_ids['February'])&set(all_home_ids['March'])&set(all_home_ids['April']))"
     ],
     "language": "python",
     "metadata": {},
     "outputs": [],
     "prompt_number": 104
    },
    {
     "cell_type": "code",
     "collapsed": false,
     "input": [
      "homes_with_all_months[0] in all_home_ids['April']"
     ],
     "language": "python",
     "metadata": {},
     "outputs": [
      {
       "metadata": {},
       "output_type": "pyout",
       "prompt_number": 120,
       "text": [
        "True"
       ]
      }
     ],
     "prompt_number": 120
    },
    {
     "cell_type": "code",
     "collapsed": false,
     "input": [
      "\n",
      "init_dict()"
     ],
     "language": "python",
     "metadata": {},
     "outputs": [],
     "prompt_number": 5
    },
    {
     "cell_type": "code",
     "collapsed": false,
     "input": [
      "def plot_a_home(home,col_name,time_frame,d,name):\n",
      "    y = home[col_name]\n",
      "    y_values=[]\n",
      "    x_ticks = []\n",
      "    if time_frame == 'day':\n",
      "        #update to be random \n",
      "        y_values = y[:1441]\n",
      "        locs = list(range(0,len(y_values),len(y_values)/4))\n",
      "        x_ticks = ['00:00','6:00','12:00','6:00','00:00']\n",
      "    if time_frame == 'week':\n",
      "        y_values = y[:10081]\n",
      "        locs = list(range(0,len(y_values),len(y_values)/6))\n",
      "        x_ticks = [str(i) for i in range(1,8)]\n",
      "    #pyplt.xlabel(time)\n",
      "    pyplt.ylabel('Avg power (kW)')\n",
      "    pyplt.xticks(locs,x_ticks)\n",
      "    if d:\n",
      "        pyplt.plot(y_values,'bo',alpha = .1)\n",
      "    else:\n",
      "        pyplt.plot(y_values)\n",
      "    pyplt.savefig('day_ev_charge_{}.png'.format(name))"
     ],
     "language": "python",
     "metadata": {},
     "outputs": [],
     "prompt_number": 174
    },
    {
     "cell_type": "code",
     "collapsed": false,
     "input": [
      "'''\n",
      "def plot_all_homes(start, end,time_frame_num):\n",
      "    time_frame_len = (60*24*time_frame_num)\n",
      "      \n",
      "    ev = np.zeros(time_frame_len)\n",
      "    for (hid,h) in homes.iteritems():\n",
      "        home_vec = h['car1'][:time_frame_len]\n",
      "        if not hid in ['1728','9937','8046']:\n",
      "            for i in range(len(home_vec)):\n",
      "                if home_vec[i]<.5:\n",
      "                    home_vec[i]=0.0\n",
      "            ev = np.add(ev,home_vec)\n",
      "    if time_frame_num == 1:\n",
      "        locs = list(range(0,len(ev),len(ev)/4))\n",
      "        x_ticks = ['00:00','6:00','12:00','6:00','00:00']\n",
      "    if time_frame_num ==7:\n",
      "        locs = list(range(0,len(ev),len(ev)/6))\n",
      "        x_ticks = [str(i) for i in range(1,8)]  \n",
      "    ev= np.divide(ev,45)\n",
      "    pyplt.xticks(locs,x_ticks)\n",
      "    pyplt.plot(ev)\n",
      "    pyplt.ylabel('Power')\n",
      "    pyplt.xlabel('Time')\n",
      "    pyplt.title('EV April')\n",
      "    pyplt.show()\n",
      "    '''"
     ],
     "language": "python",
     "metadata": {},
     "outputs": [
      {
       "metadata": {},
       "output_type": "pyout",
       "prompt_number": 51,
       "text": [
        "\"\\ndef plot_all_homes(start, end,time_frame_num):\\n    time_frame_len = (60*24*time_frame_num)\\n      \\n    ev = np.zeros(time_frame_len)\\n    for (hid,h) in homes.iteritems():\\n        home_vec = h['car1'][:time_frame_len]\\n        if not hid in ['1728','9937','8046']:\\n            for i in range(len(home_vec)):\\n                if home_vec[i]<.5:\\n                    home_vec[i]=0.0\\n            ev = np.add(ev,home_vec)\\n    if time_frame_num == 1:\\n        locs = list(range(0,len(ev),len(ev)/4))\\n        x_ticks = ['00:00','6:00','12:00','6:00','00:00']\\n    if time_frame_num ==7:\\n        locs = list(range(0,len(ev),len(ev)/6))\\n        x_ticks = [str(i) for i in range(1,8)]  \\n    ev= np.divide(ev,45)\\n    pyplt.xticks(locs,x_ticks)\\n    pyplt.plot(ev)\\n    pyplt.ylabel('Power')\\n    pyplt.xlabel('Time')\\n    pyplt.title('EV April')\\n    pyplt.show()\\n    \""
       ]
      }
     ],
     "prompt_number": 51
    },
    {
     "cell_type": "code",
     "collapsed": false,
     "input": [
      "plot_a_home(homes[home_ids[6]],'car1','day',True,6)"
     ],
     "language": "python",
     "metadata": {},
     "outputs": [
      {
       "metadata": {},
       "output_type": "display_data",
       "png": "[encoded data removed]",
       "text": [
        "<matplotlib.figure.Figure at 0x16ea3bad0>"
       ]
      }
     ],
     "prompt_number": 177
    },
    {
     "cell_type": "code",
     "collapsed": false,
     "input": [
      "#plot_all_homes(1,1,1)\n",
      "####Averaging is terrible!"
     ],
     "language": "python",
     "metadata": {},
     "outputs": [],
     "prompt_number": 52
    },
    {
     "cell_type": "code",
     "collapsed": false,
     "input": [
      "##find max\n",
      "def look_at_distribution():\n",
      "    df = pd.DataFrame.from_dict(homes.values(),orient = homes.keys())\n",
      "    return df  "
     ],
     "language": "python",
     "metadata": {},
     "outputs": [],
     "prompt_number": 129
    },
    {
     "cell_type": "code",
     "collapsed": false,
     "input": [
      "homes_df = look_at_distribution()"
     ],
     "language": "python",
     "metadata": {},
     "outputs": [
      {
       "ename": "AttributeError",
       "evalue": "'list' object has no attribute 'lower'",
       "output_type": "pyerr",
       "traceback": [
        "\u001b[0;31m---------------------------------------------------------------------------\u001b[0m\n\u001b[0;31mAttributeError\u001b[0m                            Traceback (most recent call last)",
        "\u001b[0;32m<ipython-input-130-9689a2ab1d33>\u001b[0m in \u001b[0;36m<module>\u001b[0;34m()\u001b[0m\n\u001b[0;32m----> 1\u001b[0;31m \u001b[0mhomes_df\u001b[0m \u001b[0;34m=\u001b[0m \u001b[0mlook_at_distribution\u001b[0m\u001b[0;34m(\u001b[0m\u001b[0;34m)\u001b[0m\u001b[0;34m\u001b[0m\u001b[0m\n\u001b[0m",
        "\u001b[0;32m<ipython-input-129-ce88cf908060>\u001b[0m in \u001b[0;36mlook_at_distribution\u001b[0;34m()\u001b[0m\n\u001b[1;32m      1\u001b[0m \u001b[0;31m##find max\u001b[0m\u001b[0;34m\u001b[0m\u001b[0;34m\u001b[0m\u001b[0m\n\u001b[1;32m      2\u001b[0m \u001b[0;32mdef\u001b[0m \u001b[0mlook_at_distribution\u001b[0m\u001b[0;34m(\u001b[0m\u001b[0;34m)\u001b[0m\u001b[0;34m:\u001b[0m\u001b[0;34m\u001b[0m\u001b[0m\n\u001b[0;32m----> 3\u001b[0;31m     \u001b[0mdf\u001b[0m \u001b[0;34m=\u001b[0m \u001b[0mpd\u001b[0m\u001b[0;34m.\u001b[0m\u001b[0mDataFrame\u001b[0m\u001b[0;34m.\u001b[0m\u001b[0mfrom_dict\u001b[0m\u001b[0;34m(\u001b[0m\u001b[0mhomes\u001b[0m\u001b[0;34m.\u001b[0m\u001b[0mvalues\u001b[0m\u001b[0;34m(\u001b[0m\u001b[0;34m)\u001b[0m\u001b[0;34m,\u001b[0m\u001b[0morient\u001b[0m \u001b[0;34m=\u001b[0m \u001b[0mhomes\u001b[0m\u001b[0;34m.\u001b[0m\u001b[0mkeys\u001b[0m\u001b[0;34m(\u001b[0m\u001b[0;34m)\u001b[0m\u001b[0;34m)\u001b[0m\u001b[0;34m\u001b[0m\u001b[0m\n\u001b[0m\u001b[1;32m      4\u001b[0m     \u001b[0;32mreturn\u001b[0m \u001b[0mdf\u001b[0m\u001b[0;34m\u001b[0m\u001b[0m\n",
        "\u001b[0;32m/Users/sabina/anaconda/lib/python2.7/site-packages/pandas/core/frame.pyc\u001b[0m in \u001b[0;36mfrom_dict\u001b[0;34m(cls, data, orient, dtype)\u001b[0m\n\u001b[1;32m    626\u001b[0m         \"\"\"\n\u001b[1;32m    627\u001b[0m         \u001b[0mindex\u001b[0m\u001b[0;34m,\u001b[0m \u001b[0mcolumns\u001b[0m \u001b[0;34m=\u001b[0m \u001b[0mNone\u001b[0m\u001b[0;34m,\u001b[0m \u001b[0mNone\u001b[0m\u001b[0;34m\u001b[0m\u001b[0m\n\u001b[0;32m--> 628\u001b[0;31m         \u001b[0morient\u001b[0m \u001b[0;34m=\u001b[0m \u001b[0morient\u001b[0m\u001b[0;34m.\u001b[0m\u001b[0mlower\u001b[0m\u001b[0;34m(\u001b[0m\u001b[0;34m)\u001b[0m\u001b[0;34m\u001b[0m\u001b[0m\n\u001b[0m\u001b[1;32m    629\u001b[0m         \u001b[0;32mif\u001b[0m \u001b[0morient\u001b[0m \u001b[0;34m==\u001b[0m \u001b[0;34m'index'\u001b[0m\u001b[0;34m:\u001b[0m\u001b[0;34m\u001b[0m\u001b[0m\n\u001b[1;32m    630\u001b[0m             \u001b[0;32mif\u001b[0m \u001b[0mlen\u001b[0m\u001b[0;34m(\u001b[0m\u001b[0mdata\u001b[0m\u001b[0;34m)\u001b[0m \u001b[0;34m>\u001b[0m \u001b[0;36m0\u001b[0m\u001b[0;34m:\u001b[0m\u001b[0;34m\u001b[0m\u001b[0m\n",
        "\u001b[0;31mAttributeError\u001b[0m: 'list' object has no attribute 'lower'"
       ]
      }
     ],
     "prompt_number": 130
    },
    {
     "cell_type": "code",
     "collapsed": false,
     "input": [
      "max((homes_df['car1']).max())"
     ],
     "language": "python",
     "metadata": {},
     "outputs": [
      {
       "metadata": {},
       "output_type": "pyout",
       "prompt_number": 9,
       "text": [
        "6.691"
       ]
      }
     ],
     "prompt_number": 9
    },
    {
     "cell_type": "code",
     "collapsed": false,
     "input": [
      "len(homes_df['localminute'][0])"
     ],
     "language": "python",
     "metadata": {},
     "outputs": [
      {
       "metadata": {},
       "output_type": "pyout",
       "prompt_number": 13,
       "text": [
        "43200"
       ]
      }
     ],
     "prompt_number": 13
    },
    {
     "cell_type": "code",
     "collapsed": false,
     "input": [
      "def get_continuous(this_home):\n",
      "    continuous_times = []\n",
      "    i=0\n",
      "    if len(homes_df['car1'][this_home])!=43200 or len(homes_df['localminute'][this_home])!=43200 :\n",
      "        return []\n",
      "    while i<43200:\n",
      "        this_time = [] \n",
      "        while  i<43200 and homes_df['car1'][this_home][i]>0.5 :\n",
      "            this_time.append(([homes_df['car1'][this_home][i],homes_df['localminute'][this_home][i]]))\n",
      "            i=i+1\n",
      "        if len(this_time)>0:\n",
      "            continuous_times.append(this_time)\n",
      "            this_time=[]\n",
      "        i = i +1\n",
      "    return continuous_times"
     ],
     "language": "python",
     "metadata": {},
     "outputs": [],
     "prompt_number": 23
    },
    {
     "cell_type": "code",
     "collapsed": false,
     "input": [
      "##for home calculate minutes avg time period \n",
      "avg_con = []\n",
      "avgs = []\n",
      "for i in range(48):\n",
      "    c = get_continuous(i)\n",
      "    avg = 0\n",
      "    for e in c:\n",
      "        avg = avg + len(e)\n",
      "    if len(c)!=0:  \n",
      "        avgs.append(c)\n",
      "        avg_con.append(avg/len(c))\n",
      "    else:\n",
      "        print i"
     ],
     "language": "python",
     "metadata": {},
     "outputs": [
      {
       "output_type": "stream",
       "stream": "stdout",
       "text": [
        "3\n",
        "21"
       ]
      },
      {
       "output_type": "stream",
       "stream": "stdout",
       "text": [
        "\n",
        "26"
       ]
      },
      {
       "output_type": "stream",
       "stream": "stdout",
       "text": [
        "\n"
       ]
      }
     ],
     "prompt_number": 24
    },
    {
     "cell_type": "code",
     "collapsed": false,
     "input": [
      "avg = 0\n",
      "for e in (avg_con):\n",
      "    avg = avg + (e)\n",
      "print avg/len(avg_con)"
     ],
     "language": "python",
     "metadata": {},
     "outputs": [
      {
       "output_type": "stream",
       "stream": "stdout",
       "text": [
        "89\n"
       ]
      }
     ],
     "prompt_number": 12
    },
    {
     "cell_type": "code",
     "collapsed": false,
     "input": [
      "def get_plot_points_for_phil(house,month):\n",
      "    all_ys = []\n",
      "    all_xs= []\n",
      "    month_days = {'January':31,'February':28,'March':31,'April':30}\n",
      "    for month in ['January','February','March','April']:\n",
      "    init_dict(month)\n",
      "    #homes_df = look_at_distribution()\n",
      "    car_vec = homes[house]['car1']\n",
      "        ##partition by day\n",
      "    step_sizes_too_sick_to_do_math = [i for i in range(0,43200,1440)]\n",
      "    for i in range(len(step_sizes_too_sick_to_do_math)):\n",
      "        yhere = car_vec[step_sizes_too_sick_to_do_math[i]:step_sizes_too_sick_to_do_math[i]+1440]\n",
      "        all_ys.append(yhere)\n",
      "        all_xs.append([i for i in range(len(yhere))])\n",
      "    return ([all_xs,all_ys])"
     ],
     "language": "python",
     "metadata": {},
     "outputs": [],
     "prompt_number": 137
    },
    {
     "cell_type": "code",
     "collapsed": false,
     "input": [
      "([x,y])=get_plot_points_for_phil(homes_with_all_months[0],'January')"
     ],
     "language": "python",
     "metadata": {},
     "outputs": [],
     "prompt_number": 138
    },
    {
     "cell_type": "code",
     "collapsed": false,
     "input": [
      "def plot_points(x,y,house):\n",
      "    locs = list(range(0,len(y[0]),len(y[0])/4))\n",
      "    x_ticks = ['00:00','6:00','12:00','6:00','00:00']\n",
      "    pyplt.xticks(locs,x_ticks)\n",
      "    pyplt.title('House {}'.format(house))\n",
      "    pyplt.xlabel('power')\n",
      "    pyplt.ylabel('time')\n",
      "    for i in range(len(y)):\n",
      "        pyplt.plot(x[i],y[i],'bo',alpha = .15)\n",
      "        "
     ],
     "language": "python",
     "metadata": {},
     "outputs": [],
     "prompt_number": 144
    },
    {
     "cell_type": "code",
     "collapsed": false,
     "input": [
      "plot_points(x,y,homes_with_all_months[0])"
     ],
     "language": "python",
     "metadata": {},
     "outputs": [
      {
       "metadata": {},
       "output_type": "display_data",
       "png": "[encoded data removed]",
       "text": [
        "<matplotlib.figure.Figure at 0x108c49510>"
       ]
      }
     ],
     "prompt_number": 145
    },
    {
     "cell_type": "code",
     "collapsed": false,
     "input": [
      "def plot_master_coords():\n",
      "    house = homes_with_all_months[0]\n",
      "    master = [ ]\n",
      "    for month in ['January','February','March','April']:\n",
      "        #([x,y]) = get_plot_points_for_phil(house,month)\n",
      "        master.append(get_plot_points_for_phil(house,month))\n",
      "    locs = list(range(0,len(y[0]),len(y[0])/4))\n",
      "    x_ticks = ['00:00','6:00','12:00','6:00','00:00']\n",
      "    pyplt.xticks(locs,x_ticks)\n",
      "    pyplt.title('House {}'.format(house))\n",
      "    pyplt.xlabel('time')\n",
      "    pyplt.ylabel('power')\n",
      "    for ii in master:\n",
      "        for i in range(len(ii[1])):\n",
      "            pyplt.plot(ii[0][i],ii[1][i],'bo',alpha = .15)\n",
      "    pyplt.savefig('2014-EV.png')       "
     ],
     "language": "python",
     "metadata": {},
     "outputs": [],
     "prompt_number": 164
    },
    {
     "cell_type": "code",
     "collapsed": false,
     "input": [
      "'''\n",
      "x = [] \n",
      "y =  []\n",
      "step_sizes_too_sick_to_do_math = [i for i in range(0,43200,1440)]\n",
      "for i in range(len(step_sizes_too_sick_to_do_math)):\n",
      "    yhere = car_test[step_sizes_too_sick_to_do_math[i]:step_sizes_too_sick_to_do_math[i]+1440]\n",
      "    y.append(yhere)\n",
      "   ''' "
     ],
     "language": "python",
     "metadata": {},
     "outputs": [],
     "prompt_number": 93
    },
    {
     "cell_type": "code",
     "collapsed": false,
     "input": [
      "step_sizes_too_sick_to_do_math = [i for i in range(0,43200,1440)]"
     ],
     "language": "python",
     "metadata": {},
     "outputs": [],
     "prompt_number": 90
    },
    {
     "cell_type": "code",
     "collapsed": false,
     "input": [
      "plot_master_coords()"
     ],
     "language": "python",
     "metadata": {},
     "outputs": [
      {
       "metadata": {},
       "output_type": "display_data",
       "png": "[encoded data removed]",
       "text": [
        "<matplotlib.figure.Figure at 0x1091ffe50>"
       ]
      }
     ],
     "prompt_number": 165
    },
    {
     "cell_type": "code",
     "collapsed": false,
     "input": [
      "d_test = {'car':1,'bat':1,'cat':1}\n",
      "strings = ['car','taze','tzar','cat']\n",
      "count = []\n",
      "for s in strings:\n",
      "    if s in d_test:\n",
      "        count.append(s)\n",
      "    elif s!='bat':\n",
      "        count.append(s)"
     ],
     "language": "python",
     "metadata": {},
     "outputs": [],
     "prompt_number": 159
    },
    {
     "cell_type": "code",
     "collapsed": false,
     "input": [
      "count"
     ],
     "language": "python",
     "metadata": {},
     "outputs": [
      {
       "metadata": {},
       "output_type": "pyout",
       "prompt_number": 160,
       "text": [
        "['car', 'taze', 'tzar', 'cat']"
       ]
      }
     ],
     "prompt_number": 160
    },
    {
     "cell_type": "code",
     "collapsed": false,
     "input": [],
     "language": "python",
     "metadata": {},
     "outputs": []
    }
   ],
   "metadata": {}
  }
 ]
}