{
 "metadata": {
  "name": "",
  "signature": "sha256:cb7171f6f6e8211ae579b78d5f9c7b19666fd71ec7078d8d59da2defe833a477"
 },
 "nbformat": 3,
 "nbformat_minor": 0,
 "worksheets": []
}