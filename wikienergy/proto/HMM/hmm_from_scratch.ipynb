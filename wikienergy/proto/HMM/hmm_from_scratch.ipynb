{
 "metadata": {
  "name": "",
  "signature": "sha256:dc96db85340acd0badb656d76925937b0567ca7c874fff13c1aade5c3faedc8f"
 },
 "nbformat": 3,
 "nbformat_minor": 0,
 "worksheets": [
  {
   "cells": [
    {
     "cell_type": "code",
     "collapsed": false,
     "input": [
      "import numpy as np"
     ],
     "language": "python",
     "metadata": {},
     "outputs": [],
     "prompt_number": 1
    },
    {
     "cell_type": "code",
     "collapsed": false,
     "input": [
      "observed_states = np.tile(np.array([0,30,50,100,100,75,200,20,10,0]),1000)\n",
      "mus = np.array([0,100,50])\n",
      "sigmas = np.array([20,20,20])\n",
      "trans_prob = np.array([[.9,.05,.05],[.1,.8,.1],[.2,.2,.6]])\n",
      "start_prob = -np.log(np.array([.3,.3,.3]))\n",
      "\n",
      "def norm_pdf(x,params):\n",
      "    mu,sigma = params\n",
      "    return -np.log(np.exp(-(x-mu)**2/2/(sigma**2))/np.sqrt(2*np.pi)/sigma)\n",
      "\n",
      "def state_probabilities(observed_states,pdf,params):\n",
      "    state_probs = []\n",
      "    for param in params:\n",
      "        state_probs.append(pdf(observed_states,param))\n",
      "    return np.array(state_probs).T\n",
      "\n",
      "def get_states(observed_states,pdf,pdf_params,start_probs,trans_probs):\n",
      "    state_probs = state_probabilities(observed_states,pdf,pdf_params)\n",
      "    n_obs = state_probs.shape[0]\n",
      "    n_states = state_probs.shape[1]\n",
      "    start_probs = -np.log(start_probs)\n",
      "    trans_probs = -np.log(trans_probs)\n",
      "    \n",
      "    init = start_probs + state_probs[0,:]\n",
      "    prevs = np.zeros(state_probs.shape,dtype=np.int)\n",
      "    probs = np.zeros(state_probs.shape)\n",
      "    values = state_probs[1:,:,np.newaxis] + trans_probs[np.newaxis,:,:]\n",
      "    probs[0] = init\n",
      "    prevs[0] = np.nan\n",
      "    \n",
      "    for t,options in enumerate(values):\n",
      "        possibilities = probs[t] + options\n",
      "        probs[t+1] = np.min(possibilities,axis=1)\n",
      "        prevs[t+1] = np.argmin(possibilities,axis=1)\n",
      "    \n",
      "    best = [np.argmin(probs[-1])]\n",
      "    for prevs in prevs[-1:0:-1]:\n",
      "        best.append(prevs[best[-1]])\n",
      "    return np.array(best[::-1])\n",
      "    \n",
      "\n",
      "states = get_states(observed_states,norm_pdf,zip(mus,sigmas),start_prob,trans_prob)\n",
      "print states"
     ],
     "language": "python",
     "metadata": {},
     "outputs": [
      {
       "output_type": "stream",
       "stream": "stdout",
       "text": [
        "[0 2 2 ..., 0 0 0]\n"
       ]
      }
     ],
     "prompt_number": 3
    },
    {
     "cell_type": "code",
     "collapsed": false,
     "input": [],
     "language": "python",
     "metadata": {},
     "outputs": []
    }
   ],
   "metadata": {}
  }
 ]
}