{
 "metadata": {
  "name": "",
  "signature": "sha256:5674c8097ff6bb74309dae4e7f4803c668e727ef26c49e30bd20029650ab9392"
 },
 "nbformat": 3,
 "nbformat_minor": 0,
 "worksheets": [
  {
   "cells": [
    {
     "cell_type": "code",
     "collapsed": false,
     "input": [
      "from sklearn import hmm\n",
      "import numpy as np\n",
      "import json\n",
      "import pandas as pd\n",
      "%matplotlib inline"
     ],
     "language": "python",
     "metadata": {},
     "outputs": [
      {
       "output_type": "stream",
       "stream": "stderr",
       "text": [
        "/usr/local/lib/python2.7/dist-packages/pandas/io/excel.py:626: UserWarning: Installed openpyxl is not supported at this time. Use >=1.6.1 and <2.0.0.\n",
        "  .format(openpyxl_compat.start_ver, openpyxl_compat.stop_ver))\n"
       ]
      }
     ],
     "prompt_number": 1
    },
    {
     "cell_type": "code",
     "collapsed": false,
     "input": [
      "#Takes the JSON files and reloads them back into python\n",
      "device = \"Refrigerator\"\n",
      "def open_device_15min(device_type, device_num):\n",
      "    with open(\"Devices/{0}/{0}_{1}.json\".format(device_type,device_num)) as f:\n",
      "        return pd.DataFrame(json.load(f)['time_15'])\n",
      "\n",
      "fridges = [open_device_15min(device,i)for i in range(8)]"
     ],
     "language": "python",
     "metadata": {},
     "outputs": [],
     "prompt_number": 2
    },
    {
     "cell_type": "code",
     "collapsed": false,
     "input": [
      "for fridge in fridges:\n",
      "    print fridge['values']"
     ],
     "language": "python",
     "metadata": {},
     "outputs": [
      {
       "output_type": "stream",
       "stream": "stdout",
       "text": [
        "0       0\n",
        "1     125\n",
        "2     105\n",
        "3       0\n",
        "4       0\n",
        "5       0\n",
        "6       0\n",
        "7       0\n",
        "8       0\n",
        "9      26\n",
        "10    165\n",
        "11    148\n",
        "12    140\n",
        "13    134\n",
        "14    130\n",
        "...\n",
        "81    133\n",
        "82    130\n",
        "83    128\n",
        "84    127\n",
        "85    125\n",
        "86    124\n",
        "87     31\n",
        "88      0\n",
        "89      0\n",
        "90      0\n",
        "91      0\n",
        "92      0\n",
        "93      0\n",
        "94    128\n",
        "95    153\n",
        "Name: values, Length: 96, dtype: int64\n",
        "0      0\n",
        "1     24\n",
        "2      0\n",
        "3      0\n",
        "4     71\n",
        "5     74\n",
        "6      8\n",
        "7      0\n",
        "8      0\n",
        "9     79\n",
        "10    74\n",
        "11     2\n",
        "12     0\n",
        "13     0\n",
        "14    77\n",
        "...\n",
        "81    76\n",
        "82    20\n",
        "83     0\n",
        "84     0\n",
        "85    37\n",
        "86    77\n",
        "87    43\n",
        "88     0\n",
        "89     0\n",
        "90     9\n",
        "91    79\n",
        "92    65\n",
        "93     0\n",
        "94     0\n",
        "95     0\n",
        "Name: values, Length: 96, dtype: int64\n",
        "0       0\n",
        "1      58\n",
        "2       0\n",
        "3       0\n",
        "4     117\n",
        "5       7\n",
        "6       0\n",
        "7      20\n",
        "8     105\n",
        "9       0\n",
        "10      0\n",
        "11     52\n",
        "12     73\n",
        "13      0\n",
        "14      0\n",
        "...\n",
        "81     58\n",
        "82     72\n",
        "83      0\n",
        "84      4\n",
        "85    100\n",
        "86      0\n",
        "87      0\n",
        "88    109\n",
        "89      3\n",
        "90      0\n",
        "91    108\n",
        "92      0\n",
        "93      0\n",
        "94    102\n",
        "95     15\n",
        "Name: values, Length: 96, dtype: int64\n",
        "0      0\n",
        "1     11\n",
        "2     16\n",
        "3      0\n",
        "4     12\n",
        "5     16\n",
        "6      0\n",
        "7      7\n",
        "8     20\n",
        "9      0\n",
        "10     3\n",
        "11    24\n",
        "12     0\n",
        "13     0\n",
        "14    28\n",
        "...\n",
        "81     0\n",
        "82    13\n",
        "83    15\n",
        "84     0\n",
        "85     0\n",
        "86    28\n",
        "87     0\n",
        "88     0\n",
        "89    29\n",
        "90     0\n",
        "91     0\n",
        "92    28\n",
        "93     0\n",
        "94     0\n",
        "95    15\n",
        "Name: values, Length: 96, dtype: int64\n",
        "0      0\n",
        "1     26\n",
        "2      0\n",
        "3     25\n",
        "4      0\n",
        "5      0\n",
        "6     23\n",
        "7      0\n",
        "8     12\n",
        "9     13\n",
        "10     0\n",
        "11    26\n",
        "12     0\n",
        "13     0\n",
        "14    25\n",
        "...\n",
        "81     0\n",
        "82    30\n",
        "83     0\n",
        "84    29\n",
        "85     0\n",
        "86     8\n",
        "87    18\n",
        "88     0\n",
        "89    28\n",
        "90     0\n",
        "91    24\n",
        "92     1\n",
        "93     2\n",
        "94    23\n",
        "95     0\n",
        "Name: values, Length: 96, dtype: int64\n",
        "0       0\n",
        "1       1\n",
        "2       0\n",
        "3      21\n",
        "4     104\n",
        "5       0\n",
        "6       0\n",
        "7      28\n",
        "8     100\n",
        "9       0\n",
        "10      0\n",
        "11     15\n",
        "12    113\n",
        "13      0\n",
        "14      0\n",
        "...\n",
        "81     49\n",
        "82      0\n",
        "83     44\n",
        "84     68\n",
        "85      0\n",
        "86     29\n",
        "87     98\n",
        "88      0\n",
        "89      0\n",
        "90    116\n",
        "91      7\n",
        "92      0\n",
        "93      8\n",
        "94    121\n",
        "95      0\n",
        "Name: values, Length: 96, dtype: int64\n",
        "0      0\n",
        "1     27\n",
        "2      0\n",
        "3      0\n",
        "4     27\n",
        "5      0\n",
        "6      9\n",
        "7     17\n",
        "8      0\n",
        "9     21\n",
        "10     6\n",
        "11     0\n",
        "12    26\n",
        "13     0\n",
        "14     0\n",
        "...\n",
        "81     0\n",
        "82    25\n",
        "83     0\n",
        "84    22\n",
        "85     2\n",
        "86     0\n",
        "87    25\n",
        "88     0\n",
        "89     1\n",
        "90    26\n",
        "91     0\n",
        "92    16\n",
        "93     8\n",
        "94     0\n",
        "95    25\n",
        "Name: values, Length: 96, dtype: int64\n",
        "0      0\n",
        "1     69\n",
        "2      0\n",
        "3      0\n",
        "4     32\n",
        "5     77\n",
        "6     53\n",
        "7      0\n",
        "8      0\n",
        "9     41\n",
        "10    76\n",
        "11    52\n",
        "12     0\n",
        "13     0\n",
        "14    31\n",
        "...\n",
        "81    45\n",
        "82    76\n",
        "83    35\n",
        "84     0\n",
        "85    22\n",
        "86    77\n",
        "87    60\n",
        "88     0\n",
        "89     0\n",
        "90    52\n",
        "91    76\n",
        "92    23\n",
        "93     0\n",
        "94     0\n",
        "95    66\n",
        "Name: values, Length: 96, dtype: int64\n"
       ]
      }
     ],
     "prompt_number": 3
    },
    {
     "cell_type": "code",
     "collapsed": false,
     "input": [
      "# inital starting spots drawn from priors\n",
      "pi = np.random.dirichlet([1,1])\n",
      "A = np.array([np.random.dirichlet([1,1]) for i in range(2)])\n",
      "\n",
      "l = 0,100\n",
      "r = 10,1\n",
      "b = 2,2\n",
      "w = 2,2\n",
      "\n",
      "mu = [np.random.normal(l[i],r[i]) for i in range(2)]\n",
      "tao = [np.random.gamma(b[i],w[i]) for i in range(2)]\n",
      "\n",
      "print \"pi: {}\".format(pi)\n",
      "print \"A: {}\".format(A)\n",
      "print \"mu: {}\".format(mu)\n",
      "print \"tao: {}\".format(tao)\n",
      "\n"
     ],
     "language": "python",
     "metadata": {},
     "outputs": [
      {
       "output_type": "stream",
       "stream": "stdout",
       "text": [
        "pi: [ 0.48303771  0.51696229]\n",
        "A: [[ 0.73626824  0.26373176]\n",
        " [ 0.51275998  0.48724002]]\n",
        "mu: [-7.999801982421592, 100.05137732302529]\n",
        "tao: [0.7853048679403617, 3.1444401468713794]\n"
       ]
      }
     ],
     "prompt_number": 4
    },
    {
     "cell_type": "code",
     "collapsed": false,
     "input": [
      "startprob = pi\n",
      "transmat = A\n",
      "means = mu\n",
      "covars = tao\n",
      "\n",
      "ghmm = hmm.GaussianHMM(n_components = 2)"
     ],
     "language": "python",
     "metadata": {},
     "outputs": [],
     "prompt_number": 5
    },
    {
     "cell_type": "code",
     "collapsed": false,
     "input": [
      "def generate_input(fridge):\n",
      "    return np.column_stack([map(int,fridge[\"values\"].values > 0),fridge[\"values\"].values])\n",
      "X = generate_input(fridges[0])\n",
      "print X[:10]\n",
      "ghmm.fit([X])"
     ],
     "language": "python",
     "metadata": {},
     "outputs": [
      {
       "output_type": "stream",
       "stream": "stdout",
       "text": [
        "[[  0   0]\n",
        " [  1 125]\n",
        " [  1 105]\n",
        " [  0   0]\n",
        " [  0   0]\n",
        " [  0   0]\n",
        " [  0   0]\n",
        " [  0   0]\n",
        " [  0   0]\n",
        " [  1  26]]\n"
       ]
      },
      {
       "metadata": {},
       "output_type": "pyout",
       "prompt_number": 6,
       "text": [
        "GaussianHMM(algorithm='viterbi', covariance_type='diag', covars_prior=0.01,\n",
        "      covars_weight=1,\n",
        "      init_params='abcdefghijklmnopqrstuvwxyzABCDEFGHIJKLMNOPQRSTUVWXYZ',\n",
        "      means_prior=None, means_weight=0, n_components=2, n_iter=10,\n",
        "      params='abcdefghijklmnopqrstuvwxyzABCDEFGHIJKLMNOPQRSTUVWXYZ',\n",
        "      random_state=None, startprob=None, startprob_prior=1.0, thresh=0.01,\n",
        "      transmat=None, transmat_prior=1.0)"
       ]
      }
     ],
     "prompt_number": 6
    },
    {
     "cell_type": "code",
     "collapsed": false,
     "input": [
      "Ys = [generate_input(fridge) for fridge in fridges]\n",
      "print Ys[0][:,0]\n",
      "print\n",
      "print ghmm.predict(Ys[1])"
     ],
     "language": "python",
     "metadata": {},
     "outputs": [
      {
       "output_type": "stream",
       "stream": "stdout",
       "text": [
        "[0 1 1 0 0 0 0 0 0 1 1 1 1 1 1 1 1 1 0 0 0 0 0 1 1 1 1 1 1 1 1 1 1 1 0 0 0\n",
        " 0 0 0 0 1 1 1 1 1 1 1 1 1 1 1 0 0 0 0 0 0 1 1 1 1 1 1 1 1 1 1 1 1 1 0 0 0\n",
        " 0 0 0 1 1 1 1 1 1 1 1 1 1 1 0 0 0 0 0 0 1 1]\n",
        "\n",
        "[1 0 1 1 0 0 0 1 1 0 0 0 1 1 0 0 1 1 1 0 0 0 1 1 0 0 0 1 1 1 0 0 0 1 1 0 0\n",
        " 0 0 1 1 1 0 0 0 1 1 0 0 0 0 1 1 0 0 0 1 1 0 0 0 1 1 1 0 0 0 1 1 0 0 0 1 1\n",
        " 1 0 0 1 1 1 0 0 0 1 1 0 0 0 1 1 0 0 0 1 1 1]\n"
       ]
      }
     ],
     "prompt_number": 9
    },
    {
     "cell_type": "code",
     "collapsed": false,
     "input": [
      "[ghmm.score(Y) for Y in Ys]\n",
      "ghmm.get_params()\n",
      "\n",
      "dir(ghmm)"
     ],
     "language": "python",
     "metadata": {},
     "outputs": [
      {
       "metadata": {},
       "output_type": "pyout",
       "prompt_number": 10,
       "text": [
        "['__class__',\n",
        " '__delattr__',\n",
        " '__dict__',\n",
        " '__doc__',\n",
        " '__format__',\n",
        " '__getattribute__',\n",
        " '__hash__',\n",
        " '__init__',\n",
        " '__module__',\n",
        " '__new__',\n",
        " '__reduce__',\n",
        " '__reduce_ex__',\n",
        " '__repr__',\n",
        " '__setattr__',\n",
        " '__sizeof__',\n",
        " '__str__',\n",
        " '__subclasshook__',\n",
        " '__weakref__',\n",
        " '_accumulate_sufficient_statistics',\n",
        " '_algorithm',\n",
        " '_compute_log_likelihood',\n",
        " '_covariance_type',\n",
        " '_covars_',\n",
        " '_decode_map',\n",
        " '_decode_viterbi',\n",
        " '_do_backward_pass',\n",
        " '_do_forward_pass',\n",
        " '_do_mstep',\n",
        " '_do_viterbi_pass',\n",
        " '_generate_sample_from_state',\n",
        " '_get_algorithm',\n",
        " '_get_covars',\n",
        " '_get_means',\n",
        " '_get_param_names',\n",
        " '_get_startprob',\n",
        " '_get_transmat',\n",
        " '_init',\n",
        " '_initialize_sufficient_statistics',\n",
        " '_log_startprob',\n",
        " '_log_transmat',\n",
        " '_means_',\n",
        " '_set_algorithm',\n",
        " '_set_covars',\n",
        " '_set_means',\n",
        " '_set_startprob',\n",
        " '_set_transmat',\n",
        " 'algorithm',\n",
        " 'covariance_type',\n",
        " 'covars_',\n",
        " 'covars_prior',\n",
        " 'covars_weight',\n",
        " 'decode',\n",
        " 'eval',\n",
        " 'fit',\n",
        " 'get_params',\n",
        " 'init_params',\n",
        " 'means_',\n",
        " 'means_prior',\n",
        " 'means_weight',\n",
        " 'n_components',\n",
        " 'n_features',\n",
        " 'n_iter',\n",
        " 'params',\n",
        " 'predict',\n",
        " 'predict_proba',\n",
        " 'random_state',\n",
        " 'sample',\n",
        " 'score',\n",
        " 'score_samples',\n",
        " 'set_params',\n",
        " 'startprob_',\n",
        " 'startprob_prior',\n",
        " 'thresh',\n",
        " 'transmat_',\n",
        " 'transmat_prior']"
       ]
      }
     ],
     "prompt_number": 10
    },
    {
     "cell_type": "code",
     "collapsed": false,
     "input": [
      "ghmm._get_covars()"
     ],
     "language": "python",
     "metadata": {},
     "outputs": [
      {
       "metadata": {},
       "output_type": "pyout",
       "prompt_number": 11,
       "text": [
        "[array([[  1.69491525e-04,   0.00000000e+00],\n",
        "        [  0.00000000e+00,   9.94477619e+02]]),\n",
        " array([[ 0.00027027,  0.        ],\n",
        "        [ 0.        ,  0.00027027]])]"
       ]
      }
     ],
     "prompt_number": 11
    },
    {
     "cell_type": "code",
     "collapsed": false,
     "input": [
      "ghmm._get_means()"
     ],
     "language": "python",
     "metadata": {},
     "outputs": [
      {
       "metadata": {},
       "output_type": "pyout",
       "prompt_number": 12,
       "text": [
        "array([[   1.        ,  123.11864407],\n",
        "       [   0.        ,    0.        ]])"
       ]
      }
     ],
     "prompt_number": 12
    },
    {
     "cell_type": "code",
     "collapsed": false,
     "input": [
      "ghmm._get_transmat()"
     ],
     "language": "python",
     "metadata": {},
     "outputs": [
      {
       "metadata": {},
       "output_type": "pyout",
       "prompt_number": 13,
       "text": [
        "array([[ 0.89655172,  0.10344828],\n",
        "       [ 0.18918919,  0.81081081]])"
       ]
      }
     ],
     "prompt_number": 13
    },
    {
     "cell_type": "code",
     "collapsed": false,
     "input": [
      "ghmm._get_startprob()"
     ],
     "language": "python",
     "metadata": {},
     "outputs": [
      {
       "metadata": {},
       "output_type": "pyout",
       "prompt_number": 14,
       "text": [
        "array([  2.22054605e-16,   1.00000000e+00])"
       ]
      }
     ],
     "prompt_number": 14
    },
    {
     "cell_type": "code",
     "collapsed": false,
     "input": [
      "ghmm.decode(X)"
     ],
     "language": "python",
     "metadata": {},
     "outputs": [
      {
       "metadata": {},
       "output_type": "pyout",
       "prompt_number": 15,
       "text": [
        "(113.34638769258592,\n",
        " array([1, 0, 0, 1, 1, 1, 1, 1, 1, 0, 0, 0, 0, 0, 0, 0, 0, 0, 1, 1, 1, 1, 1,\n",
        "        0, 0, 0, 0, 0, 0, 0, 0, 0, 0, 0, 1, 1, 1, 1, 1, 1, 1, 0, 0, 0, 0, 0,\n",
        "        0, 0, 0, 0, 0, 0, 1, 1, 1, 1, 1, 1, 0, 0, 0, 0, 0, 0, 0, 0, 0, 0, 0,\n",
        "        0, 0, 1, 1, 1, 1, 1, 1, 0, 0, 0, 0, 0, 0, 0, 0, 0, 0, 0, 1, 1, 1, 1,\n",
        "        1, 1, 0, 0]))"
       ]
      }
     ],
     "prompt_number": 15
    },
    {
     "cell_type": "code",
     "collapsed": false,
     "input": [],
     "language": "python",
     "metadata": {},
     "outputs": []
    }
   ],
   "metadata": {}
  }
 ]
}