{
 "metadata": {
  "name": "",
  "signature": "sha256:821414414c29f0a80f9d57edebb8cb9165614b86c9eb7610761047eb8eb776c7"
 },
 "nbformat": 3,
 "nbformat_minor": 0,
 "worksheets": [
  {
   "cells": [
    {
     "cell_type": "code",
     "collapsed": false,
     "input": [
      "from pybrain.datasets.supervised import SupervisedDataSet\n",
      "from pybrain.tools.shortcuts import buildNetwork\n",
      "from pybrain.supervised.trainers.backprop import BackpropTrainer"
     ],
     "language": "python",
     "metadata": {},
     "outputs": [],
     "prompt_number": 1
    },
    {
     "cell_type": "code",
     "collapsed": false,
     "input": [
      "# initialize a dataset with two inputs and one output\n",
      "D = SupervisedDataSet(2,1)\n",
      "\n",
      "# supply samples (XOR)\n",
      "D.addSample([0,0],[0])\n",
      "D.addSample([0,1],[1])\n",
      "D.addSample([1,0],[1])\n",
      "D.addSample([1,1],[0])\n",
      "\n",
      "# build network with 2 input neurons, 4 hidden-layer neurons and 1 output neuron\n",
      "N = buildNetwork(2,4,1)\n",
      "\n",
      "# train the network with a backprop trainer\n",
      "T = BackpropTrainer(N, learningrate = 0.01, momentum = 0.99)\n",
      "\n",
      "print 'MSE before', T.testOnData(D)\n",
      "T.trainOnDataset(D,1000)\n",
      "print 'MSE after', T.testOnData(D)"
     ],
     "language": "python",
     "metadata": {},
     "outputs": [
      {
       "output_type": "stream",
       "stream": "stdout",
       "text": [
        "MSE before 0.322217171589\n",
        "MSE after"
       ]
      },
      {
       "output_type": "stream",
       "stream": "stdout",
       "text": [
        " 1.97420385718e-18\n"
       ]
      }
     ],
     "prompt_number": 2
    },
    {
     "cell_type": "code",
     "collapsed": false,
     "input": [
      "for input_ in [[0,0],[0,1],[1,0],[1,1]]:\n",
      "    print int(round(abs(N.activate(input_))))"
     ],
     "language": "python",
     "metadata": {},
     "outputs": [
      {
       "output_type": "stream",
       "stream": "stdout",
       "text": [
        "0\n",
        "1\n",
        "1\n",
        "0\n"
       ]
      }
     ],
     "prompt_number": 3
    },
    {
     "cell_type": "code",
     "collapsed": false,
     "input": [],
     "language": "python",
     "metadata": {},
     "outputs": []
    }
   ],
   "metadata": {}
  }
 ]
}