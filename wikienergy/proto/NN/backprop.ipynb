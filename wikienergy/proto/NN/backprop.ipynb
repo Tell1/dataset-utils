{
 "metadata": {
  "name": "",
  "signature": "sha256:ace4e0403528dbe91b1e9598d73c207694856e6c87f3049b23201d6926ebdba8"
 },
 "nbformat": 3,
 "nbformat_minor": 0,
 "worksheets": [
  {
   "cells": [
    {
     "cell_type": "code",
     "collapsed": false,
     "input": [
      "import numpy as np"
     ],
     "language": "python",
     "metadata": {},
     "outputs": [],
     "prompt_number": 1
    },
    {
     "cell_type": "code",
     "collapsed": false,
     "input": [
      "def d_tanh(y):\n",
      "    \"derivative helper for tanh (uses y = tanh(x))\"\n",
      "    return 1 - y**2\n",
      "\n",
      "def train( patterns, weights, changes, iterations, N, M):\n",
      "    \"\"\"Train a neural network with these parameters:\n",
      "    N: learning rate\n",
      "    M: momentum factor\n",
      "    weights_in_to_hidden, weights_hidden_to_out = weights\n",
      "    changes_in_to_hidden, changes_hidden_to_out = changes\n",
      "    \"\"\"\n",
      "    for i in range(iterations):\n",
      "        error = 0.0\n",
      "        for p in patterns:\n",
      "            inputs,targets = p\n",
      "            activations = feed_forward(inputs,weights)\n",
      "            error_bp, weights, changes = backprop( targets, activations, weights, changes, learning_rate=N, momentum=M)\n",
      "            error = error + error_bp\n",
      "        if i % 100 == 0:\n",
      "            print('error %-.5f' % error)\n",
      "    return weights,changes\n",
      "\n",
      "def test(patterns,weights):\n",
      "    for p in patterns:\n",
      "        print '{}->{}'.format(p[0][:-1], feed_forward(p[0],weights)[0])\n",
      "\n",
      "def compute_activations(activations,weights):\n",
      "    \"\"\"Compute activations from one layer to the next\"\"\"\n",
      "    weights = np.tanh(np.dot(activations,weights))\n",
      "    return weights[:]\n",
      "\n",
      "def feed_forward(input_,weights):\n",
      "    \"\"\"Feed input through a mlp with one hidden layer\"\"\"\n",
      "    weights_in_to_hidden, weights_hidden_to_out = weights\n",
      "    hidden_activations = compute_activations(input_,weights_in_to_hidden)\n",
      "    output_activations = compute_activations(hidden_activations,weights_hidden_to_out)\n",
      "    return output_activations, hidden_activations, input_\n",
      "\n",
      "\n",
      "def backprop(targets,activations,weights,changes,learning_rate,momentum):\n",
      "    \"\"\"Backpropagate errors\"\"\"\n",
      "    # expand arguments for readability\n",
      "    activations_out, activations_hidden, activations_in = activations\n",
      "    weights_in_to_hidden, weights_hidden_to_out = weights\n",
      "    changes_in_to_hidden, changes_hidden_to_out = changes\n",
      "\n",
      "    # compute deltas (for error at each unit)\n",
      "    error = targets - activations_out ###### .2 = 1 - .8 (NOT -.2 = .8 - 1)\n",
      "    output_deltas = d_tanh(activations_out) * error\n",
      "    hidden_deltas = d_tanh(activations_hidden) * np.sum(output_deltas*weights_hidden_to_out)\n",
      "    \n",
      "    # compute changes\n",
      "    new_changes_out = np.kron(activations_hidden,output_deltas).reshape((n_hidden,n_output))\n",
      "    new_changes_in = np.kron(activations_in,hidden_deltas).reshape((n_input,n_hidden))\n",
      "    \n",
      "    # update weights\n",
      "    new_weights_out = weights_hidden_to_out + learning_rate * new_changes_out + momentum * changes_hidden_to_out\n",
      "    new_weights_in = weights_in_to_hidden + learning_rate * new_changes_in + momentum * changes_in_to_hidden\n",
      "\n",
      "    #print \"targets:\\n {}\".format(targets)\n",
      "    #print \"error:\\n {}\".format(error)\n",
      "    #print \"dtan_h:\\n {}\".format(d_tanh(activations_out))\n",
      "    #print \"activations_out:\\n {}\".format(activations_out)\n",
      "    #print \"activations_hidden:\\n {}\".format(activations_hidden)\n",
      "    #print\n",
      "    #print \"output_deltas:\\n {}\".format(output_deltas)\n",
      "    #print \"hidden_deltas:\\n {}\".format(hidden_deltas)\n",
      "    #print\n",
      "    #print \"weights_hidden_to_out:\\n {}\".format(weights_hidden_to_out)\n",
      "    #print \"new_changes_out:\\n {}\".format(new_changes_out)\n",
      "    #print \"new_weights_out:\\n {}\".format(new_weights_out)\n",
      "    #print \n",
      "    \n",
      "    # compute error\n",
      "    error = np.sum(0.5 * (error ** 2))\n",
      "    \n",
      "    return error, (new_weights_in,new_weights_out), (new_changes_in,new_changes_out)\n",
      "\n",
      "# numbers of input units(+bias), hidden units, and output units\n",
      "n_input = 2 + 1\n",
      "n_hidden = 4\n",
      "n_output = 1\n",
      "\n",
      "# initialize weights\n",
      "weights_in_to_hidden = np.random.uniform(-.2,.2,(n_input,n_hidden))\n",
      "weights_hidden_to_out = np.random.uniform(-.2,.2,(n_hidden,n_output))\n",
      "weights = weights_in_to_hidden, weights_hidden_to_out\n",
      "\n",
      "#initialize changes (for momentum)\n",
      "changes_in_to_hidden = np.zeros((n_input,n_hidden))\n",
      "changes_hidden_to_out = np.zeros((n_hidden,n_output))\n",
      "changes = changes_in_to_hidden, changes_hidden_to_out\n",
      "\n",
      "# XOR\n",
      "inputs = np.array([[0,0,1],[0,1,1],[1,0,1],[1,1,1]]) # with bias\n",
      "targets = np.array([[0],[1],[1],[0]])\n",
      "patterns = zip(inputs,targets)\n",
      "\n",
      "# train on our data\n",
      "weights,changes = train(patterns,weights,changes,1000,0.3,0.1)\n",
      "\n",
      "# test\n",
      "test(patterns,weights)"
     ],
     "language": "python",
     "metadata": {},
     "outputs": [
      {
       "output_type": "stream",
       "stream": "stdout",
       "text": [
        "error 1.03773\n",
        "error 0.48469"
       ]
      },
      {
       "output_type": "stream",
       "stream": "stdout",
       "text": [
        "\n",
        "error 0.38948"
       ]
      },
      {
       "output_type": "stream",
       "stream": "stdout",
       "text": [
        "\n",
        "error 0.00371"
       ]
      },
      {
       "output_type": "stream",
       "stream": "stdout",
       "text": [
        "\n",
        "error 0.00129"
       ]
      },
      {
       "output_type": "stream",
       "stream": "stdout",
       "text": [
        "\n",
        "error 0.00073"
       ]
      },
      {
       "output_type": "stream",
       "stream": "stdout",
       "text": [
        "\n",
        "error 0.00087"
       ]
      },
      {
       "output_type": "stream",
       "stream": "stdout",
       "text": [
        "\n",
        "error 0.00378"
       ]
      },
      {
       "output_type": "stream",
       "stream": "stdout",
       "text": [
        "\n",
        "error 0.00059"
       ]
      },
      {
       "output_type": "stream",
       "stream": "stdout",
       "text": [
        "\n",
        "error 0.00035"
       ]
      },
      {
       "output_type": "stream",
       "stream": "stdout",
       "text": [
        "\n",
        "[0 0]->[ 0.02954008]"
       ]
      },
      {
       "output_type": "stream",
       "stream": "stdout",
       "text": [
        "\n",
        "[0 1]->[ 0.98532427]\n",
        "[1 0]->[ 0.99036843]\n",
        "[1 1]->[-0.00027823]\n"
       ]
      }
     ],
     "prompt_number": 2
    },
    {
     "cell_type": "code",
     "collapsed": false,
     "input": [
      "np.random.uniform(-.2,.2,(n_input,n_hidden))"
     ],
     "language": "python",
     "metadata": {},
     "outputs": [
      {
       "metadata": {},
       "output_type": "pyout",
       "prompt_number": 3,
       "text": [
        "array([[-0.06668141,  0.12998216,  0.19498572, -0.15074921],\n",
        "       [ 0.09152674,  0.14717915, -0.14520145, -0.07123759],\n",
        "       [-0.09505889, -0.03454354,  0.024254  ,  0.01992681]])"
       ]
      }
     ],
     "prompt_number": 3
    },
    {
     "cell_type": "code",
     "collapsed": false,
     "input": [
      "np.zeros((n_input,n_hidden))"
     ],
     "language": "python",
     "metadata": {},
     "outputs": [
      {
       "metadata": {},
       "output_type": "pyout",
       "prompt_number": 4,
       "text": [
        "array([[ 0.,  0.,  0.,  0.],\n",
        "       [ 0.,  0.,  0.,  0.],\n",
        "       [ 0.,  0.,  0.,  0.]])"
       ]
      }
     ],
     "prompt_number": 4
    },
    {
     "cell_type": "code",
     "collapsed": false,
     "input": [
      "zip(inputs,targets)"
     ],
     "language": "python",
     "metadata": {},
     "outputs": [
      {
       "metadata": {},
       "output_type": "pyout",
       "prompt_number": 5,
       "text": [
        "[(array([0, 0, 1]), array([0])),\n",
        " (array([0, 1, 1]), array([1])),\n",
        " (array([1, 0, 1]), array([1])),\n",
        " (array([1, 1, 1]), array([0]))]"
       ]
      }
     ],
     "prompt_number": 5
    },
    {
     "cell_type": "code",
     "collapsed": false,
     "input": [
      "np.kron(np.array([1,2,3]),np.array([2,3,4,5])).reshape((3,4))"
     ],
     "language": "python",
     "metadata": {},
     "outputs": [
      {
       "metadata": {},
       "output_type": "pyout",
       "prompt_number": 6,
       "text": [
        "array([[ 2,  3,  4,  5],\n",
        "       [ 4,  6,  8, 10],\n",
        "       [ 6,  9, 12, 15]])"
       ]
      }
     ],
     "prompt_number": 6
    },
    {
     "cell_type": "code",
     "collapsed": false,
     "input": [],
     "language": "python",
     "metadata": {},
     "outputs": []
    }
   ],
   "metadata": {}
  }
 ]
}